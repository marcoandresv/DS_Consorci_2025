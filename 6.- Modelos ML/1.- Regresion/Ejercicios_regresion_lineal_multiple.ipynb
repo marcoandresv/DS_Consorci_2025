{
 "cells": [
  {
   "cell_type": "markdown",
   "id": "09b943f4",
   "metadata": {},
   "source": [
    "# Ejercicios regresion lineal multiple\n",
    "\n",
    " - Importa el csv vehicles (Con todas las variables no uses vehicles_simple!!!)\n",
    " - Analiza el tipo de variables con un describe para ver su dominio, media y dispersión\n",
    " - Renombra las variables sustituyendo barras y espacios por guiones bajos\n",
    " - Realiza un análisis descriptivo antes de comenzar a entrenar el modelo puede que haya que hacer alguna limpieza previa (por ejemplo pinta un scatterplot con CO2 Emissions y Engine_Displacement, ¿Qué ocurre con los vehículos electricos?)\n",
    " - Gestiona las variables discretas: agrupa las categorías en las 2 ó 3 más importantes y transforma a dummy\n",
    " - Divide en entrenamiento y test\n",
    " - Estandariza las variables continuas\n",
    " - Entrena el mejor modelo de regresión lineal que puedas usando solo 3 ó 4 variables (o grupos de variables en el caso de las dummy)\n",
    " - Usa RandomForestRegressor para entrenar un modelo de predicción de variable dependiente continua y compáralo con la regresión lineal"
   ]
  },
  {
   "cell_type": "code",
   "execution_count": 1,
   "id": "3a929ca8",
   "metadata": {},
   "outputs": [
    {
     "name": "stderr",
     "output_type": "stream",
     "text": [
      "C:\\Users\\bvazq\\anaconda3\\lib\\site-packages\\numpy\\_distributor_init.py:30: UserWarning: loaded more than 1 DLL from .libs:\n",
      "C:\\Users\\bvazq\\anaconda3\\lib\\site-packages\\numpy\\.libs\\libopenblas.XWYDX2IKJW2NMTWSFYNGFUWKQU3LYTCZ.gfortran-win_amd64.dll\n",
      "C:\\Users\\bvazq\\anaconda3\\lib\\site-packages\\numpy\\.libs\\libopenblas64__v0.3.21-gcc_10_3_0.dll\n",
      "  warnings.warn(\"loaded more than 1 DLL from .libs:\"\n"
     ]
    }
   ],
   "source": [
    "import pandas as pd\n",
    "\n",
    "import statsmodels.formula.api as smf\n",
    "from sklearn.linear_model import LinearRegression\n",
    "from sklearn.ensemble import RandomForestRegressor\n",
    "from sklearn import metrics"
   ]
  },
  {
   "cell_type": "code",
   "execution_count": null,
   "id": "fe0df519",
   "metadata": {},
   "outputs": [],
   "source": [
    "df = pd.read_csv('../Data/Modelos ML/vehicles.csv', sep = ',')\n",
    "df.head()"
   ]
  }
 ],
 "metadata": {
  "kernelspec": {
   "display_name": "Python 3 (ipykernel)",
   "language": "python",
   "name": "python3"
  },
  "language_info": {
   "codemirror_mode": {
    "name": "ipython",
    "version": 3
   },
   "file_extension": ".py",
   "mimetype": "text/x-python",
   "name": "python",
   "nbconvert_exporter": "python",
   "pygments_lexer": "ipython3",
   "version": "3.9.13"
  }
 },
 "nbformat": 4,
 "nbformat_minor": 5
}
