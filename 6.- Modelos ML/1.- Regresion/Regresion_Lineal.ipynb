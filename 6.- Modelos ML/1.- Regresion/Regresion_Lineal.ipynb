{
 "cells": [
  {
   "cell_type": "code",
   "execution_count": null,
   "metadata": {
    "id": "NiR5CIytfAP0"
   },
   "outputs": [],
   "source": []
  },
  {
   "cell_type": "markdown",
   "metadata": {
    "id": "6GaxLODykvms"
   },
   "source": [
    "#### Documentacion\n",
    "\n",
    "https://www.youtube.com/watch?v=PaFPbb66DxQ\n",
    "\n",
    "https://www.youtube.com/watch?v=nk2CQITm_eo\n",
    "\n",
    "https://statologos.com/regresion-lineal/"
   ]
  },
  {
   "cell_type": "markdown",
   "metadata": {
    "id": "vvywknWBfG1q"
   },
   "source": [
    "# Regresión lineal\n",
    "\n",
    "Hacer una regresión significa definir una **recta** que mejor represente los datos. La que mejor representa la **relación entre dos variables**. De alguna manera es como si calculáramos la media, para que viendo un solo indicador entender mejor cómo son nuestros datos.\n",
    "\n",
    "En definitiva lo que vamos a hacer es definir una función matemática.\n",
    "\n",
    "$$Y = m * X + n$$\n",
    "$m$ es la pendiente  \n",
    "$n$ es el valor de $Y$ cuando $X=0$          \n",
    "Y tenemos que:\n",
    "$$nota = m * horas + n$$\n",
    "Queremos encontrar $m$ y $n$ que modelen *mejor* nuestros datos\n",
    "\n",
    "\n",
    "\n",
    "El **objetivo final** de la regresión es usarla como predictora, es decir, introducir en la función el valor de una variable (en este caso horas) y que nos prediga qué valor tomará la otra (nota), intentando ser lo más precisos posible.\n",
    "\n",
    "- La variable explicativa/independiente/predictora es horas\n",
    "\n",
    "- La variable objetivo/dependiente es nota"
   ]
  },
  {
   "cell_type": "markdown",
   "metadata": {
    "id": "9ou86UiKfHDn"
   },
   "source": [
    "Imagina que tenemos un gráfico de dispersión (scatter), en la que vemos una nube de puntos, la recta que estamos buscando pasa por encima, y lo más cerca posible, de cada uno de esos puntos"
   ]
  },
  {
   "cell_type": "code",
   "execution_count": null,
   "metadata": {
    "id": "o-kqEB7shpsX"
   },
   "outputs": [],
   "source": [
    "import pandas as pd\n",
    "import numpy as np\n",
    "import seaborn as sns\n",
    "sns.set(rc={\"figure.figsize\": (15.,8.)})\n",
    "\n",
    "from matplotlib import pyplot as plt\n",
    "#import matplotlib.pyplot as plt\n",
    "\n",
    "import statsmodels.formula.api as smf\n",
    "from sklearn.linear_model import LinearRegression\n",
    "from sklearn import metrics\n",
    "from sklearn.preprocessing import StandardScaler, MinMaxScaler"
   ]
  },
  {
   "cell_type": "code",
   "execution_count": null,
   "metadata": {
    "colab": {
     "base_uri": "https://localhost:8080/",
     "height": 206
    },
    "executionInfo": {
     "elapsed": 15,
     "status": "ok",
     "timestamp": 1664375621417,
     "user": {
      "displayName": "Beltran Vazquez",
      "userId": "10815799323004140919"
     },
     "user_tz": -120
    },
    "id": "VvqaxivIhLdr",
    "outputId": "5e3c62dd-87d9-4bb0-db37-60c97c7cff7d"
   },
   "outputs": [
    {
     "data": {
      "text/html": [
       "\n",
       "  <div id=\"df-1770936f-eba7-4bf0-90ef-f764b6f82d77\">\n",
       "    <div class=\"colab-df-container\">\n",
       "      <div>\n",
       "<style scoped>\n",
       "    .dataframe tbody tr th:only-of-type {\n",
       "        vertical-align: middle;\n",
       "    }\n",
       "\n",
       "    .dataframe tbody tr th {\n",
       "        vertical-align: top;\n",
       "    }\n",
       "\n",
       "    .dataframe thead th {\n",
       "        text-align: right;\n",
       "    }\n",
       "</style>\n",
       "<table border=\"1\" class=\"dataframe\">\n",
       "  <thead>\n",
       "    <tr style=\"text-align: right;\">\n",
       "      <th></th>\n",
       "      <th>hours</th>\n",
       "      <th>mark</th>\n",
       "    </tr>\n",
       "  </thead>\n",
       "  <tbody>\n",
       "    <tr>\n",
       "      <th>0</th>\n",
       "      <td>865</td>\n",
       "      <td>95</td>\n",
       "    </tr>\n",
       "    <tr>\n",
       "      <th>1</th>\n",
       "      <td>4</td>\n",
       "      <td>12</td>\n",
       "    </tr>\n",
       "    <tr>\n",
       "      <th>2</th>\n",
       "      <td>305</td>\n",
       "      <td>35</td>\n",
       "    </tr>\n",
       "    <tr>\n",
       "      <th>3</th>\n",
       "      <td>437</td>\n",
       "      <td>56</td>\n",
       "    </tr>\n",
       "    <tr>\n",
       "      <th>4</th>\n",
       "      <td>682</td>\n",
       "      <td>86</td>\n",
       "    </tr>\n",
       "  </tbody>\n",
       "</table>\n",
       "</div>\n",
       "      <button class=\"colab-df-convert\" onclick=\"convertToInteractive('df-1770936f-eba7-4bf0-90ef-f764b6f82d77')\"\n",
       "              title=\"Convert this dataframe to an interactive table.\"\n",
       "              style=\"display:none;\">\n",
       "        \n",
       "  <svg xmlns=\"http://www.w3.org/2000/svg\" height=\"24px\"viewBox=\"0 0 24 24\"\n",
       "       width=\"24px\">\n",
       "    <path d=\"M0 0h24v24H0V0z\" fill=\"none\"/>\n",
       "    <path d=\"M18.56 5.44l.94 2.06.94-2.06 2.06-.94-2.06-.94-.94-2.06-.94 2.06-2.06.94zm-11 1L8.5 8.5l.94-2.06 2.06-.94-2.06-.94L8.5 2.5l-.94 2.06-2.06.94zm10 10l.94 2.06.94-2.06 2.06-.94-2.06-.94-.94-2.06-.94 2.06-2.06.94z\"/><path d=\"M17.41 7.96l-1.37-1.37c-.4-.4-.92-.59-1.43-.59-.52 0-1.04.2-1.43.59L10.3 9.45l-7.72 7.72c-.78.78-.78 2.05 0 2.83L4 21.41c.39.39.9.59 1.41.59.51 0 1.02-.2 1.41-.59l7.78-7.78 2.81-2.81c.8-.78.8-2.07 0-2.86zM5.41 20L4 18.59l7.72-7.72 1.47 1.35L5.41 20z\"/>\n",
       "  </svg>\n",
       "      </button>\n",
       "      \n",
       "  <style>\n",
       "    .colab-df-container {\n",
       "      display:flex;\n",
       "      flex-wrap:wrap;\n",
       "      gap: 12px;\n",
       "    }\n",
       "\n",
       "    .colab-df-convert {\n",
       "      background-color: #E8F0FE;\n",
       "      border: none;\n",
       "      border-radius: 50%;\n",
       "      cursor: pointer;\n",
       "      display: none;\n",
       "      fill: #1967D2;\n",
       "      height: 32px;\n",
       "      padding: 0 0 0 0;\n",
       "      width: 32px;\n",
       "    }\n",
       "\n",
       "    .colab-df-convert:hover {\n",
       "      background-color: #E2EBFA;\n",
       "      box-shadow: 0px 1px 2px rgba(60, 64, 67, 0.3), 0px 1px 3px 1px rgba(60, 64, 67, 0.15);\n",
       "      fill: #174EA6;\n",
       "    }\n",
       "\n",
       "    [theme=dark] .colab-df-convert {\n",
       "      background-color: #3B4455;\n",
       "      fill: #D2E3FC;\n",
       "    }\n",
       "\n",
       "    [theme=dark] .colab-df-convert:hover {\n",
       "      background-color: #434B5C;\n",
       "      box-shadow: 0px 1px 3px 1px rgba(0, 0, 0, 0.15);\n",
       "      filter: drop-shadow(0px 1px 2px rgba(0, 0, 0, 0.3));\n",
       "      fill: #FFFFFF;\n",
       "    }\n",
       "  </style>\n",
       "\n",
       "      <script>\n",
       "        const buttonEl =\n",
       "          document.querySelector('#df-1770936f-eba7-4bf0-90ef-f764b6f82d77 button.colab-df-convert');\n",
       "        buttonEl.style.display =\n",
       "          google.colab.kernel.accessAllowed ? 'block' : 'none';\n",
       "\n",
       "        async function convertToInteractive(key) {\n",
       "          const element = document.querySelector('#df-1770936f-eba7-4bf0-90ef-f764b6f82d77');\n",
       "          const dataTable =\n",
       "            await google.colab.kernel.invokeFunction('convertToInteractive',\n",
       "                                                     [key], {});\n",
       "          if (!dataTable) return;\n",
       "\n",
       "          const docLinkHtml = 'Like what you see? Visit the ' +\n",
       "            '<a target=\"_blank\" href=https://colab.research.google.com/notebooks/data_table.ipynb>data table notebook</a>'\n",
       "            + ' to learn more about interactive tables.';\n",
       "          element.innerHTML = '';\n",
       "          dataTable['output_type'] = 'display_data';\n",
       "          await google.colab.output.renderOutput(dataTable, element);\n",
       "          const docLink = document.createElement('div');\n",
       "          docLink.innerHTML = docLinkHtml;\n",
       "          element.appendChild(docLink);\n",
       "        }\n",
       "      </script>\n",
       "    </div>\n",
       "  </div>\n",
       "  "
      ],
      "text/plain": [
       "   hours  mark\n",
       "0    865    95\n",
       "1      4    12\n",
       "2    305    35\n",
       "3    437    56\n",
       "4    682    86"
      ]
     },
     "execution_count": 2,
     "metadata": {},
     "output_type": "execute_result"
    }
   ],
   "source": [
    "data = pd.read_csv('/content/sample_data/hours_vs_mark.csv', sep = ';')\n",
    "data.head(5)"
   ]
  },
  {
   "cell_type": "code",
   "execution_count": null,
   "metadata": {
    "colab": {
     "base_uri": "https://localhost:8080/"
    },
    "executionInfo": {
     "elapsed": 183,
     "status": "ok",
     "timestamp": 1664292655183,
     "user": {
      "displayName": "Beltran Vazquez",
      "userId": "10815799323004140919"
     },
     "user_tz": -120
    },
    "id": "icM-nTYbkngp",
    "outputId": "e59634ae-2998-4552-b92c-fe0bdb2dac9a"
   },
   "outputs": [
    {
     "name": "stdout",
     "output_type": "stream",
     "text": [
      "<class 'pandas.core.frame.DataFrame'>\n",
      "RangeIndex: 100 entries, 0 to 99\n",
      "Data columns (total 2 columns):\n",
      " #   Column  Non-Null Count  Dtype\n",
      "---  ------  --------------  -----\n",
      " 0   hours   100 non-null    int64\n",
      " 1   mark    100 non-null    int64\n",
      "dtypes: int64(2)\n",
      "memory usage: 1.7 KB\n"
     ]
    }
   ],
   "source": [
    "data.info()"
   ]
  },
  {
   "cell_type": "code",
   "execution_count": null,
   "metadata": {
    "colab": {
     "base_uri": "https://localhost:8080/",
     "height": 502
    },
    "executionInfo": {
     "elapsed": 452,
     "status": "ok",
     "timestamp": 1664292696870,
     "user": {
      "displayName": "Beltran Vazquez",
      "userId": "10815799323004140919"
     },
     "user_tz": -120
    },
    "id": "5WTtMwvNhneX",
    "outputId": "2ed47460-c6f1-4ca4-ff63-dfcec64af946"
   },
   "outputs": [
    {
     "data": {
      "image/png": "[encoded data removed]",
      "text/plain": [
       "<Figure size 1080x576 with 1 Axes>"
      ]
     },
     "metadata": {},
     "output_type": "display_data"
    }
   ],
   "source": [
    "sns.scatterplot(x=data[\"hours\"], y=data[\"mark\"]);"
   ]
  },
  {
   "cell_type": "code",
   "execution_count": null,
   "metadata": {
    "id": "mnKayHujl-Yl"
   },
   "outputs": [],
   "source": []
  },
  {
   "cell_type": "markdown",
   "metadata": {
    "id": "vJKB1fzPl_EI"
   },
   "source": [
    "Vamos a empezar introduciendo unos valores al azar y a ver qué tal resultan.´\n",
    "\n",
    "Como vemos en el gráfico la relación entre hours y mark es positiva, es decir, a medida que hours crece, mark también. Por lo tanto, la pendiente de la recta tiene que ser positiva"
   ]
  },
  {
   "cell_type": "markdown",
   "metadata": {
    "id": "9B8aZtvunN5j"
   },
   "source": [
    "## Primera regresión"
   ]
  },
  {
   "cell_type": "code",
   "execution_count": null,
   "metadata": {
    "colab": {
     "base_uri": "https://localhost:8080/",
     "height": 424
    },
    "executionInfo": {
     "elapsed": 240,
     "status": "ok",
     "timestamp": 1664375625449,
     "user": {
      "displayName": "Beltran Vazquez",
      "userId": "10815799323004140919"
     },
     "user_tz": -120
    },
    "id": "HZVsPCfOh8Af",
    "outputId": "5e5d3cd0-c5a3-4dd4-864f-2ad7c59e51a8"
   },
   "outputs": [
    {
     "data": {
      "text/html": [
       "\n",
       "  <div id=\"df-9b921a99-f577-4a4d-b424-29679626b1d7\">\n",
       "    <div class=\"colab-df-container\">\n",
       "      <div>\n",
       "<style scoped>\n",
       "    .dataframe tbody tr th:only-of-type {\n",
       "        vertical-align: middle;\n",
       "    }\n",
       "\n",
       "    .dataframe tbody tr th {\n",
       "        vertical-align: top;\n",
       "    }\n",
       "\n",
       "    .dataframe thead th {\n",
       "        text-align: right;\n",
       "    }\n",
       "</style>\n",
       "<table border=\"1\" class=\"dataframe\">\n",
       "  <thead>\n",
       "    <tr style=\"text-align: right;\">\n",
       "      <th></th>\n",
       "      <th>hours</th>\n",
       "      <th>mark</th>\n",
       "      <th>predicción_0</th>\n",
       "      <th>predicción_1</th>\n",
       "      <th>predicción_2</th>\n",
       "      <th>predicción_3</th>\n",
       "      <th>predicción_4</th>\n",
       "    </tr>\n",
       "  </thead>\n",
       "  <tbody>\n",
       "    <tr>\n",
       "      <th>0</th>\n",
       "      <td>865</td>\n",
       "      <td>95</td>\n",
       "      <td>43.25</td>\n",
       "      <td>217.60</td>\n",
       "      <td>79.20</td>\n",
       "      <td>100.15</td>\n",
       "      <td>60.90</td>\n",
       "    </tr>\n",
       "    <tr>\n",
       "      <th>1</th>\n",
       "      <td>4</td>\n",
       "      <td>12</td>\n",
       "      <td>0.20</td>\n",
       "      <td>10.96</td>\n",
       "      <td>10.32</td>\n",
       "      <td>5.44</td>\n",
       "      <td>9.24</td>\n",
       "    </tr>\n",
       "    <tr>\n",
       "      <th>2</th>\n",
       "      <td>305</td>\n",
       "      <td>35</td>\n",
       "      <td>15.25</td>\n",
       "      <td>83.20</td>\n",
       "      <td>34.40</td>\n",
       "      <td>38.55</td>\n",
       "      <td>27.30</td>\n",
       "    </tr>\n",
       "    <tr>\n",
       "      <th>3</th>\n",
       "      <td>437</td>\n",
       "      <td>56</td>\n",
       "      <td>21.85</td>\n",
       "      <td>114.88</td>\n",
       "      <td>44.96</td>\n",
       "      <td>53.07</td>\n",
       "      <td>35.22</td>\n",
       "    </tr>\n",
       "    <tr>\n",
       "      <th>4</th>\n",
       "      <td>682</td>\n",
       "      <td>86</td>\n",
       "      <td>34.10</td>\n",
       "      <td>173.68</td>\n",
       "      <td>64.56</td>\n",
       "      <td>80.02</td>\n",
       "      <td>49.92</td>\n",
       "    </tr>\n",
       "    <tr>\n",
       "      <th>...</th>\n",
       "      <td>...</td>\n",
       "      <td>...</td>\n",
       "      <td>...</td>\n",
       "      <td>...</td>\n",
       "      <td>...</td>\n",
       "      <td>...</td>\n",
       "      <td>...</td>\n",
       "    </tr>\n",
       "    <tr>\n",
       "      <th>95</th>\n",
       "      <td>252</td>\n",
       "      <td>66</td>\n",
       "      <td>12.60</td>\n",
       "      <td>70.48</td>\n",
       "      <td>30.16</td>\n",
       "      <td>32.72</td>\n",
       "      <td>24.12</td>\n",
       "    </tr>\n",
       "    <tr>\n",
       "      <th>96</th>\n",
       "      <td>49</td>\n",
       "      <td>21</td>\n",
       "      <td>2.45</td>\n",
       "      <td>21.76</td>\n",
       "      <td>13.92</td>\n",
       "      <td>10.39</td>\n",
       "      <td>11.94</td>\n",
       "    </tr>\n",
       "    <tr>\n",
       "      <th>97</th>\n",
       "      <td>792</td>\n",
       "      <td>97</td>\n",
       "      <td>39.60</td>\n",
       "      <td>200.08</td>\n",
       "      <td>73.36</td>\n",
       "      <td>92.12</td>\n",
       "      <td>56.52</td>\n",
       "    </tr>\n",
       "    <tr>\n",
       "      <th>98</th>\n",
       "      <td>310</td>\n",
       "      <td>46</td>\n",
       "      <td>15.50</td>\n",
       "      <td>84.40</td>\n",
       "      <td>34.80</td>\n",
       "      <td>39.10</td>\n",
       "      <td>27.60</td>\n",
       "    </tr>\n",
       "    <tr>\n",
       "      <th>99</th>\n",
       "      <td>934</td>\n",
       "      <td>89</td>\n",
       "      <td>46.70</td>\n",
       "      <td>234.16</td>\n",
       "      <td>84.72</td>\n",
       "      <td>107.74</td>\n",
       "      <td>65.04</td>\n",
       "    </tr>\n",
       "  </tbody>\n",
       "</table>\n",
       "<p>100 rows × 7 columns</p>\n",
       "</div>\n",
       "      <button class=\"colab-df-convert\" onclick=\"convertToInteractive('df-9b921a99-f577-4a4d-b424-29679626b1d7')\"\n",
       "              title=\"Convert this dataframe to an interactive table.\"\n",
       "              style=\"display:none;\">\n",
       "        \n",
       "  <svg xmlns=\"http://www.w3.org/2000/svg\" height=\"24px\"viewBox=\"0 0 24 24\"\n",
       "       width=\"24px\">\n",
       "    <path d=\"M0 0h24v24H0V0z\" fill=\"none\"/>\n",
       "    <path d=\"M18.56 5.44l.94 2.06.94-2.06 2.06-.94-2.06-.94-.94-2.06-.94 2.06-2.06.94zm-11 1L8.5 8.5l.94-2.06 2.06-.94-2.06-.94L8.5 2.5l-.94 2.06-2.06.94zm10 10l.94 2.06.94-2.06 2.06-.94-2.06-.94-.94-2.06-.94 2.06-2.06.94z\"/><path d=\"M17.41 7.96l-1.37-1.37c-.4-.4-.92-.59-1.43-.59-.52 0-1.04.2-1.43.59L10.3 9.45l-7.72 7.72c-.78.78-.78 2.05 0 2.83L4 21.41c.39.39.9.59 1.41.59.51 0 1.02-.2 1.41-.59l7.78-7.78 2.81-2.81c.8-.78.8-2.07 0-2.86zM5.41 20L4 18.59l7.72-7.72 1.47 1.35L5.41 20z\"/>\n",
       "  </svg>\n",
       "      </button>\n",
       "      \n",
       "  <style>\n",
       "    .colab-df-container {\n",
       "      display:flex;\n",
       "      flex-wrap:wrap;\n",
       "      gap: 12px;\n",
       "    }\n",
       "\n",
       "    .colab-df-convert {\n",
       "      background-color: #E8F0FE;\n",
       "      border: none;\n",
       "      border-radius: 50%;\n",
       "      cursor: pointer;\n",
       "      display: none;\n",
       "      fill: #1967D2;\n",
       "      height: 32px;\n",
       "      padding: 0 0 0 0;\n",
       "      width: 32px;\n",
       "    }\n",
       "\n",
       "    .colab-df-convert:hover {\n",
       "      background-color: #E2EBFA;\n",
       "      box-shadow: 0px 1px 2px rgba(60, 64, 67, 0.3), 0px 1px 3px 1px rgba(60, 64, 67, 0.15);\n",
       "      fill: #174EA6;\n",
       "    }\n",
       "\n",
       "    [theme=dark] .colab-df-convert {\n",
       "      background-color: #3B4455;\n",
       "      fill: #D2E3FC;\n",
       "    }\n",
       "\n",
       "    [theme=dark] .colab-df-convert:hover {\n",
       "      background-color: #434B5C;\n",
       "      box-shadow: 0px 1px 3px 1px rgba(0, 0, 0, 0.15);\n",
       "      filter: drop-shadow(0px 1px 2px rgba(0, 0, 0, 0.3));\n",
       "      fill: #FFFFFF;\n",
       "    }\n",
       "  </style>\n",
       "\n",
       "      <script>\n",
       "        const buttonEl =\n",
       "          document.querySelector('#df-9b921a99-f577-4a4d-b424-29679626b1d7 button.colab-df-convert');\n",
       "        buttonEl.style.display =\n",
       "          google.colab.kernel.accessAllowed ? 'block' : 'none';\n",
       "\n",
       "        async function convertToInteractive(key) {\n",
       "          const element = document.querySelector('#df-9b921a99-f577-4a4d-b424-29679626b1d7');\n",
       "          const dataTable =\n",
       "            await google.colab.kernel.invokeFunction('convertToInteractive',\n",
       "                                                     [key], {});\n",
       "          if (!dataTable) return;\n",
       "\n",
       "          const docLinkHtml = 'Like what you see? Visit the ' +\n",
       "            '<a target=\"_blank\" href=https://colab.research.google.com/notebooks/data_table.ipynb>data table notebook</a>'\n",
       "            + ' to learn more about interactive tables.';\n",
       "          element.innerHTML = '';\n",
       "          dataTable['output_type'] = 'display_data';\n",
       "          await google.colab.output.renderOutput(dataTable, element);\n",
       "          const docLink = document.createElement('div');\n",
       "          docLink.innerHTML = docLinkHtml;\n",
       "          element.appendChild(docLink);\n",
       "        }\n",
       "      </script>\n",
       "    </div>\n",
       "  </div>\n",
       "  "
      ],
      "text/plain": [
       "    hours  mark  predicción_0  predicción_1  predicción_2  predicción_3  \\\n",
       "0     865    95         43.25        217.60         79.20        100.15   \n",
       "1       4    12          0.20         10.96         10.32          5.44   \n",
       "2     305    35         15.25         83.20         34.40         38.55   \n",
       "3     437    56         21.85        114.88         44.96         53.07   \n",
       "4     682    86         34.10        173.68         64.56         80.02   \n",
       "..    ...   ...           ...           ...           ...           ...   \n",
       "95    252    66         12.60         70.48         30.16         32.72   \n",
       "96     49    21          2.45         21.76         13.92         10.39   \n",
       "97    792    97         39.60        200.08         73.36         92.12   \n",
       "98    310    46         15.50         84.40         34.80         39.10   \n",
       "99    934    89         46.70        234.16         84.72        107.74   \n",
       "\n",
       "    predicción_4  \n",
       "0          60.90  \n",
       "1           9.24  \n",
       "2          27.30  \n",
       "3          35.22  \n",
       "4          49.92  \n",
       "..           ...  \n",
       "95         24.12  \n",
       "96         11.94  \n",
       "97         56.52  \n",
       "98         27.60  \n",
       "99         65.04  \n",
       "\n",
       "[100 rows x 7 columns]"
      ]
     },
     "execution_count": 3,
     "metadata": {},
     "output_type": "execute_result"
    }
   ],
   "source": [
    "data[\"predicción_0\"] = 0.05 * data['hours'] + 0\n",
    "data[\"predicción_1\"] = 0.24 * data['hours'] + 10\n",
    "data[\"predicción_2\"] = 0.08 * data['hours'] + 10\n",
    "data[\"predicción_3\"] = 0.11 * data['hours'] + 5\n",
    "data[\"predicción_4\"] = 0.06 * data['hours'] + 9\n",
    "data"
   ]
  },
  {
   "cell_type": "code",
   "execution_count": null,
   "metadata": {
    "id": "hINS2Wj6le4A"
   },
   "outputs": [],
   "source": [
    "sns.histplot(data['hours'])"
   ]
  },
  {
   "cell_type": "markdown",
   "metadata": {
    "id": "PqWit3o9mkAy"
   },
   "source": [
    "Según la primera función que nos hemos inventado cuando un alumno estudia 865 horas previsiblemente tendrá una nota de 91.5, sin embargo mirando para la segunda función tendrá un 113.8."
   ]
  },
  {
   "cell_type": "code",
   "execution_count": null,
   "metadata": {
    "colab": {
     "base_uri": "https://localhost:8080/",
     "height": 502
    },
    "executionInfo": {
     "elapsed": 938,
     "status": "ok",
     "timestamp": 1664375628729,
     "user": {
      "displayName": "Beltran Vazquez",
      "userId": "10815799323004140919"
     },
     "user_tz": -120
    },
    "id": "2iU4gzhrmdB5",
    "outputId": "72b72ebd-5e0b-4ef0-9be9-39dc98caa4e3"
   },
   "outputs": [
    {
     "data": {
      "image/png": "[encoded data removed]",
      "text/plain": [
       "<Figure size 1080x576 with 1 Axes>"
      ]
     },
     "metadata": {},
     "output_type": "display_data"
    }
   ],
   "source": [
    "sns.scatterplot(x=data[\"hours\"], y=data[\"mark\"])\n",
    "plt.plot(data.hours, data[\"predicción_0\"], color='b', label='regresion0')\n",
    "plt.plot(data.hours, data[\"predicción_1\"], color='g', label='regresion1')\n",
    "plt.plot(data.hours, data[\"predicción_2\"], color='r', label='regresion2')\n",
    "plt.plot(data.hours, data[\"predicción_3\"], color='purple', label='regresion3')\n",
    "plt.plot(data.hours, data[\"predicción_4\"], color='y', label='regresion4')\n",
    "plt.legend();"
   ]
  },
  {
   "cell_type": "markdown",
   "metadata": {
    "id": "nK3WwcSGnTeF"
   },
   "source": [
    "A simple vista, cuál recta creéis que se ajusta mejor a los datos?\n",
    "\n",
    "Hay una manera matemática de saberlo. La idea es ver la distancia de cada punto a cada una de las rectas. A esta distancia se le llama **residuo** o **error**"
   ]
  },
  {
   "cell_type": "code",
   "execution_count": null,
   "metadata": {
    "colab": {
     "base_uri": "https://localhost:8080/",
     "height": 502
    },
    "executionInfo": {
     "elapsed": 424,
     "status": "ok",
     "timestamp": 1664277062642,
     "user": {
      "displayName": "Beltran Vazquez",
      "userId": "10815799323004140919"
     },
     "user_tz": -120
    },
    "id": "ihRRlFy2nAkG",
    "outputId": "c13ae417-7157-423b-d80c-c56bc5e6cbcd"
   },
   "outputs": [
    {
     "data": {
      "image/png": "[encoded data removed]",
      "text/plain": [
       "<Figure size 1080x576 with 1 Axes>"
      ]
     },
     "metadata": {},
     "output_type": "display_data"
    }
   ],
   "source": [
    "sns.scatterplot(x=data[\"hours\"], y=data[\"mark\"])\n",
    "plt.plot(data.hours, data[\"predicción_3\"], color='b', label='regresion1')\n",
    "#plt.plot(data.hours, data[\"predicción_2\"], color='g', label='refresion2')\n",
    "plt.vlines(data.hours, data[\"predicción_3\"], data[\"mark\"], lw=0.4)\n",
    "plt.legend();\n"
   ]
  },
  {
   "cell_type": "code",
   "execution_count": null,
   "metadata": {
    "id": "MPzHSz5xoYgw"
   },
   "outputs": [],
   "source": [
    "data[\"error0\"] = (data['mark'] - data[\"predicción_0\"]).abs()\n",
    "data[\"error1\"] = (data['mark'] - data[\"predicción_1\"]).abs()\n",
    "data[\"error2\"] = (data['mark'] - data[\"predicción_2\"]).abs()\n",
    "data[\"error3\"] = (data['mark'] - data[\"predicción_3\"]).abs()\n",
    "data[\"error4\"] = (data['mark'] - data[\"predicción_4\"]).abs()"
   ]
  },
  {
   "cell_type": "code",
   "execution_count": null,
   "metadata": {
    "colab": {
     "base_uri": "https://localhost:8080/",
     "height": 424
    },
    "executionInfo": {
     "elapsed": 179,
     "status": "ok",
     "timestamp": 1664293606567,
     "user": {
      "displayName": "Beltran Vazquez",
      "userId": "10815799323004140919"
     },
     "user_tz": -120
    },
    "id": "HBNe8GAcoQlr",
    "outputId": "c1a7948e-acec-43a2-a531-9bbd0f5b8b03"
   },
   "outputs": [
    {
     "data": {
      "text/html": [
       "\n",
       "  <div id=\"df-a57f29d0-cd44-4490-962c-dcd33bc48167\">\n",
       "    <div class=\"colab-df-container\">\n",
       "      <div>\n",
       "<style scoped>\n",
       "    .dataframe tbody tr th:only-of-type {\n",
       "        vertical-align: middle;\n",
       "    }\n",
       "\n",
       "    .dataframe tbody tr th {\n",
       "        vertical-align: top;\n",
       "    }\n",
       "\n",
       "    .dataframe thead th {\n",
       "        text-align: right;\n",
       "    }\n",
       "</style>\n",
       "<table border=\"1\" class=\"dataframe\">\n",
       "  <thead>\n",
       "    <tr style=\"text-align: right;\">\n",
       "      <th></th>\n",
       "      <th>hours</th>\n",
       "      <th>mark</th>\n",
       "      <th>predicción_0</th>\n",
       "      <th>predicción_1</th>\n",
       "      <th>predicción_2</th>\n",
       "      <th>predicción_3</th>\n",
       "      <th>predicción_4</th>\n",
       "      <th>error0</th>\n",
       "      <th>error1</th>\n",
       "      <th>error2</th>\n",
       "      <th>error3</th>\n",
       "      <th>error4</th>\n",
       "    </tr>\n",
       "  </thead>\n",
       "  <tbody>\n",
       "    <tr>\n",
       "      <th>0</th>\n",
       "      <td>865</td>\n",
       "      <td>95</td>\n",
       "      <td>43.25</td>\n",
       "      <td>113.80</td>\n",
       "      <td>79.20</td>\n",
       "      <td>100.15</td>\n",
       "      <td>60.90</td>\n",
       "      <td>51.75</td>\n",
       "      <td>18.80</td>\n",
       "      <td>15.80</td>\n",
       "      <td>5.15</td>\n",
       "      <td>34.10</td>\n",
       "    </tr>\n",
       "    <tr>\n",
       "      <th>1</th>\n",
       "      <td>4</td>\n",
       "      <td>12</td>\n",
       "      <td>0.20</td>\n",
       "      <td>10.48</td>\n",
       "      <td>10.32</td>\n",
       "      <td>5.44</td>\n",
       "      <td>9.24</td>\n",
       "      <td>11.80</td>\n",
       "      <td>1.52</td>\n",
       "      <td>1.68</td>\n",
       "      <td>6.56</td>\n",
       "      <td>2.76</td>\n",
       "    </tr>\n",
       "    <tr>\n",
       "      <th>2</th>\n",
       "      <td>305</td>\n",
       "      <td>35</td>\n",
       "      <td>15.25</td>\n",
       "      <td>46.60</td>\n",
       "      <td>34.40</td>\n",
       "      <td>38.55</td>\n",
       "      <td>27.30</td>\n",
       "      <td>19.75</td>\n",
       "      <td>11.60</td>\n",
       "      <td>0.60</td>\n",
       "      <td>3.55</td>\n",
       "      <td>7.70</td>\n",
       "    </tr>\n",
       "    <tr>\n",
       "      <th>3</th>\n",
       "      <td>437</td>\n",
       "      <td>56</td>\n",
       "      <td>21.85</td>\n",
       "      <td>62.44</td>\n",
       "      <td>44.96</td>\n",
       "      <td>53.07</td>\n",
       "      <td>35.22</td>\n",
       "      <td>34.15</td>\n",
       "      <td>6.44</td>\n",
       "      <td>11.04</td>\n",
       "      <td>2.93</td>\n",
       "      <td>20.78</td>\n",
       "    </tr>\n",
       "    <tr>\n",
       "      <th>4</th>\n",
       "      <td>682</td>\n",
       "      <td>86</td>\n",
       "      <td>34.10</td>\n",
       "      <td>91.84</td>\n",
       "      <td>64.56</td>\n",
       "      <td>80.02</td>\n",
       "      <td>49.92</td>\n",
       "      <td>51.90</td>\n",
       "      <td>5.84</td>\n",
       "      <td>21.44</td>\n",
       "      <td>5.98</td>\n",
       "      <td>36.08</td>\n",
       "    </tr>\n",
       "    <tr>\n",
       "      <th>...</th>\n",
       "      <td>...</td>\n",
       "      <td>...</td>\n",
       "      <td>...</td>\n",
       "      <td>...</td>\n",
       "      <td>...</td>\n",
       "      <td>...</td>\n",
       "      <td>...</td>\n",
       "      <td>...</td>\n",
       "      <td>...</td>\n",
       "      <td>...</td>\n",
       "      <td>...</td>\n",
       "      <td>...</td>\n",
       "    </tr>\n",
       "    <tr>\n",
       "      <th>95</th>\n",
       "      <td>252</td>\n",
       "      <td>66</td>\n",
       "      <td>12.60</td>\n",
       "      <td>40.24</td>\n",
       "      <td>30.16</td>\n",
       "      <td>32.72</td>\n",
       "      <td>24.12</td>\n",
       "      <td>53.40</td>\n",
       "      <td>25.76</td>\n",
       "      <td>35.84</td>\n",
       "      <td>33.28</td>\n",
       "      <td>41.88</td>\n",
       "    </tr>\n",
       "    <tr>\n",
       "      <th>96</th>\n",
       "      <td>49</td>\n",
       "      <td>21</td>\n",
       "      <td>2.45</td>\n",
       "      <td>15.88</td>\n",
       "      <td>13.92</td>\n",
       "      <td>10.39</td>\n",
       "      <td>11.94</td>\n",
       "      <td>18.55</td>\n",
       "      <td>5.12</td>\n",
       "      <td>7.08</td>\n",
       "      <td>10.61</td>\n",
       "      <td>9.06</td>\n",
       "    </tr>\n",
       "    <tr>\n",
       "      <th>97</th>\n",
       "      <td>792</td>\n",
       "      <td>97</td>\n",
       "      <td>39.60</td>\n",
       "      <td>105.04</td>\n",
       "      <td>73.36</td>\n",
       "      <td>92.12</td>\n",
       "      <td>56.52</td>\n",
       "      <td>57.40</td>\n",
       "      <td>8.04</td>\n",
       "      <td>23.64</td>\n",
       "      <td>4.88</td>\n",
       "      <td>40.48</td>\n",
       "    </tr>\n",
       "    <tr>\n",
       "      <th>98</th>\n",
       "      <td>310</td>\n",
       "      <td>46</td>\n",
       "      <td>15.50</td>\n",
       "      <td>47.20</td>\n",
       "      <td>34.80</td>\n",
       "      <td>39.10</td>\n",
       "      <td>27.60</td>\n",
       "      <td>30.50</td>\n",
       "      <td>1.20</td>\n",
       "      <td>11.20</td>\n",
       "      <td>6.90</td>\n",
       "      <td>18.40</td>\n",
       "    </tr>\n",
       "    <tr>\n",
       "      <th>99</th>\n",
       "      <td>934</td>\n",
       "      <td>89</td>\n",
       "      <td>46.70</td>\n",
       "      <td>122.08</td>\n",
       "      <td>84.72</td>\n",
       "      <td>107.74</td>\n",
       "      <td>65.04</td>\n",
       "      <td>42.30</td>\n",
       "      <td>33.08</td>\n",
       "      <td>4.28</td>\n",
       "      <td>18.74</td>\n",
       "      <td>23.96</td>\n",
       "    </tr>\n",
       "  </tbody>\n",
       "</table>\n",
       "<p>100 rows × 12 columns</p>\n",
       "</div>\n",
       "      <button class=\"colab-df-convert\" onclick=\"convertToInteractive('df-a57f29d0-cd44-4490-962c-dcd33bc48167')\"\n",
       "              title=\"Convert this dataframe to an interactive table.\"\n",
       "              style=\"display:none;\">\n",
       "        \n",
       "  <svg xmlns=\"http://www.w3.org/2000/svg\" height=\"24px\"viewBox=\"0 0 24 24\"\n",
       "       width=\"24px\">\n",
       "    <path d=\"M0 0h24v24H0V0z\" fill=\"none\"/>\n",
       "    <path d=\"M18.56 5.44l.94 2.06.94-2.06 2.06-.94-2.06-.94-.94-2.06-.94 2.06-2.06.94zm-11 1L8.5 8.5l.94-2.06 2.06-.94-2.06-.94L8.5 2.5l-.94 2.06-2.06.94zm10 10l.94 2.06.94-2.06 2.06-.94-2.06-.94-.94-2.06-.94 2.06-2.06.94z\"/><path d=\"M17.41 7.96l-1.37-1.37c-.4-.4-.92-.59-1.43-.59-.52 0-1.04.2-1.43.59L10.3 9.45l-7.72 7.72c-.78.78-.78 2.05 0 2.83L4 21.41c.39.39.9.59 1.41.59.51 0 1.02-.2 1.41-.59l7.78-7.78 2.81-2.81c.8-.78.8-2.07 0-2.86zM5.41 20L4 18.59l7.72-7.72 1.47 1.35L5.41 20z\"/>\n",
       "  </svg>\n",
       "      </button>\n",
       "      \n",
       "  <style>\n",
       "    .colab-df-container {\n",
       "      display:flex;\n",
       "      flex-wrap:wrap;\n",
       "      gap: 12px;\n",
       "    }\n",
       "\n",
       "    .colab-df-convert {\n",
       "      background-color: #E8F0FE;\n",
       "      border: none;\n",
       "      border-radius: 50%;\n",
       "      cursor: pointer;\n",
       "      display: none;\n",
       "      fill: #1967D2;\n",
       "      height: 32px;\n",
       "      padding: 0 0 0 0;\n",
       "      width: 32px;\n",
       "    }\n",
       "\n",
       "    .colab-df-convert:hover {\n",
       "      background-color: #E2EBFA;\n",
       "      box-shadow: 0px 1px 2px rgba(60, 64, 67, 0.3), 0px 1px 3px 1px rgba(60, 64, 67, 0.15);\n",
       "      fill: #174EA6;\n",
       "    }\n",
       "\n",
       "    [theme=dark] .colab-df-convert {\n",
       "      background-color: #3B4455;\n",
       "      fill: #D2E3FC;\n",
       "    }\n",
       "\n",
       "    [theme=dark] .colab-df-convert:hover {\n",
       "      background-color: #434B5C;\n",
       "      box-shadow: 0px 1px 3px 1px rgba(0, 0, 0, 0.15);\n",
       "      filter: drop-shadow(0px 1px 2px rgba(0, 0, 0, 0.3));\n",
       "      fill: #FFFFFF;\n",
       "    }\n",
       "  </style>\n",
       "\n",
       "      <script>\n",
       "        const buttonEl =\n",
       "          document.querySelector('#df-a57f29d0-cd44-4490-962c-dcd33bc48167 button.colab-df-convert');\n",
       "        buttonEl.style.display =\n",
       "          google.colab.kernel.accessAllowed ? 'block' : 'none';\n",
       "\n",
       "        async function convertToInteractive(key) {\n",
       "          const element = document.querySelector('#df-a57f29d0-cd44-4490-962c-dcd33bc48167');\n",
       "          const dataTable =\n",
       "            await google.colab.kernel.invokeFunction('convertToInteractive',\n",
       "                                                     [key], {});\n",
       "          if (!dataTable) return;\n",
       "\n",
       "          const docLinkHtml = 'Like what you see? Visit the ' +\n",
       "            '<a target=\"_blank\" href=https://colab.research.google.com/notebooks/data_table.ipynb>data table notebook</a>'\n",
       "            + ' to learn more about interactive tables.';\n",
       "          element.innerHTML = '';\n",
       "          dataTable['output_type'] = 'display_data';\n",
       "          await google.colab.output.renderOutput(dataTable, element);\n",
       "          const docLink = document.createElement('div');\n",
       "          docLink.innerHTML = docLinkHtml;\n",
       "          element.appendChild(docLink);\n",
       "        }\n",
       "      </script>\n",
       "    </div>\n",
       "  </div>\n",
       "  "
      ],
      "text/plain": [
       "    hours  mark  predicción_0  predicción_1  predicción_2  predicción_3  \\\n",
       "0     865    95         43.25        113.80         79.20        100.15   \n",
       "1       4    12          0.20         10.48         10.32          5.44   \n",
       "2     305    35         15.25         46.60         34.40         38.55   \n",
       "3     437    56         21.85         62.44         44.96         53.07   \n",
       "4     682    86         34.10         91.84         64.56         80.02   \n",
       "..    ...   ...           ...           ...           ...           ...   \n",
       "95    252    66         12.60         40.24         30.16         32.72   \n",
       "96     49    21          2.45         15.88         13.92         10.39   \n",
       "97    792    97         39.60        105.04         73.36         92.12   \n",
       "98    310    46         15.50         47.20         34.80         39.10   \n",
       "99    934    89         46.70        122.08         84.72        107.74   \n",
       "\n",
       "    predicción_4  error0  error1  error2  error3  error4  \n",
       "0          60.90   51.75   18.80   15.80    5.15   34.10  \n",
       "1           9.24   11.80    1.52    1.68    6.56    2.76  \n",
       "2          27.30   19.75   11.60    0.60    3.55    7.70  \n",
       "3          35.22   34.15    6.44   11.04    2.93   20.78  \n",
       "4          49.92   51.90    5.84   21.44    5.98   36.08  \n",
       "..           ...     ...     ...     ...     ...     ...  \n",
       "95         24.12   53.40   25.76   35.84   33.28   41.88  \n",
       "96         11.94   18.55    5.12    7.08   10.61    9.06  \n",
       "97         56.52   57.40    8.04   23.64    4.88   40.48  \n",
       "98         27.60   30.50    1.20   11.20    6.90   18.40  \n",
       "99         65.04   42.30   33.08    4.28   18.74   23.96  \n",
       "\n",
       "[100 rows x 12 columns]"
      ]
     },
     "execution_count": 44,
     "metadata": {},
     "output_type": "execute_result"
    }
   ],
   "source": [
    "data"
   ]
  },
  {
   "cell_type": "code",
   "execution_count": null,
   "metadata": {
    "colab": {
     "base_uri": "https://localhost:8080/"
    },
    "executionInfo": {
     "elapsed": 187,
     "status": "ok",
     "timestamp": 1664293947680,
     "user": {
      "displayName": "Beltran Vazquez",
      "userId": "10815799323004140919"
     },
     "user_tz": -120
    },
    "id": "ZQhYf7nhos4X",
    "outputId": "612369c5-90de-4ccd-adc1-029c7263035b"
   },
   "outputs": [
    {
     "name": "stdout",
     "output_type": "stream",
     "text": [
      "el error medio de regresion1 es 26.976 \n",
      "el error medio de regresion2 es 18.073599999999995 \n",
      "el error medio de regresion3 es 11.894399999999997 \n",
      "el error medio de regresion4 es 13.341800000000001 \n",
      "el error medio de regresion5 es 16.937600000000003 \n"
     ]
    }
   ],
   "source": [
    "print(\"el error medio de regresion0 es {} \".format(data[\"error0\"].mean()))\n",
    "print(\"el error medio de regresion1 es {} \".format(data[\"error1\"].mean()))\n",
    "print(\"el error medio de regresion2 es {} \".format(data[\"error2\"].mean()))\n",
    "print(\"el error medio de regresion3 es {} \".format(data[\"error3\"].mean()))\n",
    "print(\"el error medio de regresion4 es {} \".format(data[\"error4\"].mean()))\n",
    "\n",
    "residuos = [data[\"error0\"].mean().round(2),\n",
    "            data[\"error1\"].mean().round(2),\n",
    "            data[\"error2\"].mean().round(2),\n",
    "            data[\"error3\"].mean().round(2),\n",
    "            data[\"error4\"].mean().round(2)]"
   ]
  },
  {
   "cell_type": "code",
   "execution_count": null,
   "metadata": {
    "colab": {
     "base_uri": "https://localhost:8080/"
    },
    "executionInfo": {
     "elapsed": 195,
     "status": "ok",
     "timestamp": 1664293966162,
     "user": {
      "displayName": "Beltran Vazquez",
      "userId": "10815799323004140919"
     },
     "user_tz": -120
    },
    "id": "DaDXhqhuvkkn",
    "outputId": "7dc30880-6a9f-4d2d-b284-8dc1ccc4dd5f"
   },
   "outputs": [
    {
     "data": {
      "text/plain": [
       "[26.98, 18.07, 11.89, 13.34, 16.94]"
      ]
     },
     "execution_count": 46,
     "metadata": {},
     "output_type": "execute_result"
    }
   ],
   "source": [
    "residuos"
   ]
  },
  {
   "cell_type": "markdown",
   "metadata": {
    "id": "TwNS-GropNE4"
   },
   "source": [
    "Por lo tanto, confirmamos que la primera regresión es mejor que la segunda."
   ]
  },
  {
   "cell_type": "markdown",
   "metadata": {
    "id": "GoxZCOJArjEa"
   },
   "source": [
    "## Regresión 2.0"
   ]
  },
  {
   "cell_type": "markdown",
   "metadata": {
    "id": "C9Hc8pLlrI5l"
   },
   "source": [
    "Si profundizamos un poco más, podemos encontrar esta otra expresión:\n",
    "\n",
    " $$ Y = \\beta_0 +  \\beta_1 X + \\epsilon$$\n",
    "\n",
    "Donde:\n",
    " * $X$ = variable predictora\n",
    " * $Y$ = variable objetivo\n",
    " * $\\beta_0$ = intersección / intercept \n",
    " * $\\beta_1$ = pendiente / slope\n",
    " * $\\epsilon$ = ruido (gaussiano)\n",
    "\n",
    "\n",
    "La ecuación anterior se conoce como *línea de regresión poblacional*.\n",
    "La línea de regresión lineal simple suele tener la forma que se muestra en la fórmula anterior, donde β0 y β1 son constantes desconocidas, que representan la intersección y la pendiente de la línea de regresión, respectivamente. Lo que antes entendíamos como *n* y *horas*\n",
    "\n",
    "La **intersección (β0)** es el valor de la variable dependiente (Y, nota) cuando la variable independiente (X, horas) tiene un valor de cero (0). \n",
    "\n",
    "La **pendiente (β1)**  es una medida de la velocidad a la que cambia la variable dependiente (Y) cuando la variable independiente (X) cambia en uno (1). \n",
    "\n",
    "Las constantes β0 y β1 desconocidas (de momento) se denominan coeficientes o parámetros del modelo. Esta forma de la línea de regresión se conoce también como modelo probabilístico, y se ajusta al conjunto de datos de forma **aproximada**."
   ]
  },
  {
   "cell_type": "markdown",
   "metadata": {
    "id": "CqoffqKTq13V"
   },
   "source": [
    "Ahora ya sabemos calcular una regresión, pero cómo podemos saber que es la mejor?\n",
    "\n",
    "Cómo podemos optimizar la búsqueda?\n",
    "\n",
    "El camino es: minimizando los residuos.\n",
    "\n",
    "Cada vez que probamos una recta se calcula un error medio, que comprende la distancia de todos los puntos a la recta."
   ]
  },
  {
   "cell_type": "code",
   "execution_count": null,
   "metadata": {
    "colab": {
     "base_uri": "https://localhost:8080/",
     "height": 206
    },
    "executionInfo": {
     "elapsed": 13,
     "status": "ok",
     "timestamp": 1664278206183,
     "user": {
      "displayName": "Beltran Vazquez",
      "userId": "10815799323004140919"
     },
     "user_tz": -120
    },
    "id": "TAvQCZ8-o77E",
    "outputId": "e8569fc9-9efe-4c3c-f0b0-830fe9459126"
   },
   "outputs": [
    {
     "data": {
      "text/html": [
       "\n",
       "  <div id=\"df-31589551-4314-4162-8d41-bd6420f19264\">\n",
       "    <div class=\"colab-df-container\">\n",
       "      <div>\n",
       "<style scoped>\n",
       "    .dataframe tbody tr th:only-of-type {\n",
       "        vertical-align: middle;\n",
       "    }\n",
       "\n",
       "    .dataframe tbody tr th {\n",
       "        vertical-align: top;\n",
       "    }\n",
       "\n",
       "    .dataframe thead th {\n",
       "        text-align: right;\n",
       "    }\n",
       "</style>\n",
       "<table border=\"1\" class=\"dataframe\">\n",
       "  <thead>\n",
       "    <tr style=\"text-align: right;\">\n",
       "      <th></th>\n",
       "      <th>0</th>\n",
       "    </tr>\n",
       "  </thead>\n",
       "  <tbody>\n",
       "    <tr>\n",
       "      <th>0</th>\n",
       "      <td>26.98</td>\n",
       "    </tr>\n",
       "    <tr>\n",
       "      <th>1</th>\n",
       "      <td>18.07</td>\n",
       "    </tr>\n",
       "    <tr>\n",
       "      <th>2</th>\n",
       "      <td>11.89</td>\n",
       "    </tr>\n",
       "    <tr>\n",
       "      <th>3</th>\n",
       "      <td>13.34</td>\n",
       "    </tr>\n",
       "    <tr>\n",
       "      <th>4</th>\n",
       "      <td>16.94</td>\n",
       "    </tr>\n",
       "  </tbody>\n",
       "</table>\n",
       "</div>\n",
       "      <button class=\"colab-df-convert\" onclick=\"convertToInteractive('df-31589551-4314-4162-8d41-bd6420f19264')\"\n",
       "              title=\"Convert this dataframe to an interactive table.\"\n",
       "              style=\"display:none;\">\n",
       "        \n",
       "  <svg xmlns=\"http://www.w3.org/2000/svg\" height=\"24px\"viewBox=\"0 0 24 24\"\n",
       "       width=\"24px\">\n",
       "    <path d=\"M0 0h24v24H0V0z\" fill=\"none\"/>\n",
       "    <path d=\"M18.56 5.44l.94 2.06.94-2.06 2.06-.94-2.06-.94-.94-2.06-.94 2.06-2.06.94zm-11 1L8.5 8.5l.94-2.06 2.06-.94-2.06-.94L8.5 2.5l-.94 2.06-2.06.94zm10 10l.94 2.06.94-2.06 2.06-.94-2.06-.94-.94-2.06-.94 2.06-2.06.94z\"/><path d=\"M17.41 7.96l-1.37-1.37c-.4-.4-.92-.59-1.43-.59-.52 0-1.04.2-1.43.59L10.3 9.45l-7.72 7.72c-.78.78-.78 2.05 0 2.83L4 21.41c.39.39.9.59 1.41.59.51 0 1.02-.2 1.41-.59l7.78-7.78 2.81-2.81c.8-.78.8-2.07 0-2.86zM5.41 20L4 18.59l7.72-7.72 1.47 1.35L5.41 20z\"/>\n",
       "  </svg>\n",
       "      </button>\n",
       "      \n",
       "  <style>\n",
       "    .colab-df-container {\n",
       "      display:flex;\n",
       "      flex-wrap:wrap;\n",
       "      gap: 12px;\n",
       "    }\n",
       "\n",
       "    .colab-df-convert {\n",
       "      background-color: #E8F0FE;\n",
       "      border: none;\n",
       "      border-radius: 50%;\n",
       "      cursor: pointer;\n",
       "      display: none;\n",
       "      fill: #1967D2;\n",
       "      height: 32px;\n",
       "      padding: 0 0 0 0;\n",
       "      width: 32px;\n",
       "    }\n",
       "\n",
       "    .colab-df-convert:hover {\n",
       "      background-color: #E2EBFA;\n",
       "      box-shadow: 0px 1px 2px rgba(60, 64, 67, 0.3), 0px 1px 3px 1px rgba(60, 64, 67, 0.15);\n",
       "      fill: #174EA6;\n",
       "    }\n",
       "\n",
       "    [theme=dark] .colab-df-convert {\n",
       "      background-color: #3B4455;\n",
       "      fill: #D2E3FC;\n",
       "    }\n",
       "\n",
       "    [theme=dark] .colab-df-convert:hover {\n",
       "      background-color: #434B5C;\n",
       "      box-shadow: 0px 1px 3px 1px rgba(0, 0, 0, 0.15);\n",
       "      filter: drop-shadow(0px 1px 2px rgba(0, 0, 0, 0.3));\n",
       "      fill: #FFFFFF;\n",
       "    }\n",
       "  </style>\n",
       "\n",
       "      <script>\n",
       "        const buttonEl =\n",
       "          document.querySelector('#df-31589551-4314-4162-8d41-bd6420f19264 button.colab-df-convert');\n",
       "        buttonEl.style.display =\n",
       "          google.colab.kernel.accessAllowed ? 'block' : 'none';\n",
       "\n",
       "        async function convertToInteractive(key) {\n",
       "          const element = document.querySelector('#df-31589551-4314-4162-8d41-bd6420f19264');\n",
       "          const dataTable =\n",
       "            await google.colab.kernel.invokeFunction('convertToInteractive',\n",
       "                                                     [key], {});\n",
       "          if (!dataTable) return;\n",
       "\n",
       "          const docLinkHtml = 'Like what you see? Visit the ' +\n",
       "            '<a target=\"_blank\" href=https://colab.research.google.com/notebooks/data_table.ipynb>data table notebook</a>'\n",
       "            + ' to learn more about interactive tables.';\n",
       "          element.innerHTML = '';\n",
       "          dataTable['output_type'] = 'display_data';\n",
       "          await google.colab.output.renderOutput(dataTable, element);\n",
       "          const docLink = document.createElement('div');\n",
       "          docLink.innerHTML = docLinkHtml;\n",
       "          element.appendChild(docLink);\n",
       "        }\n",
       "      </script>\n",
       "    </div>\n",
       "  </div>\n",
       "  "
      ],
      "text/plain": [
       "       0\n",
       "0  26.98\n",
       "1  18.07\n",
       "2  11.89\n",
       "3  13.34\n",
       "4  16.94"
      ]
     },
     "execution_count": 19,
     "metadata": {},
     "output_type": "execute_result"
    }
   ],
   "source": [
    "df_residuos = pd.DataFrame(residuos)\n",
    "df_residuos"
   ]
  },
  {
   "cell_type": "code",
   "execution_count": null,
   "metadata": {
    "colab": {
     "base_uri": "https://localhost:8080/",
     "height": 482
    },
    "executionInfo": {
     "elapsed": 167,
     "status": "ok",
     "timestamp": 1664229222906,
     "user": {
      "displayName": "Beltran Vazquez",
      "userId": "10815799323004140919"
     },
     "user_tz": -120
    },
    "id": "TZX5qPpuv2nt",
    "outputId": "3925f9aa-3380-466b-ebc6-901cb21a8c71"
   },
   "outputs": [
    {
     "data": {
      "image/png": "[encoded data removed]",
      "text/plain": [
       "<Figure size 1080x576 with 1 Axes>"
      ]
     },
     "metadata": {},
     "output_type": "display_data"
    }
   ],
   "source": [
    "df_residuos.plot(kind = 'bar');\n"
   ]
  },
  {
   "cell_type": "markdown",
   "metadata": {
    "id": "TJbRk3nq1qVJ"
   },
   "source": [
    "La línea de regresión número 2 es la mejor, entre las probadas, ni siquiera sabemos si es la mejor de entre todas las posibles, y ni mucho menos sabemos si es buena siquiera\n"
   ]
  },
  {
   "cell_type": "markdown",
   "metadata": {
    "id": "8dPMH2p01-IL"
   },
   "source": [
    "## Regresión con ScikitLearn\n",
    "\n",
    "https://scikit-learn.org/stable/modules/generated/sklearn.linear_model.LinearRegression.html\n",
    "\n",
    "\n",
    "ScikitLearn es una librería, está especializada en modelos de regresión, tanto lineales, como logísticos, de clasificación...\n",
    "\n",
    "Nosotros le vamos a pedir que haga una simple y lineal, es decir con una sola variable y de potencia 1.\n",
    "\n",
    "Lo que el método **LinearRegression** va a hacer por nosotros es iterar. Va a probar muchas combinaciones de Beta0 y Beta1 hasta encontrar la función de regresión óptima.\n",
    "\n",
    "Una vez encontrada evaluaremos cómo de buena es."
   ]
  },
  {
   "cell_type": "markdown",
   "metadata": {
    "id": "j2FbtfFt3Mnv"
   },
   "source": [
    "En primer lugar definimos el objeto lr, será una función que contiene dentro una serie de métodos estadísticos que son los que utilizaremos y los que nos permitirán realmente hacer la regresión"
   ]
  },
  {
   "cell_type": "code",
   "execution_count": null,
   "metadata": {
    "id": "NNZCTPFnwPal"
   },
   "outputs": [],
   "source": [
    "lr = LinearRegression() #fit_intercept = False"
   ]
  },
  {
   "cell_type": "code",
   "execution_count": null,
   "metadata": {
    "colab": {
     "base_uri": "https://localhost:8080/"
    },
    "executionInfo": {
     "elapsed": 157,
     "status": "ok",
     "timestamp": 1664376354310,
     "user": {
      "displayName": "Beltran Vazquez",
      "userId": "10815799323004140919"
     },
     "user_tz": -120
    },
    "id": "djJSdEuV2-w8",
    "outputId": "700decdc-374f-4dfd-d19e-a9927d0d0bf5"
   },
   "outputs": [
    {
     "data": {
      "text/plain": [
       "LinearRegression(fit_intercept=False)"
      ]
     },
     "execution_count": 6,
     "metadata": {},
     "output_type": "execute_result"
    }
   ],
   "source": [
    "lr.fit(data[['hours']],data[['mark']])"
   ]
  },
  {
   "cell_type": "markdown",
   "metadata": {
    "id": "v_HFwXG-33pk"
   },
   "source": [
    "Ahora ya sí hemos generado el modelo de regresión lineal.\n",
    "\n",
    "Vamos a imprimir su coeficiente"
   ]
  },
  {
   "cell_type": "code",
   "execution_count": null,
   "metadata": {
    "colab": {
     "base_uri": "https://localhost:8080/"
    },
    "executionInfo": {
     "elapsed": 1067,
     "status": "ok",
     "timestamp": 1664376358211,
     "user": {
      "displayName": "Beltran Vazquez",
      "userId": "10815799323004140919"
     },
     "user_tz": -120
    },
    "id": "xLTv4BF33LBd",
    "outputId": "95092652-ff68-4496-a6cc-2fcc4224597a"
   },
   "outputs": [
    {
     "data": {
      "text/plain": [
       "array([[0.10348682]])"
      ]
     },
     "execution_count": 7,
     "metadata": {},
     "output_type": "execute_result"
    }
   ],
   "source": [
    "lr.coef_"
   ]
  },
  {
   "cell_type": "code",
   "execution_count": null,
   "metadata": {
    "colab": {
     "base_uri": "https://localhost:8080/"
    },
    "executionInfo": {
     "elapsed": 251,
     "status": "ok",
     "timestamp": 1664376374352,
     "user": {
      "displayName": "Beltran Vazquez",
      "userId": "10815799323004140919"
     },
     "user_tz": -120
    },
    "id": "aJIHhgql31O-",
    "outputId": "7ab75939-3da9-4b14-d15c-d2de685247dd"
   },
   "outputs": [
    {
     "data": {
      "text/plain": [
       "0.0"
      ]
     },
     "execution_count": 8,
     "metadata": {},
     "output_type": "execute_result"
    }
   ],
   "source": [
    "lr.intercept_"
   ]
  },
  {
   "cell_type": "code",
   "execution_count": null,
   "metadata": {
    "colab": {
     "base_uri": "https://localhost:8080/",
     "height": 424
    },
    "executionInfo": {
     "elapsed": 187,
     "status": "ok",
     "timestamp": 1664376445272,
     "user": {
      "displayName": "Beltran Vazquez",
      "userId": "10815799323004140919"
     },
     "user_tz": -120
    },
    "id": "oTLce4L_41GK",
    "outputId": "5c88d8d5-c892-403a-ca90-7b502ff55686"
   },
   "outputs": [
    {
     "data": {
      "text/html": [
       "\n",
       "  <div id=\"df-60dccb41-8d89-467e-ae97-e52bb8a684f7\">\n",
       "    <div class=\"colab-df-container\">\n",
       "      <div>\n",
       "<style scoped>\n",
       "    .dataframe tbody tr th:only-of-type {\n",
       "        vertical-align: middle;\n",
       "    }\n",
       "\n",
       "    .dataframe tbody tr th {\n",
       "        vertical-align: top;\n",
       "    }\n",
       "\n",
       "    .dataframe thead th {\n",
       "        text-align: right;\n",
       "    }\n",
       "</style>\n",
       "<table border=\"1\" class=\"dataframe\">\n",
       "  <thead>\n",
       "    <tr style=\"text-align: right;\">\n",
       "      <th></th>\n",
       "      <th>hours</th>\n",
       "      <th>mark</th>\n",
       "      <th>predicción_0</th>\n",
       "      <th>predicción_1</th>\n",
       "      <th>predicción_2</th>\n",
       "      <th>predicción_3</th>\n",
       "      <th>predicción_4</th>\n",
       "      <th>predicción</th>\n",
       "      <th>predict_SKL</th>\n",
       "    </tr>\n",
       "  </thead>\n",
       "  <tbody>\n",
       "    <tr>\n",
       "      <th>0</th>\n",
       "      <td>865</td>\n",
       "      <td>95</td>\n",
       "      <td>43.25</td>\n",
       "      <td>217.60</td>\n",
       "      <td>79.20</td>\n",
       "      <td>100.15</td>\n",
       "      <td>60.90</td>\n",
       "      <td>89.516102</td>\n",
       "      <td>89.516102</td>\n",
       "    </tr>\n",
       "    <tr>\n",
       "      <th>1</th>\n",
       "      <td>4</td>\n",
       "      <td>12</td>\n",
       "      <td>0.20</td>\n",
       "      <td>10.96</td>\n",
       "      <td>10.32</td>\n",
       "      <td>5.44</td>\n",
       "      <td>9.24</td>\n",
       "      <td>0.413947</td>\n",
       "      <td>0.413947</td>\n",
       "    </tr>\n",
       "    <tr>\n",
       "      <th>2</th>\n",
       "      <td>305</td>\n",
       "      <td>35</td>\n",
       "      <td>15.25</td>\n",
       "      <td>83.20</td>\n",
       "      <td>34.40</td>\n",
       "      <td>38.55</td>\n",
       "      <td>27.30</td>\n",
       "      <td>31.563481</td>\n",
       "      <td>31.563481</td>\n",
       "    </tr>\n",
       "    <tr>\n",
       "      <th>3</th>\n",
       "      <td>437</td>\n",
       "      <td>56</td>\n",
       "      <td>21.85</td>\n",
       "      <td>114.88</td>\n",
       "      <td>44.96</td>\n",
       "      <td>53.07</td>\n",
       "      <td>35.22</td>\n",
       "      <td>45.223742</td>\n",
       "      <td>45.223742</td>\n",
       "    </tr>\n",
       "    <tr>\n",
       "      <th>4</th>\n",
       "      <td>682</td>\n",
       "      <td>86</td>\n",
       "      <td>34.10</td>\n",
       "      <td>173.68</td>\n",
       "      <td>64.56</td>\n",
       "      <td>80.02</td>\n",
       "      <td>49.92</td>\n",
       "      <td>70.578014</td>\n",
       "      <td>70.578014</td>\n",
       "    </tr>\n",
       "    <tr>\n",
       "      <th>...</th>\n",
       "      <td>...</td>\n",
       "      <td>...</td>\n",
       "      <td>...</td>\n",
       "      <td>...</td>\n",
       "      <td>...</td>\n",
       "      <td>...</td>\n",
       "      <td>...</td>\n",
       "      <td>...</td>\n",
       "      <td>...</td>\n",
       "    </tr>\n",
       "    <tr>\n",
       "      <th>95</th>\n",
       "      <td>252</td>\n",
       "      <td>66</td>\n",
       "      <td>12.60</td>\n",
       "      <td>70.48</td>\n",
       "      <td>30.16</td>\n",
       "      <td>32.72</td>\n",
       "      <td>24.12</td>\n",
       "      <td>26.078680</td>\n",
       "      <td>26.078680</td>\n",
       "    </tr>\n",
       "    <tr>\n",
       "      <th>96</th>\n",
       "      <td>49</td>\n",
       "      <td>21</td>\n",
       "      <td>2.45</td>\n",
       "      <td>21.76</td>\n",
       "      <td>13.92</td>\n",
       "      <td>10.39</td>\n",
       "      <td>11.94</td>\n",
       "      <td>5.070854</td>\n",
       "      <td>5.070854</td>\n",
       "    </tr>\n",
       "    <tr>\n",
       "      <th>97</th>\n",
       "      <td>792</td>\n",
       "      <td>97</td>\n",
       "      <td>39.60</td>\n",
       "      <td>200.08</td>\n",
       "      <td>73.36</td>\n",
       "      <td>92.12</td>\n",
       "      <td>56.52</td>\n",
       "      <td>81.961564</td>\n",
       "      <td>81.961564</td>\n",
       "    </tr>\n",
       "    <tr>\n",
       "      <th>98</th>\n",
       "      <td>310</td>\n",
       "      <td>46</td>\n",
       "      <td>15.50</td>\n",
       "      <td>84.40</td>\n",
       "      <td>34.80</td>\n",
       "      <td>39.10</td>\n",
       "      <td>27.60</td>\n",
       "      <td>32.080915</td>\n",
       "      <td>32.080915</td>\n",
       "    </tr>\n",
       "    <tr>\n",
       "      <th>99</th>\n",
       "      <td>934</td>\n",
       "      <td>89</td>\n",
       "      <td>46.70</td>\n",
       "      <td>234.16</td>\n",
       "      <td>84.72</td>\n",
       "      <td>107.74</td>\n",
       "      <td>65.04</td>\n",
       "      <td>96.656693</td>\n",
       "      <td>96.656693</td>\n",
       "    </tr>\n",
       "  </tbody>\n",
       "</table>\n",
       "<p>100 rows × 9 columns</p>\n",
       "</div>\n",
       "      <button class=\"colab-df-convert\" onclick=\"convertToInteractive('df-60dccb41-8d89-467e-ae97-e52bb8a684f7')\"\n",
       "              title=\"Convert this dataframe to an interactive table.\"\n",
       "              style=\"display:none;\">\n",
       "        \n",
       "  <svg xmlns=\"http://www.w3.org/2000/svg\" height=\"24px\"viewBox=\"0 0 24 24\"\n",
       "       width=\"24px\">\n",
       "    <path d=\"M0 0h24v24H0V0z\" fill=\"none\"/>\n",
       "    <path d=\"M18.56 5.44l.94 2.06.94-2.06 2.06-.94-2.06-.94-.94-2.06-.94 2.06-2.06.94zm-11 1L8.5 8.5l.94-2.06 2.06-.94-2.06-.94L8.5 2.5l-.94 2.06-2.06.94zm10 10l.94 2.06.94-2.06 2.06-.94-2.06-.94-.94-2.06-.94 2.06-2.06.94z\"/><path d=\"M17.41 7.96l-1.37-1.37c-.4-.4-.92-.59-1.43-.59-.52 0-1.04.2-1.43.59L10.3 9.45l-7.72 7.72c-.78.78-.78 2.05 0 2.83L4 21.41c.39.39.9.59 1.41.59.51 0 1.02-.2 1.41-.59l7.78-7.78 2.81-2.81c.8-.78.8-2.07 0-2.86zM5.41 20L4 18.59l7.72-7.72 1.47 1.35L5.41 20z\"/>\n",
       "  </svg>\n",
       "      </button>\n",
       "      \n",
       "  <style>\n",
       "    .colab-df-container {\n",
       "      display:flex;\n",
       "      flex-wrap:wrap;\n",
       "      gap: 12px;\n",
       "    }\n",
       "\n",
       "    .colab-df-convert {\n",
       "      background-color: #E8F0FE;\n",
       "      border: none;\n",
       "      border-radius: 50%;\n",
       "      cursor: pointer;\n",
       "      display: none;\n",
       "      fill: #1967D2;\n",
       "      height: 32px;\n",
       "      padding: 0 0 0 0;\n",
       "      width: 32px;\n",
       "    }\n",
       "\n",
       "    .colab-df-convert:hover {\n",
       "      background-color: #E2EBFA;\n",
       "      box-shadow: 0px 1px 2px rgba(60, 64, 67, 0.3), 0px 1px 3px 1px rgba(60, 64, 67, 0.15);\n",
       "      fill: #174EA6;\n",
       "    }\n",
       "\n",
       "    [theme=dark] .colab-df-convert {\n",
       "      background-color: #3B4455;\n",
       "      fill: #D2E3FC;\n",
       "    }\n",
       "\n",
       "    [theme=dark] .colab-df-convert:hover {\n",
       "      background-color: #434B5C;\n",
       "      box-shadow: 0px 1px 3px 1px rgba(0, 0, 0, 0.15);\n",
       "      filter: drop-shadow(0px 1px 2px rgba(0, 0, 0, 0.3));\n",
       "      fill: #FFFFFF;\n",
       "    }\n",
       "  </style>\n",
       "\n",
       "      <script>\n",
       "        const buttonEl =\n",
       "          document.querySelector('#df-60dccb41-8d89-467e-ae97-e52bb8a684f7 button.colab-df-convert');\n",
       "        buttonEl.style.display =\n",
       "          google.colab.kernel.accessAllowed ? 'block' : 'none';\n",
       "\n",
       "        async function convertToInteractive(key) {\n",
       "          const element = document.querySelector('#df-60dccb41-8d89-467e-ae97-e52bb8a684f7');\n",
       "          const dataTable =\n",
       "            await google.colab.kernel.invokeFunction('convertToInteractive',\n",
       "                                                     [key], {});\n",
       "          if (!dataTable) return;\n",
       "\n",
       "          const docLinkHtml = 'Like what you see? Visit the ' +\n",
       "            '<a target=\"_blank\" href=https://colab.research.google.com/notebooks/data_table.ipynb>data table notebook</a>'\n",
       "            + ' to learn more about interactive tables.';\n",
       "          element.innerHTML = '';\n",
       "          dataTable['output_type'] = 'display_data';\n",
       "          await google.colab.output.renderOutput(dataTable, element);\n",
       "          const docLink = document.createElement('div');\n",
       "          docLink.innerHTML = docLinkHtml;\n",
       "          element.appendChild(docLink);\n",
       "        }\n",
       "      </script>\n",
       "    </div>\n",
       "  </div>\n",
       "  "
      ],
      "text/plain": [
       "    hours  mark  predicción_0  predicción_1  predicción_2  predicción_3  \\\n",
       "0     865    95         43.25        217.60         79.20        100.15   \n",
       "1       4    12          0.20         10.96         10.32          5.44   \n",
       "2     305    35         15.25         83.20         34.40         38.55   \n",
       "3     437    56         21.85        114.88         44.96         53.07   \n",
       "4     682    86         34.10        173.68         64.56         80.02   \n",
       "..    ...   ...           ...           ...           ...           ...   \n",
       "95    252    66         12.60         70.48         30.16         32.72   \n",
       "96     49    21          2.45         21.76         13.92         10.39   \n",
       "97    792    97         39.60        200.08         73.36         92.12   \n",
       "98    310    46         15.50         84.40         34.80         39.10   \n",
       "99    934    89         46.70        234.16         84.72        107.74   \n",
       "\n",
       "    predicción_4  predicción  predict_SKL  \n",
       "0          60.90   89.516102    89.516102  \n",
       "1           9.24    0.413947     0.413947  \n",
       "2          27.30   31.563481    31.563481  \n",
       "3          35.22   45.223742    45.223742  \n",
       "4          49.92   70.578014    70.578014  \n",
       "..           ...         ...          ...  \n",
       "95         24.12   26.078680    26.078680  \n",
       "96         11.94    5.070854     5.070854  \n",
       "97         56.52   81.961564    81.961564  \n",
       "98         27.60   32.080915    32.080915  \n",
       "99         65.04   96.656693    96.656693  \n",
       "\n",
       "[100 rows x 9 columns]"
      ]
     },
     "execution_count": 11,
     "metadata": {},
     "output_type": "execute_result"
    }
   ],
   "source": [
    "data[\"predicción\"] = (data['hours'] * lr.coef_[0]) + lr.intercept_\n",
    "data[\"predict_SKL\"] = lr.predict(data[['hours']])\n",
    "data"
   ]
  },
  {
   "cell_type": "code",
   "execution_count": null,
   "metadata": {
    "id": "BwyqRGVK5IE0"
   },
   "outputs": [],
   "source": [
    "data[\"error\"] = (data.mark - data[\"predicción\"]).abs()"
   ]
  },
  {
   "cell_type": "code",
   "execution_count": null,
   "metadata": {
    "colab": {
     "base_uri": "https://localhost:8080/"
    },
    "executionInfo": {
     "elapsed": 156,
     "status": "ok",
     "timestamp": 1664294608171,
     "user": {
      "displayName": "Beltran Vazquez",
      "userId": "10815799323004140919"
     },
     "user_tz": -120
    },
    "id": "xNckPTi95ZVz",
    "outputId": "d868f137-0d7d-41d3-cac6-9892fce47b7a"
   },
   "outputs": [
    {
     "data": {
      "text/plain": [
       "11.402698299019335"
      ]
     },
     "execution_count": 53,
     "metadata": {},
     "output_type": "execute_result"
    }
   ],
   "source": [
    "# Nuestro error ahora es más pequeño que el mejor que teníamos antes\n",
    "data[\"error\"].mean()"
   ]
  },
  {
   "cell_type": "markdown",
   "metadata": {
    "id": "1bGFyOTV6abs"
   },
   "source": [
    "## Regresión con Stats Models\n",
    "\n",
    "Stats Models es otra librería que nos permite hacer modelos de regresión\n",
    "\n",
    "https://www.statsmodels.org/stable/generated/statsmodels.regression.linear_model.OLS.html"
   ]
  },
  {
   "cell_type": "code",
   "execution_count": null,
   "metadata": {
    "colab": {
     "base_uri": "https://localhost:8080/"
    },
    "executionInfo": {
     "elapsed": 152,
     "status": "ok",
     "timestamp": 1664278890803,
     "user": {
      "displayName": "Beltran Vazquez",
      "userId": "10815799323004140919"
     },
     "user_tz": -120
    },
    "id": "XK9siDQL6dYD",
    "outputId": "094ee685-51e9-4339-c396-93f0b3d7b1b5"
   },
   "outputs": [
    {
     "name": "stdout",
     "output_type": "stream",
     "text": [
      "                            OLS Regression Results                            \n",
      "==============================================================================\n",
      "Dep. Variable:                   mark   R-squared:                       0.752\n",
      "Model:                            OLS   Adj. R-squared:                  0.749\n",
      "Method:                 Least Squares   F-statistic:                     296.9\n",
      "Date:                Tue, 27 Sep 2022   Prob (F-statistic):           2.04e-31\n",
      "Time:                        11:41:35   Log-Likelihood:                -404.06\n",
      "No. Observations:                 100   AIC:                             812.1\n",
      "Df Residuals:                      98   BIC:                             817.3\n",
      "Df Model:                           1                                         \n",
      "Covariance Type:            nonrobust                                         \n",
      "==============================================================================\n",
      "                 coef    std err          t      P>|t|      [0.025      0.975]\n",
      "------------------------------------------------------------------------------\n",
      "Intercept     11.7807      2.517      4.680      0.000       6.785      16.776\n",
      "hours          0.0844      0.005     17.230      0.000       0.075       0.094\n",
      "==============================================================================\n",
      "Omnibus:                        3.288   Durbin-Watson:                   1.712\n",
      "Prob(Omnibus):                  0.193   Jarque-Bera (JB):                1.926\n",
      "Skew:                           0.010   Prob(JB):                        0.382\n",
      "Kurtosis:                       2.320   Cond. No.                         931.\n",
      "==============================================================================\n",
      "\n",
      "Notes:\n",
      "[1] Standard Errors assume that the covariance matrix of the errors is correctly specified.\n"
     ]
    }
   ],
   "source": [
    "ols = smf.ols(\"mark ~ hours\", data = data)\n",
    "ols_fit = ols.fit()\n",
    "print(ols_fit.summary())"
   ]
  },
  {
   "cell_type": "markdown",
   "metadata": {
    "id": "UMMwD3HGx5tS"
   },
   "source": [
    "### Interpretación de los resultados\n",
    "\n",
    "https://towardsdatascience.com/simple-explanation-of-statsmodel-linear-regression-model-summary-35961919868b"
   ]
  },
  {
   "cell_type": "code",
   "execution_count": null,
   "metadata": {
    "colab": {
     "base_uri": "https://localhost:8080/",
     "height": 488
    },
    "executionInfo": {
     "elapsed": 186,
     "status": "ok",
     "timestamp": 1664295275229,
     "user": {
      "displayName": "Beltran Vazquez",
      "userId": "10815799323004140919"
     },
     "user_tz": -120
    },
    "id": "8d37-NVQnJhr",
    "outputId": "368afc5d-c829-4baa-8fe7-874aeef81350"
   },
   "outputs": [
    {
     "data": {
      "text/html": [
       "\n",
       "  <div id=\"df-d8dde6ef-c6b9-49dd-9b06-b32c9176530f\">\n",
       "    <div class=\"colab-df-container\">\n",
       "      <div>\n",
       "<style scoped>\n",
       "    .dataframe tbody tr th:only-of-type {\n",
       "        vertical-align: middle;\n",
       "    }\n",
       "\n",
       "    .dataframe tbody tr th {\n",
       "        vertical-align: top;\n",
       "    }\n",
       "\n",
       "    .dataframe thead th {\n",
       "        text-align: right;\n",
       "    }\n",
       "</style>\n",
       "<table border=\"1\" class=\"dataframe\">\n",
       "  <thead>\n",
       "    <tr style=\"text-align: right;\">\n",
       "      <th></th>\n",
       "      <th>hours</th>\n",
       "      <th>mark</th>\n",
       "      <th>predicción_0</th>\n",
       "      <th>predicción_1</th>\n",
       "      <th>predicción_2</th>\n",
       "      <th>predicción_3</th>\n",
       "      <th>predicción_4</th>\n",
       "      <th>error0</th>\n",
       "      <th>error1</th>\n",
       "      <th>error2</th>\n",
       "      <th>error3</th>\n",
       "      <th>error4</th>\n",
       "      <th>predicción</th>\n",
       "      <th>predict_SKL</th>\n",
       "      <th>error</th>\n",
       "      <th>predict_statsM</th>\n",
       "    </tr>\n",
       "  </thead>\n",
       "  <tbody>\n",
       "    <tr>\n",
       "      <th>0</th>\n",
       "      <td>865</td>\n",
       "      <td>95</td>\n",
       "      <td>43.25</td>\n",
       "      <td>113.80</td>\n",
       "      <td>79.20</td>\n",
       "      <td>100.15</td>\n",
       "      <td>60.90</td>\n",
       "      <td>51.75</td>\n",
       "      <td>18.80</td>\n",
       "      <td>15.80</td>\n",
       "      <td>5.15</td>\n",
       "      <td>34.10</td>\n",
       "      <td>84.767566</td>\n",
       "      <td>84.767566</td>\n",
       "      <td>10.232434</td>\n",
       "      <td>84.767566</td>\n",
       "    </tr>\n",
       "    <tr>\n",
       "      <th>1</th>\n",
       "      <td>4</td>\n",
       "      <td>12</td>\n",
       "      <td>0.20</td>\n",
       "      <td>10.48</td>\n",
       "      <td>10.32</td>\n",
       "      <td>5.44</td>\n",
       "      <td>9.24</td>\n",
       "      <td>11.80</td>\n",
       "      <td>1.52</td>\n",
       "      <td>1.68</td>\n",
       "      <td>6.56</td>\n",
       "      <td>2.76</td>\n",
       "      <td>12.118219</td>\n",
       "      <td>12.118219</td>\n",
       "      <td>0.118219</td>\n",
       "      <td>12.118219</td>\n",
       "    </tr>\n",
       "    <tr>\n",
       "      <th>2</th>\n",
       "      <td>305</td>\n",
       "      <td>35</td>\n",
       "      <td>15.25</td>\n",
       "      <td>46.60</td>\n",
       "      <td>34.40</td>\n",
       "      <td>38.55</td>\n",
       "      <td>27.30</td>\n",
       "      <td>19.75</td>\n",
       "      <td>11.60</td>\n",
       "      <td>0.60</td>\n",
       "      <td>3.55</td>\n",
       "      <td>7.70</td>\n",
       "      <td>37.515958</td>\n",
       "      <td>37.515958</td>\n",
       "      <td>2.515958</td>\n",
       "      <td>37.515958</td>\n",
       "    </tr>\n",
       "    <tr>\n",
       "      <th>3</th>\n",
       "      <td>437</td>\n",
       "      <td>56</td>\n",
       "      <td>21.85</td>\n",
       "      <td>62.44</td>\n",
       "      <td>44.96</td>\n",
       "      <td>53.07</td>\n",
       "      <td>35.22</td>\n",
       "      <td>34.15</td>\n",
       "      <td>6.44</td>\n",
       "      <td>11.04</td>\n",
       "      <td>2.93</td>\n",
       "      <td>20.78</td>\n",
       "      <td>48.653837</td>\n",
       "      <td>48.653837</td>\n",
       "      <td>7.346163</td>\n",
       "      <td>48.653837</td>\n",
       "    </tr>\n",
       "    <tr>\n",
       "      <th>4</th>\n",
       "      <td>682</td>\n",
       "      <td>86</td>\n",
       "      <td>34.10</td>\n",
       "      <td>91.84</td>\n",
       "      <td>64.56</td>\n",
       "      <td>80.02</td>\n",
       "      <td>49.92</td>\n",
       "      <td>51.90</td>\n",
       "      <td>5.84</td>\n",
       "      <td>21.44</td>\n",
       "      <td>5.98</td>\n",
       "      <td>36.08</td>\n",
       "      <td>69.326415</td>\n",
       "      <td>69.326415</td>\n",
       "      <td>16.673585</td>\n",
       "      <td>69.326415</td>\n",
       "    </tr>\n",
       "    <tr>\n",
       "      <th>...</th>\n",
       "      <td>...</td>\n",
       "      <td>...</td>\n",
       "      <td>...</td>\n",
       "      <td>...</td>\n",
       "      <td>...</td>\n",
       "      <td>...</td>\n",
       "      <td>...</td>\n",
       "      <td>...</td>\n",
       "      <td>...</td>\n",
       "      <td>...</td>\n",
       "      <td>...</td>\n",
       "      <td>...</td>\n",
       "      <td>...</td>\n",
       "      <td>...</td>\n",
       "      <td>...</td>\n",
       "      <td>...</td>\n",
       "    </tr>\n",
       "    <tr>\n",
       "      <th>95</th>\n",
       "      <td>252</td>\n",
       "      <td>66</td>\n",
       "      <td>12.60</td>\n",
       "      <td>40.24</td>\n",
       "      <td>30.16</td>\n",
       "      <td>32.72</td>\n",
       "      <td>24.12</td>\n",
       "      <td>53.40</td>\n",
       "      <td>25.76</td>\n",
       "      <td>35.84</td>\n",
       "      <td>33.28</td>\n",
       "      <td>41.88</td>\n",
       "      <td>33.043931</td>\n",
       "      <td>33.043931</td>\n",
       "      <td>32.956069</td>\n",
       "      <td>33.043931</td>\n",
       "    </tr>\n",
       "    <tr>\n",
       "      <th>96</th>\n",
       "      <td>49</td>\n",
       "      <td>21</td>\n",
       "      <td>2.45</td>\n",
       "      <td>15.88</td>\n",
       "      <td>13.92</td>\n",
       "      <td>10.39</td>\n",
       "      <td>11.94</td>\n",
       "      <td>18.55</td>\n",
       "      <td>5.12</td>\n",
       "      <td>7.08</td>\n",
       "      <td>10.61</td>\n",
       "      <td>9.06</td>\n",
       "      <td>15.915223</td>\n",
       "      <td>15.915223</td>\n",
       "      <td>5.084777</td>\n",
       "      <td>15.915223</td>\n",
       "    </tr>\n",
       "    <tr>\n",
       "      <th>97</th>\n",
       "      <td>792</td>\n",
       "      <td>97</td>\n",
       "      <td>39.60</td>\n",
       "      <td>105.04</td>\n",
       "      <td>73.36</td>\n",
       "      <td>92.12</td>\n",
       "      <td>56.52</td>\n",
       "      <td>57.40</td>\n",
       "      <td>8.04</td>\n",
       "      <td>23.64</td>\n",
       "      <td>4.88</td>\n",
       "      <td>40.48</td>\n",
       "      <td>78.607981</td>\n",
       "      <td>78.607981</td>\n",
       "      <td>18.392019</td>\n",
       "      <td>78.607981</td>\n",
       "    </tr>\n",
       "    <tr>\n",
       "      <th>98</th>\n",
       "      <td>310</td>\n",
       "      <td>46</td>\n",
       "      <td>15.50</td>\n",
       "      <td>47.20</td>\n",
       "      <td>34.80</td>\n",
       "      <td>39.10</td>\n",
       "      <td>27.60</td>\n",
       "      <td>30.50</td>\n",
       "      <td>1.20</td>\n",
       "      <td>11.20</td>\n",
       "      <td>6.90</td>\n",
       "      <td>18.40</td>\n",
       "      <td>37.937847</td>\n",
       "      <td>37.937847</td>\n",
       "      <td>8.062153</td>\n",
       "      <td>37.937847</td>\n",
       "    </tr>\n",
       "    <tr>\n",
       "      <th>99</th>\n",
       "      <td>934</td>\n",
       "      <td>89</td>\n",
       "      <td>46.70</td>\n",
       "      <td>122.08</td>\n",
       "      <td>84.72</td>\n",
       "      <td>107.74</td>\n",
       "      <td>65.04</td>\n",
       "      <td>42.30</td>\n",
       "      <td>33.08</td>\n",
       "      <td>4.28</td>\n",
       "      <td>18.74</td>\n",
       "      <td>23.96</td>\n",
       "      <td>90.589639</td>\n",
       "      <td>90.589639</td>\n",
       "      <td>1.589639</td>\n",
       "      <td>90.589639</td>\n",
       "    </tr>\n",
       "  </tbody>\n",
       "</table>\n",
       "<p>100 rows × 16 columns</p>\n",
       "</div>\n",
       "      <button class=\"colab-df-convert\" onclick=\"convertToInteractive('df-d8dde6ef-c6b9-49dd-9b06-b32c9176530f')\"\n",
       "              title=\"Convert this dataframe to an interactive table.\"\n",
       "              style=\"display:none;\">\n",
       "        \n",
       "  <svg xmlns=\"http://www.w3.org/2000/svg\" height=\"24px\"viewBox=\"0 0 24 24\"\n",
       "       width=\"24px\">\n",
       "    <path d=\"M0 0h24v24H0V0z\" fill=\"none\"/>\n",
       "    <path d=\"M18.56 5.44l.94 2.06.94-2.06 2.06-.94-2.06-.94-.94-2.06-.94 2.06-2.06.94zm-11 1L8.5 8.5l.94-2.06 2.06-.94-2.06-.94L8.5 2.5l-.94 2.06-2.06.94zm10 10l.94 2.06.94-2.06 2.06-.94-2.06-.94-.94-2.06-.94 2.06-2.06.94z\"/><path d=\"M17.41 7.96l-1.37-1.37c-.4-.4-.92-.59-1.43-.59-.52 0-1.04.2-1.43.59L10.3 9.45l-7.72 7.72c-.78.78-.78 2.05 0 2.83L4 21.41c.39.39.9.59 1.41.59.51 0 1.02-.2 1.41-.59l7.78-7.78 2.81-2.81c.8-.78.8-2.07 0-2.86zM5.41 20L4 18.59l7.72-7.72 1.47 1.35L5.41 20z\"/>\n",
       "  </svg>\n",
       "      </button>\n",
       "      \n",
       "  <style>\n",
       "    .colab-df-container {\n",
       "      display:flex;\n",
       "      flex-wrap:wrap;\n",
       "      gap: 12px;\n",
       "    }\n",
       "\n",
       "    .colab-df-convert {\n",
       "      background-color: #E8F0FE;\n",
       "      border: none;\n",
       "      border-radius: 50%;\n",
       "      cursor: pointer;\n",
       "      display: none;\n",
       "      fill: #1967D2;\n",
       "      height: 32px;\n",
       "      padding: 0 0 0 0;\n",
       "      width: 32px;\n",
       "    }\n",
       "\n",
       "    .colab-df-convert:hover {\n",
       "      background-color: #E2EBFA;\n",
       "      box-shadow: 0px 1px 2px rgba(60, 64, 67, 0.3), 0px 1px 3px 1px rgba(60, 64, 67, 0.15);\n",
       "      fill: #174EA6;\n",
       "    }\n",
       "\n",
       "    [theme=dark] .colab-df-convert {\n",
       "      background-color: #3B4455;\n",
       "      fill: #D2E3FC;\n",
       "    }\n",
       "\n",
       "    [theme=dark] .colab-df-convert:hover {\n",
       "      background-color: #434B5C;\n",
       "      box-shadow: 0px 1px 3px 1px rgba(0, 0, 0, 0.15);\n",
       "      filter: drop-shadow(0px 1px 2px rgba(0, 0, 0, 0.3));\n",
       "      fill: #FFFFFF;\n",
       "    }\n",
       "  </style>\n",
       "\n",
       "      <script>\n",
       "        const buttonEl =\n",
       "          document.querySelector('#df-d8dde6ef-c6b9-49dd-9b06-b32c9176530f button.colab-df-convert');\n",
       "        buttonEl.style.display =\n",
       "          google.colab.kernel.accessAllowed ? 'block' : 'none';\n",
       "\n",
       "        async function convertToInteractive(key) {\n",
       "          const element = document.querySelector('#df-d8dde6ef-c6b9-49dd-9b06-b32c9176530f');\n",
       "          const dataTable =\n",
       "            await google.colab.kernel.invokeFunction('convertToInteractive',\n",
       "                                                     [key], {});\n",
       "          if (!dataTable) return;\n",
       "\n",
       "          const docLinkHtml = 'Like what you see? Visit the ' +\n",
       "            '<a target=\"_blank\" href=https://colab.research.google.com/notebooks/data_table.ipynb>data table notebook</a>'\n",
       "            + ' to learn more about interactive tables.';\n",
       "          element.innerHTML = '';\n",
       "          dataTable['output_type'] = 'display_data';\n",
       "          await google.colab.output.renderOutput(dataTable, element);\n",
       "          const docLink = document.createElement('div');\n",
       "          docLink.innerHTML = docLinkHtml;\n",
       "          element.appendChild(docLink);\n",
       "        }\n",
       "      </script>\n",
       "    </div>\n",
       "  </div>\n",
       "  "
      ],
      "text/plain": [
       "    hours  mark  predicción_0  predicción_1  predicción_2  predicción_3  \\\n",
       "0     865    95         43.25        113.80         79.20        100.15   \n",
       "1       4    12          0.20         10.48         10.32          5.44   \n",
       "2     305    35         15.25         46.60         34.40         38.55   \n",
       "3     437    56         21.85         62.44         44.96         53.07   \n",
       "4     682    86         34.10         91.84         64.56         80.02   \n",
       "..    ...   ...           ...           ...           ...           ...   \n",
       "95    252    66         12.60         40.24         30.16         32.72   \n",
       "96     49    21          2.45         15.88         13.92         10.39   \n",
       "97    792    97         39.60        105.04         73.36         92.12   \n",
       "98    310    46         15.50         47.20         34.80         39.10   \n",
       "99    934    89         46.70        122.08         84.72        107.74   \n",
       "\n",
       "    predicción_4  error0  error1  error2  error3  error4  predicción  \\\n",
       "0          60.90   51.75   18.80   15.80    5.15   34.10   84.767566   \n",
       "1           9.24   11.80    1.52    1.68    6.56    2.76   12.118219   \n",
       "2          27.30   19.75   11.60    0.60    3.55    7.70   37.515958   \n",
       "3          35.22   34.15    6.44   11.04    2.93   20.78   48.653837   \n",
       "4          49.92   51.90    5.84   21.44    5.98   36.08   69.326415   \n",
       "..           ...     ...     ...     ...     ...     ...         ...   \n",
       "95         24.12   53.40   25.76   35.84   33.28   41.88   33.043931   \n",
       "96         11.94   18.55    5.12    7.08   10.61    9.06   15.915223   \n",
       "97         56.52   57.40    8.04   23.64    4.88   40.48   78.607981   \n",
       "98         27.60   30.50    1.20   11.20    6.90   18.40   37.937847   \n",
       "99         65.04   42.30   33.08    4.28   18.74   23.96   90.589639   \n",
       "\n",
       "    predict_SKL      error  predict_statsM  \n",
       "0     84.767566  10.232434       84.767566  \n",
       "1     12.118219   0.118219       12.118219  \n",
       "2     37.515958   2.515958       37.515958  \n",
       "3     48.653837   7.346163       48.653837  \n",
       "4     69.326415  16.673585       69.326415  \n",
       "..          ...        ...             ...  \n",
       "95    33.043931  32.956069       33.043931  \n",
       "96    15.915223   5.084777       15.915223  \n",
       "97    78.607981  18.392019       78.607981  \n",
       "98    37.937847   8.062153       37.937847  \n",
       "99    90.589639   1.589639       90.589639  \n",
       "\n",
       "[100 rows x 16 columns]"
      ]
     },
     "execution_count": 56,
     "metadata": {},
     "output_type": "execute_result"
    }
   ],
   "source": [
    "data[\"predict_statsM\"] = ols_fit.predict(data['hours'])\n",
    "data"
   ]
  },
  {
   "cell_type": "markdown",
   "metadata": {
    "id": "CeaU9ajql_nj"
   },
   "source": [
    "# Cómo de bueno es nuestro modelo?\n",
    "\n",
    "Existen una serie de medidas ya predeterminadas que nos ayudan a saber si nuestro modelo ajusta bien o no.\n",
    "\n",
    "En este Notebook arriba ya hemos visto uno, el MAE, Minimum Absolute Error\n",
    "\n"
   ]
  },
  {
   "cell_type": "markdown",
   "metadata": {
    "id": "0mC9ZwZPmwkZ"
   },
   "source": [
    "## Errores medios\n",
    "\n",
    "Cálculo del error medio absoluto, del error medio cuadrático y del error medio cuadrático\n",
    "\n",
    "- **MAE** es el más fácil de entender, porque es el error medio.\n",
    "- **El MSE** es más popular que el MAE, porque el MSE \"castiga\" los errores más grandes, lo que suele ser útil en el mundo real.\n",
    "- **RMSE** es aún más popular que MSE, es la raíz cuadrada del MSE y mide la desviación estándar de los residuos.\n",
    "- **MAPE** Mean Absolute Percentage Error, permite comparar el MAE con respecto a la variable dependiente a predecir, es muy útil para saber si el error en bruto (MAE) es mucho o poco comparando con los valores que toma la Variable dependiente\n",
    "\n",
    "Todas estas son **funciones de pérdida**, porque queremos minimizarlas."
   ]
  },
  {
   "cell_type": "code",
   "execution_count": null,
   "metadata": {
    "colab": {
     "base_uri": "https://localhost:8080/"
    },
    "executionInfo": {
     "elapsed": 384,
     "status": "ok",
     "timestamp": 1664279591999,
     "user": {
      "displayName": "Beltran Vazquez",
      "userId": "10815799323004140919"
     },
     "user_tz": -120
    },
    "id": "mmmylRBG69B_",
    "outputId": "61d55960-45ce-4c7e-cee1-33676103faa1"
   },
   "outputs": [
    {
     "name": "stdout",
     "output_type": "stream",
     "text": [
      "MAE:  11.402698299019335\n",
      "MSE:  189.31609105092303\n",
      "RMSE:  13.759218402617318\n",
      "R2:  0.7518130774464549\n"
     ]
    }
   ],
   "source": [
    "print(\"MAE: \", metrics.mean_absolute_error(data['mark'], data['predict_SKL']))\n",
    "print(\"MSE: \", metrics.mean_squared_error(data['mark'], data['predict_SKL']))\n",
    "print(\"RMSE: \", np.sqrt(metrics.mean_squared_error(data['mark'], data['predict_SKL'])))\n",
    "print(\"R2: \", metrics.r2_score(data['mark'], data['predict_SKL']))\n",
    "\n"
   ]
  },
  {
   "cell_type": "markdown",
   "metadata": {
    "id": "jq4DX-JizJCH"
   },
   "source": [
    "## $R^2$ - R Cuadrado\n",
    "\n",
    "La diferencia numérica entre la *línea de regresión de mínimos cuadrados* y el valor real se llama *residuo* , y representa el error en la estimación: $e = y_i - \\hat{y}$.     \n",
    "La línea de regresión minimizó la **Suma de cuadrados residual** (RSS) \n",
    "\n",
    "La suma residual de cuadrados mide la cantidad de error restante entre la función de regresión y el conjunto de datos. La suma de cuadrados residuales, también conocida como la suma de los residuos al cuadrado, determina esencialmente qué tan bien un modelo de regresión explica o representa los datos en el modelo.\n",
    "\n",
    "$$RSS = e_1^2 + e_2^2 + \\dots + e_n ^2$$"
   ]
  },
  {
   "cell_type": "markdown",
   "metadata": {
    "id": "MkxGXsmU0DvA"
   },
   "source": [
    "Si sólo utilizáramos la media como valor predicho para cada predicción, el error que cometeríamos es **suma total de cuadrados**\n",
    "\n",
    "$$TSS=\\Sigma(y_i - \\bar{y}_i)^2$$\n",
    "\n",
    "Este sería el peor escenario, por ello vamos a comparar los residuos generados por nuestra recta de regresión con la **TSS**"
   ]
  },
  {
   "cell_type": "markdown",
   "metadata": {
    "id": "L0VpGC6-0tYV"
   },
   "source": [
    "Recordemos que los coeficientes de la regresión lineal minimizan el $RSS=Sumatorio(y_i - \\hat{y_i})^2$, es decir, la cantidad de variabilidad que queda sin explicar después de realizar la regresión. El [coeficiente de determinación](https://en.wikipedia.org/wiki/Coefficient_of_determination):\n",
    "\n",
    "$$R^2 = \\frac{TSS -RSS}{TSS} = 1-\\frac{RSS}{TSS}$$\n",
    "\n",
    "mide la \"*proporción de variabilidad en Y que puede explicarse mediante X*\". Es una medida de la relación lineal que existe entre $X$ e $y$.\n",
    "\n",
    "**Nota:** en el caso de la regresión lineal simple, el coeficiente $R^2$ no es más que el cuadrado del coeficiente de correlación de *Pearson*  "
   ]
  },
  {
   "cell_type": "markdown",
   "metadata": {
    "id": "PCHRAfvz1E63"
   },
   "source": [
    "Como vemos si el **RSS** es muy parecido a **TSS** el resultado de $R^2$ es muy bajo. \n",
    "\n",
    "Si nuestros residuos RSS son parecidos al peor escenario nuestro modelo no ajusta bien\n",
    "\n"
   ]
  },
  {
   "cell_type": "code",
   "execution_count": null,
   "metadata": {
    "colab": {
     "base_uri": "https://localhost:8080/",
     "height": 502
    },
    "executionInfo": {
     "elapsed": 476,
     "status": "ok",
     "timestamp": 1664295737659,
     "user": {
      "displayName": "Beltran Vazquez",
      "userId": "10815799323004140919"
     },
     "user_tz": -120
    },
    "id": "Z-WievCyyzjl",
    "outputId": "6cc46cc0-f177-4616-9a1f-631e3e2a5af5"
   },
   "outputs": [
    {
     "data": {
      "image/png": "[encoded data removed]",
      "text/plain": [
       "<Figure size 1080x576 with 1 Axes>"
      ]
     },
     "metadata": {},
     "output_type": "display_data"
    }
   ],
   "source": [
    "sns.scatterplot(x=data[\"hours\"], y=data[\"mark\"])\n",
    "plt.plot(data.hours, data[\"predicción_0\"], color='b', label='regresion0')\n",
    "plt.plot(data.hours, data[\"predicción_1\"], color='g', label='regresion1')\n",
    "plt.plot(data.hours, data[\"predicción_2\"], color='r', label='regresion2')\n",
    "plt.plot(data.hours, data[\"predicción_3\"], color='purple', label='regresion3')\n",
    "plt.plot(data.hours, data[\"predicción_4\"], color='y', label='regresion4')\n",
    "plt.plot(data.hours, [50 for i in range(100)], color='black', label='TSS')\n",
    "plt.legend();"
   ]
  },
  {
   "cell_type": "code",
   "execution_count": null,
   "metadata": {
    "id": "57p5al0OwQ2m"
   },
   "outputs": [],
   "source": []
  },
  {
   "cell_type": "markdown",
   "metadata": {
    "id": "iIByOXR9w4Bl"
   },
   "source": [
    "# Standarización\n",
    "\n",
    "La normalización (standardización, tipificación) es el proceso por el cual una variable es centrada en su media. Es decir, calculamos la media de una variable y se la restamos a todos lo valores que toma.\n",
    "\n",
    "Posteriormente se divide cada observación por la desviación típica de la variable original. De este modo tenemos que la mayoría de individuos tomando valores entre -1 y 1.\n",
    "\n",
    "Este proceso es aplicado cuando tenemos variables explicativas con escalas o unidades de medida muy diferentes, por ejemplo una variable se mide centenas y la otra en millones. \n",
    "\n",
    "Gracias a la normalización optimizamos el entrenamiento del modelo y facilitamos la interpretación.\n",
    "\n",
    "La tipificación solo se aplica en modelo multivariables, es decir con más de una variable explicativa.\n",
    "\n",
    "https://stats.stackexchange.com/questions/29781/when-conducting-multiple-regression-when-should-you-center-your-predictor-varia"
   ]
  },
  {
   "cell_type": "code",
   "execution_count": null,
   "metadata": {
    "colab": {
     "base_uri": "https://localhost:8080/",
     "height": 468
    },
    "executionInfo": {
     "elapsed": 447,
     "status": "ok",
     "timestamp": 1664377717352,
     "user": {
      "displayName": "Beltran Vazquez",
      "userId": "10815799323004140919"
     },
     "user_tz": -120
    },
    "id": "SrcnBOA7m364",
    "outputId": "1feb442f-bfe2-4014-a313-2cdd8496a4b7"
   },
   "outputs": [
    {
     "data": {
      "text/html": [
       "\n",
       "  <div id=\"df-ff049a35-7804-43e9-ac23-540d09e0dc83\">\n",
       "    <div class=\"colab-df-container\">\n",
       "      <div>\n",
       "<style scoped>\n",
       "    .dataframe tbody tr th:only-of-type {\n",
       "        vertical-align: middle;\n",
       "    }\n",
       "\n",
       "    .dataframe tbody tr th {\n",
       "        vertical-align: top;\n",
       "    }\n",
       "\n",
       "    .dataframe thead th {\n",
       "        text-align: right;\n",
       "    }\n",
       "</style>\n",
       "<table border=\"1\" class=\"dataframe\">\n",
       "  <thead>\n",
       "    <tr style=\"text-align: right;\">\n",
       "      <th></th>\n",
       "      <th>hours</th>\n",
       "      <th>mark</th>\n",
       "      <th>predicción_0</th>\n",
       "      <th>predicción_1</th>\n",
       "      <th>predicción_2</th>\n",
       "      <th>predicción_3</th>\n",
       "      <th>predicción_4</th>\n",
       "      <th>predicción</th>\n",
       "      <th>predict_SKL</th>\n",
       "      <th>error</th>\n",
       "      <th>hours_st</th>\n",
       "      <th>hours_MM</th>\n",
       "    </tr>\n",
       "  </thead>\n",
       "  <tbody>\n",
       "    <tr>\n",
       "      <th>0</th>\n",
       "      <td>865</td>\n",
       "      <td>95</td>\n",
       "      <td>43.25</td>\n",
       "      <td>217.60</td>\n",
       "      <td>79.20</td>\n",
       "      <td>100.15</td>\n",
       "      <td>60.90</td>\n",
       "      <td>89.516102</td>\n",
       "      <td>89.516102</td>\n",
       "      <td>5.483898</td>\n",
       "      <td>1.537849</td>\n",
       "      <td>0.877033</td>\n",
       "    </tr>\n",
       "    <tr>\n",
       "      <th>1</th>\n",
       "      <td>4</td>\n",
       "      <td>12</td>\n",
       "      <td>0.20</td>\n",
       "      <td>10.96</td>\n",
       "      <td>10.32</td>\n",
       "      <td>5.44</td>\n",
       "      <td>9.24</td>\n",
       "      <td>0.413947</td>\n",
       "      <td>0.413947</td>\n",
       "      <td>11.586053</td>\n",
       "      <td>-1.495850</td>\n",
       "      <td>0.002033</td>\n",
       "    </tr>\n",
       "    <tr>\n",
       "      <th>2</th>\n",
       "      <td>305</td>\n",
       "      <td>35</td>\n",
       "      <td>15.25</td>\n",
       "      <td>83.20</td>\n",
       "      <td>34.40</td>\n",
       "      <td>38.55</td>\n",
       "      <td>27.30</td>\n",
       "      <td>31.563481</td>\n",
       "      <td>31.563481</td>\n",
       "      <td>3.436519</td>\n",
       "      <td>-0.435288</td>\n",
       "      <td>0.307927</td>\n",
       "    </tr>\n",
       "    <tr>\n",
       "      <th>3</th>\n",
       "      <td>437</td>\n",
       "      <td>56</td>\n",
       "      <td>21.85</td>\n",
       "      <td>114.88</td>\n",
       "      <td>44.96</td>\n",
       "      <td>53.07</td>\n",
       "      <td>35.22</td>\n",
       "      <td>45.223742</td>\n",
       "      <td>45.223742</td>\n",
       "      <td>10.776258</td>\n",
       "      <td>0.029808</td>\n",
       "      <td>0.442073</td>\n",
       "    </tr>\n",
       "    <tr>\n",
       "      <th>4</th>\n",
       "      <td>682</td>\n",
       "      <td>86</td>\n",
       "      <td>34.10</td>\n",
       "      <td>173.68</td>\n",
       "      <td>64.56</td>\n",
       "      <td>80.02</td>\n",
       "      <td>49.92</td>\n",
       "      <td>70.578014</td>\n",
       "      <td>70.578014</td>\n",
       "      <td>15.421986</td>\n",
       "      <td>0.893056</td>\n",
       "      <td>0.691057</td>\n",
       "    </tr>\n",
       "    <tr>\n",
       "      <th>...</th>\n",
       "      <td>...</td>\n",
       "      <td>...</td>\n",
       "      <td>...</td>\n",
       "      <td>...</td>\n",
       "      <td>...</td>\n",
       "      <td>...</td>\n",
       "      <td>...</td>\n",
       "      <td>...</td>\n",
       "      <td>...</td>\n",
       "      <td>...</td>\n",
       "      <td>...</td>\n",
       "      <td>...</td>\n",
       "    </tr>\n",
       "    <tr>\n",
       "      <th>95</th>\n",
       "      <td>252</td>\n",
       "      <td>66</td>\n",
       "      <td>12.60</td>\n",
       "      <td>70.48</td>\n",
       "      <td>30.16</td>\n",
       "      <td>32.72</td>\n",
       "      <td>24.12</td>\n",
       "      <td>26.078680</td>\n",
       "      <td>26.078680</td>\n",
       "      <td>39.921320</td>\n",
       "      <td>-0.622032</td>\n",
       "      <td>0.254065</td>\n",
       "    </tr>\n",
       "    <tr>\n",
       "      <th>96</th>\n",
       "      <td>49</td>\n",
       "      <td>21</td>\n",
       "      <td>2.45</td>\n",
       "      <td>21.76</td>\n",
       "      <td>13.92</td>\n",
       "      <td>10.39</td>\n",
       "      <td>11.94</td>\n",
       "      <td>5.070854</td>\n",
       "      <td>5.070854</td>\n",
       "      <td>15.929146</td>\n",
       "      <td>-1.337294</td>\n",
       "      <td>0.047764</td>\n",
       "    </tr>\n",
       "    <tr>\n",
       "      <th>97</th>\n",
       "      <td>792</td>\n",
       "      <td>97</td>\n",
       "      <td>39.60</td>\n",
       "      <td>200.08</td>\n",
       "      <td>73.36</td>\n",
       "      <td>92.12</td>\n",
       "      <td>56.52</td>\n",
       "      <td>81.961564</td>\n",
       "      <td>81.961564</td>\n",
       "      <td>15.038436</td>\n",
       "      <td>1.280637</td>\n",
       "      <td>0.802846</td>\n",
       "    </tr>\n",
       "    <tr>\n",
       "      <th>98</th>\n",
       "      <td>310</td>\n",
       "      <td>46</td>\n",
       "      <td>15.50</td>\n",
       "      <td>84.40</td>\n",
       "      <td>34.80</td>\n",
       "      <td>39.10</td>\n",
       "      <td>27.60</td>\n",
       "      <td>32.080915</td>\n",
       "      <td>32.080915</td>\n",
       "      <td>13.919085</td>\n",
       "      <td>-0.417671</td>\n",
       "      <td>0.313008</td>\n",
       "    </tr>\n",
       "    <tr>\n",
       "      <th>99</th>\n",
       "      <td>934</td>\n",
       "      <td>89</td>\n",
       "      <td>46.70</td>\n",
       "      <td>234.16</td>\n",
       "      <td>84.72</td>\n",
       "      <td>107.74</td>\n",
       "      <td>65.04</td>\n",
       "      <td>96.656693</td>\n",
       "      <td>96.656693</td>\n",
       "      <td>7.656693</td>\n",
       "      <td>1.780968</td>\n",
       "      <td>0.947154</td>\n",
       "    </tr>\n",
       "  </tbody>\n",
       "</table>\n",
       "<p>100 rows × 12 columns</p>\n",
       "</div>\n",
       "      <button class=\"colab-df-convert\" onclick=\"convertToInteractive('df-ff049a35-7804-43e9-ac23-540d09e0dc83')\"\n",
       "              title=\"Convert this dataframe to an interactive table.\"\n",
       "              style=\"display:none;\">\n",
       "        \n",
       "  <svg xmlns=\"http://www.w3.org/2000/svg\" height=\"24px\"viewBox=\"0 0 24 24\"\n",
       "       width=\"24px\">\n",
       "    <path d=\"M0 0h24v24H0V0z\" fill=\"none\"/>\n",
       "    <path d=\"M18.56 5.44l.94 2.06.94-2.06 2.06-.94-2.06-.94-.94-2.06-.94 2.06-2.06.94zm-11 1L8.5 8.5l.94-2.06 2.06-.94-2.06-.94L8.5 2.5l-.94 2.06-2.06.94zm10 10l.94 2.06.94-2.06 2.06-.94-2.06-.94-.94-2.06-.94 2.06-2.06.94z\"/><path d=\"M17.41 7.96l-1.37-1.37c-.4-.4-.92-.59-1.43-.59-.52 0-1.04.2-1.43.59L10.3 9.45l-7.72 7.72c-.78.78-.78 2.05 0 2.83L4 21.41c.39.39.9.59 1.41.59.51 0 1.02-.2 1.41-.59l7.78-7.78 2.81-2.81c.8-.78.8-2.07 0-2.86zM5.41 20L4 18.59l7.72-7.72 1.47 1.35L5.41 20z\"/>\n",
       "  </svg>\n",
       "      </button>\n",
       "      \n",
       "  <style>\n",
       "    .colab-df-container {\n",
       "      display:flex;\n",
       "      flex-wrap:wrap;\n",
       "      gap: 12px;\n",
       "    }\n",
       "\n",
       "    .colab-df-convert {\n",
       "      background-color: #E8F0FE;\n",
       "      border: none;\n",
       "      border-radius: 50%;\n",
       "      cursor: pointer;\n",
       "      display: none;\n",
       "      fill: #1967D2;\n",
       "      height: 32px;\n",
       "      padding: 0 0 0 0;\n",
       "      width: 32px;\n",
       "    }\n",
       "\n",
       "    .colab-df-convert:hover {\n",
       "      background-color: #E2EBFA;\n",
       "      box-shadow: 0px 1px 2px rgba(60, 64, 67, 0.3), 0px 1px 3px 1px rgba(60, 64, 67, 0.15);\n",
       "      fill: #174EA6;\n",
       "    }\n",
       "\n",
       "    [theme=dark] .colab-df-convert {\n",
       "      background-color: #3B4455;\n",
       "      fill: #D2E3FC;\n",
       "    }\n",
       "\n",
       "    [theme=dark] .colab-df-convert:hover {\n",
       "      background-color: #434B5C;\n",
       "      box-shadow: 0px 1px 3px 1px rgba(0, 0, 0, 0.15);\n",
       "      filter: drop-shadow(0px 1px 2px rgba(0, 0, 0, 0.3));\n",
       "      fill: #FFFFFF;\n",
       "    }\n",
       "  </style>\n",
       "\n",
       "      <script>\n",
       "        const buttonEl =\n",
       "          document.querySelector('#df-ff049a35-7804-43e9-ac23-540d09e0dc83 button.colab-df-convert');\n",
       "        buttonEl.style.display =\n",
       "          google.colab.kernel.accessAllowed ? 'block' : 'none';\n",
       "\n",
       "        async function convertToInteractive(key) {\n",
       "          const element = document.querySelector('#df-ff049a35-7804-43e9-ac23-540d09e0dc83');\n",
       "          const dataTable =\n",
       "            await google.colab.kernel.invokeFunction('convertToInteractive',\n",
       "                                                     [key], {});\n",
       "          if (!dataTable) return;\n",
       "\n",
       "          const docLinkHtml = 'Like what you see? Visit the ' +\n",
       "            '<a target=\"_blank\" href=https://colab.research.google.com/notebooks/data_table.ipynb>data table notebook</a>'\n",
       "            + ' to learn more about interactive tables.';\n",
       "          element.innerHTML = '';\n",
       "          dataTable['output_type'] = 'display_data';\n",
       "          await google.colab.output.renderOutput(dataTable, element);\n",
       "          const docLink = document.createElement('div');\n",
       "          docLink.innerHTML = docLinkHtml;\n",
       "          element.appendChild(docLink);\n",
       "        }\n",
       "      </script>\n",
       "    </div>\n",
       "  </div>\n",
       "  "
      ],
      "text/plain": [
       "    hours  mark  predicción_0  predicción_1  predicción_2  predicción_3  \\\n",
       "0     865    95         43.25        217.60         79.20        100.15   \n",
       "1       4    12          0.20         10.96         10.32          5.44   \n",
       "2     305    35         15.25         83.20         34.40         38.55   \n",
       "3     437    56         21.85        114.88         44.96         53.07   \n",
       "4     682    86         34.10        173.68         64.56         80.02   \n",
       "..    ...   ...           ...           ...           ...           ...   \n",
       "95    252    66         12.60         70.48         30.16         32.72   \n",
       "96     49    21          2.45         21.76         13.92         10.39   \n",
       "97    792    97         39.60        200.08         73.36         92.12   \n",
       "98    310    46         15.50         84.40         34.80         39.10   \n",
       "99    934    89         46.70        234.16         84.72        107.74   \n",
       "\n",
       "    predicción_4  predicción  predict_SKL      error  hours_st  hours_MM  \n",
       "0          60.90   89.516102    89.516102   5.483898  1.537849  0.877033  \n",
       "1           9.24    0.413947     0.413947  11.586053 -1.495850  0.002033  \n",
       "2          27.30   31.563481    31.563481   3.436519 -0.435288  0.307927  \n",
       "3          35.22   45.223742    45.223742  10.776258  0.029808  0.442073  \n",
       "4          49.92   70.578014    70.578014  15.421986  0.893056  0.691057  \n",
       "..           ...         ...          ...        ...       ...       ...  \n",
       "95         24.12   26.078680    26.078680  39.921320 -0.622032  0.254065  \n",
       "96         11.94    5.070854     5.070854  15.929146 -1.337294  0.047764  \n",
       "97         56.52   81.961564    81.961564  15.038436  1.280637  0.802846  \n",
       "98         27.60   32.080915    32.080915  13.919085 -0.417671  0.313008  \n",
       "99         65.04   96.656693    96.656693   7.656693  1.780968  0.947154  \n",
       "\n",
       "[100 rows x 12 columns]"
      ]
     },
     "execution_count": 25,
     "metadata": {},
     "output_type": "execute_result"
    }
   ],
   "source": [
    "scaler = StandardScaler()\n",
    "minmax = MinMaxScaler()\n",
    "data['hours_st'] = scaler.fit_transform(data[['hours']])\n",
    "data['hours_MM'] = minmax.fit_transform(data[['hours']])\n",
    "data"
   ]
  },
  {
   "cell_type": "code",
   "execution_count": null,
   "metadata": {
    "colab": {
     "base_uri": "https://localhost:8080/",
     "height": 519
    },
    "executionInfo": {
     "elapsed": 1470,
     "status": "ok",
     "timestamp": 1664377336767,
     "user": {
      "displayName": "Beltran Vazquez",
      "userId": "10815799323004140919"
     },
     "user_tz": -120
    },
    "id": "uVl9DuYKnn5I",
    "outputId": "07adda11-8d11-4830-c86e-22812e3651ea"
   },
   "outputs": [
    {
     "data": {
      "text/plain": [
       "<matplotlib.axes._subplots.AxesSubplot at 0x7fd9f2be3890>"
      ]
     },
     "execution_count": 21,
     "metadata": {},
     "output_type": "execute_result"
    },
    {
     "data": {
      "image/png": "[encoded data removed]",
      "text/plain": [
       "<Figure size 1080x576 with 1 Axes>"
      ]
     },
     "metadata": {},
     "output_type": "display_data"
    }
   ],
   "source": [
    "sns.histplot(data['hours_st'])"
   ]
  },
  {
   "cell_type": "markdown",
   "metadata": {
    "id": "VRKrfWPztr5J"
   },
   "source": [
    "MinMax scaler es otro método de estandarización, consiste en restar a cada valor el mínimo y dividirlo entre el rango de valores (max - min).\n",
    "\n",
    "Con este método tenemos todas las observaciones acotadas entre 0 y 1, y además nos aseguramos de no tener valores negativos."
   ]
  },
  {
   "cell_type": "code",
   "execution_count": null,
   "metadata": {
    "colab": {
     "base_uri": "https://localhost:8080/",
     "height": 519
    },
    "executionInfo": {
     "elapsed": 756,
     "status": "ok",
     "timestamp": 1664377729658,
     "user": {
      "displayName": "Beltran Vazquez",
      "userId": "10815799323004140919"
     },
     "user_tz": -120
    },
    "id": "kwGh7kDNpJuI",
    "outputId": "73d60e31-8e20-4e4e-96bd-85fe6d264c8f"
   },
   "outputs": [
    {
     "data": {
      "text/plain": [
       "<matplotlib.axes._subplots.AxesSubplot at 0x7fd9f253ff50>"
      ]
     },
     "execution_count": 26,
     "metadata": {},
     "output_type": "execute_result"
    },
    {
     "data": {
      "image/png": "[encoded data removed]",
      "text/plain": [
       "<Figure size 1080x576 with 1 Axes>"
      ]
     },
     "metadata": {},
     "output_type": "display_data"
    }
   ],
   "source": [
    "sns.histplot(data['hours_MM'])"
   ]
  }
 ],
 "metadata": {
  "colab": {
   "provenance": [],
   "toc_visible": true
  },
  "kernelspec": {
   "display_name": "Python 3 (ipykernel)",
   "language": "python",
   "name": "python3"
  },
  "language_info": {
   "codemirror_mode": {
    "name": "ipython",
    "version": 3
   },
   "file_extension": ".py",
   "mimetype": "text/x-python",
   "name": "python",
   "nbconvert_exporter": "python",
   "pygments_lexer": "ipython3",
   "version": "3.9.13"
  }
 },
 "nbformat": 4,
 "nbformat_minor": 1
}
