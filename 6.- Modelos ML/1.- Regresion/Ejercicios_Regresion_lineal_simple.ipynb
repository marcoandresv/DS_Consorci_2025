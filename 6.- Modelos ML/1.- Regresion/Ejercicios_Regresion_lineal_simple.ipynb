{
 "cells": [
  {
   "cell_type": "markdown",
   "id": "d0ae2c25",
   "metadata": {},
   "source": [
    "# Ejercicios regresion lineal simple\n",
    "\n",
    " - Importa el csv vehicles_simple\n",
    " - Analiza el tipo de variables con un describe para ver su dominio, media y dispersión\n",
    " - Renombra las variables sustituyendo barras y espacios por guiones bajos\n",
    " - Entrena 2 modelos de regresión lineal simple usando CO2 Emissions como variable dependiente\n",
    " - Usa las métricas de error para dilucidar qué variable predice mejor la variable dependiente\n",
    " - Entrena un tercer modelo usando ambas variables explicativas"
   ]
  },
  {
   "cell_type": "code",
   "execution_count": null,
   "id": "55aea566",
   "metadata": {},
   "outputs": [],
   "source": [
    "import pandas as pd\n",
    "\n",
    "import statsmodels.formula.api as smf\n",
    "from sklearn.linear_model import LinearRegression\n",
    "from sklearn import metrics"
   ]
  },
  {
   "cell_type": "code",
   "execution_count": null,
   "id": "1353b0d8",
   "metadata": {},
   "outputs": [],
   "source": [
    "df = pd.read_csv('../Data/Modelos ML/vehicles_simple.csv', sep = ',')\n",
    "df.head()"
   ]
  }
 ],
 "metadata": {
  "kernelspec": {
   "display_name": "Python 3 (ipykernel)",
   "language": "python",
   "name": "python3"
  },
  "language_info": {
   "codemirror_mode": {
    "name": "ipython",
    "version": 3
   },
   "file_extension": ".py",
   "mimetype": "text/x-python",
   "name": "python",
   "nbconvert_exporter": "python",
   "pygments_lexer": "ipython3",
   "version": "3.9.13"
  }
 },
 "nbformat": 4,
 "nbformat_minor": 5
}
