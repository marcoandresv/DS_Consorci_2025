{
 "cells": [
  {
   "cell_type": "markdown",
   "id": "106b67d4",
   "metadata": {
    "id": "106b67d4"
   },
   "source": [
    "# Modelos de clasificación\n",
    "\n",
    "En esta lección vamos a aprender a modelizar datos para la clasificación en categorías de manera predictiva, en concreto:\n",
    "\n",
    " - Definición modelos clasificación y diferencias con los de regresión\n",
    " - Árboles de decisión\n",
    " - Métricas de evaluación de modelos de clasificación, Matriz de confusión\n",
    " - Random Forest\n",
    " - Regresión logística\n",
    " - Modelos desbalanceados\n",
    "\n",
    "## Classification Machine Learning models"
   ]
  },
  {
   "cell_type": "markdown",
   "id": "57e0ad6e",
   "metadata": {
    "id": "57e0ad6e"
   },
   "source": [
    "Los modelos de clasificación tienen como objetivo predecir en qué grupo o clase debemos clasificar a un individuo. Es decir, la variable dependiente es **discreta**. A diferencia de los modelos de regresión cuyo objetivo era predecir el valor exacto, ya que su variable dependiente era **continua**\n",
    "\n",
    "Las variables independientes pueden ser tanto continuas como discretas.\n",
    "\n",
    "En los modelos de clasificación las métricas usadas para calcular cómo de bueno es nuestro modelo se basan en contabilizar cuántos individuos han sido bien o mal clasificados en cada una de las clases (Accuracy, Precisión, Potencia, F-Score, sensibilidad y especificidad).\n",
    "\n",
    "Los modelos de clasificación pueden ser **binomiales**, con dos categorías en la variable dependiente, o **multinomiales**, con 3 ó más grupos en la variable dependiente.\n",
    "\n",
    "Existen multitud de modelos diferentes para clasificar individuos, entre ellos Árboles de decisión, Regresión Logística...\n",
    "\n"
   ]
  },
  {
   "cell_type": "markdown",
   "id": "d045833d",
   "metadata": {},
   "source": [
    "### Similarities and differences between Regression and Classification models\n",
    "\n",
    "Similarities, both methodologies: \n",
    "\n",
    " - Are types of machine learning models used for making predictions based on data\n",
    " - Have one or more independent variables and one dependent variable, so they are supervised learning\n",
    " - Require data cleaning and feature engineering\n",
    " - Independent variables can be categorical or continuous\n",
    " - Categorical variables must be dummy\n",
    " - They are trained using a train dataset and validated through a test dataset\n",
    " - Continuous features must be standardized\n",
    " \n",
    " \n",
    "Differences:\n",
    "\n",
    " - Type of prediction task. Predictive models aim to predict a continuous numerical dependent variable, while classification models focus on assigning data points to discrete categories or classes.\n",
    " - Accuracy metrics. Predictive models reduce distances between prediction and actual values. Classification models measures how many instances are well or wrongly classified\n",
    "\n"
   ]
  },
  {
   "cell_type": "markdown",
   "id": "4ff14a77",
   "metadata": {
    "id": "4ff14a77"
   },
   "source": [
    "## Árboles de decisión\n",
    "\n",
    "https://www.youtube.com/watch?v=_L39rN6gz7Y\n",
    "\n",
    "Es un sistema de modelado de datos que divide y subdivide el dataframe varias veces, en función de cómo discriminan las clases de la variable dependiente. "
   ]
  },
  {
   "cell_type": "code",
   "execution_count": null,
   "id": "0987c604",
   "metadata": {
    "id": "0987c604"
   },
   "outputs": [],
   "source": [
    "#!pip install -U imbalanced-learn"
   ]
  },
  {
   "cell_type": "code",
   "execution_count": 12,
   "id": "b1ec506c",
   "metadata": {
    "executionInfo": {
     "elapsed": 3604,
     "status": "ok",
     "timestamp": 1680078103602,
     "user": {
      "displayName": "Beltran Vazquez",
      "userId": "10815799323004140919"
     },
     "user_tz": -120
    },
    "id": "b1ec506c",
    "scrolled": true
   },
   "outputs": [],
   "source": [
    "import pandas as pd\n",
    "import matplotlib.pyplot as plt\n",
    "import numpy as np\n",
    "import seaborn as sns\n",
    "sns.set()\n",
    "from collections import Counter\n",
    "\n",
    "from scipy.special import expit\n",
    "\n",
    "from sklearn.model_selection import train_test_split,RepeatedStratifiedKFold,cross_val_score\n",
    "from sklearn import tree\n",
    "\n",
    "from sklearn.metrics import accuracy_score,classification_report,confusion_matrix, roc_curve, roc_auc_score\n",
    "from sklearn.ensemble import RandomForestClassifier\n",
    "from sklearn.linear_model import LogisticRegression\n",
    "\n",
    "import statsmodels.api as sm\n",
    "import statsmodels.formula.api as smf\n",
    "\n",
    "#!pip install scikit-learn==0.20.0\n",
    "from imblearn.over_sampling import RandomOverSampler, SMOTE\n",
    "from imblearn.under_sampling import RandomUnderSampler, NearMiss\n",
    "\n",
    "from tabulate import tabulate\n",
    "\n",
    "import warnings\n",
    "warnings.filterwarnings(\"ignore\")"
   ]
  },
  {
   "cell_type": "code",
   "execution_count": 4,
   "id": "7bccdc74",
   "metadata": {},
   "outputs": [],
   "source": []
  },
  {
   "cell_type": "code",
   "execution_count": 4,
   "id": "2ef89848",
   "metadata": {
    "id": "2ef89848",
    "outputId": "63aaf97f-c232-4ead-bce1-a2df1f9ec6b5"
   },
   "outputs": [
    {
     "data": {
      "text/html": [
       "<div>\n",
       "<style scoped>\n",
       "    .dataframe tbody tr th:only-of-type {\n",
       "        vertical-align: middle;\n",
       "    }\n",
       "\n",
       "    .dataframe tbody tr th {\n",
       "        vertical-align: top;\n",
       "    }\n",
       "\n",
       "    .dataframe thead th {\n",
       "        text-align: right;\n",
       "    }\n",
       "</style>\n",
       "<table border=\"1\" class=\"dataframe\">\n",
       "  <thead>\n",
       "    <tr style=\"text-align: right;\">\n",
       "      <th></th>\n",
       "      <th>id</th>\n",
       "      <th>escucha</th>\n",
       "      <th>comparte_pantalla</th>\n",
       "      <th>aprende</th>\n",
       "    </tr>\n",
       "  </thead>\n",
       "  <tbody>\n",
       "    <tr>\n",
       "      <th>0</th>\n",
       "      <td>1</td>\n",
       "      <td>1</td>\n",
       "      <td>1</td>\n",
       "      <td>1</td>\n",
       "    </tr>\n",
       "    <tr>\n",
       "      <th>1</th>\n",
       "      <td>2</td>\n",
       "      <td>1</td>\n",
       "      <td>0</td>\n",
       "      <td>0</td>\n",
       "    </tr>\n",
       "    <tr>\n",
       "      <th>2</th>\n",
       "      <td>3</td>\n",
       "      <td>1</td>\n",
       "      <td>1</td>\n",
       "      <td>1</td>\n",
       "    </tr>\n",
       "    <tr>\n",
       "      <th>3</th>\n",
       "      <td>4</td>\n",
       "      <td>1</td>\n",
       "      <td>0</td>\n",
       "      <td>0</td>\n",
       "    </tr>\n",
       "    <tr>\n",
       "      <th>4</th>\n",
       "      <td>5</td>\n",
       "      <td>1</td>\n",
       "      <td>1</td>\n",
       "      <td>1</td>\n",
       "    </tr>\n",
       "    <tr>\n",
       "      <th>5</th>\n",
       "      <td>6</td>\n",
       "      <td>0</td>\n",
       "      <td>0</td>\n",
       "      <td>0</td>\n",
       "    </tr>\n",
       "    <tr>\n",
       "      <th>6</th>\n",
       "      <td>7</td>\n",
       "      <td>1</td>\n",
       "      <td>1</td>\n",
       "      <td>1</td>\n",
       "    </tr>\n",
       "    <tr>\n",
       "      <th>7</th>\n",
       "      <td>8</td>\n",
       "      <td>0</td>\n",
       "      <td>0</td>\n",
       "      <td>0</td>\n",
       "    </tr>\n",
       "    <tr>\n",
       "      <th>8</th>\n",
       "      <td>9</td>\n",
       "      <td>1</td>\n",
       "      <td>1</td>\n",
       "      <td>1</td>\n",
       "    </tr>\n",
       "    <tr>\n",
       "      <th>9</th>\n",
       "      <td>10</td>\n",
       "      <td>0</td>\n",
       "      <td>0</td>\n",
       "      <td>0</td>\n",
       "    </tr>\n",
       "  </tbody>\n",
       "</table>\n",
       "</div>"
      ],
      "text/plain": [
       "   id  escucha  comparte_pantalla  aprende\n",
       "0   1        1                  1        1\n",
       "1   2        1                  0        0\n",
       "2   3        1                  1        1\n",
       "3   4        1                  0        0\n",
       "4   5        1                  1        1\n",
       "5   6        0                  0        0\n",
       "6   7        1                  1        1\n",
       "7   8        0                  0        0\n",
       "8   9        1                  1        1\n",
       "9  10        0                  0        0"
      ]
     },
     "execution_count": 4,
     "metadata": {},
     "output_type": "execute_result"
    }
   ],
   "source": [
    "aprende = pd.read_csv('../Data/Modelos ML/aprende.txt', sep = ';')\n",
    "aprende"
   ]
  },
  {
   "cell_type": "code",
   "execution_count": null,
   "id": "814d5901",
   "metadata": {
    "id": "814d5901",
    "outputId": "b738c28e-054f-4ebc-c686-f0aba33ac497"
   },
   "outputs": [
    {
     "data": {
      "image/png": "[encoded data removed]",
      "text/plain": [
       "<Figure size 576x576 with 1 Axes>"
      ]
     },
     "metadata": {
      "needs_background": "light"
     },
     "output_type": "display_data"
    }
   ],
   "source": [
    "classifier_DT = tree.DecisionTreeClassifier(max_depth = 3)\n",
    "classifier_DT = classifier_DT.fit(aprende[['escucha']], aprende['aprende'])\n",
    "\n",
    "fig = plt.figure(figsize=(8,8))\n",
    "_ = tree.plot_tree(classifier_DT, \n",
    "                   feature_names=['escucha'],  \n",
    "                   class_names=np.unique(aprende['aprende']).astype(str),\n",
    "                   filled=True)"
   ]
  },
  {
   "cell_type": "markdown",
   "id": "6aff9b6f",
   "metadata": {
    "id": "6aff9b6f"
   },
   "source": [
    "Hemos construido un árbol usando como variable clasificadora **escucha**, vemos los resultados:\n",
    "\n",
    "En el **nodo raíz**, el primero de más arriba, tenemos que:\n",
    "\n",
    " - Va a hacer una división en torno al escucha <= 0.5, es decir, como la variable escucha toma 0 y 1, los ceros van a la izquierda y los unos a la derecha\n",
    " - que de todas las observaciones el 50% corresponden a cada una de las clases (Gini)\n",
    " - Tenemos 10 observaciones\n",
    " - 5 alumnos son aprende = 0 (No) y otros 5 son aprende = 1 (Sí)\n",
    "\n",
    "\n",
    "En los **nodos del segundo nivel** tenemos que:\n",
    "\n",
    " - 3 observaciones van para un lado y 7 para el otro\n",
    " - en el de la izda 3 pertenecen a la clase 0, y ninguno a la clase 1. Tenemos una impureza de 0 (Gini)\n",
    " - en el de la drcha tenemos 2 pertenecientes  a la clase 0 y 5 a la clase 1. Impureza = 0.408\n",
    " - Como tal, los 3 estudiantes del nodo izquierdo serán clasificados como 0 (No aprenden), y los 7 de la derecha serán clasificados como 1 (Sí aprenden)\n",
    " \n",
    "Conclusión, de los alumnos que no escuchan todos ellos no aprenden, pero de los que sí escuchan la clasificación no es tan buena, ya que se dirá que aprenden los 7, pero 2 de ellos no lo habrán hecho\n"
   ]
  },
  {
   "cell_type": "markdown",
   "id": "9288d66d",
   "metadata": {
    "id": "9288d66d"
   },
   "source": [
    "Probamos ahora con la variable **comparte_pantalla**, a ver qué tal clasifica"
   ]
  },
  {
   "cell_type": "code",
   "execution_count": null,
   "id": "3a827b03",
   "metadata": {
    "id": "3a827b03",
    "outputId": "2a11a7a8-744d-4da4-d80a-be6d47c55934"
   },
   "outputs": [
    {
     "data": {
      "image/png": "[encoded data removed]",
      "text/plain": [
       "<Figure size 576x576 with 1 Axes>"
      ]
     },
     "metadata": {
      "needs_background": "light"
     },
     "output_type": "display_data"
    }
   ],
   "source": [
    "classifier_DT = tree.DecisionTreeClassifier(max_depth = 3)\n",
    "classifier_DT = classifier_DT.fit(aprende[['comparte_pantalla']], aprende['aprende'])\n",
    "\n",
    "fig = plt.figure(figsize=(8,8))\n",
    "_ = tree.plot_tree(classifier_DT, \n",
    "                   feature_names=['comparte_pantalla'],  \n",
    "                   class_names=np.unique(aprende['aprende']).astype(str),\n",
    "                   filled=True)"
   ]
  },
  {
   "cell_type": "markdown",
   "id": "208397e2",
   "metadata": {
    "id": "208397e2"
   },
   "source": [
    "El nodo raíz es similar al anterior, ya que es el inicial\n",
    "\n",
    "- Ambos nodos tienen impureza cero, es decir, separan perfectamente a los alumnos que aprenden de los que no aprenden\n",
    "- La variable comparte_pantalla podemos considerarla una buena variable predictora de aprende.\n",
    "\n",
    "Conclusión los alumnos que **comparten pantalla y escriben código a diario sí aprenden**, los que no lo hacen no aprenden"
   ]
  },
  {
   "cell_type": "markdown",
   "id": "3ec7245a",
   "metadata": {
    "id": "3ec7245a"
   },
   "source": [
    "## Impureza de Gini y Entropía\n",
    "\n",
    "*No confundir con el coeficiente de GINI\n",
    "\n",
    "Gini es el indicador que nos dice cómo de buena o mala es la división que hacen los árboles de decisión. \n",
    "\n",
    "Esta división es por líneas, por individuos de nuestro dataset. Se hace a partir de una variable. Si nuestras observaciones en dicha variable toman un valor mayor que el punto de corte que estamos utilizando van hacia una rama del árbol de decisión, si es menor van hacia la otra.\n",
    "\n",
    "Lo que nos indica Gini es cómo de mezcladas están las clases de la variable dependiente usando esa división. Gini toma valores entre 0 y 0.5, cuanto más bajo mejor discrimina.\n",
    "\n",
    "Otra forma de verlo es considerando el Gini como un **índice de impureza**, cuanto más bajo más puro, siendo que cero significa que todas las observaciones que caen en cada una de las ramas son de la misma catagoría de la variable dependiente. Cuando Gini es próximo a 0.5 quiere decir que en esa rama tenemos 50/50 de la variable target.\n",
    "\n",
    "\n",
    "Gini es calculado para todas las variables al inicio de cada nivel del árbol, la que tenga el valor más pequeño será la variable a usar como divisora de los datos\n",
    "\n",
    "$$Gini(t) = 1 - \\sum_{i=1}^{C} p_i^2$$\n",
    "\n",
    "Donde:\n",
    "\n",
    "- t : nodo actual del árbol\n",
    "- C : número total de clases\n",
    "-  $p_i$: proporción de elementos de la clase \\( i \\) en el nodo \\( t \\)\n",
    "\n",
    "\n",
    "\n",
    "La **entropía** mide la cantidad de incertidumbre o desorden en un nodo.\n",
    "- Entropía = 0: el nodo es puro (todos los datos pertenecen a una sola clase).\n",
    "- Máxima entropía: cuando las clases están perfectamente balanceadas. Toma el máximo en 1 (Para dos clases)\n",
    "\n",
    "$$Entropy(t) = - \\sum_{i=1}^{C} p_i \\log_2(p_i)$$\n",
    "\n",
    "\n"
   ]
  },
  {
   "cell_type": "code",
   "execution_count": 13,
   "id": "c020de1a",
   "metadata": {
    "colab": {
     "base_uri": "https://localhost:8080/",
     "height": 206
    },
    "executionInfo": {
     "elapsed": 472,
     "status": "ok",
     "timestamp": 1680078141321,
     "user": {
      "displayName": "Beltran Vazquez",
      "userId": "10815799323004140919"
     },
     "user_tz": -120
    },
    "id": "c020de1a",
    "outputId": "681e92ce-6154-4423-f1dc-569812733147"
   },
   "outputs": [
    {
     "data": {
      "text/html": [
       "<div>\n",
       "<style scoped>\n",
       "    .dataframe tbody tr th:only-of-type {\n",
       "        vertical-align: middle;\n",
       "    }\n",
       "\n",
       "    .dataframe tbody tr th {\n",
       "        vertical-align: top;\n",
       "    }\n",
       "\n",
       "    .dataframe thead th {\n",
       "        text-align: right;\n",
       "    }\n",
       "</style>\n",
       "<table border=\"1\" class=\"dataframe\">\n",
       "  <thead>\n",
       "    <tr style=\"text-align: right;\">\n",
       "      <th></th>\n",
       "      <th>Id</th>\n",
       "      <th>Blood Pressure</th>\n",
       "      <th>Obesity</th>\n",
       "      <th>Sex</th>\n",
       "      <th>Stroke</th>\n",
       "    </tr>\n",
       "  </thead>\n",
       "  <tbody>\n",
       "    <tr>\n",
       "      <th>0</th>\n",
       "      <td>1</td>\n",
       "      <td>H</td>\n",
       "      <td>Y</td>\n",
       "      <td>M</td>\n",
       "      <td>N</td>\n",
       "    </tr>\n",
       "    <tr>\n",
       "      <th>1</th>\n",
       "      <td>2</td>\n",
       "      <td>L</td>\n",
       "      <td>Y</td>\n",
       "      <td>M</td>\n",
       "      <td>Y</td>\n",
       "    </tr>\n",
       "    <tr>\n",
       "      <th>2</th>\n",
       "      <td>3</td>\n",
       "      <td>H</td>\n",
       "      <td>N</td>\n",
       "      <td>F</td>\n",
       "      <td>Y</td>\n",
       "    </tr>\n",
       "    <tr>\n",
       "      <th>3</th>\n",
       "      <td>4</td>\n",
       "      <td>N</td>\n",
       "      <td>Y</td>\n",
       "      <td>F</td>\n",
       "      <td>Y</td>\n",
       "    </tr>\n",
       "    <tr>\n",
       "      <th>4</th>\n",
       "      <td>5</td>\n",
       "      <td>H</td>\n",
       "      <td>Y</td>\n",
       "      <td>F</td>\n",
       "      <td>Y</td>\n",
       "    </tr>\n",
       "  </tbody>\n",
       "</table>\n",
       "</div>"
      ],
      "text/plain": [
       "   Id Blood Pressure Obesity Sex Stroke\n",
       "0   1              H       Y   M      N\n",
       "1   2              L       Y   M      Y\n",
       "2   3              H       N   F      Y\n",
       "3   4              N       Y   F      Y\n",
       "4   5              H       Y   F      Y"
      ]
     },
     "execution_count": 13,
     "metadata": {},
     "output_type": "execute_result"
    }
   ],
   "source": [
    "stroke = pd.read_csv('../../../Data/Modelos ML/Stroke.txt', sep = ';')\n",
    "stroke.head()"
   ]
  },
  {
   "cell_type": "code",
   "execution_count": 19,
   "id": "KgNHIEhFjEDs",
   "metadata": {
    "colab": {
     "base_uri": "https://localhost:8080/"
    },
    "executionInfo": {
     "elapsed": 10,
     "status": "ok",
     "timestamp": 1680079609799,
     "user": {
      "displayName": "Beltran Vazquez",
      "userId": "10815799323004140919"
     },
     "user_tz": -120
    },
    "id": "KgNHIEhFjEDs",
    "outputId": "09f855b1-8505-416d-d95f-23b4a8931264"
   },
   "outputs": [
    {
     "name": "stdout",
     "output_type": "stream",
     "text": [
      "<class 'pandas.core.frame.DataFrame'>\n",
      "RangeIndex: 130 entries, 0 to 129\n",
      "Data columns (total 9 columns):\n",
      " #   Column          Non-Null Count  Dtype \n",
      "---  ------          --------------  ----- \n",
      " 0   Id              130 non-null    int64 \n",
      " 1   Blood Pressure  130 non-null    object\n",
      " 2   Obesity         130 non-null    object\n",
      " 3   Sex             130 non-null    object\n",
      " 4   Stroke          130 non-null    object\n",
      " 5   Blood2          130 non-null    int64 \n",
      " 6   obesity2        130 non-null    int64 \n",
      " 7   sex2            130 non-null    int64 \n",
      " 8   stroke_attack   130 non-null    int64 \n",
      "dtypes: int64(5), object(4)\n",
      "memory usage: 9.3+ KB\n"
     ]
    }
   ],
   "source": [
    "stroke.info()"
   ]
  },
  {
   "cell_type": "code",
   "execution_count": 14,
   "id": "fb0d5e81",
   "metadata": {
    "colab": {
     "base_uri": "https://localhost:8080/",
     "height": 206
    },
    "executionInfo": {
     "elapsed": 16,
     "status": "ok",
     "timestamp": 1680078197747,
     "user": {
      "displayName": "Beltran Vazquez",
      "userId": "10815799323004140919"
     },
     "user_tz": -120
    },
    "id": "fb0d5e81",
    "outputId": "1ec7d003-2950-4bb0-f296-cc09db6b61cc"
   },
   "outputs": [
    {
     "data": {
      "text/html": [
       "<div>\n",
       "<style scoped>\n",
       "    .dataframe tbody tr th:only-of-type {\n",
       "        vertical-align: middle;\n",
       "    }\n",
       "\n",
       "    .dataframe tbody tr th {\n",
       "        vertical-align: top;\n",
       "    }\n",
       "\n",
       "    .dataframe thead th {\n",
       "        text-align: right;\n",
       "    }\n",
       "</style>\n",
       "<table border=\"1\" class=\"dataframe\">\n",
       "  <thead>\n",
       "    <tr style=\"text-align: right;\">\n",
       "      <th></th>\n",
       "      <th>Id</th>\n",
       "      <th>Blood Pressure</th>\n",
       "      <th>Obesity</th>\n",
       "      <th>Sex</th>\n",
       "      <th>Stroke</th>\n",
       "      <th>Blood2</th>\n",
       "      <th>obesity2</th>\n",
       "      <th>sex2</th>\n",
       "      <th>stroke_attack</th>\n",
       "    </tr>\n",
       "  </thead>\n",
       "  <tbody>\n",
       "    <tr>\n",
       "      <th>0</th>\n",
       "      <td>1</td>\n",
       "      <td>H</td>\n",
       "      <td>Y</td>\n",
       "      <td>M</td>\n",
       "      <td>N</td>\n",
       "      <td>0</td>\n",
       "      <td>1</td>\n",
       "      <td>1</td>\n",
       "      <td>0</td>\n",
       "    </tr>\n",
       "    <tr>\n",
       "      <th>1</th>\n",
       "      <td>2</td>\n",
       "      <td>L</td>\n",
       "      <td>Y</td>\n",
       "      <td>M</td>\n",
       "      <td>Y</td>\n",
       "      <td>2</td>\n",
       "      <td>1</td>\n",
       "      <td>1</td>\n",
       "      <td>1</td>\n",
       "    </tr>\n",
       "    <tr>\n",
       "      <th>2</th>\n",
       "      <td>3</td>\n",
       "      <td>H</td>\n",
       "      <td>N</td>\n",
       "      <td>F</td>\n",
       "      <td>Y</td>\n",
       "      <td>0</td>\n",
       "      <td>0</td>\n",
       "      <td>0</td>\n",
       "      <td>1</td>\n",
       "    </tr>\n",
       "    <tr>\n",
       "      <th>3</th>\n",
       "      <td>4</td>\n",
       "      <td>N</td>\n",
       "      <td>Y</td>\n",
       "      <td>F</td>\n",
       "      <td>Y</td>\n",
       "      <td>1</td>\n",
       "      <td>1</td>\n",
       "      <td>0</td>\n",
       "      <td>1</td>\n",
       "    </tr>\n",
       "    <tr>\n",
       "      <th>4</th>\n",
       "      <td>5</td>\n",
       "      <td>H</td>\n",
       "      <td>Y</td>\n",
       "      <td>F</td>\n",
       "      <td>Y</td>\n",
       "      <td>0</td>\n",
       "      <td>1</td>\n",
       "      <td>0</td>\n",
       "      <td>1</td>\n",
       "    </tr>\n",
       "  </tbody>\n",
       "</table>\n",
       "</div>"
      ],
      "text/plain": [
       "   Id Blood Pressure Obesity Sex Stroke  Blood2  obesity2  sex2  stroke_attack\n",
       "0   1              H       Y   M      N       0         1     1              0\n",
       "1   2              L       Y   M      Y       2         1     1              1\n",
       "2   3              H       N   F      Y       0         0     0              1\n",
       "3   4              N       Y   F      Y       1         1     0              1\n",
       "4   5              H       Y   F      Y       0         1     0              1"
      ]
     },
     "execution_count": 14,
     "metadata": {},
     "output_type": "execute_result"
    }
   ],
   "source": [
    "# label encoder custom\n",
    "\n",
    "blood={'H': 0, 'N': 1, 'L': 2}  \n",
    "obesity={'Y': 1, 'N': 0}  \n",
    "sex={'M': 1, 'F': 0}  \n",
    "stroke_attack={'Y': 1, 'N': 0} \n",
    "\n",
    "def encode(dic, x):   \n",
    "    return dic[x]    \n",
    "\n",
    "stroke['Blood2']=stroke['Blood Pressure'].apply(lambda x: blood[x])\n",
    "stroke['obesity2']=stroke['Obesity'].apply(lambda x: obesity[x])\n",
    "stroke['sex2']=stroke['Sex'].apply(lambda x: sex[x])\n",
    "stroke['stroke_attack']=stroke['Stroke'].apply(lambda x: stroke_attack[x])\n",
    "\n",
    "stroke.head()"
   ]
  },
  {
   "cell_type": "code",
   "execution_count": 15,
   "id": "3ef90d19",
   "metadata": {
    "executionInfo": {
     "elapsed": 273,
     "status": "ok",
     "timestamp": 1680079773207,
     "user": {
      "displayName": "Beltran Vazquez",
      "userId": "10815799323004140919"
     },
     "user_tz": -120
    },
    "id": "3ef90d19"
   },
   "outputs": [],
   "source": [
    "X_train, X_test, y_train, y_test = train_test_split(stroke[['Blood2','obesity2','sex2']], \n",
    "                                                    stroke['stroke_attack'], train_size = 0.8, random_state = 0)\n"
   ]
  },
  {
   "cell_type": "code",
   "execution_count": 16,
   "id": "7F6inYVRey2W",
   "metadata": {
    "colab": {
     "base_uri": "https://localhost:8080/"
    },
    "executionInfo": {
     "elapsed": 580,
     "status": "ok",
     "timestamp": 1680079781179,
     "user": {
      "displayName": "Beltran Vazquez",
      "userId": "10815799323004140919"
     },
     "user_tz": -120
    },
    "id": "7F6inYVRey2W",
    "outputId": "6888f65b-e840-4119-a122-3f13cd533f24"
   },
   "outputs": [
    {
     "name": "stdout",
     "output_type": "stream",
     "text": [
      "(104, 3)\n",
      "(26, 3)\n"
     ]
    }
   ],
   "source": [
    "print(X_train.shape)\n",
    "print(X_test.shape)"
   ]
  },
  {
   "cell_type": "code",
   "execution_count": 17,
   "id": "74c2f6f2",
   "metadata": {
    "colab": {
     "base_uri": "https://localhost:8080/"
    },
    "executionInfo": {
     "elapsed": 9,
     "status": "ok",
     "timestamp": 1680078237310,
     "user": {
      "displayName": "Beltran Vazquez",
      "userId": "10815799323004140919"
     },
     "user_tz": -120
    },
    "id": "74c2f6f2",
    "outputId": "ac436bea-5f34-4aca-ef73-76f208620a28"
   },
   "outputs": [
    {
     "name": "stdout",
     "output_type": "stream",
     "text": [
      "Blood2\n",
      "0    31\n",
      "1    40\n",
      "2    33\n",
      "Name: Blood2, dtype: int64\n",
      "obesity2\n",
      "0    51\n",
      "1    53\n",
      "Name: obesity2, dtype: int64\n",
      "sex2\n",
      "0    56\n",
      "1    48\n",
      "Name: sex2, dtype: int64\n"
     ]
    }
   ],
   "source": [
    "print(X_train.groupby('Blood2')['Blood2'].count())\n",
    "print(X_train.groupby('obesity2')['obesity2'].count())\n",
    "print(X_train.groupby('sex2')['sex2'].count())"
   ]
  },
  {
   "cell_type": "code",
   "execution_count": 18,
   "id": "c2f624f0",
   "metadata": {
    "colab": {
     "base_uri": "https://localhost:8080/"
    },
    "executionInfo": {
     "elapsed": 6,
     "status": "ok",
     "timestamp": 1680079789441,
     "user": {
      "displayName": "Beltran Vazquez",
      "userId": "10815799323004140919"
     },
     "user_tz": -120
    },
    "id": "c2f624f0",
    "outputId": "9d38028c-d591-43b6-9e6c-a0b0b71eaf0d",
    "scrolled": true
   },
   "outputs": [
    {
     "data": {
      "text/plain": [
       "array([0.68510434, 0.30753542, 0.00736024])"
      ]
     },
     "execution_count": 18,
     "metadata": {},
     "output_type": "execute_result"
    }
   ],
   "source": [
    "classifier_DT = tree.DecisionTreeClassifier(max_depth = 3)\n",
    "classifier_DT = classifier_DT.fit(X_train, y_train)\n",
    "classifier_DT.feature_importances_"
   ]
  },
  {
   "cell_type": "code",
   "execution_count": 19,
   "id": "c209675d",
   "metadata": {
    "colab": {
     "base_uri": "https://localhost:8080/",
     "height": 575
    },
    "executionInfo": {
     "elapsed": 1056,
     "status": "ok",
     "timestamp": 1680079792559,
     "user": {
      "displayName": "Beltran Vazquez",
      "userId": "10815799323004140919"
     },
     "user_tz": -120
    },
    "id": "c209675d",
    "outputId": "1f799c88-6541-4850-d5a2-bfcf32d7fc59",
    "scrolled": false
   },
   "outputs": [
    {
     "data": {
      "image/png": "[encoded data removed]",
      "text/plain": [
       "<Figure size 720x720 with 1 Axes>"
      ]
     },
     "metadata": {},
     "output_type": "display_data"
    }
   ],
   "source": [
    "fig = plt.figure(figsize=(10,10))\n",
    "_ = tree.plot_tree(classifier_DT, \n",
    "                   feature_names=['Blood2','obesity2','sex2'],  \n",
    "                   class_names=np.unique(y_test).astype(str),\n",
    "                   filled=True)"
   ]
  },
  {
   "cell_type": "code",
   "execution_count": null,
   "id": "0662e23d",
   "metadata": {
    "id": "0662e23d",
    "outputId": "11c8b228-ae51-4f47-9006-270d6586f864"
   },
   "outputs": [
    {
     "data": {
      "text/plain": [
       "array([1, 1, 1, 0, 0, 0, 1, 1, 0, 0, 0, 0, 1, 0, 0, 0, 0, 1, 1, 0, 0, 0,\n",
       "       1, 1, 1, 1], dtype=int64)"
      ]
     },
     "execution_count": 195,
     "metadata": {},
     "output_type": "execute_result"
    }
   ],
   "source": [
    "classifier_DT.predict(X_test)\n"
   ]
  },
  {
   "cell_type": "code",
   "execution_count": 28,
   "id": "a67cc672",
   "metadata": {
    "colab": {
     "base_uri": "https://localhost:8080/"
    },
    "executionInfo": {
     "elapsed": 375,
     "status": "ok",
     "timestamp": 1680079844058,
     "user": {
      "displayName": "Beltran Vazquez",
      "userId": "10815799323004140919"
     },
     "user_tz": -120
    },
    "id": "a67cc672",
    "outputId": "16023aba-716f-4dab-cb09-00458b403421"
   },
   "outputs": [
    {
     "name": "stdout",
     "output_type": "stream",
     "text": [
      "Train set score (Accuracy) = 0.7115\n",
      "Test set score (Accuracy) = 0.5769\n",
      "╒═════════════════╤══════════════════╤═══════════════════╕\n",
      "│                 │   pred Stroke No │   pred Stroke Yes │\n",
      "╞═════════════════╪══════════════════╪═══════════════════╡\n",
      "│ real Stroke No  │               11 │                 0 │\n",
      "├─────────────────┼──────────────────┼───────────────────┤\n",
      "│ real Stroke Yes │               11 │                 4 │\n",
      "╘═════════════════╧══════════════════╧═══════════════════╛\n",
      "              precision    recall  f1-score   support\n",
      "\n",
      "           0       0.50      1.00      0.67        11\n",
      "           1       1.00      0.27      0.42        15\n",
      "\n",
      "    accuracy                           0.58        26\n",
      "   macro avg       0.75      0.63      0.54        26\n",
      "weighted avg       0.79      0.58      0.52        26\n",
      "\n"
     ]
    }
   ],
   "source": [
    "print(\"Train set score (Accuracy) =\", classifier_DT.score(X_train, y_train).round(4))\n",
    "print(\"Test set score (Accuracy) =\", classifier_DT.score(X_test, y_test).round(4))\n",
    "\n",
    "conf_mat = confusion_matrix(y_test, classifier_DT.predict(X_test))\n",
    "print(tabulate(conf_mat,headers = ['pred Stroke No','pred Stroke Yes'], showindex = ['real Stroke No','real Stroke Yes'], tablefmt = 'fancy_grid'))\n",
    "\n",
    "print(classification_report(y_test, classifier_DT.predict(X_test)))"
   ]
  },
  {
   "cell_type": "code",
   "execution_count": null,
   "id": "9059cd9d",
   "metadata": {
    "id": "9059cd9d",
    "outputId": "4bd61d2d-0363-4ad0-b020-12e374613905"
   },
   "outputs": [
    {
     "data": {
      "text/plain": [
       "0.6086956521739131"
      ]
     },
     "execution_count": 465,
     "metadata": {},
     "output_type": "execute_result"
    }
   ],
   "source": [
    "prec=7/(7+5)\n",
    "pot = 7/(4+7)\n",
    "\n",
    "fscore = 2*(prec*pot)/(prec+pot)\n",
    "fscore"
   ]
  },
  {
   "cell_type": "markdown",
   "id": "7a067bb4",
   "metadata": {
    "id": "7a067bb4"
   },
   "source": [
    "## Matriz de confusión\n",
    "\n",
    "https://www.youtube.com/watch?v=Kdsp6soqA7o\n",
    "\n",
    "\n",
    "La matriz de confusión resume todos los casos de nuestra prueba de validación, indicando cuántos fueron bien y mal clasificados, y también nos permite analizar si nuestro modelo clasifica bien para cada una de las categorías.\n"
   ]
  },
  {
   "cell_type": "code",
   "execution_count": null,
   "id": "a4113b68",
   "metadata": {
    "id": "a4113b68",
    "outputId": "6339fe9b-2a68-4ee2-dd9a-88f2f4f896e3"
   },
   "outputs": [
    {
     "name": "stdout",
     "output_type": "stream",
     "text": [
      "╒════════╤══════════╤══════════╕\n",
      "│        │ pred -   │ pred +   │\n",
      "╞════════╪══════════╪══════════╡\n",
      "│ real - │ TN       │ FP       │\n",
      "├────────┼──────────┼──────────┤\n",
      "│ real + │ FN       │ TP       │\n",
      "╘════════╧══════════╧══════════╛\n"
     ]
    }
   ],
   "source": [
    "print(tabulate([['TN',  'FP'],[ 'FN',  'TP']],headers = ['pred -','pred +'], showindex = ['real -','real +'], tablefmt = 'fancy_grid'))\n"
   ]
  },
  {
   "cell_type": "markdown",
   "id": "aa9fa14f",
   "metadata": {
    "id": "aa9fa14f"
   },
   "source": [
    "## Métricas de eficiencia del modelo de clasificación\n",
    "\n",
    "https://medium.com/analytics-vidhya/what-is-a-confusion-matrix-d1c0f8feda5#:~:text=A%20confusion%20matrix%20is%20a%20tabular%20summary%20of,performance%20metrics%20like%20accuracy%2C%20precision%2C%20recall%2C%20and%20F1-score.\n",
    "\n",
    "### Accuracy\n",
    "\n",
    "Es la proporción de observaciones clasificadas correctamente\n",
    "\n",
    "$$Accuracy = \\frac{TP + TN}{TP + TN + FP + FN}$$\n",
    "\n",
    "Es el indicador más general y en el primero en el que tenemos que fijarnos\n",
    "\n",
    "### Precisión\n",
    "\n",
    "Es la proporción de clasificaciones positivas correctas sobre el total de clasificaciones positivas.\n",
    "De todos los clasificados como 1, ¿Cuántos realmente lo eran?\n",
    "\n",
    "$$Precision = \\frac{TP}{TP + FP}$$\n",
    "\n",
    "Este indicador queremos optimizarlo cuando nos interesa que las predicciones de una de las clases sea especialmente correcta, sin importarnos errar en la otra.\n",
    "\n",
    "Por ejemplo, en la clasificación de los email Spam, \n",
    "\n",
    "### Potencia (Recall)\n",
    "\n",
    "Es la proporción de verdaderos positivos clasificados como tal.\n",
    "De todos los positivos, ¿Cuántos mi modelo ha clasificado como tal?\n",
    "\n",
    "$$Potencia = \\frac{TP}{TP + FN}$$\n",
    "\n",
    "Este indicador lo optimizamos cuando una clase es especialmente sensible y no queremos dejar sin clasificar correctamente ninguno de sus individuos\n",
    "\n",
    "\n",
    "### F-Score\n",
    "\n",
    "Es una métrica que combina la Precisión y la Potencia\n",
    "\n",
    "$$F-Score = \\frac{2 * (Precision * Recall)}{(Precision + Recall)}$$\n",
    "\n",
    "Nos permite calibrar un modelo teniendo en cuenta tanto la precisión como la potencia"
   ]
  },
  {
   "cell_type": "markdown",
   "id": "OPy33thV5jnM",
   "metadata": {
    "id": "OPy33thV5jnM"
   },
   "source": [
    "## Cuándo optimizar precisión o potencia\n",
    "\n",
    "En modelos de detección de enfermedades, como cuando se hacen **pruebas de diagnóstico**, bajo ningún concepto quieres clasificar a un paciente como no-enfermo, es preferible clasificar un sano como enfermo. Es decir, queremos reducir a toda costa el ratio de **Falsos negativos**. Esto se consigue **optimizando la Potencia**\n",
    "\n",
    "En un modelo de **detección de spam** sería muy perjudicial dar un Falso positivo, es decir, marcar un email como spam cuando realmente es importante. Más vale que se cuele algún spam en la bandeja de entrada principal que al revés. Esto se consigue **optimizando la precisión**\n",
    "\n",
    "En la práctica es muy importante entender bien el problema que se está intentando resolver/clasificar, y a partir de ahí buscar qué métrica se quiere analizar. \n",
    "\n",
    "La accuracy nos da una visión general que es buena e importante, pero no suficiente, **siempre se deben analizar varias de las métricas de las que disponemos**"
   ]
  },
  {
   "cell_type": "markdown",
   "id": "e3b69f5b",
   "metadata": {
    "id": "e3b69f5b"
   },
   "source": [
    "## Random Forest\n",
    "\n",
    "https://www.youtube.com/watch?v=J4Wdy0Wc_xQ\n",
    "\n",
    "https://www.quantstart.com/articles/bootstrap-aggregation-random-forests-and-boosted-trees/\n",
    "\n",
    "\n",
    "El algoritmo **Random Forest**, como su propio nombre indica, utiliza un conjunto de árboles para clasificar las observaciones. \n",
    "\n",
    "La idea es generar **varios árboles** (varios modelos), pero cuando tenemos un nuevo individuo y queremos clasificarlo, con qué árbol nos quedamos? Cuál es la clasificación correcta?\n",
    "\n",
    "El nuevo individuo será pasado por todos los árboles que conforman el bosque, cada uno de ellos dará un veredicto y clasificará esta nueva observación como clase 1 ó 0. Después se hará una **votación**, la clase que más haya sido escogida por los árboles en su conjunto será la decisión final del algoritmo.\n"
   ]
  },
  {
   "cell_type": "markdown",
   "id": "ec619d8c",
   "metadata": {
    "id": "ec619d8c"
   },
   "source": [
    "Por otro lado se le llama **Random** porque vamos a seleccionar en cada nivel de cada árbol un conjunto de variables a testar/introducir aleatoriamente (**Feature Bagging**).\n",
    "\n",
    "También serán seleccionadas aleatoriamente una serie de observaciones, con reemplazamiento, o sea habrá posiblemente observaciones en el conjunto de entrenamiento que salgan repetidas y otras que no salgan. Esto se hace para aumentar el conjunto de entrenamiento.\n",
    "\n",
    "https://immune.institute/blog/metodos-de-bagging-y-de-boosting-diferencia/"
   ]
  },
  {
   "cell_type": "markdown",
   "id": "26a73aa2",
   "metadata": {
    "id": "26a73aa2"
   },
   "source": [
    "![image](../assets/Random_Forest.png)"
   ]
  },
  {
   "cell_type": "code",
   "execution_count": 20,
   "id": "04279205",
   "metadata": {
    "colab": {
     "base_uri": "https://localhost:8080/",
     "height": 143
    },
    "executionInfo": {
     "elapsed": 293,
     "status": "ok",
     "timestamp": 1680080178608,
     "user": {
      "displayName": "Beltran Vazquez",
      "userId": "10815799323004140919"
     },
     "user_tz": -120
    },
    "id": "04279205",
    "outputId": "82e1c900-bb9f-4d29-9f77-d9ff7e4c886f"
   },
   "outputs": [
    {
     "data": {
      "text/html": [
       "<div>\n",
       "<style scoped>\n",
       "    .dataframe tbody tr th:only-of-type {\n",
       "        vertical-align: middle;\n",
       "    }\n",
       "\n",
       "    .dataframe tbody tr th {\n",
       "        vertical-align: top;\n",
       "    }\n",
       "\n",
       "    .dataframe thead th {\n",
       "        text-align: right;\n",
       "    }\n",
       "</style>\n",
       "<table border=\"1\" class=\"dataframe\">\n",
       "  <thead>\n",
       "    <tr style=\"text-align: right;\">\n",
       "      <th></th>\n",
       "      <th>Id</th>\n",
       "      <th>Length</th>\n",
       "      <th>Gills</th>\n",
       "      <th>Beak</th>\n",
       "      <th>Teeth</th>\n",
       "      <th>Dolphin</th>\n",
       "    </tr>\n",
       "  </thead>\n",
       "  <tbody>\n",
       "    <tr>\n",
       "      <th>0</th>\n",
       "      <td>1</td>\n",
       "      <td>3</td>\n",
       "      <td>Y</td>\n",
       "      <td>Y</td>\n",
       "      <td>F</td>\n",
       "      <td>Y</td>\n",
       "    </tr>\n",
       "    <tr>\n",
       "      <th>1</th>\n",
       "      <td>2</td>\n",
       "      <td>3</td>\n",
       "      <td>N</td>\n",
       "      <td>N</td>\n",
       "      <td>F</td>\n",
       "      <td>Y</td>\n",
       "    </tr>\n",
       "    <tr>\n",
       "      <th>2</th>\n",
       "      <td>3</td>\n",
       "      <td>3</td>\n",
       "      <td>N</td>\n",
       "      <td>N</td>\n",
       "      <td>F</td>\n",
       "      <td>Y</td>\n",
       "    </tr>\n",
       "  </tbody>\n",
       "</table>\n",
       "</div>"
      ],
      "text/plain": [
       "   Id  Length Gills Beak Teeth Dolphin\n",
       "0   1       3     Y    Y     F       Y\n",
       "1   2       3     N    N     F       Y\n",
       "2   3       3     N    N     F       Y"
      ]
     },
     "execution_count": 20,
     "metadata": {},
     "output_type": "execute_result"
    }
   ],
   "source": [
    "dolphins = pd.read_csv('../../../Data/Modelos ML/Dolphnis.txt', sep = ';')\n",
    "dolphins.head(3)"
   ]
  },
  {
   "cell_type": "code",
   "execution_count": 21,
   "id": "2PgXs_FelR8w",
   "metadata": {
    "colab": {
     "base_uri": "https://localhost:8080/"
    },
    "executionInfo": {
     "elapsed": 7,
     "status": "ok",
     "timestamp": 1680080191096,
     "user": {
      "displayName": "Beltran Vazquez",
      "userId": "10815799323004140919"
     },
     "user_tz": -120
    },
    "id": "2PgXs_FelR8w",
    "outputId": "2d02b60b-1a20-450d-f2f5-61ae32d14544"
   },
   "outputs": [
    {
     "name": "stdout",
     "output_type": "stream",
     "text": [
      "<class 'pandas.core.frame.DataFrame'>\n",
      "RangeIndex: 271 entries, 0 to 270\n",
      "Data columns (total 6 columns):\n",
      " #   Column   Non-Null Count  Dtype \n",
      "---  ------   --------------  ----- \n",
      " 0   Id       271 non-null    int64 \n",
      " 1   Length   271 non-null    int64 \n",
      " 2   Gills    271 non-null    object\n",
      " 3   Beak     271 non-null    object\n",
      " 4   Teeth    271 non-null    object\n",
      " 5   Dolphin  271 non-null    object\n",
      "dtypes: int64(2), object(4)\n",
      "memory usage: 12.8+ KB\n"
     ]
    }
   ],
   "source": [
    "dolphins.info()"
   ]
  },
  {
   "cell_type": "code",
   "execution_count": 22,
   "id": "096374bb",
   "metadata": {
    "colab": {
     "base_uri": "https://localhost:8080/",
     "height": 423
    },
    "executionInfo": {
     "elapsed": 23,
     "status": "ok",
     "timestamp": 1680080277774,
     "user": {
      "displayName": "Beltran Vazquez",
      "userId": "10815799323004140919"
     },
     "user_tz": -120
    },
    "id": "096374bb",
    "outputId": "7320cb83-cb8a-4c4c-e54a-1125510e4c0c",
    "scrolled": true
   },
   "outputs": [
    {
     "data": {
      "text/html": [
       "<div>\n",
       "<style scoped>\n",
       "    .dataframe tbody tr th:only-of-type {\n",
       "        vertical-align: middle;\n",
       "    }\n",
       "\n",
       "    .dataframe tbody tr th {\n",
       "        vertical-align: top;\n",
       "    }\n",
       "\n",
       "    .dataframe thead th {\n",
       "        text-align: right;\n",
       "    }\n",
       "</style>\n",
       "<table border=\"1\" class=\"dataframe\">\n",
       "  <thead>\n",
       "    <tr style=\"text-align: right;\">\n",
       "      <th></th>\n",
       "      <th>Id</th>\n",
       "      <th>Length</th>\n",
       "      <th>Gills</th>\n",
       "      <th>Beak</th>\n",
       "      <th>Teeth</th>\n",
       "      <th>Dolphin</th>\n",
       "      <th>Gills2</th>\n",
       "      <th>Beak2</th>\n",
       "      <th>Teeth2</th>\n",
       "      <th>Dolphin2</th>\n",
       "    </tr>\n",
       "  </thead>\n",
       "  <tbody>\n",
       "    <tr>\n",
       "      <th>0</th>\n",
       "      <td>1</td>\n",
       "      <td>3</td>\n",
       "      <td>Y</td>\n",
       "      <td>Y</td>\n",
       "      <td>F</td>\n",
       "      <td>Y</td>\n",
       "      <td>1</td>\n",
       "      <td>1</td>\n",
       "      <td>0</td>\n",
       "      <td>1</td>\n",
       "    </tr>\n",
       "    <tr>\n",
       "      <th>1</th>\n",
       "      <td>2</td>\n",
       "      <td>3</td>\n",
       "      <td>N</td>\n",
       "      <td>N</td>\n",
       "      <td>F</td>\n",
       "      <td>Y</td>\n",
       "      <td>0</td>\n",
       "      <td>0</td>\n",
       "      <td>0</td>\n",
       "      <td>1</td>\n",
       "    </tr>\n",
       "    <tr>\n",
       "      <th>2</th>\n",
       "      <td>3</td>\n",
       "      <td>3</td>\n",
       "      <td>N</td>\n",
       "      <td>N</td>\n",
       "      <td>F</td>\n",
       "      <td>Y</td>\n",
       "      <td>0</td>\n",
       "      <td>0</td>\n",
       "      <td>0</td>\n",
       "      <td>1</td>\n",
       "    </tr>\n",
       "    <tr>\n",
       "      <th>3</th>\n",
       "      <td>4</td>\n",
       "      <td>3</td>\n",
       "      <td>Y</td>\n",
       "      <td>Y</td>\n",
       "      <td>F</td>\n",
       "      <td>Y</td>\n",
       "      <td>1</td>\n",
       "      <td>1</td>\n",
       "      <td>0</td>\n",
       "      <td>1</td>\n",
       "    </tr>\n",
       "    <tr>\n",
       "      <th>4</th>\n",
       "      <td>5</td>\n",
       "      <td>3</td>\n",
       "      <td>N</td>\n",
       "      <td>Y</td>\n",
       "      <td>F</td>\n",
       "      <td>Y</td>\n",
       "      <td>0</td>\n",
       "      <td>1</td>\n",
       "      <td>0</td>\n",
       "      <td>1</td>\n",
       "    </tr>\n",
       "    <tr>\n",
       "      <th>...</th>\n",
       "      <td>...</td>\n",
       "      <td>...</td>\n",
       "      <td>...</td>\n",
       "      <td>...</td>\n",
       "      <td>...</td>\n",
       "      <td>...</td>\n",
       "      <td>...</td>\n",
       "      <td>...</td>\n",
       "      <td>...</td>\n",
       "      <td>...</td>\n",
       "    </tr>\n",
       "    <tr>\n",
       "      <th>266</th>\n",
       "      <td>267</td>\n",
       "      <td>3</td>\n",
       "      <td>Y</td>\n",
       "      <td>Y</td>\n",
       "      <td>F</td>\n",
       "      <td>Y</td>\n",
       "      <td>1</td>\n",
       "      <td>1</td>\n",
       "      <td>0</td>\n",
       "      <td>1</td>\n",
       "    </tr>\n",
       "    <tr>\n",
       "      <th>267</th>\n",
       "      <td>268</td>\n",
       "      <td>4</td>\n",
       "      <td>Y</td>\n",
       "      <td>N</td>\n",
       "      <td>F</td>\n",
       "      <td>Y</td>\n",
       "      <td>1</td>\n",
       "      <td>0</td>\n",
       "      <td>0</td>\n",
       "      <td>1</td>\n",
       "    </tr>\n",
       "    <tr>\n",
       "      <th>268</th>\n",
       "      <td>269</td>\n",
       "      <td>3</td>\n",
       "      <td>Y</td>\n",
       "      <td>Y</td>\n",
       "      <td>F</td>\n",
       "      <td>Y</td>\n",
       "      <td>1</td>\n",
       "      <td>1</td>\n",
       "      <td>0</td>\n",
       "      <td>1</td>\n",
       "    </tr>\n",
       "    <tr>\n",
       "      <th>269</th>\n",
       "      <td>270</td>\n",
       "      <td>4</td>\n",
       "      <td>Y</td>\n",
       "      <td>Y</td>\n",
       "      <td>F</td>\n",
       "      <td>Y</td>\n",
       "      <td>1</td>\n",
       "      <td>1</td>\n",
       "      <td>0</td>\n",
       "      <td>1</td>\n",
       "    </tr>\n",
       "    <tr>\n",
       "      <th>270</th>\n",
       "      <td>271</td>\n",
       "      <td>3</td>\n",
       "      <td>Y</td>\n",
       "      <td>N</td>\n",
       "      <td>F</td>\n",
       "      <td>Y</td>\n",
       "      <td>1</td>\n",
       "      <td>0</td>\n",
       "      <td>0</td>\n",
       "      <td>1</td>\n",
       "    </tr>\n",
       "  </tbody>\n",
       "</table>\n",
       "<p>271 rows × 10 columns</p>\n",
       "</div>"
      ],
      "text/plain": [
       "      Id  Length Gills Beak Teeth Dolphin  Gills2  Beak2  Teeth2  Dolphin2\n",
       "0      1       3     Y    Y     F       Y       1      1       0         1\n",
       "1      2       3     N    N     F       Y       0      0       0         1\n",
       "2      3       3     N    N     F       Y       0      0       0         1\n",
       "3      4       3     Y    Y     F       Y       1      1       0         1\n",
       "4      5       3     N    Y     F       Y       0      1       0         1\n",
       "..   ...     ...   ...  ...   ...     ...     ...    ...     ...       ...\n",
       "266  267       3     Y    Y     F       Y       1      1       0         1\n",
       "267  268       4     Y    N     F       Y       1      0       0         1\n",
       "268  269       3     Y    Y     F       Y       1      1       0         1\n",
       "269  270       4     Y    Y     F       Y       1      1       0         1\n",
       "270  271       3     Y    N     F       Y       1      0       0         1\n",
       "\n",
       "[271 rows x 10 columns]"
      ]
     },
     "execution_count": 22,
     "metadata": {},
     "output_type": "execute_result"
    }
   ],
   "source": [
    "Gills={'Y': 1, 'N': 0}  \n",
    "Beak={'Y': 1, 'N': 0}  \n",
    "Teeth={'M': 1, 'F': 0}  \n",
    "Dolphin={'Y': 1, 'N': 0} \n",
    "\n",
    "def encode(dic, x):   \n",
    "    return dic[x]    \n",
    "\n",
    "dolphins['Gills2']=dolphins['Gills'].apply(lambda x: Gills[x])\n",
    "dolphins['Beak2']=dolphins['Beak'].apply(lambda x: Beak[x])\n",
    "dolphins['Teeth2']=dolphins['Teeth'].apply(lambda x: Teeth[x])\n",
    "dolphins['Dolphin2']=dolphins['Dolphin'].apply(lambda x: Dolphin[x])\n",
    "dolphins"
   ]
  },
  {
   "cell_type": "code",
   "execution_count": 23,
   "id": "0dc455fa",
   "metadata": {
    "colab": {
     "base_uri": "https://localhost:8080/"
    },
    "executionInfo": {
     "elapsed": 7,
     "status": "ok",
     "timestamp": 1680080282564,
     "user": {
      "displayName": "Beltran Vazquez",
      "userId": "10815799323004140919"
     },
     "user_tz": -120
    },
    "id": "0dc455fa",
    "outputId": "7643859e-aaed-48c1-8775-09b5948efb2e"
   },
   "outputs": [
    {
     "data": {
      "text/plain": [
       "Dolphin2\n",
       "0    117\n",
       "1    154\n",
       "Name: Dolphin2, dtype: int64"
      ]
     },
     "execution_count": 23,
     "metadata": {},
     "output_type": "execute_result"
    }
   ],
   "source": [
    "dolphins.groupby('Dolphin2')['Dolphin2'].count()"
   ]
  },
  {
   "cell_type": "code",
   "execution_count": 32,
   "id": "d6dc5f5e",
   "metadata": {
    "colab": {
     "base_uri": "https://localhost:8080/"
    },
    "executionInfo": {
     "elapsed": 9,
     "status": "ok",
     "timestamp": 1680080428351,
     "user": {
      "displayName": "Beltran Vazquez",
      "userId": "10815799323004140919"
     },
     "user_tz": -120
    },
    "id": "d6dc5f5e",
    "outputId": "1476c66d-cf7c-4312-df59-86f0918d14f8"
   },
   "outputs": [
    {
     "data": {
      "text/plain": [
       "(109, 4)"
      ]
     },
     "execution_count": 32,
     "metadata": {},
     "output_type": "execute_result"
    }
   ],
   "source": [
    "X_train, X_test, y_train, y_test = train_test_split(dolphins[['Gills2','Beak2','Teeth2','Length']], \n",
    "                                                    dolphins['Dolphin2'], train_size = 0.60, random_state = 0)\n",
    "X_test.shape"
   ]
  },
  {
   "cell_type": "code",
   "execution_count": 25,
   "id": "2c689cac",
   "metadata": {
    "colab": {
     "base_uri": "https://localhost:8080/",
     "height": 74
    },
    "executionInfo": {
     "elapsed": 10,
     "status": "ok",
     "timestamp": 1680080432629,
     "user": {
      "displayName": "Beltran Vazquez",
      "userId": "10815799323004140919"
     },
     "user_tz": -120
    },
    "id": "2c689cac",
    "outputId": "b272f0f6-20a0-4d74-80b5-966c921a84c1"
   },
   "outputs": [
    {
     "data": {
      "text/html": [
       "<style>#sk-container-id-1 {\n",
       "  /* Definition of color scheme common for light and dark mode */\n",
       "  --sklearn-color-text: #000;\n",
       "  --sklearn-color-text-muted: #666;\n",
       "  --sklearn-color-line: gray;\n",
       "  /* Definition of color scheme for unfitted estimators */\n",
       "  --sklearn-color-unfitted-level-0: #fff5e6;\n",
       "  --sklearn-color-unfitted-level-1: #f6e4d2;\n",
       "  --sklearn-color-unfitted-level-2: #ffe0b3;\n",
       "  --sklearn-color-unfitted-level-3: chocolate;\n",
       "  /* Definition of color scheme for fitted estimators */\n",
       "  --sklearn-color-fitted-level-0: #f0f8ff;\n",
       "  --sklearn-color-fitted-level-1: #d4ebff;\n",
       "  --sklearn-color-fitted-level-2: #b3dbfd;\n",
       "  --sklearn-color-fitted-level-3: cornflowerblue;\n",
       "\n",
       "  /* Specific color for light theme */\n",
       "  --sklearn-color-text-on-default-background: var(--sg-text-color, var(--theme-code-foreground, var(--jp-content-font-color1, black)));\n",
       "  --sklearn-color-background: var(--sg-background-color, var(--theme-background, var(--jp-layout-color0, white)));\n",
       "  --sklearn-color-border-box: var(--sg-text-color, var(--theme-code-foreground, var(--jp-content-font-color1, black)));\n",
       "  --sklearn-color-icon: #696969;\n",
       "\n",
       "  @media (prefers-color-scheme: dark) {\n",
       "    /* Redefinition of color scheme for dark theme */\n",
       "    --sklearn-color-text-on-default-background: var(--sg-text-color, var(--theme-code-foreground, var(--jp-content-font-color1, white)));\n",
       "    --sklearn-color-background: var(--sg-background-color, var(--theme-background, var(--jp-layout-color0, #111)));\n",
       "    --sklearn-color-border-box: var(--sg-text-color, var(--theme-code-foreground, var(--jp-content-font-color1, white)));\n",
       "    --sklearn-color-icon: #878787;\n",
       "  }\n",
       "}\n",
       "\n",
       "#sk-container-id-1 {\n",
       "  color: var(--sklearn-color-text);\n",
       "}\n",
       "\n",
       "#sk-container-id-1 pre {\n",
       "  padding: 0;\n",
       "}\n",
       "\n",
       "#sk-container-id-1 input.sk-hidden--visually {\n",
       "  border: 0;\n",
       "  clip: rect(1px 1px 1px 1px);\n",
       "  clip: rect(1px, 1px, 1px, 1px);\n",
       "  height: 1px;\n",
       "  margin: -1px;\n",
       "  overflow: hidden;\n",
       "  padding: 0;\n",
       "  position: absolute;\n",
       "  width: 1px;\n",
       "}\n",
       "\n",
       "#sk-container-id-1 div.sk-dashed-wrapped {\n",
       "  border: 1px dashed var(--sklearn-color-line);\n",
       "  margin: 0 0.4em 0.5em 0.4em;\n",
       "  box-sizing: border-box;\n",
       "  padding-bottom: 0.4em;\n",
       "  background-color: var(--sklearn-color-background);\n",
       "}\n",
       "\n",
       "#sk-container-id-1 div.sk-container {\n",
       "  /* jupyter's `normalize.less` sets `[hidden] { display: none; }`\n",
       "     but bootstrap.min.css set `[hidden] { display: none !important; }`\n",
       "     so we also need the `!important` here to be able to override the\n",
       "     default hidden behavior on the sphinx rendered scikit-learn.org.\n",
       "     See: https://github.com/scikit-learn/scikit-learn/issues/21755 */\n",
       "  display: inline-block !important;\n",
       "  position: relative;\n",
       "}\n",
       "\n",
       "#sk-container-id-1 div.sk-text-repr-fallback {\n",
       "  display: none;\n",
       "}\n",
       "\n",
       "div.sk-parallel-item,\n",
       "div.sk-serial,\n",
       "div.sk-item {\n",
       "  /* draw centered vertical line to link estimators */\n",
       "  background-image: linear-gradient(var(--sklearn-color-text-on-default-background), var(--sklearn-color-text-on-default-background));\n",
       "  background-size: 2px 100%;\n",
       "  background-repeat: no-repeat;\n",
       "  background-position: center center;\n",
       "}\n",
       "\n",
       "/* Parallel-specific style estimator block */\n",
       "\n",
       "#sk-container-id-1 div.sk-parallel-item::after {\n",
       "  content: \"\";\n",
       "  width: 100%;\n",
       "  border-bottom: 2px solid var(--sklearn-color-text-on-default-background);\n",
       "  flex-grow: 1;\n",
       "}\n",
       "\n",
       "#sk-container-id-1 div.sk-parallel {\n",
       "  display: flex;\n",
       "  align-items: stretch;\n",
       "  justify-content: center;\n",
       "  background-color: var(--sklearn-color-background);\n",
       "  position: relative;\n",
       "}\n",
       "\n",
       "#sk-container-id-1 div.sk-parallel-item {\n",
       "  display: flex;\n",
       "  flex-direction: column;\n",
       "}\n",
       "\n",
       "#sk-container-id-1 div.sk-parallel-item:first-child::after {\n",
       "  align-self: flex-end;\n",
       "  width: 50%;\n",
       "}\n",
       "\n",
       "#sk-container-id-1 div.sk-parallel-item:last-child::after {\n",
       "  align-self: flex-start;\n",
       "  width: 50%;\n",
       "}\n",
       "\n",
       "#sk-container-id-1 div.sk-parallel-item:only-child::after {\n",
       "  width: 0;\n",
       "}\n",
       "\n",
       "/* Serial-specific style estimator block */\n",
       "\n",
       "#sk-container-id-1 div.sk-serial {\n",
       "  display: flex;\n",
       "  flex-direction: column;\n",
       "  align-items: center;\n",
       "  background-color: var(--sklearn-color-background);\n",
       "  padding-right: 1em;\n",
       "  padding-left: 1em;\n",
       "}\n",
       "\n",
       "\n",
       "/* Toggleable style: style used for estimator/Pipeline/ColumnTransformer box that is\n",
       "clickable and can be expanded/collapsed.\n",
       "- Pipeline and ColumnTransformer use this feature and define the default style\n",
       "- Estimators will overwrite some part of the style using the `sk-estimator` class\n",
       "*/\n",
       "\n",
       "/* Pipeline and ColumnTransformer style (default) */\n",
       "\n",
       "#sk-container-id-1 div.sk-toggleable {\n",
       "  /* Default theme specific background. It is overwritten whether we have a\n",
       "  specific estimator or a Pipeline/ColumnTransformer */\n",
       "  background-color: var(--sklearn-color-background);\n",
       "}\n",
       "\n",
       "/* Toggleable label */\n",
       "#sk-container-id-1 label.sk-toggleable__label {\n",
       "  cursor: pointer;\n",
       "  display: flex;\n",
       "  width: 100%;\n",
       "  margin-bottom: 0;\n",
       "  padding: 0.5em;\n",
       "  box-sizing: border-box;\n",
       "  text-align: center;\n",
       "  align-items: start;\n",
       "  justify-content: space-between;\n",
       "  gap: 0.5em;\n",
       "}\n",
       "\n",
       "#sk-container-id-1 label.sk-toggleable__label .caption {\n",
       "  font-size: 0.6rem;\n",
       "  font-weight: lighter;\n",
       "  color: var(--sklearn-color-text-muted);\n",
       "}\n",
       "\n",
       "#sk-container-id-1 label.sk-toggleable__label-arrow:before {\n",
       "  /* Arrow on the left of the label */\n",
       "  content: \"▸\";\n",
       "  float: left;\n",
       "  margin-right: 0.25em;\n",
       "  color: var(--sklearn-color-icon);\n",
       "}\n",
       "\n",
       "#sk-container-id-1 label.sk-toggleable__label-arrow:hover:before {\n",
       "  color: var(--sklearn-color-text);\n",
       "}\n",
       "\n",
       "/* Toggleable content - dropdown */\n",
       "\n",
       "#sk-container-id-1 div.sk-toggleable__content {\n",
       "  max-height: 0;\n",
       "  max-width: 0;\n",
       "  overflow: hidden;\n",
       "  text-align: left;\n",
       "  /* unfitted */\n",
       "  background-color: var(--sklearn-color-unfitted-level-0);\n",
       "}\n",
       "\n",
       "#sk-container-id-1 div.sk-toggleable__content.fitted {\n",
       "  /* fitted */\n",
       "  background-color: var(--sklearn-color-fitted-level-0);\n",
       "}\n",
       "\n",
       "#sk-container-id-1 div.sk-toggleable__content pre {\n",
       "  margin: 0.2em;\n",
       "  border-radius: 0.25em;\n",
       "  color: var(--sklearn-color-text);\n",
       "  /* unfitted */\n",
       "  background-color: var(--sklearn-color-unfitted-level-0);\n",
       "}\n",
       "\n",
       "#sk-container-id-1 div.sk-toggleable__content.fitted pre {\n",
       "  /* unfitted */\n",
       "  background-color: var(--sklearn-color-fitted-level-0);\n",
       "}\n",
       "\n",
       "#sk-container-id-1 input.sk-toggleable__control:checked~div.sk-toggleable__content {\n",
       "  /* Expand drop-down */\n",
       "  max-height: 200px;\n",
       "  max-width: 100%;\n",
       "  overflow: auto;\n",
       "}\n",
       "\n",
       "#sk-container-id-1 input.sk-toggleable__control:checked~label.sk-toggleable__label-arrow:before {\n",
       "  content: \"▾\";\n",
       "}\n",
       "\n",
       "/* Pipeline/ColumnTransformer-specific style */\n",
       "\n",
       "#sk-container-id-1 div.sk-label input.sk-toggleable__control:checked~label.sk-toggleable__label {\n",
       "  color: var(--sklearn-color-text);\n",
       "  background-color: var(--sklearn-color-unfitted-level-2);\n",
       "}\n",
       "\n",
       "#sk-container-id-1 div.sk-label.fitted input.sk-toggleable__control:checked~label.sk-toggleable__label {\n",
       "  background-color: var(--sklearn-color-fitted-level-2);\n",
       "}\n",
       "\n",
       "/* Estimator-specific style */\n",
       "\n",
       "/* Colorize estimator box */\n",
       "#sk-container-id-1 div.sk-estimator input.sk-toggleable__control:checked~label.sk-toggleable__label {\n",
       "  /* unfitted */\n",
       "  background-color: var(--sklearn-color-unfitted-level-2);\n",
       "}\n",
       "\n",
       "#sk-container-id-1 div.sk-estimator.fitted input.sk-toggleable__control:checked~label.sk-toggleable__label {\n",
       "  /* fitted */\n",
       "  background-color: var(--sklearn-color-fitted-level-2);\n",
       "}\n",
       "\n",
       "#sk-container-id-1 div.sk-label label.sk-toggleable__label,\n",
       "#sk-container-id-1 div.sk-label label {\n",
       "  /* The background is the default theme color */\n",
       "  color: var(--sklearn-color-text-on-default-background);\n",
       "}\n",
       "\n",
       "/* On hover, darken the color of the background */\n",
       "#sk-container-id-1 div.sk-label:hover label.sk-toggleable__label {\n",
       "  color: var(--sklearn-color-text);\n",
       "  background-color: var(--sklearn-color-unfitted-level-2);\n",
       "}\n",
       "\n",
       "/* Label box, darken color on hover, fitted */\n",
       "#sk-container-id-1 div.sk-label.fitted:hover label.sk-toggleable__label.fitted {\n",
       "  color: var(--sklearn-color-text);\n",
       "  background-color: var(--sklearn-color-fitted-level-2);\n",
       "}\n",
       "\n",
       "/* Estimator label */\n",
       "\n",
       "#sk-container-id-1 div.sk-label label {\n",
       "  font-family: monospace;\n",
       "  font-weight: bold;\n",
       "  display: inline-block;\n",
       "  line-height: 1.2em;\n",
       "}\n",
       "\n",
       "#sk-container-id-1 div.sk-label-container {\n",
       "  text-align: center;\n",
       "}\n",
       "\n",
       "/* Estimator-specific */\n",
       "#sk-container-id-1 div.sk-estimator {\n",
       "  font-family: monospace;\n",
       "  border: 1px dotted var(--sklearn-color-border-box);\n",
       "  border-radius: 0.25em;\n",
       "  box-sizing: border-box;\n",
       "  margin-bottom: 0.5em;\n",
       "  /* unfitted */\n",
       "  background-color: var(--sklearn-color-unfitted-level-0);\n",
       "}\n",
       "\n",
       "#sk-container-id-1 div.sk-estimator.fitted {\n",
       "  /* fitted */\n",
       "  background-color: var(--sklearn-color-fitted-level-0);\n",
       "}\n",
       "\n",
       "/* on hover */\n",
       "#sk-container-id-1 div.sk-estimator:hover {\n",
       "  /* unfitted */\n",
       "  background-color: var(--sklearn-color-unfitted-level-2);\n",
       "}\n",
       "\n",
       "#sk-container-id-1 div.sk-estimator.fitted:hover {\n",
       "  /* fitted */\n",
       "  background-color: var(--sklearn-color-fitted-level-2);\n",
       "}\n",
       "\n",
       "/* Specification for estimator info (e.g. \"i\" and \"?\") */\n",
       "\n",
       "/* Common style for \"i\" and \"?\" */\n",
       "\n",
       ".sk-estimator-doc-link,\n",
       "a:link.sk-estimator-doc-link,\n",
       "a:visited.sk-estimator-doc-link {\n",
       "  float: right;\n",
       "  font-size: smaller;\n",
       "  line-height: 1em;\n",
       "  font-family: monospace;\n",
       "  background-color: var(--sklearn-color-background);\n",
       "  border-radius: 1em;\n",
       "  height: 1em;\n",
       "  width: 1em;\n",
       "  text-decoration: none !important;\n",
       "  margin-left: 0.5em;\n",
       "  text-align: center;\n",
       "  /* unfitted */\n",
       "  border: var(--sklearn-color-unfitted-level-1) 1pt solid;\n",
       "  color: var(--sklearn-color-unfitted-level-1);\n",
       "}\n",
       "\n",
       ".sk-estimator-doc-link.fitted,\n",
       "a:link.sk-estimator-doc-link.fitted,\n",
       "a:visited.sk-estimator-doc-link.fitted {\n",
       "  /* fitted */\n",
       "  border: var(--sklearn-color-fitted-level-1) 1pt solid;\n",
       "  color: var(--sklearn-color-fitted-level-1);\n",
       "}\n",
       "\n",
       "/* On hover */\n",
       "div.sk-estimator:hover .sk-estimator-doc-link:hover,\n",
       ".sk-estimator-doc-link:hover,\n",
       "div.sk-label-container:hover .sk-estimator-doc-link:hover,\n",
       ".sk-estimator-doc-link:hover {\n",
       "  /* unfitted */\n",
       "  background-color: var(--sklearn-color-unfitted-level-3);\n",
       "  color: var(--sklearn-color-background);\n",
       "  text-decoration: none;\n",
       "}\n",
       "\n",
       "div.sk-estimator.fitted:hover .sk-estimator-doc-link.fitted:hover,\n",
       ".sk-estimator-doc-link.fitted:hover,\n",
       "div.sk-label-container:hover .sk-estimator-doc-link.fitted:hover,\n",
       ".sk-estimator-doc-link.fitted:hover {\n",
       "  /* fitted */\n",
       "  background-color: var(--sklearn-color-fitted-level-3);\n",
       "  color: var(--sklearn-color-background);\n",
       "  text-decoration: none;\n",
       "}\n",
       "\n",
       "/* Span, style for the box shown on hovering the info icon */\n",
       ".sk-estimator-doc-link span {\n",
       "  display: none;\n",
       "  z-index: 9999;\n",
       "  position: relative;\n",
       "  font-weight: normal;\n",
       "  right: .2ex;\n",
       "  padding: .5ex;\n",
       "  margin: .5ex;\n",
       "  width: min-content;\n",
       "  min-width: 20ex;\n",
       "  max-width: 50ex;\n",
       "  color: var(--sklearn-color-text);\n",
       "  box-shadow: 2pt 2pt 4pt #999;\n",
       "  /* unfitted */\n",
       "  background: var(--sklearn-color-unfitted-level-0);\n",
       "  border: .5pt solid var(--sklearn-color-unfitted-level-3);\n",
       "}\n",
       "\n",
       ".sk-estimator-doc-link.fitted span {\n",
       "  /* fitted */\n",
       "  background: var(--sklearn-color-fitted-level-0);\n",
       "  border: var(--sklearn-color-fitted-level-3);\n",
       "}\n",
       "\n",
       ".sk-estimator-doc-link:hover span {\n",
       "  display: block;\n",
       "}\n",
       "\n",
       "/* \"?\"-specific style due to the `<a>` HTML tag */\n",
       "\n",
       "#sk-container-id-1 a.estimator_doc_link {\n",
       "  float: right;\n",
       "  font-size: 1rem;\n",
       "  line-height: 1em;\n",
       "  font-family: monospace;\n",
       "  background-color: var(--sklearn-color-background);\n",
       "  border-radius: 1rem;\n",
       "  height: 1rem;\n",
       "  width: 1rem;\n",
       "  text-decoration: none;\n",
       "  /* unfitted */\n",
       "  color: var(--sklearn-color-unfitted-level-1);\n",
       "  border: var(--sklearn-color-unfitted-level-1) 1pt solid;\n",
       "}\n",
       "\n",
       "#sk-container-id-1 a.estimator_doc_link.fitted {\n",
       "  /* fitted */\n",
       "  border: var(--sklearn-color-fitted-level-1) 1pt solid;\n",
       "  color: var(--sklearn-color-fitted-level-1);\n",
       "}\n",
       "\n",
       "/* On hover */\n",
       "#sk-container-id-1 a.estimator_doc_link:hover {\n",
       "  /* unfitted */\n",
       "  background-color: var(--sklearn-color-unfitted-level-3);\n",
       "  color: var(--sklearn-color-background);\n",
       "  text-decoration: none;\n",
       "}\n",
       "\n",
       "#sk-container-id-1 a.estimator_doc_link.fitted:hover {\n",
       "  /* fitted */\n",
       "  background-color: var(--sklearn-color-fitted-level-3);\n",
       "}\n",
       "</style><div id=\"sk-container-id-1\" class=\"sk-top-container\"><div class=\"sk-text-repr-fallback\"><pre>RandomForestClassifier(n_estimators=3)</pre><b>In a Jupyter environment, please rerun this cell to show the HTML representation or trust the notebook. <br />On GitHub, the HTML representation is unable to render, please try loading this page with nbviewer.org.</b></div><div class=\"sk-container\" hidden><div class=\"sk-item\"><div class=\"sk-estimator fitted sk-toggleable\"><input class=\"sk-toggleable__control sk-hidden--visually\" id=\"sk-estimator-id-1\" type=\"checkbox\" checked><label for=\"sk-estimator-id-1\" class=\"sk-toggleable__label fitted sk-toggleable__label-arrow\"><div><div>RandomForestClassifier</div></div><div><a class=\"sk-estimator-doc-link fitted\" rel=\"noreferrer\" target=\"_blank\" href=\"https://scikit-learn.org/1.6/modules/generated/sklearn.ensemble.RandomForestClassifier.html\">?<span>Documentation for RandomForestClassifier</span></a><span class=\"sk-estimator-doc-link fitted\">i<span>Fitted</span></span></div></label><div class=\"sk-toggleable__content fitted\"><pre>RandomForestClassifier(n_estimators=3)</pre></div> </div></div></div></div>"
      ],
      "text/plain": [
       "RandomForestClassifier(n_estimators=3)"
      ]
     },
     "execution_count": 25,
     "metadata": {},
     "output_type": "execute_result"
    }
   ],
   "source": [
    "rf_clf = RandomForestClassifier(n_estimators = 3, criterion ='gini') #  criterion ='entropy' \n",
    "rf_clf.fit(X_train,y_train)"
   ]
  },
  {
   "cell_type": "code",
   "execution_count": 33,
   "id": "03309ce9",
   "metadata": {
    "colab": {
     "base_uri": "https://localhost:8080/"
    },
    "executionInfo": {
     "elapsed": 957,
     "status": "ok",
     "timestamp": 1680080588065,
     "user": {
      "displayName": "Beltran Vazquez",
      "userId": "10815799323004140919"
     },
     "user_tz": -120
    },
    "id": "03309ce9",
    "outputId": "92eb6cee-1235-4047-fc3a-82b9921dd8e6"
   },
   "outputs": [
    {
     "data": {
      "text/plain": [
       "array([1, 1, 0, 1, 1, 0, 1, 0, 1, 1, 0, 0, 1, 0, 1, 0, 0, 0, 1, 1, 1, 1,\n",
       "       1, 0, 0, 1, 0, 1, 0, 1, 0, 1, 1, 0, 0, 0, 0, 0, 0, 1, 0, 1, 0, 0,\n",
       "       1, 0, 0, 1, 1, 1, 0, 0, 1, 0, 1, 1, 0, 0, 1, 1, 1, 0, 1, 0, 1, 0,\n",
       "       0, 0, 0, 0, 1, 1, 0, 0, 1, 1, 0, 1, 1, 0, 1, 1, 1, 0, 1, 0, 0, 0,\n",
       "       0, 0, 1, 1, 1, 0, 0, 1, 1, 1, 1, 1, 1, 1, 0, 0, 0, 0, 0, 1, 0],\n",
       "      dtype=int64)"
      ]
     },
     "execution_count": 33,
     "metadata": {},
     "output_type": "execute_result"
    }
   ],
   "source": [
    "y_predict = rf_clf.predict(X_test)\n",
    "y_predict"
   ]
  },
  {
   "cell_type": "code",
   "execution_count": 34,
   "id": "d2442189",
   "metadata": {},
   "outputs": [
    {
     "data": {
      "text/plain": [
       "64     1\n",
       "136    1\n",
       "223    0\n",
       "129    0\n",
       "254    1\n",
       "      ..\n",
       "252    0\n",
       "189    0\n",
       "249    0\n",
       "40     0\n",
       "13     1\n",
       "Name: Dolphin2, Length: 109, dtype: int64"
      ]
     },
     "execution_count": 34,
     "metadata": {},
     "output_type": "execute_result"
    }
   ],
   "source": [
    "y_test"
   ]
  },
  {
   "cell_type": "code",
   "execution_count": 35,
   "id": "8c0dd380",
   "metadata": {},
   "outputs": [
    {
     "data": {
      "text/html": [
       "<div>\n",
       "<style scoped>\n",
       "    .dataframe tbody tr th:only-of-type {\n",
       "        vertical-align: middle;\n",
       "    }\n",
       "\n",
       "    .dataframe tbody tr th {\n",
       "        vertical-align: top;\n",
       "    }\n",
       "\n",
       "    .dataframe thead th {\n",
       "        text-align: right;\n",
       "    }\n",
       "</style>\n",
       "<table border=\"1\" class=\"dataframe\">\n",
       "  <thead>\n",
       "    <tr style=\"text-align: right;\">\n",
       "      <th></th>\n",
       "      <th>Dolphin2</th>\n",
       "      <th>pred</th>\n",
       "    </tr>\n",
       "  </thead>\n",
       "  <tbody>\n",
       "    <tr>\n",
       "      <th>64</th>\n",
       "      <td>1</td>\n",
       "      <td>1</td>\n",
       "    </tr>\n",
       "    <tr>\n",
       "      <th>136</th>\n",
       "      <td>1</td>\n",
       "      <td>1</td>\n",
       "    </tr>\n",
       "    <tr>\n",
       "      <th>223</th>\n",
       "      <td>0</td>\n",
       "      <td>0</td>\n",
       "    </tr>\n",
       "    <tr>\n",
       "      <th>129</th>\n",
       "      <td>0</td>\n",
       "      <td>1</td>\n",
       "    </tr>\n",
       "    <tr>\n",
       "      <th>254</th>\n",
       "      <td>1</td>\n",
       "      <td>1</td>\n",
       "    </tr>\n",
       "    <tr>\n",
       "      <th>...</th>\n",
       "      <td>...</td>\n",
       "      <td>...</td>\n",
       "    </tr>\n",
       "    <tr>\n",
       "      <th>252</th>\n",
       "      <td>0</td>\n",
       "      <td>0</td>\n",
       "    </tr>\n",
       "    <tr>\n",
       "      <th>189</th>\n",
       "      <td>0</td>\n",
       "      <td>0</td>\n",
       "    </tr>\n",
       "    <tr>\n",
       "      <th>249</th>\n",
       "      <td>0</td>\n",
       "      <td>0</td>\n",
       "    </tr>\n",
       "    <tr>\n",
       "      <th>40</th>\n",
       "      <td>0</td>\n",
       "      <td>1</td>\n",
       "    </tr>\n",
       "    <tr>\n",
       "      <th>13</th>\n",
       "      <td>1</td>\n",
       "      <td>0</td>\n",
       "    </tr>\n",
       "  </tbody>\n",
       "</table>\n",
       "<p>109 rows × 2 columns</p>\n",
       "</div>"
      ],
      "text/plain": [
       "     Dolphin2  pred\n",
       "64          1     1\n",
       "136         1     1\n",
       "223         0     0\n",
       "129         0     1\n",
       "254         1     1\n",
       "..        ...   ...\n",
       "252         0     0\n",
       "189         0     0\n",
       "249         0     0\n",
       "40          0     1\n",
       "13          1     0\n",
       "\n",
       "[109 rows x 2 columns]"
      ]
     },
     "execution_count": 35,
     "metadata": {},
     "output_type": "execute_result"
    }
   ],
   "source": [
    "df_y_test = pd.DataFrame(y_test)\n",
    "df_y_test['pred'] = y_predict\n",
    "df_y_test"
   ]
  },
  {
   "cell_type": "code",
   "execution_count": 43,
   "id": "a60ac7d9",
   "metadata": {
    "colab": {
     "base_uri": "https://localhost:8080/"
    },
    "executionInfo": {
     "elapsed": 319,
     "status": "ok",
     "timestamp": 1680080580515,
     "user": {
      "displayName": "Beltran Vazquez",
      "userId": "10815799323004140919"
     },
     "user_tz": -120
    },
    "id": "a60ac7d9",
    "outputId": "d1992a8e-f038-4f1e-ae99-8a3ba937d4d5"
   },
   "outputs": [
    {
     "name": "stdout",
     "output_type": "stream",
     "text": [
      "Train set score (Accuracy) = 0.821\n",
      "Test set score (Accuracy) = 0.8165\n",
      "╒══════════════════╤═══════════════════╤════════════════════╕\n",
      "│                  │   pred Dolphin No │   pred Dolphin Yes │\n",
      "╞══════════════════╪═══════════════════╪════════════════════╡\n",
      "│ real Dolphin No  │                42 │                  8 │\n",
      "├──────────────────┼───────────────────┼────────────────────┤\n",
      "│ real Dolphin Yes │                12 │                 47 │\n",
      "╘══════════════════╧═══════════════════╧════════════════════╛\n",
      "              precision    recall  f1-score   support\n",
      "\n",
      "           0       0.78      0.84      0.81        50\n",
      "           1       0.85      0.80      0.82        59\n",
      "\n",
      "    accuracy                           0.82       109\n",
      "   macro avg       0.82      0.82      0.82       109\n",
      "weighted avg       0.82      0.82      0.82       109\n",
      "\n"
     ]
    }
   ],
   "source": [
    "print(\"Train set score (Accuracy) =\", rf_clf.score(X_train, y_train).round(4))\n",
    "print(\"Test set score (Accuracy) =\", rf_clf.score(X_test, y_test).round(4))\n",
    "\n",
    "conf_mat = confusion_matrix(y_test, rf_clf.predict(X_test))\n",
    "print(tabulate(conf_mat,headers = ['pred Dolphin No','pred Dolphin Yes'], showindex = ['real Dolphin No','real Dolphin Yes'], tablefmt = 'fancy_grid'))\n",
    "\n",
    "print(classification_report(y_test, rf_clf.predict(X_test)))"
   ]
  },
  {
   "cell_type": "markdown",
   "id": "05f81792",
   "metadata": {},
   "source": [
    "## Responde Verdadero o Falso\n",
    "\n",
    " - El 81% de los animales validados han sido correctamente clasificados\n",
    " - De todos los delfines intriducidos en el modelo el 85% han sido clasificados como delfines\n",
    " - De todas los animales clasificados por el modelo como delfines, el 85% realmente eran delfines"
   ]
  },
  {
   "cell_type": "markdown",
   "id": "8079049d",
   "metadata": {
    "id": "8079049d"
   },
   "source": [
    "## Regresión Logística\n",
    "\n",
    "https://www.youtube.com/watch?v=yIYKR4sgzI8&list=PLblh5JKOoLUKxzEP5HA2d-Li7IJkHfXSe\n",
    "\n",
    "https://es.wikipedia.org/wiki/Regresi%C3%B3n_log%C3%ADstica\n",
    "\n",
    "https://datascientest.com/es/que-es-la-regresion-logistica\n",
    "\n",
    "La regresión logística es un modelo estadístico para estudiar las relaciones entre un conjunto de **variables X** y una **variable cualitativa Y**. Se trata de un modelo lineal generalizado que utiliza una función logística como función de enlace.\n",
    "\n",
    "Un modelo de regresión logística permite predecir la **probabilidad de que ocurra un evento** (valor de 1) o no (valor de 0) a partir de la optimización de los coeficientes de regresión. Este resultado siempre varía entre 0 y 1. Cuando el valor predicho supera un umbral(normalmente 0.5), es probable que ocurra el evento, mientras que cuando ese valor está por debajo del mismo umbral, no es así.\n",
    "\n",
    "También se puede definir como una función que busca predecir la clase a la que pertenece un individuo del cual sólo conocemos parte de su información, la relativa a sus variables independientes.\n",
    "\n"
   ]
  },
  {
   "cell_type": "code",
   "execution_count": 11,
   "id": "68e6702e",
   "metadata": {
    "id": "68e6702e",
    "outputId": "63244f34-71a4-40ab-9e8a-084b68adaa54"
   },
   "outputs": [
    {
     "data": {
      "image/png": "[encoded data removed]",
      "text/plain": [
       "<Figure size 432x288 with 1 Axes>"
      ]
     },
     "metadata": {
      "needs_background": "light"
     },
     "output_type": "display_data"
    }
   ],
   "source": [
    "#define range of x-values\n",
    "x = np.linspace(-10, 10, 100)\n",
    "\n",
    "#calculate sigmoid function for each x-value\n",
    "y = expit(x)\n",
    "  \n",
    "#create plot\n",
    "plt.plot(x, y)\n",
    "plt.xlabel('x')\n",
    "plt.ylabel('Probabilidad clase 1')\n",
    "\n",
    "plt.plot([-2,-2], [0, 1], color='r')\n",
    "plt.plot([0,0], [0, 1], color='g')\n",
    "plt.plot([2,2], [0, 1], color='violet')\n",
    "\n",
    "plt.plot([-5,-5], [0, 0], marker = 'o', color='black')\n",
    "plt.plot([-6,-6], [0, 0], marker = 'o', color='black')\n",
    "plt.plot([-7,-7], [0, 0], marker = 'o', color='black')\n",
    "plt.plot([-8,-8], [0, 0], marker = 'o', color='black')\n",
    "plt.plot([-3,-3], [1, 1], marker = '1', color='red')\n",
    "\n",
    "plt.plot([1.5,1.5], [0, 0], marker = 'o', color='green')\n",
    "plt.plot([5,5], [1, 1], marker = '1', color='black')\n",
    "plt.plot([6,6], [1, 1], marker = '1', color='black')\n",
    "plt.plot([7,7], [1, 1], marker = '1', color='black')\n",
    "plt.plot([8,8], [1, 1], marker = '1', color='black')\n",
    "\n",
    "#display plot\n",
    "plt.show()"
   ]
  },
  {
   "cell_type": "markdown",
   "id": "17b61915",
   "metadata": {
    "id": "17b61915"
   },
   "source": [
    "Cuando la variable independiente X toma el valor -2, la probabilidad de pertencer a la clase 1 es casi igual a 0. Cuando X toma el valor 2 la probabilidad del individuo pertenecer a la clase 1 es muy alta.\n",
    "\n",
    "El punto rojo tiene características de la clase 0, por eso su probabilidad de ser clase 1 es tan baja, no obstante en la realidad es clase 1, en definitiva estaría mal clasificado para cualquier punto de corte propuesto. El punto verde estaría solo bien clasificado usando el punto de corte morado. Contrariamente al rojo, tiene características de clase 1 a pesar de ser clase 0.\n"
   ]
  },
  {
   "cell_type": "markdown",
   "id": "e36172e6",
   "metadata": {
    "id": "e36172e6"
   },
   "source": [
    "La regresión logística se ajusta los datos a través de una función sigmoide. \n",
    "\n",
    "Para definir qué función sigmoide es la más idónea, vamos a tratar de optimizar los coeficientes Beta"
   ]
  },
  {
   "cell_type": "markdown",
   "id": "c0c686c3",
   "metadata": {
    "id": "c0c686c3"
   },
   "source": [
    "$$P(y = 1 \\mid \\mathbf{x}) = \\frac{1}{1 + e^{-\\beta_0 + \\beta_1 x_1 + \\beta_2 x_2 + \\cdots + \\beta_n }}$$"
   ]
  },
  {
   "cell_type": "markdown",
   "id": "3a84248e",
   "metadata": {
    "id": "3a84248e"
   },
   "source": [
    "### Regresion logística con Python\n",
    "\n",
    "https://realpython.com/logistic-regression-python/"
   ]
  },
  {
   "cell_type": "code",
   "execution_count": 45,
   "id": "105c6926",
   "metadata": {
    "colab": {
     "base_uri": "https://localhost:8080/"
    },
    "executionInfo": {
     "elapsed": 1788,
     "status": "ok",
     "timestamp": 1680082523295,
     "user": {
      "displayName": "Beltran Vazquez",
      "userId": "10815799323004140919"
     },
     "user_tz": -120
    },
    "id": "105c6926",
    "outputId": "574d3295-821c-446b-e4a6-c2dbcfed8b88"
   },
   "outputs": [
    {
     "data": {
      "text/plain": [
       "Index(['id', 'track', 'artist', 'uri', 'danceability', 'energy', 'key',\n",
       "       'loudness', 'mode', 'speechiness', 'acousticness', 'instrumentalness',\n",
       "       'liveness', 'valence', 'tempo', 'duration_ms', 'time_signature',\n",
       "       'chorus_hit', 'sections', 'decade', 'hit'],\n",
       "      dtype='object')"
      ]
     },
     "execution_count": 45,
     "metadata": {},
     "output_type": "execute_result"
    }
   ],
   "source": [
    "df = pd.read_csv('../Data/Modelos ML/Spotify.csv')\n",
    "df.columns"
   ]
  },
  {
   "cell_type": "code",
   "execution_count": 46,
   "id": "5ed11ae3",
   "metadata": {
    "colab": {
     "base_uri": "https://localhost:8080/"
    },
    "executionInfo": {
     "elapsed": 277,
     "status": "ok",
     "timestamp": 1680082527918,
     "user": {
      "displayName": "Beltran Vazquez",
      "userId": "10815799323004140919"
     },
     "user_tz": -120
    },
    "id": "5ed11ae3",
    "outputId": "b03c4778-aa69-4f69-f694-b093cff02dad"
   },
   "outputs": [
    {
     "data": {
      "text/plain": [
       "hit\n",
       "0    20333\n",
       "1    20496\n",
       "Name: hit, dtype: int64"
      ]
     },
     "execution_count": 46,
     "metadata": {},
     "output_type": "execute_result"
    }
   ],
   "source": [
    "df.groupby('hit')['hit'].count()"
   ]
  },
  {
   "cell_type": "code",
   "execution_count": 47,
   "id": "507dea84",
   "metadata": {
    "executionInfo": {
     "elapsed": 321,
     "status": "ok",
     "timestamp": 1680082551932,
     "user": {
      "displayName": "Beltran Vazquez",
      "userId": "10815799323004140919"
     },
     "user_tz": -120
    },
    "id": "507dea84"
   },
   "outputs": [],
   "source": [
    "X = df.drop(columns='hit').drop(columns=['id','track','artist','uri'])\n",
    "y = df['hit']"
   ]
  },
  {
   "cell_type": "code",
   "execution_count": 48,
   "id": "dac70ca1",
   "metadata": {
    "executionInfo": {
     "elapsed": 5,
     "status": "ok",
     "timestamp": 1680082555715,
     "user": {
      "displayName": "Beltran Vazquez",
      "userId": "10815799323004140919"
     },
     "user_tz": -120
    },
    "id": "dac70ca1"
   },
   "outputs": [],
   "source": [
    "X_train, X_test, y_train, y_test = train_test_split(X[['danceability','energy','loudness']], y, train_size = 0.8, random_state=42)\n"
   ]
  },
  {
   "cell_type": "code",
   "execution_count": 51,
   "id": "f728895c",
   "metadata": {
    "colab": {
     "base_uri": "https://localhost:8080/",
     "height": 74
    },
    "executionInfo": {
     "elapsed": 11,
     "status": "ok",
     "timestamp": 1680082589563,
     "user": {
      "displayName": "Beltran Vazquez",
      "userId": "10815799323004140919"
     },
     "user_tz": -120
    },
    "id": "f728895c",
    "outputId": "1bbbf346-546d-4332-dbef-d3b4caf0635b"
   },
   "outputs": [
    {
     "data": {
      "text/html": [
       "<style>#sk-container-id-3 {color: black;background-color: white;}#sk-container-id-3 pre{padding: 0;}#sk-container-id-3 div.sk-toggleable {background-color: white;}#sk-container-id-3 label.sk-toggleable__label {cursor: pointer;display: block;width: 100%;margin-bottom: 0;padding: 0.3em;box-sizing: border-box;text-align: center;}#sk-container-id-3 label.sk-toggleable__label-arrow:before {content: \"▸\";float: left;margin-right: 0.25em;color: #696969;}#sk-container-id-3 label.sk-toggleable__label-arrow:hover:before {color: black;}#sk-container-id-3 div.sk-estimator:hover label.sk-toggleable__label-arrow:before {color: black;}#sk-container-id-3 div.sk-toggleable__content {max-height: 0;max-width: 0;overflow: hidden;text-align: left;background-color: #f0f8ff;}#sk-container-id-3 div.sk-toggleable__content pre {margin: 0.2em;color: black;border-radius: 0.25em;background-color: #f0f8ff;}#sk-container-id-3 input.sk-toggleable__control:checked~div.sk-toggleable__content {max-height: 200px;max-width: 100%;overflow: auto;}#sk-container-id-3 input.sk-toggleable__control:checked~label.sk-toggleable__label-arrow:before {content: \"▾\";}#sk-container-id-3 div.sk-estimator input.sk-toggleable__control:checked~label.sk-toggleable__label {background-color: #d4ebff;}#sk-container-id-3 div.sk-label input.sk-toggleable__control:checked~label.sk-toggleable__label {background-color: #d4ebff;}#sk-container-id-3 input.sk-hidden--visually {border: 0;clip: rect(1px 1px 1px 1px);clip: rect(1px, 1px, 1px, 1px);height: 1px;margin: -1px;overflow: hidden;padding: 0;position: absolute;width: 1px;}#sk-container-id-3 div.sk-estimator {font-family: monospace;background-color: #f0f8ff;border: 1px dotted black;border-radius: 0.25em;box-sizing: border-box;margin-bottom: 0.5em;}#sk-container-id-3 div.sk-estimator:hover {background-color: #d4ebff;}#sk-container-id-3 div.sk-parallel-item::after {content: \"\";width: 100%;border-bottom: 1px solid gray;flex-grow: 1;}#sk-container-id-3 div.sk-label:hover label.sk-toggleable__label {background-color: #d4ebff;}#sk-container-id-3 div.sk-serial::before {content: \"\";position: absolute;border-left: 1px solid gray;box-sizing: border-box;top: 0;bottom: 0;left: 50%;z-index: 0;}#sk-container-id-3 div.sk-serial {display: flex;flex-direction: column;align-items: center;background-color: white;padding-right: 0.2em;padding-left: 0.2em;position: relative;}#sk-container-id-3 div.sk-item {position: relative;z-index: 1;}#sk-container-id-3 div.sk-parallel {display: flex;align-items: stretch;justify-content: center;background-color: white;position: relative;}#sk-container-id-3 div.sk-item::before, #sk-container-id-3 div.sk-parallel-item::before {content: \"\";position: absolute;border-left: 1px solid gray;box-sizing: border-box;top: 0;bottom: 0;left: 50%;z-index: -1;}#sk-container-id-3 div.sk-parallel-item {display: flex;flex-direction: column;z-index: 1;position: relative;background-color: white;}#sk-container-id-3 div.sk-parallel-item:first-child::after {align-self: flex-end;width: 50%;}#sk-container-id-3 div.sk-parallel-item:last-child::after {align-self: flex-start;width: 50%;}#sk-container-id-3 div.sk-parallel-item:only-child::after {width: 0;}#sk-container-id-3 div.sk-dashed-wrapped {border: 1px dashed gray;margin: 0 0.4em 0.5em 0.4em;box-sizing: border-box;padding-bottom: 0.4em;background-color: white;}#sk-container-id-3 div.sk-label label {font-family: monospace;font-weight: bold;display: inline-block;line-height: 1.2em;}#sk-container-id-3 div.sk-label-container {text-align: center;}#sk-container-id-3 div.sk-container {/* jupyter's `normalize.less` sets `[hidden] { display: none; }` but bootstrap.min.css set `[hidden] { display: none !important; }` so we also need the `!important` here to be able to override the default hidden behavior on the sphinx rendered scikit-learn.org. See: https://github.com/scikit-learn/scikit-learn/issues/21755 */display: inline-block !important;position: relative;}#sk-container-id-3 div.sk-text-repr-fallback {display: none;}</style><div id=\"sk-container-id-3\" class=\"sk-top-container\"><div class=\"sk-text-repr-fallback\"><pre>LogisticRegression()</pre><b>In a Jupyter environment, please rerun this cell to show the HTML representation or trust the notebook. <br />On GitHub, the HTML representation is unable to render, please try loading this page with nbviewer.org.</b></div><div class=\"sk-container\" hidden><div class=\"sk-item\"><div class=\"sk-estimator sk-toggleable\"><input class=\"sk-toggleable__control sk-hidden--visually\" id=\"sk-estimator-id-3\" type=\"checkbox\" checked><label for=\"sk-estimator-id-3\" class=\"sk-toggleable__label sk-toggleable__label-arrow\">LogisticRegression</label><div class=\"sk-toggleable__content\"><pre>LogisticRegression()</pre></div></div></div></div></div>"
      ],
      "text/plain": [
       "LogisticRegression()"
      ]
     },
     "execution_count": 51,
     "metadata": {},
     "output_type": "execute_result"
    }
   ],
   "source": [
    "model_LR = LogisticRegression()\n",
    "model_LR.fit(X_train, y_train)"
   ]
  },
  {
   "cell_type": "code",
   "execution_count": 52,
   "id": "dffe688c",
   "metadata": {
    "colab": {
     "base_uri": "https://localhost:8080/"
    },
    "executionInfo": {
     "elapsed": 5,
     "status": "ok",
     "timestamp": 1680082591141,
     "user": {
      "displayName": "Beltran Vazquez",
      "userId": "10815799323004140919"
     },
     "user_tz": -120
    },
    "id": "dffe688c",
    "outputId": "b2812ac2-3092-4fd0-96d7-1fa356e818a5"
   },
   "outputs": [
    {
     "data": {
      "text/plain": [
       "array([0.19896023])"
      ]
     },
     "execution_count": 52,
     "metadata": {},
     "output_type": "execute_result"
    }
   ],
   "source": [
    "model_LR.intercept_"
   ]
  },
  {
   "cell_type": "code",
   "execution_count": 53,
   "id": "a948c2b6",
   "metadata": {
    "colab": {
     "base_uri": "https://localhost:8080/"
    },
    "executionInfo": {
     "elapsed": 4,
     "status": "ok",
     "timestamp": 1680082591496,
     "user": {
      "displayName": "Beltran Vazquez",
      "userId": "10815799323004140919"
     },
     "user_tz": -120
    },
    "id": "a948c2b6",
    "outputId": "e5bec818-2496-4a3c-c8c7-557cdfe02ea0"
   },
   "outputs": [
    {
     "data": {
      "text/plain": [
       "array([[ 3.91858158, -1.23590741,  0.15967818]])"
      ]
     },
     "execution_count": 53,
     "metadata": {},
     "output_type": "execute_result"
    }
   ],
   "source": [
    "model_LR.coef_"
   ]
  },
  {
   "cell_type": "code",
   "execution_count": 54,
   "id": "7a727356",
   "metadata": {
    "colab": {
     "base_uri": "https://localhost:8080/"
    },
    "executionInfo": {
     "elapsed": 19,
     "status": "ok",
     "timestamp": 1680082606133,
     "user": {
      "displayName": "Beltran Vazquez",
      "userId": "10815799323004140919"
     },
     "user_tz": -120
    },
    "id": "7a727356",
    "outputId": "a60e8ec4-09b3-49c7-f711-59a528a7c063"
   },
   "outputs": [
    {
     "data": {
      "text/plain": [
       "array([1, 1, 1, ..., 0, 0, 0])"
      ]
     },
     "execution_count": 54,
     "metadata": {},
     "output_type": "execute_result"
    }
   ],
   "source": [
    "model_LR.predict(X_train)"
   ]
  },
  {
   "cell_type": "code",
   "execution_count": 55,
   "id": "7f72e599",
   "metadata": {
    "colab": {
     "base_uri": "https://localhost:8080/"
    },
    "executionInfo": {
     "elapsed": 15,
     "status": "ok",
     "timestamp": 1680082606134,
     "user": {
      "displayName": "Beltran Vazquez",
      "userId": "10815799323004140919"
     },
     "user_tz": -120
    },
    "id": "7f72e599",
    "outputId": "4496dd27-2a6f-4eeb-911d-101a9ec6c784",
    "scrolled": true
   },
   "outputs": [
    {
     "name": "stdout",
     "output_type": "stream",
     "text": [
      "Train set score (Accuracy) = 0.6699\n",
      "Test set score (Accuracy) = 0.6754\n",
      "╒══════════════╤═══════════════╤════════════════╕\n",
      "│              │   pred Hit No │   pred Hit Yes │\n",
      "╞══════════════╪═══════════════╪════════════════╡\n",
      "│ real Hit No  │          2584 │           1497 │\n",
      "├──────────────┼───────────────┼────────────────┤\n",
      "│ real Hit Yes │          1154 │           2931 │\n",
      "╘══════════════╧═══════════════╧════════════════╛\n",
      "              precision    recall  f1-score   support\n",
      "\n",
      "           0       0.69      0.63      0.66      4081\n",
      "           1       0.66      0.72      0.69      4085\n",
      "\n",
      "    accuracy                           0.68      8166\n",
      "   macro avg       0.68      0.68      0.67      8166\n",
      "weighted avg       0.68      0.68      0.67      8166\n",
      "\n"
     ]
    }
   ],
   "source": [
    "print(\"Train set score (Accuracy) =\", model_LR.score(X_train, y_train).round(4))\n",
    "print(\"Test set score (Accuracy) =\", model_LR.score(X_test, y_test).round(4))\n",
    "\n",
    "conf_mat = confusion_matrix(y_test, model_LR.predict(X_test))\n",
    "print(tabulate(conf_mat,headers = ['pred Hit No','pred Hit Yes'], showindex = ['real Hit No','real Hit Yes'], tablefmt = 'fancy_grid'))\n",
    "\n",
    "print(classification_report(y_test, model_LR.predict(X_test)))"
   ]
  },
  {
   "cell_type": "markdown",
   "id": "70922107",
   "metadata": {
    "id": "70922107"
   },
   "source": [
    "## Otro ejemplo"
   ]
  },
  {
   "cell_type": "code",
   "execution_count": 46,
   "id": "a90dfb90",
   "metadata": {
    "colab": {
     "base_uri": "https://localhost:8080/",
     "height": 505
    },
    "executionInfo": {
     "elapsed": 284,
     "status": "ok",
     "timestamp": 1680082833825,
     "user": {
      "displayName": "Beltran Vazquez",
      "userId": "10815799323004140919"
     },
     "user_tz": -120
    },
    "id": "a90dfb90",
    "outputId": "82285554-5a21-480d-97ba-0da2872a2a8f"
   },
   "outputs": [
    {
     "data": {
      "text/html": [
       "<div>\n",
       "<style scoped>\n",
       "    .dataframe tbody tr th:only-of-type {\n",
       "        vertical-align: middle;\n",
       "    }\n",
       "\n",
       "    .dataframe tbody tr th {\n",
       "        vertical-align: top;\n",
       "    }\n",
       "\n",
       "    .dataframe thead th {\n",
       "        text-align: right;\n",
       "    }\n",
       "</style>\n",
       "<table border=\"1\" class=\"dataframe\">\n",
       "  <thead>\n",
       "    <tr style=\"text-align: right;\">\n",
       "      <th></th>\n",
       "      <th>id</th>\n",
       "      <th>diagnosis</th>\n",
       "      <th>radius_mean</th>\n",
       "      <th>texture_mean</th>\n",
       "      <th>perimeter_mean</th>\n",
       "      <th>area_mean</th>\n",
       "      <th>smoothness_mean</th>\n",
       "      <th>compactness_mean</th>\n",
       "      <th>concavity_mean</th>\n",
       "      <th>concave points_mean</th>\n",
       "      <th>...</th>\n",
       "      <th>radius_worst</th>\n",
       "      <th>texture_worst</th>\n",
       "      <th>perimeter_worst</th>\n",
       "      <th>area_worst</th>\n",
       "      <th>smoothness_worst</th>\n",
       "      <th>compactness_worst</th>\n",
       "      <th>concavity_worst</th>\n",
       "      <th>concave points_worst</th>\n",
       "      <th>symmetry_worst</th>\n",
       "      <th>fractal_dimension_worst</th>\n",
       "    </tr>\n",
       "  </thead>\n",
       "  <tbody>\n",
       "    <tr>\n",
       "      <th>0</th>\n",
       "      <td>842302</td>\n",
       "      <td>M</td>\n",
       "      <td>17.99</td>\n",
       "      <td>10.38</td>\n",
       "      <td>122.80</td>\n",
       "      <td>1001.0</td>\n",
       "      <td>0.11840</td>\n",
       "      <td>0.27760</td>\n",
       "      <td>0.30010</td>\n",
       "      <td>0.14710</td>\n",
       "      <td>...</td>\n",
       "      <td>25.380</td>\n",
       "      <td>17.33</td>\n",
       "      <td>184.60</td>\n",
       "      <td>2019.0</td>\n",
       "      <td>0.16220</td>\n",
       "      <td>0.66560</td>\n",
       "      <td>0.7119</td>\n",
       "      <td>0.2654</td>\n",
       "      <td>0.4601</td>\n",
       "      <td>0.11890</td>\n",
       "    </tr>\n",
       "    <tr>\n",
       "      <th>1</th>\n",
       "      <td>842517</td>\n",
       "      <td>M</td>\n",
       "      <td>20.57</td>\n",
       "      <td>17.77</td>\n",
       "      <td>132.90</td>\n",
       "      <td>1326.0</td>\n",
       "      <td>0.08474</td>\n",
       "      <td>0.07864</td>\n",
       "      <td>0.08690</td>\n",
       "      <td>0.07017</td>\n",
       "      <td>...</td>\n",
       "      <td>24.990</td>\n",
       "      <td>23.41</td>\n",
       "      <td>158.80</td>\n",
       "      <td>1956.0</td>\n",
       "      <td>0.12380</td>\n",
       "      <td>0.18660</td>\n",
       "      <td>0.2416</td>\n",
       "      <td>0.1860</td>\n",
       "      <td>0.2750</td>\n",
       "      <td>0.08902</td>\n",
       "    </tr>\n",
       "    <tr>\n",
       "      <th>2</th>\n",
       "      <td>84300903</td>\n",
       "      <td>M</td>\n",
       "      <td>19.69</td>\n",
       "      <td>21.25</td>\n",
       "      <td>130.00</td>\n",
       "      <td>1203.0</td>\n",
       "      <td>0.10960</td>\n",
       "      <td>0.15990</td>\n",
       "      <td>0.19740</td>\n",
       "      <td>0.12790</td>\n",
       "      <td>...</td>\n",
       "      <td>23.570</td>\n",
       "      <td>25.53</td>\n",
       "      <td>152.50</td>\n",
       "      <td>1709.0</td>\n",
       "      <td>0.14440</td>\n",
       "      <td>0.42450</td>\n",
       "      <td>0.4504</td>\n",
       "      <td>0.2430</td>\n",
       "      <td>0.3613</td>\n",
       "      <td>0.08758</td>\n",
       "    </tr>\n",
       "    <tr>\n",
       "      <th>3</th>\n",
       "      <td>84348301</td>\n",
       "      <td>M</td>\n",
       "      <td>11.42</td>\n",
       "      <td>20.38</td>\n",
       "      <td>77.58</td>\n",
       "      <td>386.1</td>\n",
       "      <td>0.14250</td>\n",
       "      <td>0.28390</td>\n",
       "      <td>0.24140</td>\n",
       "      <td>0.10520</td>\n",
       "      <td>...</td>\n",
       "      <td>14.910</td>\n",
       "      <td>26.50</td>\n",
       "      <td>98.87</td>\n",
       "      <td>567.7</td>\n",
       "      <td>0.20980</td>\n",
       "      <td>0.86630</td>\n",
       "      <td>0.6869</td>\n",
       "      <td>0.2575</td>\n",
       "      <td>0.6638</td>\n",
       "      <td>0.17300</td>\n",
       "    </tr>\n",
       "    <tr>\n",
       "      <th>4</th>\n",
       "      <td>84358402</td>\n",
       "      <td>M</td>\n",
       "      <td>20.29</td>\n",
       "      <td>14.34</td>\n",
       "      <td>135.10</td>\n",
       "      <td>1297.0</td>\n",
       "      <td>0.10030</td>\n",
       "      <td>0.13280</td>\n",
       "      <td>0.19800</td>\n",
       "      <td>0.10430</td>\n",
       "      <td>...</td>\n",
       "      <td>22.540</td>\n",
       "      <td>16.67</td>\n",
       "      <td>152.20</td>\n",
       "      <td>1575.0</td>\n",
       "      <td>0.13740</td>\n",
       "      <td>0.20500</td>\n",
       "      <td>0.4000</td>\n",
       "      <td>0.1625</td>\n",
       "      <td>0.2364</td>\n",
       "      <td>0.07678</td>\n",
       "    </tr>\n",
       "    <tr>\n",
       "      <th>...</th>\n",
       "      <td>...</td>\n",
       "      <td>...</td>\n",
       "      <td>...</td>\n",
       "      <td>...</td>\n",
       "      <td>...</td>\n",
       "      <td>...</td>\n",
       "      <td>...</td>\n",
       "      <td>...</td>\n",
       "      <td>...</td>\n",
       "      <td>...</td>\n",
       "      <td>...</td>\n",
       "      <td>...</td>\n",
       "      <td>...</td>\n",
       "      <td>...</td>\n",
       "      <td>...</td>\n",
       "      <td>...</td>\n",
       "      <td>...</td>\n",
       "      <td>...</td>\n",
       "      <td>...</td>\n",
       "      <td>...</td>\n",
       "      <td>...</td>\n",
       "    </tr>\n",
       "    <tr>\n",
       "      <th>564</th>\n",
       "      <td>926424</td>\n",
       "      <td>M</td>\n",
       "      <td>21.56</td>\n",
       "      <td>22.39</td>\n",
       "      <td>142.00</td>\n",
       "      <td>1479.0</td>\n",
       "      <td>0.11100</td>\n",
       "      <td>0.11590</td>\n",
       "      <td>0.24390</td>\n",
       "      <td>0.13890</td>\n",
       "      <td>...</td>\n",
       "      <td>25.450</td>\n",
       "      <td>26.40</td>\n",
       "      <td>166.10</td>\n",
       "      <td>2027.0</td>\n",
       "      <td>0.14100</td>\n",
       "      <td>0.21130</td>\n",
       "      <td>0.4107</td>\n",
       "      <td>0.2216</td>\n",
       "      <td>0.2060</td>\n",
       "      <td>0.07115</td>\n",
       "    </tr>\n",
       "    <tr>\n",
       "      <th>565</th>\n",
       "      <td>926682</td>\n",
       "      <td>M</td>\n",
       "      <td>20.13</td>\n",
       "      <td>28.25</td>\n",
       "      <td>131.20</td>\n",
       "      <td>1261.0</td>\n",
       "      <td>0.09780</td>\n",
       "      <td>0.10340</td>\n",
       "      <td>0.14400</td>\n",
       "      <td>0.09791</td>\n",
       "      <td>...</td>\n",
       "      <td>23.690</td>\n",
       "      <td>38.25</td>\n",
       "      <td>155.00</td>\n",
       "      <td>1731.0</td>\n",
       "      <td>0.11660</td>\n",
       "      <td>0.19220</td>\n",
       "      <td>0.3215</td>\n",
       "      <td>0.1628</td>\n",
       "      <td>0.2572</td>\n",
       "      <td>0.06637</td>\n",
       "    </tr>\n",
       "    <tr>\n",
       "      <th>566</th>\n",
       "      <td>926954</td>\n",
       "      <td>M</td>\n",
       "      <td>16.60</td>\n",
       "      <td>28.08</td>\n",
       "      <td>108.30</td>\n",
       "      <td>858.1</td>\n",
       "      <td>0.08455</td>\n",
       "      <td>0.10230</td>\n",
       "      <td>0.09251</td>\n",
       "      <td>0.05302</td>\n",
       "      <td>...</td>\n",
       "      <td>18.980</td>\n",
       "      <td>34.12</td>\n",
       "      <td>126.70</td>\n",
       "      <td>1124.0</td>\n",
       "      <td>0.11390</td>\n",
       "      <td>0.30940</td>\n",
       "      <td>0.3403</td>\n",
       "      <td>0.1418</td>\n",
       "      <td>0.2218</td>\n",
       "      <td>0.07820</td>\n",
       "    </tr>\n",
       "    <tr>\n",
       "      <th>567</th>\n",
       "      <td>927241</td>\n",
       "      <td>M</td>\n",
       "      <td>20.60</td>\n",
       "      <td>29.33</td>\n",
       "      <td>140.10</td>\n",
       "      <td>1265.0</td>\n",
       "      <td>0.11780</td>\n",
       "      <td>0.27700</td>\n",
       "      <td>0.35140</td>\n",
       "      <td>0.15200</td>\n",
       "      <td>...</td>\n",
       "      <td>25.740</td>\n",
       "      <td>39.42</td>\n",
       "      <td>184.60</td>\n",
       "      <td>1821.0</td>\n",
       "      <td>0.16500</td>\n",
       "      <td>0.86810</td>\n",
       "      <td>0.9387</td>\n",
       "      <td>0.2650</td>\n",
       "      <td>0.4087</td>\n",
       "      <td>0.12400</td>\n",
       "    </tr>\n",
       "    <tr>\n",
       "      <th>568</th>\n",
       "      <td>92751</td>\n",
       "      <td>B</td>\n",
       "      <td>7.76</td>\n",
       "      <td>24.54</td>\n",
       "      <td>47.92</td>\n",
       "      <td>181.0</td>\n",
       "      <td>0.05263</td>\n",
       "      <td>0.04362</td>\n",
       "      <td>0.00000</td>\n",
       "      <td>0.00000</td>\n",
       "      <td>...</td>\n",
       "      <td>9.456</td>\n",
       "      <td>30.37</td>\n",
       "      <td>59.16</td>\n",
       "      <td>268.6</td>\n",
       "      <td>0.08996</td>\n",
       "      <td>0.06444</td>\n",
       "      <td>0.0000</td>\n",
       "      <td>0.0000</td>\n",
       "      <td>0.2871</td>\n",
       "      <td>0.07039</td>\n",
       "    </tr>\n",
       "  </tbody>\n",
       "</table>\n",
       "<p>569 rows × 32 columns</p>\n",
       "</div>"
      ],
      "text/plain": [
       "           id diagnosis  radius_mean  texture_mean  perimeter_mean  area_mean  \\\n",
       "0      842302         M        17.99         10.38          122.80     1001.0   \n",
       "1      842517         M        20.57         17.77          132.90     1326.0   \n",
       "2    84300903         M        19.69         21.25          130.00     1203.0   \n",
       "3    84348301         M        11.42         20.38           77.58      386.1   \n",
       "4    84358402         M        20.29         14.34          135.10     1297.0   \n",
       "..        ...       ...          ...           ...             ...        ...   \n",
       "564    926424         M        21.56         22.39          142.00     1479.0   \n",
       "565    926682         M        20.13         28.25          131.20     1261.0   \n",
       "566    926954         M        16.60         28.08          108.30      858.1   \n",
       "567    927241         M        20.60         29.33          140.10     1265.0   \n",
       "568     92751         B         7.76         24.54           47.92      181.0   \n",
       "\n",
       "     smoothness_mean  compactness_mean  concavity_mean  concave points_mean  \\\n",
       "0            0.11840           0.27760         0.30010              0.14710   \n",
       "1            0.08474           0.07864         0.08690              0.07017   \n",
       "2            0.10960           0.15990         0.19740              0.12790   \n",
       "3            0.14250           0.28390         0.24140              0.10520   \n",
       "4            0.10030           0.13280         0.19800              0.10430   \n",
       "..               ...               ...             ...                  ...   \n",
       "564          0.11100           0.11590         0.24390              0.13890   \n",
       "565          0.09780           0.10340         0.14400              0.09791   \n",
       "566          0.08455           0.10230         0.09251              0.05302   \n",
       "567          0.11780           0.27700         0.35140              0.15200   \n",
       "568          0.05263           0.04362         0.00000              0.00000   \n",
       "\n",
       "     ...  radius_worst  texture_worst  perimeter_worst  area_worst  \\\n",
       "0    ...        25.380          17.33           184.60      2019.0   \n",
       "1    ...        24.990          23.41           158.80      1956.0   \n",
       "2    ...        23.570          25.53           152.50      1709.0   \n",
       "3    ...        14.910          26.50            98.87       567.7   \n",
       "4    ...        22.540          16.67           152.20      1575.0   \n",
       "..   ...           ...            ...              ...         ...   \n",
       "564  ...        25.450          26.40           166.10      2027.0   \n",
       "565  ...        23.690          38.25           155.00      1731.0   \n",
       "566  ...        18.980          34.12           126.70      1124.0   \n",
       "567  ...        25.740          39.42           184.60      1821.0   \n",
       "568  ...         9.456          30.37            59.16       268.6   \n",
       "\n",
       "     smoothness_worst  compactness_worst  concavity_worst  \\\n",
       "0             0.16220            0.66560           0.7119   \n",
       "1             0.12380            0.18660           0.2416   \n",
       "2             0.14440            0.42450           0.4504   \n",
       "3             0.20980            0.86630           0.6869   \n",
       "4             0.13740            0.20500           0.4000   \n",
       "..                ...                ...              ...   \n",
       "564           0.14100            0.21130           0.4107   \n",
       "565           0.11660            0.19220           0.3215   \n",
       "566           0.11390            0.30940           0.3403   \n",
       "567           0.16500            0.86810           0.9387   \n",
       "568           0.08996            0.06444           0.0000   \n",
       "\n",
       "     concave points_worst  symmetry_worst  fractal_dimension_worst  \n",
       "0                  0.2654          0.4601                  0.11890  \n",
       "1                  0.1860          0.2750                  0.08902  \n",
       "2                  0.2430          0.3613                  0.08758  \n",
       "3                  0.2575          0.6638                  0.17300  \n",
       "4                  0.1625          0.2364                  0.07678  \n",
       "..                    ...             ...                      ...  \n",
       "564                0.2216          0.2060                  0.07115  \n",
       "565                0.1628          0.2572                  0.06637  \n",
       "566                0.1418          0.2218                  0.07820  \n",
       "567                0.2650          0.4087                  0.12400  \n",
       "568                0.0000          0.2871                  0.07039  \n",
       "\n",
       "[569 rows x 32 columns]"
      ]
     },
     "execution_count": 46,
     "metadata": {},
     "output_type": "execute_result"
    }
   ],
   "source": [
    "cancer = pd.read_csv('../../../Data/Modelos ML/breast-cancer.csv', sep = ';')\n",
    "cancer"
   ]
  },
  {
   "cell_type": "code",
   "execution_count": 75,
   "id": "6jTKFLV7xVJU",
   "metadata": {
    "colab": {
     "base_uri": "https://localhost:8080/"
    },
    "executionInfo": {
     "elapsed": 436,
     "status": "ok",
     "timestamp": 1680083367569,
     "user": {
      "displayName": "Beltran Vazquez",
      "userId": "10815799323004140919"
     },
     "user_tz": -120
    },
    "id": "6jTKFLV7xVJU",
    "outputId": "71884a8f-8711-4fb8-db73-edf443441b29"
   },
   "outputs": [
    {
     "data": {
      "text/plain": [
       "B    357\n",
       "M    212\n",
       "Name: diagnosis, dtype: int64"
      ]
     },
     "execution_count": 75,
     "metadata": {},
     "output_type": "execute_result"
    }
   ],
   "source": [
    "cancer['diagnosis'].value_counts()"
   ]
  },
  {
   "cell_type": "code",
   "execution_count": 47,
   "id": "9a2774d3",
   "metadata": {
    "executionInfo": {
     "elapsed": 344,
     "status": "ok",
     "timestamp": 1680083095630,
     "user": {
      "displayName": "Beltran Vazquez",
      "userId": "10815799323004140919"
     },
     "user_tz": -120
    },
    "id": "9a2774d3"
   },
   "outputs": [],
   "source": [
    "diagnosis={'M': 1, 'B': 0} \n",
    "\n",
    "def encode(dic, x):   \n",
    "    return dic[x]    \n",
    "\n",
    "cancer['diagnosis2']=cancer['diagnosis'].apply(lambda x: diagnosis[x])"
   ]
  },
  {
   "cell_type": "code",
   "execution_count": 48,
   "id": "ad92f736",
   "metadata": {
    "executionInfo": {
     "elapsed": 10,
     "status": "ok",
     "timestamp": 1680083096420,
     "user": {
      "displayName": "Beltran Vazquez",
      "userId": "10815799323004140919"
     },
     "user_tz": -120
    },
    "id": "ad92f736"
   },
   "outputs": [],
   "source": [
    "X = cancer.drop(columns=['id','diagnosis'])\n",
    "X = cancer[['smoothness_mean','compactness_mean']]\n",
    "y = cancer['diagnosis2']\n",
    "\n",
    "X_train, X_test, y_train, y_test = train_test_split(X, y, train_size = 0.8, random_state=42)\n"
   ]
  },
  {
   "cell_type": "code",
   "execution_count": 49,
   "id": "631af20a",
   "metadata": {
    "colab": {
     "base_uri": "https://localhost:8080/"
    },
    "executionInfo": {
     "elapsed": 33,
     "status": "ok",
     "timestamp": 1680082859242,
     "user": {
      "displayName": "Beltran Vazquez",
      "userId": "10815799323004140919"
     },
     "user_tz": -120
    },
    "id": "631af20a",
    "outputId": "05423be8-ca1c-4113-baa6-d6ecb14ddd95"
   },
   "outputs": [
    {
     "data": {
      "text/plain": [
       "204    0\n",
       "70     1\n",
       "131    1\n",
       "431    0\n",
       "540    0\n",
       "      ..\n",
       "486    0\n",
       "75     1\n",
       "249    0\n",
       "238    0\n",
       "265    1\n",
       "Name: diagnosis2, Length: 114, dtype: int64"
      ]
     },
     "execution_count": 49,
     "metadata": {},
     "output_type": "execute_result"
    }
   ],
   "source": [
    "y_test"
   ]
  },
  {
   "cell_type": "code",
   "execution_count": 71,
   "id": "4a328a67",
   "metadata": {
    "colab": {
     "base_uri": "https://localhost:8080/"
    },
    "executionInfo": {
     "elapsed": 10,
     "status": "ok",
     "timestamp": 1680083099763,
     "user": {
      "displayName": "Beltran Vazquez",
      "userId": "10815799323004140919"
     },
     "user_tz": -120
    },
    "id": "4a328a67",
    "outputId": "b99f2157-453e-43ec-9696-e90fcb73d039"
   },
   "outputs": [
    {
     "name": "stdout",
     "output_type": "stream",
     "text": [
      "[-1.15717582]\n",
      "[[0.85635674 5.21828998]]\n"
     ]
    }
   ],
   "source": [
    "model_LR = LogisticRegression()\n",
    "model_LR.fit(X_train, y_train)\n",
    "\n",
    "print(model_LR.intercept_)\n",
    "print(model_LR.coef_)"
   ]
  },
  {
   "cell_type": "code",
   "execution_count": null,
   "id": "1d15a8d2",
   "metadata": {
    "id": "1d15a8d2",
    "outputId": "196cbbfa-cb94-4381-ffe1-e1d7fc5fe6e1"
   },
   "outputs": [
    {
     "data": {
      "text/plain": [
       "array([0, 1, 0, 0, 0, 0, 0, 0, 0, 0], dtype=int64)"
      ]
     },
     "execution_count": 292,
     "metadata": {},
     "output_type": "execute_result"
    }
   ],
   "source": [
    "model_LR.predict(X_train)[0:10]"
   ]
  },
  {
   "cell_type": "code",
   "execution_count": 72,
   "id": "13c60272",
   "metadata": {
    "colab": {
     "base_uri": "https://localhost:8080/"
    },
    "executionInfo": {
     "elapsed": 5,
     "status": "ok",
     "timestamp": 1680083102282,
     "user": {
      "displayName": "Beltran Vazquez",
      "userId": "10815799323004140919"
     },
     "user_tz": -120
    },
    "id": "13c60272",
    "outputId": "83a87a52-4ed2-4918-bd5e-41ffe7598077"
   },
   "outputs": [
    {
     "name": "stdout",
     "output_type": "stream",
     "text": [
      "Train set score (Accuracy) = 0.6681\n",
      "Test set score (Accuracy) = 0.6842\n",
      "╒═════════════════╤══════════════════╤═══════════════════╕\n",
      "│                 │   pred cancer No │   pred cancer Yes │\n",
      "╞═════════════════╪══════════════════╪═══════════════════╡\n",
      "│ real cancer No  │               71 │                 0 │\n",
      "├─────────────────┼──────────────────┼───────────────────┤\n",
      "│ real cancer Yes │               36 │                 7 │\n",
      "╘═════════════════╧══════════════════╧═══════════════════╛\n",
      "              precision    recall  f1-score   support\n",
      "\n",
      "           0       0.66      1.00      0.80        71\n",
      "           1       1.00      0.16      0.28        43\n",
      "\n",
      "    accuracy                           0.68       114\n",
      "   macro avg       0.83      0.58      0.54       114\n",
      "weighted avg       0.79      0.68      0.60       114\n",
      "\n"
     ]
    }
   ],
   "source": [
    "print(\"Train set score (Accuracy) =\", model_LR.score(X_train, y_train).round(4))\n",
    "print(\"Test set score (Accuracy) =\", model_LR.score(X_test, y_test).round(4))\n",
    "\n",
    "conf_mat = confusion_matrix(y_test, model_LR.predict(X_test))\n",
    "print(tabulate(conf_mat,headers = ['pred cancer No','pred cancer Yes'], showindex = ['real cancer No','real cancer Yes'], tablefmt = 'fancy_grid'))\n",
    "\n",
    "print(classification_report(y_test, model_LR.predict(X_test)))"
   ]
  },
  {
   "cell_type": "code",
   "execution_count": 76,
   "id": "4b768119",
   "metadata": {
    "colab": {
     "base_uri": "https://localhost:8080/"
    },
    "executionInfo": {
     "elapsed": 787,
     "status": "ok",
     "timestamp": 1680083427333,
     "user": {
      "displayName": "Beltran Vazquez",
      "userId": "10815799323004140919"
     },
     "user_tz": -120
    },
    "id": "4b768119",
    "outputId": "2fd2bb4f-6611-460c-84ee-dc6e64082ee6"
   },
   "outputs": [
    {
     "data": {
      "text/plain": [
       "diagnosis2\n",
       "0    357\n",
       "1    212\n",
       "Name: diagnosis2, dtype: int64"
      ]
     },
     "execution_count": 76,
     "metadata": {},
     "output_type": "execute_result"
    }
   ],
   "source": [
    "cancer.groupby('diagnosis2')['diagnosis2'].count()"
   ]
  },
  {
   "cell_type": "code",
   "execution_count": 77,
   "id": "83aebde5",
   "metadata": {
    "colab": {
     "base_uri": "https://localhost:8080/",
     "height": 303
    },
    "executionInfo": {
     "elapsed": 868,
     "status": "ok",
     "timestamp": 1680083429266,
     "user": {
      "displayName": "Beltran Vazquez",
      "userId": "10815799323004140919"
     },
     "user_tz": -120
    },
    "id": "83aebde5",
    "outputId": "689b775d-3819-4f34-82ed-f6dcbe8847bd",
    "scrolled": true
   },
   "outputs": [
    {
     "data": {
      "text/plain": [
       "<Axes: xlabel='diagnosis2', ylabel='Count'>"
      ]
     },
     "execution_count": 77,
     "metadata": {},
     "output_type": "execute_result"
    },
    {
     "data": {
      "image/png": "[encoded data removed]",
      "text/plain": [
       "<Figure size 432x288 with 1 Axes>"
      ]
     },
     "metadata": {},
     "output_type": "display_data"
    }
   ],
   "source": [
    "sns.histplot(cancer.diagnosis2)"
   ]
  },
  {
   "cell_type": "markdown",
   "id": "95c7748d",
   "metadata": {
    "id": "95c7748d"
   },
   "source": [
    "## Modelos de clasificación desbalanceados\n",
    "\n",
    "En el mundo real pocas son las ocasiones en las que las categorías de nuestra variable dependiente están balanceadas, esto quiere decir que la **variable dependiente no tiene la misma frecuencia en sus dos catagorías**.\n",
    "\n",
    "\n",
    "Hay que prestar especial atención a esto ya que el modelo puede clasificar mal aparentando que lo hace bien. Como acabamos de ver, el algoritmo es muy listo y sabe que clasificando todo 0 va a tener una buena accuracy, así que \"no se la juega\"\n",
    "\n",
    "\n",
    "Por eso es tan importante hacer un buen **análisis de datos y conocer bien la distribución de nuestras variables**"
   ]
  },
  {
   "cell_type": "markdown",
   "id": "87888a0a",
   "metadata": {
    "id": "87888a0a"
   },
   "source": [
    "Existen varias formas de corregir esta situación de desbalanceo: oversampling y undersampling.\n",
    "\n",
    "El **oversampling** consiste en repetir/duplicar observaciones de la clase menos frecuente hasta conseguir una proporción de al menos 40/60\n",
    "\n",
    "\n",
    "El **undersampling** consiste en eliminar observaciones de la clase mayoritaria hasta igualar con la otra (al menos 40/60).\n",
    "\n",
    "También se puede hacer una combinación de ambas.\n",
    "\n",
    "Es importante tener en cuenta que solo aplicaremos la técnica de Oversampling o Undersampling a los **datos de entrenamiento**, los datos de test no se tocan.\n",
    "\n",
    "\n",
    "Nuestro desbalanceo aquí es de un 30/70, pero es habitual encontrarse un 10/90 o incluso 1/99\n",
    "\n",
    "Cómo solucionarlo??\n",
    "https://medium.com/grabngoinfo/four-oversampling-and-under-sampling-methods-for-imbalanced-classification-using-python-7304aedf9037"
   ]
  },
  {
   "cell_type": "markdown",
   "id": "38537c3a",
   "metadata": {
    "id": "38537c3a"
   },
   "source": [
    "### Over Sampling\n",
    "\n",
    "- Random Oversampling: Con esta técnica el algoritmo genera datos nuevos de forma aleatoria basándose en los datos que le pasamos, hasta igualar ambas clases.\n"
   ]
  },
  {
   "cell_type": "code",
   "execution_count": 50,
   "id": "74a0b9ba",
   "metadata": {
    "id": "74a0b9ba"
   },
   "outputs": [],
   "source": [
    "ros = RandomOverSampler(random_state=42)\n",
    "X_train_ros, y_train_ros= ros.fit_resample(X_train, y_train)\n"
   ]
  },
  {
   "cell_type": "code",
   "execution_count": 51,
   "id": "eecaff33",
   "metadata": {
    "id": "eecaff33",
    "outputId": "6f73e455-e3de-40a7-a077-5ddca0aaf1ac"
   },
   "outputs": [
    {
     "data": {
      "text/plain": [
       "diagnosis2\n",
       "0    286\n",
       "1    286\n",
       "Name: count, dtype: int64"
      ]
     },
     "execution_count": 51,
     "metadata": {},
     "output_type": "execute_result"
    }
   ],
   "source": [
    "y_train_ros.value_counts()"
   ]
  },
  {
   "cell_type": "code",
   "execution_count": null,
   "id": "767e64a8",
   "metadata": {
    "id": "767e64a8",
    "outputId": "7ceded47-a4be-42ff-eadc-45bcf66553aa"
   },
   "outputs": [
    {
     "data": {
      "text/plain": [
       "<AxesSubplot:xlabel='diagnosis2', ylabel='Count'>"
      ]
     },
     "execution_count": 135,
     "metadata": {},
     "output_type": "execute_result"
    },
    {
     "data": {
      "image/png": "[encoded data removed]",
      "text/plain": [
       "<Figure size 432x288 with 1 Axes>"
      ]
     },
     "metadata": {
      "needs_background": "light"
     },
     "output_type": "display_data"
    }
   ],
   "source": [
    "sns.histplot(y_train_ros)"
   ]
  },
  {
   "cell_type": "code",
   "execution_count": null,
   "id": "0a11bfc4",
   "metadata": {
    "id": "0a11bfc4",
    "outputId": "17b00362-3fbb-4ba4-f6d5-092e22d83b84"
   },
   "outputs": [
    {
     "name": "stdout",
     "output_type": "stream",
     "text": [
      "[-0.80405137]\n",
      "[[1.0444569  6.35140046]]\n"
     ]
    }
   ],
   "source": [
    "model_LR_ros = LogisticRegression()\n",
    "model_LR_ros.fit(X_train_ros, y_train_ros)\n",
    "\n",
    "print(model_LR_ros.intercept_)\n",
    "print(model_LR_ros.coef_)"
   ]
  },
  {
   "cell_type": "code",
   "execution_count": null,
   "id": "8133d02f",
   "metadata": {
    "id": "8133d02f",
    "outputId": "4763dd67-90f3-4cfa-d6e2-13b5b928516f"
   },
   "outputs": [
    {
     "name": "stdout",
     "output_type": "stream",
     "text": [
      "Train set score (Accuracy) = 0.7934\n",
      "Test set score (Accuracy) = 0.7807\n",
      "╒══════════════════╤════════════════════╤════════════════════╕\n",
      "│                  │   pred diagnosis B │   pred diagnosis M │\n",
      "╞══════════════════╪════════════════════╪════════════════════╡\n",
      "│ real iagnosis B  │                 58 │                 13 │\n",
      "├──────────────────┼────────────────────┼────────────────────┤\n",
      "│ real diagnosis M │                 12 │                 31 │\n",
      "╘══════════════════╧════════════════════╧════════════════════╛\n",
      "              precision    recall  f1-score   support\n",
      "\n",
      "           0       0.83      0.82      0.82        71\n",
      "           1       0.70      0.72      0.71        43\n",
      "\n",
      "    accuracy                           0.78       114\n",
      "   macro avg       0.77      0.77      0.77       114\n",
      "weighted avg       0.78      0.78      0.78       114\n",
      "\n"
     ]
    }
   ],
   "source": [
    "print(\"Train set score (Accuracy) =\", model_LR_ros.score(X_train, y_train).round(4))\n",
    "print(\"Test set score (Accuracy) =\", model_LR_ros.score(X_test, y_test).round(4))\n",
    "\n",
    "conf_mat = confusion_matrix(y_test, model_LR_ros.predict(X_test))\n",
    "print(tabulate(conf_mat,headers = ['pred diagnosis B','pred diagnosis M'], showindex = ['real iagnosis B','real diagnosis M'], tablefmt = 'fancy_grid'))\n",
    "\n",
    "print(classification_report(y_test, model_LR_ros.predict(X_test)))"
   ]
  },
  {
   "cell_type": "markdown",
   "id": "f9d9c2ea",
   "metadata": {
    "id": "f9d9c2ea"
   },
   "source": [
    "### Oversampling SMOTE\n",
    "\n",
    "\n",
    "SMOTE es una técnica de oversampling que genera ejemplos sintéticos de la clase minoritaria para equilibrar un conjunto de datos desbalanceado, en lugar de simplemente duplicar observaciones existentes.\n",
    "\n",
    "Busca los k vecinos más cercanos para cada muestra minoritaria usando una métrica de distancia (por defecto, euclídea), calculada sobre todas las variables numéricas de X_train. Después, selecciona uno de esos vecinos al azar para a continuación generar un punto entre el original y el vecino.\n",
    "\n",
    "SMOTE solo funciona con variables numéricas, si tienes variables categóricas debemos usar SMOTENC.\n",
    "\n",
    "```python\n",
    "# Índices (no nombres) de las columnas categóricas\n",
    "categorical_features = [0, 3, 5]  # por ejemplo\n",
    "\n",
    "smote_nc = SMOTENC(categorical_features=categorical_features, random_state=42)\n",
    "X_train_sm, y_train_sm = smote_nc.fit_resample(X_train, y_train)\n",
    "```"
   ]
  },
  {
   "cell_type": "code",
   "execution_count": 52,
   "id": "18884b0c",
   "metadata": {
    "id": "18884b0c"
   },
   "outputs": [],
   "source": [
    "smote = SMOTE()"
   ]
  },
  {
   "cell_type": "code",
   "execution_count": 53,
   "id": "df7a85da",
   "metadata": {
    "id": "df7a85da"
   },
   "outputs": [],
   "source": [
    "X_train_sm, y_train_sm = smote.fit_resample(X_train, y_train)"
   ]
  },
  {
   "cell_type": "code",
   "execution_count": 54,
   "id": "dbe898b5",
   "metadata": {
    "id": "dbe898b5",
    "outputId": "9146c3d5-6e18-40b1-d0a1-12e129a9909c"
   },
   "outputs": [
    {
     "data": {
      "text/plain": [
       "diagnosis2\n",
       "0    286\n",
       "1    286\n",
       "Name: count, dtype: int64"
      ]
     },
     "execution_count": 54,
     "metadata": {},
     "output_type": "execute_result"
    }
   ],
   "source": [
    "y_train_sm.value_counts()"
   ]
  },
  {
   "cell_type": "code",
   "execution_count": null,
   "id": "952c6c1e",
   "metadata": {
    "id": "952c6c1e",
    "outputId": "990a9579-4e12-4598-9292-74e2786b0f0d"
   },
   "outputs": [
    {
     "data": {
      "image/png": "[encoded data removed]",
      "text/plain": [
       "<Figure size 432x288 with 1 Axes>"
      ]
     },
     "metadata": {
      "needs_background": "light"
     },
     "output_type": "display_data"
    }
   ],
   "source": [
    "sns.histplot(y_train_sm);"
   ]
  },
  {
   "cell_type": "code",
   "execution_count": null,
   "id": "8460bc89",
   "metadata": {
    "id": "8460bc89",
    "outputId": "ee39238f-99f3-4ad4-a39f-157e521ebb4f"
   },
   "outputs": [
    {
     "data": {
      "text/html": [
       "<style>#sk-container-id-12 {color: black;background-color: white;}#sk-container-id-12 pre{padding: 0;}#sk-container-id-12 div.sk-toggleable {background-color: white;}#sk-container-id-12 label.sk-toggleable__label {cursor: pointer;display: block;width: 100%;margin-bottom: 0;padding: 0.3em;box-sizing: border-box;text-align: center;}#sk-container-id-12 label.sk-toggleable__label-arrow:before {content: \"▸\";float: left;margin-right: 0.25em;color: #696969;}#sk-container-id-12 label.sk-toggleable__label-arrow:hover:before {color: black;}#sk-container-id-12 div.sk-estimator:hover label.sk-toggleable__label-arrow:before {color: black;}#sk-container-id-12 div.sk-toggleable__content {max-height: 0;max-width: 0;overflow: hidden;text-align: left;background-color: #f0f8ff;}#sk-container-id-12 div.sk-toggleable__content pre {margin: 0.2em;color: black;border-radius: 0.25em;background-color: #f0f8ff;}#sk-container-id-12 input.sk-toggleable__control:checked~div.sk-toggleable__content {max-height: 200px;max-width: 100%;overflow: auto;}#sk-container-id-12 input.sk-toggleable__control:checked~label.sk-toggleable__label-arrow:before {content: \"▾\";}#sk-container-id-12 div.sk-estimator input.sk-toggleable__control:checked~label.sk-toggleable__label {background-color: #d4ebff;}#sk-container-id-12 div.sk-label input.sk-toggleable__control:checked~label.sk-toggleable__label {background-color: #d4ebff;}#sk-container-id-12 input.sk-hidden--visually {border: 0;clip: rect(1px 1px 1px 1px);clip: rect(1px, 1px, 1px, 1px);height: 1px;margin: -1px;overflow: hidden;padding: 0;position: absolute;width: 1px;}#sk-container-id-12 div.sk-estimator {font-family: monospace;background-color: #f0f8ff;border: 1px dotted black;border-radius: 0.25em;box-sizing: border-box;margin-bottom: 0.5em;}#sk-container-id-12 div.sk-estimator:hover {background-color: #d4ebff;}#sk-container-id-12 div.sk-parallel-item::after {content: \"\";width: 100%;border-bottom: 1px solid gray;flex-grow: 1;}#sk-container-id-12 div.sk-label:hover label.sk-toggleable__label {background-color: #d4ebff;}#sk-container-id-12 div.sk-serial::before {content: \"\";position: absolute;border-left: 1px solid gray;box-sizing: border-box;top: 0;bottom: 0;left: 50%;z-index: 0;}#sk-container-id-12 div.sk-serial {display: flex;flex-direction: column;align-items: center;background-color: white;padding-right: 0.2em;padding-left: 0.2em;position: relative;}#sk-container-id-12 div.sk-item {position: relative;z-index: 1;}#sk-container-id-12 div.sk-parallel {display: flex;align-items: stretch;justify-content: center;background-color: white;position: relative;}#sk-container-id-12 div.sk-item::before, #sk-container-id-12 div.sk-parallel-item::before {content: \"\";position: absolute;border-left: 1px solid gray;box-sizing: border-box;top: 0;bottom: 0;left: 50%;z-index: -1;}#sk-container-id-12 div.sk-parallel-item {display: flex;flex-direction: column;z-index: 1;position: relative;background-color: white;}#sk-container-id-12 div.sk-parallel-item:first-child::after {align-self: flex-end;width: 50%;}#sk-container-id-12 div.sk-parallel-item:last-child::after {align-self: flex-start;width: 50%;}#sk-container-id-12 div.sk-parallel-item:only-child::after {width: 0;}#sk-container-id-12 div.sk-dashed-wrapped {border: 1px dashed gray;margin: 0 0.4em 0.5em 0.4em;box-sizing: border-box;padding-bottom: 0.4em;background-color: white;}#sk-container-id-12 div.sk-label label {font-family: monospace;font-weight: bold;display: inline-block;line-height: 1.2em;}#sk-container-id-12 div.sk-label-container {text-align: center;}#sk-container-id-12 div.sk-container {/* jupyter's `normalize.less` sets `[hidden] { display: none; }` but bootstrap.min.css set `[hidden] { display: none !important; }` so we also need the `!important` here to be able to override the default hidden behavior on the sphinx rendered scikit-learn.org. See: https://github.com/scikit-learn/scikit-learn/issues/21755 */display: inline-block !important;position: relative;}#sk-container-id-12 div.sk-text-repr-fallback {display: none;}</style><div id=\"sk-container-id-12\" class=\"sk-top-container\"><div class=\"sk-text-repr-fallback\"><pre>LogisticRegression()</pre><b>In a Jupyter environment, please rerun this cell to show the HTML representation or trust the notebook. <br />On GitHub, the HTML representation is unable to render, please try loading this page with nbviewer.org.</b></div><div class=\"sk-container\" hidden><div class=\"sk-item\"><div class=\"sk-estimator sk-toggleable\"><input class=\"sk-toggleable__control sk-hidden--visually\" id=\"sk-estimator-id-12\" type=\"checkbox\" checked><label for=\"sk-estimator-id-12\" class=\"sk-toggleable__label sk-toggleable__label-arrow\">LogisticRegression</label><div class=\"sk-toggleable__content\"><pre>LogisticRegression()</pre></div></div></div></div></div>"
      ],
      "text/plain": [
       "LogisticRegression()"
      ]
     },
     "execution_count": 142,
     "metadata": {},
     "output_type": "execute_result"
    }
   ],
   "source": [
    "model_LR_sm = LogisticRegression()\n",
    "model_LR_sm.fit(X_train_sm, y_train_sm)"
   ]
  },
  {
   "cell_type": "code",
   "execution_count": null,
   "id": "a1598206",
   "metadata": {
    "id": "a1598206",
    "outputId": "bdd45f6b-c018-46c9-d99d-d89400917bc1"
   },
   "outputs": [
    {
     "data": {
      "text/plain": [
       "array([-0.81459994])"
      ]
     },
     "execution_count": 143,
     "metadata": {},
     "output_type": "execute_result"
    }
   ],
   "source": [
    "model_LR_sm.intercept_"
   ]
  },
  {
   "cell_type": "code",
   "execution_count": null,
   "id": "45275488",
   "metadata": {
    "id": "45275488",
    "outputId": "bb728532-b5e5-4873-aa21-200f1f8fb5db"
   },
   "outputs": [
    {
     "data": {
      "text/plain": [
       "array([[1.01670075, 6.43290437]])"
      ]
     },
     "execution_count": 144,
     "metadata": {},
     "output_type": "execute_result"
    }
   ],
   "source": [
    "model_LR_sm.coef_"
   ]
  },
  {
   "cell_type": "code",
   "execution_count": null,
   "id": "47888074",
   "metadata": {
    "id": "47888074",
    "outputId": "34e6bee5-d5f4-494f-9d3f-abd55a93442c"
   },
   "outputs": [
    {
     "data": {
      "text/plain": [
       "array([0, 0, 1, 1, 1, 1, 1, 1, 1, 0, 0, 0, 0, 1, 0, 1, 0, 0, 0, 1, 1, 0,\n",
       "       1, 0, 0, 0, 0, 0, 0, 1, 0, 0, 0, 0, 0, 0, 0, 0, 0, 0, 0, 0, 1, 0,\n",
       "       0, 0, 1, 0, 0, 0, 0, 1, 1, 0, 1, 0, 1, 1, 1, 0, 0, 1, 1, 0, 0, 0,\n",
       "       1, 1, 0, 1, 1, 1, 0, 1, 0, 1, 0, 1, 0, 1, 1, 0, 0, 1, 0, 1, 1, 1,\n",
       "       0, 0, 0, 1, 1, 0, 0, 0, 0, 1, 0, 0, 0, 0, 1, 1, 0, 0, 0, 1, 0, 0,\n",
       "       0, 0, 0, 1], dtype=int64)"
      ]
     },
     "execution_count": 145,
     "metadata": {},
     "output_type": "execute_result"
    }
   ],
   "source": [
    "model_LR_sm.predict(X_test)"
   ]
  },
  {
   "cell_type": "code",
   "execution_count": null,
   "id": "24d21ae7",
   "metadata": {
    "id": "24d21ae7",
    "outputId": "83e22936-3ab5-4d73-98ec-8ffea3461efb"
   },
   "outputs": [
    {
     "name": "stdout",
     "output_type": "stream",
     "text": [
      "Train set score (Accuracy) = 0.7867\n",
      "Test set score (Accuracy) = 0.7807\n",
      "╒════════════════════╤═════════════════════╤══════════════════════╕\n",
      "│                    │   pred Purchased No │   pred Purchased Yes │\n",
      "╞════════════════════╪═════════════════════╪══════════════════════╡\n",
      "│ real Purchased No  │                  58 │                   13 │\n",
      "├────────────────────┼─────────────────────┼──────────────────────┤\n",
      "│ real Purchased Yes │                  12 │                   31 │\n",
      "╘════════════════════╧═════════════════════╧══════════════════════╛\n",
      "              precision    recall  f1-score   support\n",
      "\n",
      "           0       0.83      0.82      0.82        71\n",
      "           1       0.70      0.72      0.71        43\n",
      "\n",
      "    accuracy                           0.78       114\n",
      "   macro avg       0.77      0.77      0.77       114\n",
      "weighted avg       0.78      0.78      0.78       114\n",
      "\n"
     ]
    }
   ],
   "source": [
    "print(\"Train set score (Accuracy) =\", model_LR_sm.score(X_train_sm, y_train_sm).round(4))\n",
    "print(\"Test set score (Accuracy) =\", model_LR_sm.score(X_test, y_test).round(4))\n",
    "\n",
    "conf_mat = confusion_matrix(y_test, model_LR_sm.predict(X_test))\n",
    "print(tabulate(conf_mat, headers = ['pred diagnosis B','pred diagnosis M'], showindex = ['real iagnosis B','real diagnosis M'], tablefmt = 'fancy_grid'))\n",
    "\n",
    "print(classification_report(y_test, model_LR_sm.predict(X_test)))"
   ]
  },
  {
   "cell_type": "markdown",
   "id": "f8a69c71",
   "metadata": {
    "id": "f8a69c71"
   },
   "source": [
    "### Undersampling\n",
    "\n",
    "Undersampling elimina aleatoriamente observaciones de la clase mayoritaria hasta igualar con la minoritaria\n"
   ]
  },
  {
   "cell_type": "code",
   "execution_count": null,
   "id": "ace199c8",
   "metadata": {
    "id": "ace199c8",
    "outputId": "f112aeab-934d-4ea2-c887-79813acebd14"
   },
   "outputs": [
    {
     "name": "stdout",
     "output_type": "stream",
     "text": [
      "[(0, 169), (1, 169)]\n"
     ]
    }
   ],
   "source": [
    "# Randomly under sample the majority class\n",
    "rus = RandomUnderSampler(random_state=42)\n",
    "X_train_rus, y_train_rus= rus.fit_resample(X_train, y_train)\n",
    "\n",
    "# Check the number of records after under sampling\n",
    "print(sorted(Counter(y_train_rus).items()))"
   ]
  },
  {
   "cell_type": "code",
   "execution_count": null,
   "id": "1e182820",
   "metadata": {
    "id": "1e182820",
    "outputId": "c95d28f3-cba2-4788-e601-e4f7f9738a10"
   },
   "outputs": [
    {
     "data": {
      "text/plain": [
       "0    169\n",
       "1    169\n",
       "Name: diagnosis2, dtype: int64"
      ]
     },
     "execution_count": 148,
     "metadata": {},
     "output_type": "execute_result"
    }
   ],
   "source": [
    "y_train_rus.value_counts()"
   ]
  },
  {
   "cell_type": "code",
   "execution_count": null,
   "id": "e3394392",
   "metadata": {
    "id": "e3394392",
    "outputId": "35ef82fb-34ed-4198-b52b-0a58d8f93528"
   },
   "outputs": [
    {
     "data": {
      "image/png": "[encoded data removed]",
      "text/plain": [
       "<Figure size 432x288 with 1 Axes>"
      ]
     },
     "metadata": {
      "needs_background": "light"
     },
     "output_type": "display_data"
    }
   ],
   "source": [
    "sns.histplot(y_train_rus);"
   ]
  },
  {
   "cell_type": "code",
   "execution_count": null,
   "id": "3a824601",
   "metadata": {
    "id": "3a824601",
    "outputId": "6757be17-b92a-419e-f2b2-028ce8714361"
   },
   "outputs": [
    {
     "data": {
      "text/html": [
       "<style>#sk-container-id-13 {color: black;background-color: white;}#sk-container-id-13 pre{padding: 0;}#sk-container-id-13 div.sk-toggleable {background-color: white;}#sk-container-id-13 label.sk-toggleable__label {cursor: pointer;display: block;width: 100%;margin-bottom: 0;padding: 0.3em;box-sizing: border-box;text-align: center;}#sk-container-id-13 label.sk-toggleable__label-arrow:before {content: \"▸\";float: left;margin-right: 0.25em;color: #696969;}#sk-container-id-13 label.sk-toggleable__label-arrow:hover:before {color: black;}#sk-container-id-13 div.sk-estimator:hover label.sk-toggleable__label-arrow:before {color: black;}#sk-container-id-13 div.sk-toggleable__content {max-height: 0;max-width: 0;overflow: hidden;text-align: left;background-color: #f0f8ff;}#sk-container-id-13 div.sk-toggleable__content pre {margin: 0.2em;color: black;border-radius: 0.25em;background-color: #f0f8ff;}#sk-container-id-13 input.sk-toggleable__control:checked~div.sk-toggleable__content {max-height: 200px;max-width: 100%;overflow: auto;}#sk-container-id-13 input.sk-toggleable__control:checked~label.sk-toggleable__label-arrow:before {content: \"▾\";}#sk-container-id-13 div.sk-estimator input.sk-toggleable__control:checked~label.sk-toggleable__label {background-color: #d4ebff;}#sk-container-id-13 div.sk-label input.sk-toggleable__control:checked~label.sk-toggleable__label {background-color: #d4ebff;}#sk-container-id-13 input.sk-hidden--visually {border: 0;clip: rect(1px 1px 1px 1px);clip: rect(1px, 1px, 1px, 1px);height: 1px;margin: -1px;overflow: hidden;padding: 0;position: absolute;width: 1px;}#sk-container-id-13 div.sk-estimator {font-family: monospace;background-color: #f0f8ff;border: 1px dotted black;border-radius: 0.25em;box-sizing: border-box;margin-bottom: 0.5em;}#sk-container-id-13 div.sk-estimator:hover {background-color: #d4ebff;}#sk-container-id-13 div.sk-parallel-item::after {content: \"\";width: 100%;border-bottom: 1px solid gray;flex-grow: 1;}#sk-container-id-13 div.sk-label:hover label.sk-toggleable__label {background-color: #d4ebff;}#sk-container-id-13 div.sk-serial::before {content: \"\";position: absolute;border-left: 1px solid gray;box-sizing: border-box;top: 0;bottom: 0;left: 50%;z-index: 0;}#sk-container-id-13 div.sk-serial {display: flex;flex-direction: column;align-items: center;background-color: white;padding-right: 0.2em;padding-left: 0.2em;position: relative;}#sk-container-id-13 div.sk-item {position: relative;z-index: 1;}#sk-container-id-13 div.sk-parallel {display: flex;align-items: stretch;justify-content: center;background-color: white;position: relative;}#sk-container-id-13 div.sk-item::before, #sk-container-id-13 div.sk-parallel-item::before {content: \"\";position: absolute;border-left: 1px solid gray;box-sizing: border-box;top: 0;bottom: 0;left: 50%;z-index: -1;}#sk-container-id-13 div.sk-parallel-item {display: flex;flex-direction: column;z-index: 1;position: relative;background-color: white;}#sk-container-id-13 div.sk-parallel-item:first-child::after {align-self: flex-end;width: 50%;}#sk-container-id-13 div.sk-parallel-item:last-child::after {align-self: flex-start;width: 50%;}#sk-container-id-13 div.sk-parallel-item:only-child::after {width: 0;}#sk-container-id-13 div.sk-dashed-wrapped {border: 1px dashed gray;margin: 0 0.4em 0.5em 0.4em;box-sizing: border-box;padding-bottom: 0.4em;background-color: white;}#sk-container-id-13 div.sk-label label {font-family: monospace;font-weight: bold;display: inline-block;line-height: 1.2em;}#sk-container-id-13 div.sk-label-container {text-align: center;}#sk-container-id-13 div.sk-container {/* jupyter's `normalize.less` sets `[hidden] { display: none; }` but bootstrap.min.css set `[hidden] { display: none !important; }` so we also need the `!important` here to be able to override the default hidden behavior on the sphinx rendered scikit-learn.org. See: https://github.com/scikit-learn/scikit-learn/issues/21755 */display: inline-block !important;position: relative;}#sk-container-id-13 div.sk-text-repr-fallback {display: none;}</style><div id=\"sk-container-id-13\" class=\"sk-top-container\"><div class=\"sk-text-repr-fallback\"><pre>LogisticRegression()</pre><b>In a Jupyter environment, please rerun this cell to show the HTML representation or trust the notebook. <br />On GitHub, the HTML representation is unable to render, please try loading this page with nbviewer.org.</b></div><div class=\"sk-container\" hidden><div class=\"sk-item\"><div class=\"sk-estimator sk-toggleable\"><input class=\"sk-toggleable__control sk-hidden--visually\" id=\"sk-estimator-id-13\" type=\"checkbox\" checked><label for=\"sk-estimator-id-13\" class=\"sk-toggleable__label sk-toggleable__label-arrow\">LogisticRegression</label><div class=\"sk-toggleable__content\"><pre>LogisticRegression()</pre></div></div></div></div></div>"
      ],
      "text/plain": [
       "LogisticRegression()"
      ]
     },
     "execution_count": 150,
     "metadata": {},
     "output_type": "execute_result"
    }
   ],
   "source": [
    "model_LR_rus = LogisticRegression()\n",
    "model_LR_rus.fit(X_train_rus, y_train_rus)"
   ]
  },
  {
   "cell_type": "code",
   "execution_count": null,
   "id": "d9f331d9",
   "metadata": {
    "id": "d9f331d9",
    "outputId": "48c1281e-cca4-416d-f2d5-8c02b437bb45"
   },
   "outputs": [
    {
     "data": {
      "text/plain": [
       "array([-0.5577551])"
      ]
     },
     "execution_count": 151,
     "metadata": {},
     "output_type": "execute_result"
    }
   ],
   "source": [
    "model_LR_rus.intercept_"
   ]
  },
  {
   "cell_type": "code",
   "execution_count": null,
   "id": "f582b0b8",
   "metadata": {
    "id": "f582b0b8",
    "outputId": "da2ca1a8-7001-4c28-fbea-854b8aa5bba0"
   },
   "outputs": [
    {
     "data": {
      "text/plain": [
       "array([[0.70294376, 4.40107778]])"
      ]
     },
     "execution_count": 152,
     "metadata": {},
     "output_type": "execute_result"
    }
   ],
   "source": [
    "model_LR_rus.coef_"
   ]
  },
  {
   "cell_type": "code",
   "execution_count": null,
   "id": "0453479f",
   "metadata": {
    "id": "0453479f",
    "outputId": "0009695c-1f84-4aee-b266-0ee002db3503"
   },
   "outputs": [
    {
     "data": {
      "text/plain": [
       "array([0, 0, 1, 1, 1, 1, 1, 1, 1, 0, 0, 0, 0, 1, 0, 1, 0, 0, 0, 1, 1, 0,\n",
       "       1, 0, 0, 0, 0, 0, 0, 1, 0, 0, 0, 0, 0, 0, 0, 0, 0, 0, 0, 0, 1, 0,\n",
       "       0, 0, 1, 0, 0, 0, 0, 1, 1, 0, 1, 0, 1, 1, 1, 0, 0, 1, 1, 0, 0, 0,\n",
       "       1, 1, 0, 1, 1, 1, 0, 1, 0, 1, 0, 1, 0, 1, 1, 0, 0, 1, 0, 1, 1, 1,\n",
       "       0, 0, 0, 1, 1, 0, 0, 0, 0, 1, 0, 0, 0, 0, 1, 1, 0, 0, 0, 1, 0, 0,\n",
       "       0, 0, 0, 1], dtype=int64)"
      ]
     },
     "execution_count": 153,
     "metadata": {},
     "output_type": "execute_result"
    }
   ],
   "source": [
    "model_LR_rus.predict(X_test)"
   ]
  },
  {
   "cell_type": "code",
   "execution_count": null,
   "id": "a0454ef3",
   "metadata": {
    "id": "a0454ef3",
    "outputId": "b08ac33c-22e0-487b-b43b-5382199a30a6"
   },
   "outputs": [
    {
     "name": "stdout",
     "output_type": "stream",
     "text": [
      "Train set score (Accuracy) = 0.7811\n",
      "Test set score (Accuracy) = 0.7807\n",
      "╒════════════════════╤═════════════════════╤══════════════════════╕\n",
      "│                    │   pred Purchased No │   pred Purchased Yes │\n",
      "╞════════════════════╪═════════════════════╪══════════════════════╡\n",
      "│ real Purchased No  │                  58 │                   13 │\n",
      "├────────────────────┼─────────────────────┼──────────────────────┤\n",
      "│ real Purchased Yes │                  12 │                   31 │\n",
      "╘════════════════════╧═════════════════════╧══════════════════════╛\n",
      "              precision    recall  f1-score   support\n",
      "\n",
      "           0       0.83      0.82      0.82        71\n",
      "           1       0.70      0.72      0.71        43\n",
      "\n",
      "    accuracy                           0.78       114\n",
      "   macro avg       0.77      0.77      0.77       114\n",
      "weighted avg       0.78      0.78      0.78       114\n",
      "\n"
     ]
    }
   ],
   "source": [
    "print(\"Train set score (Accuracy) =\", model_LR_rus.score(X_train_rus, y_train_rus).round(4))\n",
    "print(\"Test set score (Accuracy) =\", model_LR_rus.score(X_test, y_test).round(4))\n",
    "\n",
    "conf_mat = confusion_matrix(y_test, model_LR_rus.predict(X_test))\n",
    "print(tabulate(conf_mat,headers = ['pred diagnosis B','pred diagnosis M'], showindex = ['real iagnosis B','real diagnosis M'], tablefmt = 'fancy_grid'))\n",
    "\n",
    "print(classification_report(y_test, model_LR_rus.predict(X_test)))"
   ]
  },
  {
   "cell_type": "markdown",
   "id": "41d13af1",
   "metadata": {
    "id": "e601a8c7"
   },
   "source": [
    "## Rebalancear el peso de los errores\n",
    "\n",
    "Otra opción es rebalancear el peso de la función de pérdida de manera que los errores de la clase minoritaria tengan mucho más impacto que los errores de la clase mayoritaria, sin alterar el dataset de entrenamiento. De esta forma a cada iteración en la búsqueda de los $\\beta$ óptimos se corrige. La función de pérdida será pues:\n",
    "\n",
    "$$\\mathcal{L}(\\theta) = - \\frac{1}{N} \\sum_{i=1}^N w_{y_i} \\left[ y_i \\log \\hat{p}_i + (1 - y_i) \\log (1 - \\hat{p}_i) \\right]$$\n",
    "\n",
    "- $w_{y_i}$ es el peso asignado a la clase verdadera $y_i$, calculado como:\n",
    "\n",
    "- $w_k = \\frac{N}{K \\times N_k}$\n",
    "\n",
    "- $N $ es el número total de muestras\n",
    "- $K $ es el número total de clases\n",
    "- $N_k $ es el número de muestras de la clase \\( k \\)\n",
    "- $\\hat{p}_i = \\sigma(\\theta^T x_i) = \\frac{1}{1 + e^{-\\theta^T x_i}} $ es la probabilidad predicha para la clase 1\n",
    "\n",
    "En Random Forest balanceamos antes de cada nodo el Gini:\n",
    "\n",
    "$Gini(t) = 1 - \\sum_{i=1}^{C} w_{y_i} p_i^2$\n",
    "\n",
    "\n",
    "Usando la librería sklearn tenemos un paramétro que nos permite realizar esta acción `class_weight='balanced'`, donde balancea la función de pérdida de la siguiente manera\n",
    "\n",
    "\n",
    "$w_i = \\frac{n_{\\text{clases}} \\times n_{\\text{samples}_i}}{n_{\\text{samples}}}$"
   ]
  },
  {
   "cell_type": "code",
   "execution_count": 57,
   "id": "9103198f",
   "metadata": {},
   "outputs": [
    {
     "data": {
      "text/html": [
       "<style>#sk-container-id-2 {\n",
       "  /* Definition of color scheme common for light and dark mode */\n",
       "  --sklearn-color-text: #000;\n",
       "  --sklearn-color-text-muted: #666;\n",
       "  --sklearn-color-line: gray;\n",
       "  /* Definition of color scheme for unfitted estimators */\n",
       "  --sklearn-color-unfitted-level-0: #fff5e6;\n",
       "  --sklearn-color-unfitted-level-1: #f6e4d2;\n",
       "  --sklearn-color-unfitted-level-2: #ffe0b3;\n",
       "  --sklearn-color-unfitted-level-3: chocolate;\n",
       "  /* Definition of color scheme for fitted estimators */\n",
       "  --sklearn-color-fitted-level-0: #f0f8ff;\n",
       "  --sklearn-color-fitted-level-1: #d4ebff;\n",
       "  --sklearn-color-fitted-level-2: #b3dbfd;\n",
       "  --sklearn-color-fitted-level-3: cornflowerblue;\n",
       "\n",
       "  /* Specific color for light theme */\n",
       "  --sklearn-color-text-on-default-background: var(--sg-text-color, var(--theme-code-foreground, var(--jp-content-font-color1, black)));\n",
       "  --sklearn-color-background: var(--sg-background-color, var(--theme-background, var(--jp-layout-color0, white)));\n",
       "  --sklearn-color-border-box: var(--sg-text-color, var(--theme-code-foreground, var(--jp-content-font-color1, black)));\n",
       "  --sklearn-color-icon: #696969;\n",
       "\n",
       "  @media (prefers-color-scheme: dark) {\n",
       "    /* Redefinition of color scheme for dark theme */\n",
       "    --sklearn-color-text-on-default-background: var(--sg-text-color, var(--theme-code-foreground, var(--jp-content-font-color1, white)));\n",
       "    --sklearn-color-background: var(--sg-background-color, var(--theme-background, var(--jp-layout-color0, #111)));\n",
       "    --sklearn-color-border-box: var(--sg-text-color, var(--theme-code-foreground, var(--jp-content-font-color1, white)));\n",
       "    --sklearn-color-icon: #878787;\n",
       "  }\n",
       "}\n",
       "\n",
       "#sk-container-id-2 {\n",
       "  color: var(--sklearn-color-text);\n",
       "}\n",
       "\n",
       "#sk-container-id-2 pre {\n",
       "  padding: 0;\n",
       "}\n",
       "\n",
       "#sk-container-id-2 input.sk-hidden--visually {\n",
       "  border: 0;\n",
       "  clip: rect(1px 1px 1px 1px);\n",
       "  clip: rect(1px, 1px, 1px, 1px);\n",
       "  height: 1px;\n",
       "  margin: -1px;\n",
       "  overflow: hidden;\n",
       "  padding: 0;\n",
       "  position: absolute;\n",
       "  width: 1px;\n",
       "}\n",
       "\n",
       "#sk-container-id-2 div.sk-dashed-wrapped {\n",
       "  border: 1px dashed var(--sklearn-color-line);\n",
       "  margin: 0 0.4em 0.5em 0.4em;\n",
       "  box-sizing: border-box;\n",
       "  padding-bottom: 0.4em;\n",
       "  background-color: var(--sklearn-color-background);\n",
       "}\n",
       "\n",
       "#sk-container-id-2 div.sk-container {\n",
       "  /* jupyter's `normalize.less` sets `[hidden] { display: none; }`\n",
       "     but bootstrap.min.css set `[hidden] { display: none !important; }`\n",
       "     so we also need the `!important` here to be able to override the\n",
       "     default hidden behavior on the sphinx rendered scikit-learn.org.\n",
       "     See: https://github.com/scikit-learn/scikit-learn/issues/21755 */\n",
       "  display: inline-block !important;\n",
       "  position: relative;\n",
       "}\n",
       "\n",
       "#sk-container-id-2 div.sk-text-repr-fallback {\n",
       "  display: none;\n",
       "}\n",
       "\n",
       "div.sk-parallel-item,\n",
       "div.sk-serial,\n",
       "div.sk-item {\n",
       "  /* draw centered vertical line to link estimators */\n",
       "  background-image: linear-gradient(var(--sklearn-color-text-on-default-background), var(--sklearn-color-text-on-default-background));\n",
       "  background-size: 2px 100%;\n",
       "  background-repeat: no-repeat;\n",
       "  background-position: center center;\n",
       "}\n",
       "\n",
       "/* Parallel-specific style estimator block */\n",
       "\n",
       "#sk-container-id-2 div.sk-parallel-item::after {\n",
       "  content: \"\";\n",
       "  width: 100%;\n",
       "  border-bottom: 2px solid var(--sklearn-color-text-on-default-background);\n",
       "  flex-grow: 1;\n",
       "}\n",
       "\n",
       "#sk-container-id-2 div.sk-parallel {\n",
       "  display: flex;\n",
       "  align-items: stretch;\n",
       "  justify-content: center;\n",
       "  background-color: var(--sklearn-color-background);\n",
       "  position: relative;\n",
       "}\n",
       "\n",
       "#sk-container-id-2 div.sk-parallel-item {\n",
       "  display: flex;\n",
       "  flex-direction: column;\n",
       "}\n",
       "\n",
       "#sk-container-id-2 div.sk-parallel-item:first-child::after {\n",
       "  align-self: flex-end;\n",
       "  width: 50%;\n",
       "}\n",
       "\n",
       "#sk-container-id-2 div.sk-parallel-item:last-child::after {\n",
       "  align-self: flex-start;\n",
       "  width: 50%;\n",
       "}\n",
       "\n",
       "#sk-container-id-2 div.sk-parallel-item:only-child::after {\n",
       "  width: 0;\n",
       "}\n",
       "\n",
       "/* Serial-specific style estimator block */\n",
       "\n",
       "#sk-container-id-2 div.sk-serial {\n",
       "  display: flex;\n",
       "  flex-direction: column;\n",
       "  align-items: center;\n",
       "  background-color: var(--sklearn-color-background);\n",
       "  padding-right: 1em;\n",
       "  padding-left: 1em;\n",
       "}\n",
       "\n",
       "\n",
       "/* Toggleable style: style used for estimator/Pipeline/ColumnTransformer box that is\n",
       "clickable and can be expanded/collapsed.\n",
       "- Pipeline and ColumnTransformer use this feature and define the default style\n",
       "- Estimators will overwrite some part of the style using the `sk-estimator` class\n",
       "*/\n",
       "\n",
       "/* Pipeline and ColumnTransformer style (default) */\n",
       "\n",
       "#sk-container-id-2 div.sk-toggleable {\n",
       "  /* Default theme specific background. It is overwritten whether we have a\n",
       "  specific estimator or a Pipeline/ColumnTransformer */\n",
       "  background-color: var(--sklearn-color-background);\n",
       "}\n",
       "\n",
       "/* Toggleable label */\n",
       "#sk-container-id-2 label.sk-toggleable__label {\n",
       "  cursor: pointer;\n",
       "  display: flex;\n",
       "  width: 100%;\n",
       "  margin-bottom: 0;\n",
       "  padding: 0.5em;\n",
       "  box-sizing: border-box;\n",
       "  text-align: center;\n",
       "  align-items: start;\n",
       "  justify-content: space-between;\n",
       "  gap: 0.5em;\n",
       "}\n",
       "\n",
       "#sk-container-id-2 label.sk-toggleable__label .caption {\n",
       "  font-size: 0.6rem;\n",
       "  font-weight: lighter;\n",
       "  color: var(--sklearn-color-text-muted);\n",
       "}\n",
       "\n",
       "#sk-container-id-2 label.sk-toggleable__label-arrow:before {\n",
       "  /* Arrow on the left of the label */\n",
       "  content: \"▸\";\n",
       "  float: left;\n",
       "  margin-right: 0.25em;\n",
       "  color: var(--sklearn-color-icon);\n",
       "}\n",
       "\n",
       "#sk-container-id-2 label.sk-toggleable__label-arrow:hover:before {\n",
       "  color: var(--sklearn-color-text);\n",
       "}\n",
       "\n",
       "/* Toggleable content - dropdown */\n",
       "\n",
       "#sk-container-id-2 div.sk-toggleable__content {\n",
       "  max-height: 0;\n",
       "  max-width: 0;\n",
       "  overflow: hidden;\n",
       "  text-align: left;\n",
       "  /* unfitted */\n",
       "  background-color: var(--sklearn-color-unfitted-level-0);\n",
       "}\n",
       "\n",
       "#sk-container-id-2 div.sk-toggleable__content.fitted {\n",
       "  /* fitted */\n",
       "  background-color: var(--sklearn-color-fitted-level-0);\n",
       "}\n",
       "\n",
       "#sk-container-id-2 div.sk-toggleable__content pre {\n",
       "  margin: 0.2em;\n",
       "  border-radius: 0.25em;\n",
       "  color: var(--sklearn-color-text);\n",
       "  /* unfitted */\n",
       "  background-color: var(--sklearn-color-unfitted-level-0);\n",
       "}\n",
       "\n",
       "#sk-container-id-2 div.sk-toggleable__content.fitted pre {\n",
       "  /* unfitted */\n",
       "  background-color: var(--sklearn-color-fitted-level-0);\n",
       "}\n",
       "\n",
       "#sk-container-id-2 input.sk-toggleable__control:checked~div.sk-toggleable__content {\n",
       "  /* Expand drop-down */\n",
       "  max-height: 200px;\n",
       "  max-width: 100%;\n",
       "  overflow: auto;\n",
       "}\n",
       "\n",
       "#sk-container-id-2 input.sk-toggleable__control:checked~label.sk-toggleable__label-arrow:before {\n",
       "  content: \"▾\";\n",
       "}\n",
       "\n",
       "/* Pipeline/ColumnTransformer-specific style */\n",
       "\n",
       "#sk-container-id-2 div.sk-label input.sk-toggleable__control:checked~label.sk-toggleable__label {\n",
       "  color: var(--sklearn-color-text);\n",
       "  background-color: var(--sklearn-color-unfitted-level-2);\n",
       "}\n",
       "\n",
       "#sk-container-id-2 div.sk-label.fitted input.sk-toggleable__control:checked~label.sk-toggleable__label {\n",
       "  background-color: var(--sklearn-color-fitted-level-2);\n",
       "}\n",
       "\n",
       "/* Estimator-specific style */\n",
       "\n",
       "/* Colorize estimator box */\n",
       "#sk-container-id-2 div.sk-estimator input.sk-toggleable__control:checked~label.sk-toggleable__label {\n",
       "  /* unfitted */\n",
       "  background-color: var(--sklearn-color-unfitted-level-2);\n",
       "}\n",
       "\n",
       "#sk-container-id-2 div.sk-estimator.fitted input.sk-toggleable__control:checked~label.sk-toggleable__label {\n",
       "  /* fitted */\n",
       "  background-color: var(--sklearn-color-fitted-level-2);\n",
       "}\n",
       "\n",
       "#sk-container-id-2 div.sk-label label.sk-toggleable__label,\n",
       "#sk-container-id-2 div.sk-label label {\n",
       "  /* The background is the default theme color */\n",
       "  color: var(--sklearn-color-text-on-default-background);\n",
       "}\n",
       "\n",
       "/* On hover, darken the color of the background */\n",
       "#sk-container-id-2 div.sk-label:hover label.sk-toggleable__label {\n",
       "  color: var(--sklearn-color-text);\n",
       "  background-color: var(--sklearn-color-unfitted-level-2);\n",
       "}\n",
       "\n",
       "/* Label box, darken color on hover, fitted */\n",
       "#sk-container-id-2 div.sk-label.fitted:hover label.sk-toggleable__label.fitted {\n",
       "  color: var(--sklearn-color-text);\n",
       "  background-color: var(--sklearn-color-fitted-level-2);\n",
       "}\n",
       "\n",
       "/* Estimator label */\n",
       "\n",
       "#sk-container-id-2 div.sk-label label {\n",
       "  font-family: monospace;\n",
       "  font-weight: bold;\n",
       "  display: inline-block;\n",
       "  line-height: 1.2em;\n",
       "}\n",
       "\n",
       "#sk-container-id-2 div.sk-label-container {\n",
       "  text-align: center;\n",
       "}\n",
       "\n",
       "/* Estimator-specific */\n",
       "#sk-container-id-2 div.sk-estimator {\n",
       "  font-family: monospace;\n",
       "  border: 1px dotted var(--sklearn-color-border-box);\n",
       "  border-radius: 0.25em;\n",
       "  box-sizing: border-box;\n",
       "  margin-bottom: 0.5em;\n",
       "  /* unfitted */\n",
       "  background-color: var(--sklearn-color-unfitted-level-0);\n",
       "}\n",
       "\n",
       "#sk-container-id-2 div.sk-estimator.fitted {\n",
       "  /* fitted */\n",
       "  background-color: var(--sklearn-color-fitted-level-0);\n",
       "}\n",
       "\n",
       "/* on hover */\n",
       "#sk-container-id-2 div.sk-estimator:hover {\n",
       "  /* unfitted */\n",
       "  background-color: var(--sklearn-color-unfitted-level-2);\n",
       "}\n",
       "\n",
       "#sk-container-id-2 div.sk-estimator.fitted:hover {\n",
       "  /* fitted */\n",
       "  background-color: var(--sklearn-color-fitted-level-2);\n",
       "}\n",
       "\n",
       "/* Specification for estimator info (e.g. \"i\" and \"?\") */\n",
       "\n",
       "/* Common style for \"i\" and \"?\" */\n",
       "\n",
       ".sk-estimator-doc-link,\n",
       "a:link.sk-estimator-doc-link,\n",
       "a:visited.sk-estimator-doc-link {\n",
       "  float: right;\n",
       "  font-size: smaller;\n",
       "  line-height: 1em;\n",
       "  font-family: monospace;\n",
       "  background-color: var(--sklearn-color-background);\n",
       "  border-radius: 1em;\n",
       "  height: 1em;\n",
       "  width: 1em;\n",
       "  text-decoration: none !important;\n",
       "  margin-left: 0.5em;\n",
       "  text-align: center;\n",
       "  /* unfitted */\n",
       "  border: var(--sklearn-color-unfitted-level-1) 1pt solid;\n",
       "  color: var(--sklearn-color-unfitted-level-1);\n",
       "}\n",
       "\n",
       ".sk-estimator-doc-link.fitted,\n",
       "a:link.sk-estimator-doc-link.fitted,\n",
       "a:visited.sk-estimator-doc-link.fitted {\n",
       "  /* fitted */\n",
       "  border: var(--sklearn-color-fitted-level-1) 1pt solid;\n",
       "  color: var(--sklearn-color-fitted-level-1);\n",
       "}\n",
       "\n",
       "/* On hover */\n",
       "div.sk-estimator:hover .sk-estimator-doc-link:hover,\n",
       ".sk-estimator-doc-link:hover,\n",
       "div.sk-label-container:hover .sk-estimator-doc-link:hover,\n",
       ".sk-estimator-doc-link:hover {\n",
       "  /* unfitted */\n",
       "  background-color: var(--sklearn-color-unfitted-level-3);\n",
       "  color: var(--sklearn-color-background);\n",
       "  text-decoration: none;\n",
       "}\n",
       "\n",
       "div.sk-estimator.fitted:hover .sk-estimator-doc-link.fitted:hover,\n",
       ".sk-estimator-doc-link.fitted:hover,\n",
       "div.sk-label-container:hover .sk-estimator-doc-link.fitted:hover,\n",
       ".sk-estimator-doc-link.fitted:hover {\n",
       "  /* fitted */\n",
       "  background-color: var(--sklearn-color-fitted-level-3);\n",
       "  color: var(--sklearn-color-background);\n",
       "  text-decoration: none;\n",
       "}\n",
       "\n",
       "/* Span, style for the box shown on hovering the info icon */\n",
       ".sk-estimator-doc-link span {\n",
       "  display: none;\n",
       "  z-index: 9999;\n",
       "  position: relative;\n",
       "  font-weight: normal;\n",
       "  right: .2ex;\n",
       "  padding: .5ex;\n",
       "  margin: .5ex;\n",
       "  width: min-content;\n",
       "  min-width: 20ex;\n",
       "  max-width: 50ex;\n",
       "  color: var(--sklearn-color-text);\n",
       "  box-shadow: 2pt 2pt 4pt #999;\n",
       "  /* unfitted */\n",
       "  background: var(--sklearn-color-unfitted-level-0);\n",
       "  border: .5pt solid var(--sklearn-color-unfitted-level-3);\n",
       "}\n",
       "\n",
       ".sk-estimator-doc-link.fitted span {\n",
       "  /* fitted */\n",
       "  background: var(--sklearn-color-fitted-level-0);\n",
       "  border: var(--sklearn-color-fitted-level-3);\n",
       "}\n",
       "\n",
       ".sk-estimator-doc-link:hover span {\n",
       "  display: block;\n",
       "}\n",
       "\n",
       "/* \"?\"-specific style due to the `<a>` HTML tag */\n",
       "\n",
       "#sk-container-id-2 a.estimator_doc_link {\n",
       "  float: right;\n",
       "  font-size: 1rem;\n",
       "  line-height: 1em;\n",
       "  font-family: monospace;\n",
       "  background-color: var(--sklearn-color-background);\n",
       "  border-radius: 1rem;\n",
       "  height: 1rem;\n",
       "  width: 1rem;\n",
       "  text-decoration: none;\n",
       "  /* unfitted */\n",
       "  color: var(--sklearn-color-unfitted-level-1);\n",
       "  border: var(--sklearn-color-unfitted-level-1) 1pt solid;\n",
       "}\n",
       "\n",
       "#sk-container-id-2 a.estimator_doc_link.fitted {\n",
       "  /* fitted */\n",
       "  border: var(--sklearn-color-fitted-level-1) 1pt solid;\n",
       "  color: var(--sklearn-color-fitted-level-1);\n",
       "}\n",
       "\n",
       "/* On hover */\n",
       "#sk-container-id-2 a.estimator_doc_link:hover {\n",
       "  /* unfitted */\n",
       "  background-color: var(--sklearn-color-unfitted-level-3);\n",
       "  color: var(--sklearn-color-background);\n",
       "  text-decoration: none;\n",
       "}\n",
       "\n",
       "#sk-container-id-2 a.estimator_doc_link.fitted:hover {\n",
       "  /* fitted */\n",
       "  background-color: var(--sklearn-color-fitted-level-3);\n",
       "}\n",
       "</style><div id=\"sk-container-id-2\" class=\"sk-top-container\"><div class=\"sk-text-repr-fallback\"><pre>LogisticRegression(class_weight=&#x27;balanced&#x27;)</pre><b>In a Jupyter environment, please rerun this cell to show the HTML representation or trust the notebook. <br />On GitHub, the HTML representation is unable to render, please try loading this page with nbviewer.org.</b></div><div class=\"sk-container\" hidden><div class=\"sk-item\"><div class=\"sk-estimator fitted sk-toggleable\"><input class=\"sk-toggleable__control sk-hidden--visually\" id=\"sk-estimator-id-2\" type=\"checkbox\" checked><label for=\"sk-estimator-id-2\" class=\"sk-toggleable__label fitted sk-toggleable__label-arrow\"><div><div>LogisticRegression</div></div><div><a class=\"sk-estimator-doc-link fitted\" rel=\"noreferrer\" target=\"_blank\" href=\"https://scikit-learn.org/1.6/modules/generated/sklearn.linear_model.LogisticRegression.html\">?<span>Documentation for LogisticRegression</span></a><span class=\"sk-estimator-doc-link fitted\">i<span>Fitted</span></span></div></label><div class=\"sk-toggleable__content fitted\"><pre>LogisticRegression(class_weight=&#x27;balanced&#x27;)</pre></div> </div></div></div></div>"
      ],
      "text/plain": [
       "LogisticRegression(class_weight='balanced')"
      ]
     },
     "execution_count": 57,
     "metadata": {},
     "output_type": "execute_result"
    }
   ],
   "source": [
    "model_LR = LogisticRegression(class_weight='balanced')\n",
    "model_LR.fit(X_train, y_train)"
   ]
  },
  {
   "cell_type": "code",
   "execution_count": 61,
   "id": "2459ad2f",
   "metadata": {},
   "outputs": [
    {
     "name": "stdout",
     "output_type": "stream",
     "text": [
      "Train set score (Accuracy) = 0.7912087912087912\n",
      "Test set score (Accuracy) = 0.7807017543859649\n",
      "╒═════════════════╤══════════════════╤═══════════════════╕\n",
      "│                 │   pred cancer No │   pred cancer Yes │\n",
      "╞═════════════════╪══════════════════╪═══════════════════╡\n",
      "│ real cancer No  │               58 │                13 │\n",
      "├─────────────────┼──────────────────┼───────────────────┤\n",
      "│ real cancer Yes │               12 │                31 │\n",
      "╘═════════════════╧══════════════════╧═══════════════════╛\n",
      "              precision    recall  f1-score   support\n",
      "\n",
      "           0       0.83      0.82      0.82        71\n",
      "           1       0.70      0.72      0.71        43\n",
      "\n",
      "    accuracy                           0.78       114\n",
      "   macro avg       0.77      0.77      0.77       114\n",
      "weighted avg       0.78      0.78      0.78       114\n",
      "\n"
     ]
    }
   ],
   "source": [
    "print(\"Train set score (Accuracy) =\", model_LR.score(X_train, y_train))\n",
    "print(\"Test set score (Accuracy) =\", model_LR.score(X_test, y_test))\n",
    "\n",
    "conf_mat = confusion_matrix(y_test, model_LR.predict(X_test))\n",
    "print(tabulate(conf_mat,headers = ['pred cancer No','pred cancer Yes'], showindex = ['real cancer No','real cancer Yes'], tablefmt = 'fancy_grid'))\n",
    "\n",
    "print(classification_report(y_test, model_LR.predict(X_test)))"
   ]
  },
  {
   "cell_type": "code",
   "execution_count": null,
   "id": "f8a52678",
   "metadata": {},
   "outputs": [],
   "source": []
  }
 ],
 "metadata": {
  "colab": {
   "provenance": []
  },
  "kernelspec": {
   "display_name": "Python 3 (ipykernel)",
   "language": "python",
   "name": "python3"
  },
  "language_info": {
   "codemirror_mode": {
    "name": "ipython",
    "version": 3
   },
   "file_extension": ".py",
   "mimetype": "text/x-python",
   "name": "python",
   "nbconvert_exporter": "python",
   "pygments_lexer": "ipython3",
   "version": "3.9.13"
  }
 },
 "nbformat": 4,
 "nbformat_minor": 5
}
