{
 "cells": [
  {
   "cell_type": "markdown",
   "id": "66ad4a2b",
   "metadata": {
    "id": "66ad4a2b"
   },
   "source": [
    "# Ejercicios Medidas de error\n",
    "\n",
    "Tenemos varios modelos de clasificación creados:\n",
    "\n",
    " - calcula las accuracy, precision, potencia y f-score a partir de sus siguientes matrices de confusión\n",
    "\n",
    "- Con cuál modelo te quedarías y por qué?\n",
    "- Qué modelo es más conveniente para qué situaciones?\n",
    "\n",
    "\n",
    "https://www.iartificial.net/precision-recall-f1-accuracy-en-clasificacion/#Resumen"
   ]
  },
  {
   "cell_type": "code",
   "execution_count": null,
   "id": "907fb5c2",
   "metadata": {
    "id": "907fb5c2"
   },
   "outputs": [],
   "source": [
    "from tabulate import tabulate\n",
    "import seaborn as sns"
   ]
  },
  {
   "cell_type": "markdown",
   "id": "cc7bd277",
   "metadata": {},
   "source": [
    "## Modelo 1"
   ]
  },
  {
   "cell_type": "code",
   "execution_count": null,
   "id": "8a091eb1",
   "metadata": {
    "id": "8a091eb1",
    "outputId": "08b14b44-a9f9-4a95-c8e6-19a7233528e6"
   },
   "outputs": [
    {
     "name": "stdout",
     "output_type": "stream",
     "text": [
      "╒════════╤══════════╤══════════╕\n",
      "│        │   pred 0 │   pred 1 │\n",
      "╞════════╪══════════╪══════════╡\n",
      "│ real 0 │      100 │       29 │\n",
      "├────────┼──────────┼──────────┤\n",
      "│ real 1 │       18 │       80 │\n",
      "╘════════╧══════════╧══════════╛\n"
     ]
    }
   ],
   "source": [
    "print(tabulate([[100,  29],[ 18,  80]],headers = ['pred 0','pred 1'], showindex = ['real 0','real 1'], tablefmt = 'fancy_grid'))"
   ]
  },
  {
   "cell_type": "code",
   "execution_count": 4,
   "id": "d90eac31",
   "metadata": {
    "colab": {
     "base_uri": "https://localhost:8080/"
    },
    "executionInfo": {
     "elapsed": 6,
     "status": "ok",
     "timestamp": 1680168710571,
     "user": {
      "displayName": "Beltran Vazquez",
      "userId": "10815799323004140919"
     },
     "user_tz": -120
    },
    "id": "d90eac31",
    "outputId": "598689cd-bc3a-4819-f6f1-9d11f610297d"
   },
   "outputs": [
    {
     "name": "stdout",
     "output_type": "stream",
     "text": [
      "Accuracy 0.7929515418502202\n",
      "Potencia 0.8163265306122449\n",
      "Precision 0.7339449541284404\n",
      "F-Score 0.7729468599033816\n"
     ]
    }
   ],
   "source": [
    "Accuracy = (100+80)/(100+80+18+29)\n",
    "Potencia= \n",
    "Precision = \n",
    "F_score = \n",
    "\n",
    "print(\"Accuracy\", Accuracy)\n",
    "print(\"Potencia\", Potencia)\n",
    "print(\"Precision\", Precision)\n",
    "print(\"F-Score\", F_score)"
   ]
  },
  {
   "cell_type": "markdown",
   "id": "27cd4d5a",
   "metadata": {},
   "source": [
    "## Modelo 2"
   ]
  },
  {
   "cell_type": "code",
   "execution_count": null,
   "id": "f2069bb1",
   "metadata": {
    "id": "f2069bb1",
    "outputId": "10d0c33f-d14d-465c-af00-f2731d57d877"
   },
   "outputs": [
    {
     "name": "stdout",
     "output_type": "stream",
     "text": [
      "╒════════╤══════════╤══════════╕\n",
      "│        │   pred 0 │   pred 1 │\n",
      "╞════════╪══════════╪══════════╡\n",
      "│ real 0 │       85 │       44 │\n",
      "├────────┼──────────┼──────────┤\n",
      "│ real 1 │        8 │       90 │\n",
      "╘════════╧══════════╧══════════╛\n"
     ]
    }
   ],
   "source": [
    "print(tabulate([[85,  44],[ 8,  90]],headers = ['pred 0','pred 1'], showindex = ['real 0','real 1'], tablefmt = 'fancy_grid'))\n"
   ]
  },
  {
   "cell_type": "markdown",
   "id": "a9d55868",
   "metadata": {
    "id": "a9d55868"
   },
   "source": [
    "El acc es mayor que antes pero la precision este modelo mejor para "
   ]
  },
  {
   "cell_type": "code",
   "execution_count": null,
   "id": "128bea1c",
   "metadata": {
    "id": "128bea1c",
    "outputId": "87aaf7c8-2e1c-43fd-f967-d9ebd6056dbf"
   },
   "outputs": [
    {
     "name": "stdout",
     "output_type": "stream",
     "text": [
      "Accuracy\n",
      "Potencia\n",
      "Precision\n",
      "F-Score\n"
     ]
    }
   ],
   "source": [
    "print(\"Accuracy\", )\n",
    "print(\"Potencia\", )\n",
    "print(\"Precision\", )\n",
    "print(\"F-Score\", )"
   ]
  },
  {
   "cell_type": "markdown",
   "id": "8155540d",
   "metadata": {},
   "source": [
    "## Modelo 3"
   ]
  },
  {
   "cell_type": "code",
   "execution_count": null,
   "id": "455fe23d",
   "metadata": {
    "id": "455fe23d",
    "outputId": "315ad296-e004-4ac8-a898-ce851daf50bc"
   },
   "outputs": [
    {
     "name": "stdout",
     "output_type": "stream",
     "text": [
      "╒════════╤══════════╤══════════╕\n",
      "│        │   pred 0 │   pred 1 │\n",
      "╞════════╪══════════╪══════════╡\n",
      "│ real 0 │      120 │        9 │\n",
      "├────────┼──────────┼──────────┤\n",
      "│ real 1 │       28 │       70 │\n",
      "╘════════╧══════════╧══════════╛\n"
     ]
    }
   ],
   "source": [
    "print(tabulate([[120,  9],[ 28,  70]],headers = ['pred 0','pred 1'], showindex = ['real 0','real 1'], tablefmt = 'fancy_grid'))\n"
   ]
  },
  {
   "cell_type": "code",
   "execution_count": null,
   "id": "9be5cc08",
   "metadata": {
    "id": "9be5cc08",
    "outputId": "150c2ab0-da84-400f-98f9-e50d37d1c54f"
   },
   "outputs": [
    {
     "name": "stdout",
     "output_type": "stream",
     "text": [
      "Accuracy\n",
      "Potencia\n",
      "Precision\n",
      "F-Score\n"
     ]
    }
   ],
   "source": [
    "print(\"Accuracy\", )\n",
    "print(\"Potencia\", )\n",
    "print(\"Precision\", )\n",
    "print(\"F-Score\", )"
   ]
  },
  {
   "cell_type": "markdown",
   "id": "KKeItzH8zXnT",
   "metadata": {
    "id": "KKeItzH8zXnT"
   },
   "source": [
    "### CONCLUSIONES SOBRE QUÉ MODELO ES MEJOR\n",
    "\n",
    "Con qué modelo te quedarías?\n",
    "Depende de la situación? explica en qué casuísticas eligirías un modelo u otro"
   ]
  },
  {
   "cell_type": "code",
   "execution_count": null,
   "id": "adeeed7f",
   "metadata": {
    "id": "adeeed7f"
   },
   "outputs": [],
   "source": []
  },
  {
   "cell_type": "markdown",
   "id": "ba670f2d",
   "metadata": {
    "id": "ba670f2d"
   },
   "source": [
    "# Entrena un modelo\n",
    "\n",
    "Usando la tabla de datos penguins y solo teniendo en cuenta los pingüinos de las especies Adelie y Gentoo. \n",
    "\n",
    " - Entrena varios modelos y evalúa su calidad de clasificación, quédate solo con el mejor modelo de regresión logística y con el mejor modelo de árbol de decisión\n",
    "\n",
    " - Dibuja una matriz de confusión y determina Cuál de las dos técnicas de entrenamiento de modelos te parece más eficiente?"
   ]
  },
  {
   "cell_type": "code",
   "execution_count": 2,
   "id": "922b3bb1",
   "metadata": {
    "colab": {
     "base_uri": "https://localhost:8080/",
     "height": 423
    },
    "executionInfo": {
     "elapsed": 2050,
     "status": "ok",
     "timestamp": 1680084164538,
     "user": {
      "displayName": "Beltran Vazquez",
      "userId": "10815799323004140919"
     },
     "user_tz": -120
    },
    "id": "922b3bb1",
    "outputId": "2ca6a96e-86fe-495f-f8c8-38e06272b750"
   },
   "outputs": [
    {
     "data": {
      "text/html": [
       "\n",
       "  <div id=\"df-9f6af38a-3bfe-4f77-bfa5-6602ecdb0052\">\n",
       "    <div class=\"colab-df-container\">\n",
       "      <div>\n",
       "<style scoped>\n",
       "    .dataframe tbody tr th:only-of-type {\n",
       "        vertical-align: middle;\n",
       "    }\n",
       "\n",
       "    .dataframe tbody tr th {\n",
       "        vertical-align: top;\n",
       "    }\n",
       "\n",
       "    .dataframe thead th {\n",
       "        text-align: right;\n",
       "    }\n",
       "</style>\n",
       "<table border=\"1\" class=\"dataframe\">\n",
       "  <thead>\n",
       "    <tr style=\"text-align: right;\">\n",
       "      <th></th>\n",
       "      <th>species</th>\n",
       "      <th>island</th>\n",
       "      <th>bill_length_mm</th>\n",
       "      <th>bill_depth_mm</th>\n",
       "      <th>flipper_length_mm</th>\n",
       "      <th>body_mass_g</th>\n",
       "      <th>sex</th>\n",
       "    </tr>\n",
       "  </thead>\n",
       "  <tbody>\n",
       "    <tr>\n",
       "      <th>0</th>\n",
       "      <td>Adelie</td>\n",
       "      <td>Torgersen</td>\n",
       "      <td>39.1</td>\n",
       "      <td>18.7</td>\n",
       "      <td>181.0</td>\n",
       "      <td>3750.0</td>\n",
       "      <td>Male</td>\n",
       "    </tr>\n",
       "    <tr>\n",
       "      <th>1</th>\n",
       "      <td>Adelie</td>\n",
       "      <td>Torgersen</td>\n",
       "      <td>39.5</td>\n",
       "      <td>17.4</td>\n",
       "      <td>186.0</td>\n",
       "      <td>3800.0</td>\n",
       "      <td>Female</td>\n",
       "    </tr>\n",
       "    <tr>\n",
       "      <th>2</th>\n",
       "      <td>Adelie</td>\n",
       "      <td>Torgersen</td>\n",
       "      <td>40.3</td>\n",
       "      <td>18.0</td>\n",
       "      <td>195.0</td>\n",
       "      <td>3250.0</td>\n",
       "      <td>Female</td>\n",
       "    </tr>\n",
       "    <tr>\n",
       "      <th>3</th>\n",
       "      <td>Adelie</td>\n",
       "      <td>Torgersen</td>\n",
       "      <td>NaN</td>\n",
       "      <td>NaN</td>\n",
       "      <td>NaN</td>\n",
       "      <td>NaN</td>\n",
       "      <td>NaN</td>\n",
       "    </tr>\n",
       "    <tr>\n",
       "      <th>4</th>\n",
       "      <td>Adelie</td>\n",
       "      <td>Torgersen</td>\n",
       "      <td>36.7</td>\n",
       "      <td>19.3</td>\n",
       "      <td>193.0</td>\n",
       "      <td>3450.0</td>\n",
       "      <td>Female</td>\n",
       "    </tr>\n",
       "    <tr>\n",
       "      <th>...</th>\n",
       "      <td>...</td>\n",
       "      <td>...</td>\n",
       "      <td>...</td>\n",
       "      <td>...</td>\n",
       "      <td>...</td>\n",
       "      <td>...</td>\n",
       "      <td>...</td>\n",
       "    </tr>\n",
       "    <tr>\n",
       "      <th>339</th>\n",
       "      <td>Gentoo</td>\n",
       "      <td>Biscoe</td>\n",
       "      <td>NaN</td>\n",
       "      <td>NaN</td>\n",
       "      <td>NaN</td>\n",
       "      <td>NaN</td>\n",
       "      <td>NaN</td>\n",
       "    </tr>\n",
       "    <tr>\n",
       "      <th>340</th>\n",
       "      <td>Gentoo</td>\n",
       "      <td>Biscoe</td>\n",
       "      <td>46.8</td>\n",
       "      <td>14.3</td>\n",
       "      <td>215.0</td>\n",
       "      <td>4850.0</td>\n",
       "      <td>Female</td>\n",
       "    </tr>\n",
       "    <tr>\n",
       "      <th>341</th>\n",
       "      <td>Gentoo</td>\n",
       "      <td>Biscoe</td>\n",
       "      <td>50.4</td>\n",
       "      <td>15.7</td>\n",
       "      <td>222.0</td>\n",
       "      <td>5750.0</td>\n",
       "      <td>Male</td>\n",
       "    </tr>\n",
       "    <tr>\n",
       "      <th>342</th>\n",
       "      <td>Gentoo</td>\n",
       "      <td>Biscoe</td>\n",
       "      <td>45.2</td>\n",
       "      <td>14.8</td>\n",
       "      <td>212.0</td>\n",
       "      <td>5200.0</td>\n",
       "      <td>Female</td>\n",
       "    </tr>\n",
       "    <tr>\n",
       "      <th>343</th>\n",
       "      <td>Gentoo</td>\n",
       "      <td>Biscoe</td>\n",
       "      <td>49.9</td>\n",
       "      <td>16.1</td>\n",
       "      <td>213.0</td>\n",
       "      <td>5400.0</td>\n",
       "      <td>Male</td>\n",
       "    </tr>\n",
       "  </tbody>\n",
       "</table>\n",
       "<p>276 rows × 7 columns</p>\n",
       "</div>\n",
       "      <button class=\"colab-df-convert\" onclick=\"convertToInteractive('df-9f6af38a-3bfe-4f77-bfa5-6602ecdb0052')\"\n",
       "              title=\"Convert this dataframe to an interactive table.\"\n",
       "              style=\"display:none;\">\n",
       "        \n",
       "  <svg xmlns=\"http://www.w3.org/2000/svg\" height=\"24px\"viewBox=\"0 0 24 24\"\n",
       "       width=\"24px\">\n",
       "    <path d=\"M0 0h24v24H0V0z\" fill=\"none\"/>\n",
       "    <path d=\"M18.56 5.44l.94 2.06.94-2.06 2.06-.94-2.06-.94-.94-2.06-.94 2.06-2.06.94zm-11 1L8.5 8.5l.94-2.06 2.06-.94-2.06-.94L8.5 2.5l-.94 2.06-2.06.94zm10 10l.94 2.06.94-2.06 2.06-.94-2.06-.94-.94-2.06-.94 2.06-2.06.94z\"/><path d=\"M17.41 7.96l-1.37-1.37c-.4-.4-.92-.59-1.43-.59-.52 0-1.04.2-1.43.59L10.3 9.45l-7.72 7.72c-.78.78-.78 2.05 0 2.83L4 21.41c.39.39.9.59 1.41.59.51 0 1.02-.2 1.41-.59l7.78-7.78 2.81-2.81c.8-.78.8-2.07 0-2.86zM5.41 20L4 18.59l7.72-7.72 1.47 1.35L5.41 20z\"/>\n",
       "  </svg>\n",
       "      </button>\n",
       "      \n",
       "  <style>\n",
       "    .colab-df-container {\n",
       "      display:flex;\n",
       "      flex-wrap:wrap;\n",
       "      gap: 12px;\n",
       "    }\n",
       "\n",
       "    .colab-df-convert {\n",
       "      background-color: #E8F0FE;\n",
       "      border: none;\n",
       "      border-radius: 50%;\n",
       "      cursor: pointer;\n",
       "      display: none;\n",
       "      fill: #1967D2;\n",
       "      height: 32px;\n",
       "      padding: 0 0 0 0;\n",
       "      width: 32px;\n",
       "    }\n",
       "\n",
       "    .colab-df-convert:hover {\n",
       "      background-color: #E2EBFA;\n",
       "      box-shadow: 0px 1px 2px rgba(60, 64, 67, 0.3), 0px 1px 3px 1px rgba(60, 64, 67, 0.15);\n",
       "      fill: #174EA6;\n",
       "    }\n",
       "\n",
       "    [theme=dark] .colab-df-convert {\n",
       "      background-color: #3B4455;\n",
       "      fill: #D2E3FC;\n",
       "    }\n",
       "\n",
       "    [theme=dark] .colab-df-convert:hover {\n",
       "      background-color: #434B5C;\n",
       "      box-shadow: 0px 1px 3px 1px rgba(0, 0, 0, 0.15);\n",
       "      filter: drop-shadow(0px 1px 2px rgba(0, 0, 0, 0.3));\n",
       "      fill: #FFFFFF;\n",
       "    }\n",
       "  </style>\n",
       "\n",
       "      <script>\n",
       "        const buttonEl =\n",
       "          document.querySelector('#df-9f6af38a-3bfe-4f77-bfa5-6602ecdb0052 button.colab-df-convert');\n",
       "        buttonEl.style.display =\n",
       "          google.colab.kernel.accessAllowed ? 'block' : 'none';\n",
       "\n",
       "        async function convertToInteractive(key) {\n",
       "          const element = document.querySelector('#df-9f6af38a-3bfe-4f77-bfa5-6602ecdb0052');\n",
       "          const dataTable =\n",
       "            await google.colab.kernel.invokeFunction('convertToInteractive',\n",
       "                                                     [key], {});\n",
       "          if (!dataTable) return;\n",
       "\n",
       "          const docLinkHtml = 'Like what you see? Visit the ' +\n",
       "            '<a target=\"_blank\" href=https://colab.research.google.com/notebooks/data_table.ipynb>data table notebook</a>'\n",
       "            + ' to learn more about interactive tables.';\n",
       "          element.innerHTML = '';\n",
       "          dataTable['output_type'] = 'display_data';\n",
       "          await google.colab.output.renderOutput(dataTable, element);\n",
       "          const docLink = document.createElement('div');\n",
       "          docLink.innerHTML = docLinkHtml;\n",
       "          element.appendChild(docLink);\n",
       "        }\n",
       "      </script>\n",
       "    </div>\n",
       "  </div>\n",
       "  "
      ],
      "text/plain": [
       "    species     island  bill_length_mm  bill_depth_mm  flipper_length_mm  \\\n",
       "0    Adelie  Torgersen            39.1           18.7              181.0   \n",
       "1    Adelie  Torgersen            39.5           17.4              186.0   \n",
       "2    Adelie  Torgersen            40.3           18.0              195.0   \n",
       "3    Adelie  Torgersen             NaN            NaN                NaN   \n",
       "4    Adelie  Torgersen            36.7           19.3              193.0   \n",
       "..      ...        ...             ...            ...                ...   \n",
       "339  Gentoo     Biscoe             NaN            NaN                NaN   \n",
       "340  Gentoo     Biscoe            46.8           14.3              215.0   \n",
       "341  Gentoo     Biscoe            50.4           15.7              222.0   \n",
       "342  Gentoo     Biscoe            45.2           14.8              212.0   \n",
       "343  Gentoo     Biscoe            49.9           16.1              213.0   \n",
       "\n",
       "     body_mass_g     sex  \n",
       "0         3750.0    Male  \n",
       "1         3800.0  Female  \n",
       "2         3250.0  Female  \n",
       "3            NaN     NaN  \n",
       "4         3450.0  Female  \n",
       "..           ...     ...  \n",
       "339          NaN     NaN  \n",
       "340       4850.0  Female  \n",
       "341       5750.0    Male  \n",
       "342       5200.0  Female  \n",
       "343       5400.0    Male  \n",
       "\n",
       "[276 rows x 7 columns]"
      ]
     },
     "execution_count": 2,
     "metadata": {},
     "output_type": "execute_result"
    }
   ],
   "source": [
    "import seaborn as sns\n",
    "pen = sns.load_dataset('penguins')\n",
    "pen = pen[pen['species'].isin(['Adelie','Gentoo'])]\n",
    "pen"
   ]
  },
  {
   "cell_type": "code",
   "execution_count": null,
   "id": "247c7dd1",
   "metadata": {
    "id": "247c7dd1",
    "outputId": "d892eea0-ac45-4698-e41d-3ec8c2620c35"
   },
   "outputs": [
    {
     "data": {
      "text/plain": [
       "species\n",
       "Adelie    152\n",
       "Gentoo    124\n",
       "Name: species, dtype: int64"
      ]
     },
     "execution_count": 43,
     "metadata": {},
     "output_type": "execute_result"
    }
   ],
   "source": [
    "pen.groupby('species')['species'].count()"
   ]
  },
  {
   "cell_type": "code",
   "execution_count": null,
   "id": "05321744",
   "metadata": {
    "id": "05321744"
   },
   "outputs": [],
   "source": []
  },
  {
   "cell_type": "markdown",
   "id": "60dd30f9",
   "metadata": {
    "id": "60dd30f9"
   },
   "source": [
    "## Con el conjunto de datos Churn\n",
    "\n",
    " - Entrena un modelo Random forest\n",
    " - Entrena una regresión Logística\n",
    " - Balancea las clases de la variable dependiente\n",
    " - Entrena de nuevo los modelos anteriores y **compara** las métricas de error , Cuál método es mejor entre Random Forest y Regresión Logísitca?\n",
    " \n",
    " \n"
   ]
  },
  {
   "cell_type": "code",
   "execution_count": null,
   "id": "FqKAcfzI0AzN",
   "metadata": {
    "id": "FqKAcfzI0AzN"
   },
   "outputs": [],
   "source": [
    "import pandas as pd\n",
    "\n",
    "churn = pd.read_csv('../Data/Modelos ML/churn.csv', sep = ';')\n",
    "churn"
   ]
  }
 ],
 "metadata": {
  "colab": {
   "provenance": []
  },
  "kernelspec": {
   "display_name": "Python 3 (ipykernel)",
   "language": "python",
   "name": "python3"
  },
  "language_info": {
   "codemirror_mode": {
    "name": "ipython",
    "version": 3
   },
   "file_extension": ".py",
   "mimetype": "text/x-python",
   "name": "python",
   "nbconvert_exporter": "python",
   "pygments_lexer": "ipython3",
   "version": "3.9.13"
  }
 },
 "nbformat": 4,
 "nbformat_minor": 5
}
