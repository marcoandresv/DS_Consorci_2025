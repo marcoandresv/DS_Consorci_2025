{
 "cells": [
  {
   "cell_type": "markdown",
   "id": "566de007",
   "metadata": {},
   "source": [
    "# Ensemble ML Models"
   ]
  },
  {
   "cell_type": "markdown",
   "id": "28b049d3",
   "metadata": {},
   "source": [
    "## In this lesson you will learn\n",
    "\n",
    " - Ensamble models: Bagging, Boosting and Stacking\n",
    "     - RandomForest, ADA Boost, XGBoost\n",
    "     \n",
    " - Support Vector Machine\n",
    " \n"
   ]
  },
  {
   "cell_type": "markdown",
   "id": "f55c5ee9",
   "metadata": {},
   "source": [
    "## Ensemble models\n",
    "\n",
    "\n",
    "Ensemble models in machine learning combine the predictions from multiple individual models to produce a more accurate and robust prediction. The fundamental idea is that by aggregating the predictions of several models, the ensemble often performs better than any individual model.\n",
    "\n",
    "The three main classes of ensemble learning methods are bagging, stacking, and boosting\n",
    "\n",
    " - **Bagging** involves fitting many decision trees on different samples of the same dataset and averaging the predictions. For example RandomForest (regressors or classifiers).\n",
    " \n",
    " \n",
    " - **Stacking** involves fitting many different models types on the same data and using another model to learn how to best combine the predictions.\n",
    " \n",
    " \n",
    " - **Boosting** involves adding ensemble members sequentially that correct the predictions made by prior models and outputs a weighted average of the predictions.\n",
    "\n",
    "https://machinelearningmastery.com/tour-of-ensemble-learning-algorithms/"
   ]
  },
  {
   "cell_type": "markdown",
   "id": "4e82cbef",
   "metadata": {},
   "source": [
    "### Bagging models\n",
    "\n",
    "Bootstrap aggregation, or bagging for short, is an ensemble learning method that seeks a diverse group of ensemble members by varying the training data.\n",
    "\n",
    "This typically involves using a single machine learning algorithm, almost always an unpruned decision tree, and training each model on a different sample of the same training dataset. \n",
    "\n",
    "The predictions made by the ensemble members are then combined using simple statistics, such as voting or averaging.\n",
    "\n",
    "\n"
   ]
  },
  {
   "cell_type": "markdown",
   "id": "b6134fca",
   "metadata": {},
   "source": [
    "We can **summarize** the key elements of bagging as follows:\n",
    "\n",
    " - Different training dataset for each ensembled model.\n",
    " - Unpruned decision trees fit on each sample.\n",
    " - Simple voting or averaging of predictions."
   ]
  },
  {
   "attachments": {},
   "cell_type": "markdown",
   "id": "a33bb197",
   "metadata": {},
   "source": [
    "<!-- ![image.png](attachment:image.png) -->\n",
    "\n",
    "<div style=\"display: flex; justify-content: space-between;\">\n",
    "  <img src=\"../../assets/Bagging_ensemble.png\" alt=\"First Image\" style=\"width: 50%;\"/>\n",
    "</div>"
   ]
  },
  {
   "cell_type": "markdown",
   "id": "2546fb62",
   "metadata": {},
   "source": [
    "Differences between criterion gini vs entropy\n",
    "\n",
    "https://www.geeksforgeeks.org/gini-impurity-and-entropy-in-decision-tree-ml/"
   ]
  },
  {
   "cell_type": "markdown",
   "id": "d3b763b9",
   "metadata": {},
   "source": [
    "### Stacking models\n",
    "\n",
    "It involves combining the predictions from multiple machine learning models on the same dataset\n",
    "\n",
    "Stacking has its own nomenclature, where ensemble members are referred to as level-0 models, and the model that uses predictions to weight the level-0 models is referred to as a level-1 model.\n",
    "\n",
    " - Level-0 Models (Base-Models): Models fit on the training data and whose predictions are compiled.\n",
    "\n",
    "\n",
    " - Level-1 Model (Meta-Model): Model that learns how to best combine the predictions of the base models. The meta-model is trained on the predictions made by base models on out-of-sample data.\n",
    "\n",
    "Unlike bagging, in stacking, the models are typically different (e.g. not all decision trees) and fit on the same dataset (e.g. instead of samples of the training dataset).\n",
    "\n",
    "Unlike boosting, in stacking, a single model is used to learn how to best combine the predictions from the contributing models (e.g. instead of a sequence of models that correct the predictions of prior models)."
   ]
  },
  {
   "cell_type": "markdown",
   "id": "801c6e18",
   "metadata": {},
   "source": [
    "We can **summarize** the key elements of stacking as follows:\n",
    "\n",
    " - Unchanged training dataset.\n",
    " - Different machine learning algorithms for each ensemble member.\n",
    " - Machine learning model to learn how to best combine predictions."
   ]
  },
  {
   "attachments": {},
   "cell_type": "markdown",
   "id": "6df1bd3c",
   "metadata": {},
   "source": [
    "<!-- ![image.png](attachment:image.png) -->\n",
    "<div style=\"display: flex; justify-content: space-between;\">\n",
    "  <img src=\"../../assets/Stacking_ensemble.png\" alt=\"First Image\" style=\"width: 50%;\"/>\n",
    "</div>"
   ]
  },
  {
   "cell_type": "markdown",
   "id": "120b48c9",
   "metadata": {},
   "source": [
    "### Boosting models\n",
    "\n"
   ]
  },
  {
   "cell_type": "markdown",
   "id": "4e13414c",
   "metadata": {},
   "source": [
    "Boosting is an ensemble method that seeks to change the training data to focus attention on examples that previous fit models on the training dataset have gotten wrong.\n",
    "\n",
    "The key property of boosting ensembles is the idea of correcting prediction errors. The models are fit and added to the ensemble sequentially such that the second model attempts to correct the predictions of the first model, the third corrects the second model, and so on.\n",
    "\n",
    "This typically involves the use of very simple decision trees that only make a single or a few decisions, referred to in boosting as weak learners. The predictions of the weak learners are combined using simple voting or averaging.\n",
    "\n",
    "\n"
   ]
  },
  {
   "attachments": {},
   "cell_type": "markdown",
   "id": "83a70ffe",
   "metadata": {},
   "source": [
    "<!-- ![image.png](attachment:image.png) -->\n",
    "\n",
    "<div style=\"display: flex; justify-content: space-between;\">\n",
    "  <img src=\"../../assets/Boosting_ensemble.png\" alt=\"First Image\" style=\"width: 50%;\"/>\n",
    "</div>"
   ]
  },
  {
   "cell_type": "markdown",
   "id": "c11bd425",
   "metadata": {},
   "source": [
    "#### AdaBoost\n",
    "\n",
    "AdaBoost is one of the most important Boosting ML algorithm.\n",
    "\n",
    "Three ideas behind AdaBoost:\n",
    "\n",
    " - It combines several Decision Trees called weak learners (with depth of one or two)\n",
    " \n",
    " \n",
    " - In the final decision, some Trees have more importance than others\n",
    " \n",
    " \n",
    " - The errors a Tree makes are considered in the next Tree\n",
    " \n",
    "The algorithm works as follow:\n",
    "\n",
    " - The first Tree is trained and the quality of the model is calculated (Accuracy for classification and MAPE for regression)\n",
    " \n",
    " \n",
    " - Then it is calculated the importance of that Tree\n",
    "\n",
    "\n",
    " - In the first Tree, each observation had the same weight. In the second Tree the wrong predictions will have more importance, so the training of the second Tree is influenced by the quality of the first one. The best the previous model predicts, the higher the increasing influence of the error, but the lower the number of instances.\n",
    " \n",
    " \n",
    "  - The input data for the second Tree is selected depending on those weights, so the missclassifications will have higher probability to be selected to train the second Tree.\n",
    " \n",
    " \n",
    " - Then the process is repeated until every instance is well classified or predicted, or the maximum number of Trees parametrized in the AdaBoost is achieved\n",
    " \n",
    " \n",
    " - Finally, we have several Trees and each one make its own prediction for a new observation. The final decision is made by averaging the individual Tree's decision, taking into consideration the importance for each Tree\n",
    " \n",
    " \n",
    "https://www.youtube.com/watch?v=LsK-xG1cLYA"
   ]
  },
  {
   "cell_type": "markdown",
   "id": "19a8a09d",
   "metadata": {},
   "source": [
    "#### Boosting Gradient\n",
    "\n",
    "Gradient Boosting (GB) also combines several Tree models **sequentially** improving prediction or the dependent variable model after model.\n",
    "\n",
    " - It combines several Decision Trees \n",
    " \n",
    " \n",
    " - Initially uses the mean (or the log of the odds in the case of classification) to make the first prediction, and calculates the residuals\n",
    " \n",
    " \n",
    " - Then a Tree is trained to predict those residuals\n",
    " \n",
    " \n",
    " - The predicted residuals are added to the prediction of the dependent variable, improving it, and reducing the initial residuals\n",
    " \n",
    " \n",
    " - A Learning Rate factor is added to the residual prediction to avoid overfitting (usually equals to 0.1)\n",
    " \n",
    " \n",
    " - The last two steps repeats. Several Trees are trained on the residuals left by the previous Tree and adding their predictions to the dependent variable prediction, untill we reach the maximum number of Trees\n",
    " \n",
    " \n",
    " \n",
    " - The final algorithm has multiple sequential Trees, each one adding some value to the previous prediction. When a new individual is passed through the model, depending on the value of its features, different residual prediction will be added. During the prediction or validation several predictions of the residuals are estimated, then they are added to the initial mean calculated during training steps.\n",
    "\n",
    "https://www.youtube.com/watch?v=3CC4N4z3GJc"
   ]
  },
  {
   "cell_type": "markdown",
   "id": "bacb62be",
   "metadata": {},
   "source": [
    "#### XGBoost\n",
    "\n",
    "eXtreme Gradient Boost (XGBoost) also sequence several Trees adding residual predictions to the initial dependent variable prediction\n",
    "\n",
    " - Initially uses the mean (or the log of the odds in the case of classification) to make the first prediction of the dependent variable, and calculates the residuals\n",
    " \n",
    " - A similarity score is calculated to estimate the quality of that initial prediction\n",
    " \n",
    " - Then a Tree is trained to predict the residuals based on the most significant feature and threshold. This significance is calculated through the Information Gain, which depends on the similarity score\n",
    " \n",
    " - Then new nodes are added to the Tree with new features or different threshold of the same feature than above. Usually the parametrized depth is from 3 to 5.\n",
    " \n",
    " - Lambda and gamma (learning rate parameters) allow regularize the similarity score and reduce overfitting. \n",
    "\n",
    "https://www.youtube.com/watch?v=OtD8wVaFm6E"
   ]
  },
  {
   "cell_type": "markdown",
   "id": "56bb8b4c",
   "metadata": {},
   "source": [
    "## Complex models with Python\n",
    "\n",
    "Firstly, lets prepare the data\n",
    "\n",
    " - Dividing in train and test datasets\n",
    " - Standardize continuous variables\n",
    " - When working with Trees, making Dummies for categoricals variables is not always recommended. So we won't do it. However, we have to encode categorical variables to numbers. If not Python will return an error\n"
   ]
  },
  {
   "cell_type": "markdown",
   "id": "078b1621",
   "metadata": {},
   "source": [
    "#### Import libraries"
   ]
  },
  {
   "cell_type": "code",
   "execution_count": 107,
   "id": "8553c792",
   "metadata": {
    "collapsed": true
   },
   "outputs": [
    {
     "name": "stdout",
     "output_type": "stream",
     "text": [
      "Collecting xgboost\n",
      "  Downloading xgboost-2.0.0-py3-none-win_amd64.whl (99.7 MB)\n",
      "     ---------------------------------------- 99.7/99.7 MB 3.6 MB/s eta 0:00:00\n",
      "Requirement already satisfied: scipy in c:\\users\\bvazq\\anaconda3\\lib\\site-packages (from xgboost) (1.9.1)\n",
      "Requirement already satisfied: numpy in c:\\users\\bvazq\\appdata\\roaming\\python\\python39\\site-packages (from xgboost) (1.21.6)\n",
      "Installing collected packages: xgboost\n",
      "Successfully installed xgboost-2.0.0\n"
     ]
    }
   ],
   "source": [
    "#!pip install xgboost"
   ]
  },
  {
   "cell_type": "code",
   "execution_count": 284,
   "id": "54dce503",
   "metadata": {},
   "outputs": [],
   "source": [
    "import pandas as pd\n",
    "import numpy as np\n",
    "from sklearn.preprocessing import StandardScaler, MinMaxScaler\n",
    "from sklearn.model_selection import train_test_split\n",
    "from sklearn.metrics import accuracy_score,classification_report,confusion_matrix, roc_curve, roc_auc_score\n",
    "from imblearn.over_sampling import RandomOverSampler\n",
    "# RepeatedStratifiedKFold for classification\n",
    "# RepeatedKFold for regressio\n",
    "\n",
    "from sklearn.model_selection import RepeatedKFold, RepeatedStratifiedKFold, GridSearchCV, cross_val_score\n",
    "from sklearn.ensemble import AdaBoostClassifier, AdaBoostRegressor, GradientBoostingClassifier, GradientBoostingRegressor\n",
    "from sklearn.ensemble import StackingClassifier, StackingRegressor, RandomForestClassifier, RandomForestRegressor\n",
    "from xgboost import XGBClassifier, XGBRegressor\n",
    "from sklearn.linear_model import LogisticRegression, LinearRegression\n",
    "from sklearn.svm import SVC, SVR\n",
    "\n",
    "\n",
    "from tabulate import tabulate\n",
    "\n",
    "import warnings\n",
    "warnings.filterwarnings(\"ignore\")"
   ]
  },
  {
   "cell_type": "markdown",
   "id": "2bbda5fd",
   "metadata": {},
   "source": [
    "### Diabetes dataset\n",
    "\n",
    "contains more than 700 pacients with several independent variables and one dependent, Outcome, which is binary, for classification. Outcome = 1 means diabetes = Yes"
   ]
  },
  {
   "cell_type": "code",
   "execution_count": null,
   "id": "a0d18c75",
   "metadata": {},
   "outputs": [],
   "source": []
  },
  {
   "cell_type": "code",
   "execution_count": 264,
   "id": "e1ef270d",
   "metadata": {},
   "outputs": [
    {
     "data": {
      "text/html": [
       "<div>\n",
       "<style scoped>\n",
       "    .dataframe tbody tr th:only-of-type {\n",
       "        vertical-align: middle;\n",
       "    }\n",
       "\n",
       "    .dataframe tbody tr th {\n",
       "        vertical-align: top;\n",
       "    }\n",
       "\n",
       "    .dataframe thead th {\n",
       "        text-align: right;\n",
       "    }\n",
       "</style>\n",
       "<table border=\"1\" class=\"dataframe\">\n",
       "  <thead>\n",
       "    <tr style=\"text-align: right;\">\n",
       "      <th></th>\n",
       "      <th>Pregnancies</th>\n",
       "      <th>Glucose</th>\n",
       "      <th>BloodPressure</th>\n",
       "      <th>SkinThickness</th>\n",
       "      <th>Insulin</th>\n",
       "      <th>BMI</th>\n",
       "      <th>DiabetesPedigreeFunction</th>\n",
       "      <th>Age</th>\n",
       "      <th>Outcome</th>\n",
       "    </tr>\n",
       "  </thead>\n",
       "  <tbody>\n",
       "    <tr>\n",
       "      <th>0</th>\n",
       "      <td>6</td>\n",
       "      <td>148</td>\n",
       "      <td>72</td>\n",
       "      <td>35</td>\n",
       "      <td>0</td>\n",
       "      <td>33.6</td>\n",
       "      <td>0.627</td>\n",
       "      <td>50</td>\n",
       "      <td>1</td>\n",
       "    </tr>\n",
       "    <tr>\n",
       "      <th>1</th>\n",
       "      <td>1</td>\n",
       "      <td>85</td>\n",
       "      <td>66</td>\n",
       "      <td>29</td>\n",
       "      <td>0</td>\n",
       "      <td>26.6</td>\n",
       "      <td>0.351</td>\n",
       "      <td>31</td>\n",
       "      <td>0</td>\n",
       "    </tr>\n",
       "    <tr>\n",
       "      <th>2</th>\n",
       "      <td>8</td>\n",
       "      <td>183</td>\n",
       "      <td>64</td>\n",
       "      <td>0</td>\n",
       "      <td>0</td>\n",
       "      <td>23.3</td>\n",
       "      <td>0.672</td>\n",
       "      <td>32</td>\n",
       "      <td>1</td>\n",
       "    </tr>\n",
       "  </tbody>\n",
       "</table>\n",
       "</div>"
      ],
      "text/plain": [
       "   Pregnancies  Glucose  BloodPressure  SkinThickness  Insulin   BMI  \\\n",
       "0            6      148             72             35        0  33.6   \n",
       "1            1       85             66             29        0  26.6   \n",
       "2            8      183             64              0        0  23.3   \n",
       "\n",
       "   DiabetesPedigreeFunction  Age  Outcome  \n",
       "0                     0.627   50        1  \n",
       "1                     0.351   31        0  \n",
       "2                     0.672   32        1  "
      ]
     },
     "execution_count": 264,
     "metadata": {},
     "output_type": "execute_result"
    }
   ],
   "source": [
    "diabetes = pd.read_csv('../data/pima-indians-diabetes.csv', sep = ';')\n",
    "diabetes.head(3)"
   ]
  },
  {
   "cell_type": "markdown",
   "id": "e1631025",
   "metadata": {},
   "source": [
    "#### Diabetes Train-Test split"
   ]
  },
  {
   "cell_type": "code",
   "execution_count": 265,
   "id": "d52154ab",
   "metadata": {},
   "outputs": [
    {
     "data": {
      "text/html": [
       "<div>\n",
       "<style scoped>\n",
       "    .dataframe tbody tr th:only-of-type {\n",
       "        vertical-align: middle;\n",
       "    }\n",
       "\n",
       "    .dataframe tbody tr th {\n",
       "        vertical-align: top;\n",
       "    }\n",
       "\n",
       "    .dataframe thead th {\n",
       "        text-align: right;\n",
       "    }\n",
       "</style>\n",
       "<table border=\"1\" class=\"dataframe\">\n",
       "  <thead>\n",
       "    <tr style=\"text-align: right;\">\n",
       "      <th></th>\n",
       "      <th>Pregnancies</th>\n",
       "      <th>Glucose</th>\n",
       "      <th>BloodPressure</th>\n",
       "      <th>SkinThickness</th>\n",
       "      <th>Insulin</th>\n",
       "      <th>BMI</th>\n",
       "      <th>DiabetesPedigreeFunction</th>\n",
       "      <th>Age</th>\n",
       "    </tr>\n",
       "  </thead>\n",
       "  <tbody>\n",
       "    <tr>\n",
       "      <th>603</th>\n",
       "      <td>7</td>\n",
       "      <td>150</td>\n",
       "      <td>78</td>\n",
       "      <td>29</td>\n",
       "      <td>126</td>\n",
       "      <td>35.2</td>\n",
       "      <td>0.692</td>\n",
       "      <td>54</td>\n",
       "    </tr>\n",
       "    <tr>\n",
       "      <th>118</th>\n",
       "      <td>4</td>\n",
       "      <td>97</td>\n",
       "      <td>60</td>\n",
       "      <td>23</td>\n",
       "      <td>0</td>\n",
       "      <td>28.2</td>\n",
       "      <td>0.443</td>\n",
       "      <td>22</td>\n",
       "    </tr>\n",
       "    <tr>\n",
       "      <th>247</th>\n",
       "      <td>0</td>\n",
       "      <td>165</td>\n",
       "      <td>90</td>\n",
       "      <td>33</td>\n",
       "      <td>680</td>\n",
       "      <td>52.3</td>\n",
       "      <td>0.427</td>\n",
       "      <td>23</td>\n",
       "    </tr>\n",
       "  </tbody>\n",
       "</table>\n",
       "</div>"
      ],
      "text/plain": [
       "     Pregnancies  Glucose  BloodPressure  SkinThickness  Insulin   BMI  \\\n",
       "603            7      150             78             29      126  35.2   \n",
       "118            4       97             60             23        0  28.2   \n",
       "247            0      165             90             33      680  52.3   \n",
       "\n",
       "     DiabetesPedigreeFunction  Age  \n",
       "603                     0.692   54  \n",
       "118                     0.443   22  \n",
       "247                     0.427   23  "
      ]
     },
     "execution_count": 265,
     "metadata": {},
     "output_type": "execute_result"
    }
   ],
   "source": [
    "diab_X_train, diab_X_test, diab_y_train, diab_y_test = train_test_split(diabetes[['Pregnancies','Glucose','BloodPressure','SkinThickness','Insulin','BMI',\n",
    "                                              'DiabetesPedigreeFunction','Age']], \n",
    "                                                    diabetes['Outcome'], train_size = 0.8, random_state = 0)\n",
    "diab_X_train.head(3)"
   ]
  },
  {
   "cell_type": "markdown",
   "id": "1559aacb",
   "metadata": {},
   "source": [
    "### Over Sampling\n",
    "\n",
    "As wee saw in with the value_counts method there is some unbalance, so let's fix it"
   ]
  },
  {
   "cell_type": "code",
   "execution_count": 266,
   "id": "6ac6d11c",
   "metadata": {},
   "outputs": [
    {
     "data": {
      "text/plain": [
       "0    500\n",
       "1    268\n",
       "Name: Outcome, dtype: int64"
      ]
     },
     "execution_count": 266,
     "metadata": {},
     "output_type": "execute_result"
    }
   ],
   "source": [
    "diabetes.Outcome.value_counts()"
   ]
  },
  {
   "cell_type": "code",
   "execution_count": 267,
   "id": "ab51a3c4",
   "metadata": {},
   "outputs": [],
   "source": [
    "ros = RandomOverSampler(random_state=42)\n",
    "diab_X_train, diab_y_train= ros.fit_resample(diab_X_train, diab_y_train)"
   ]
  },
  {
   "cell_type": "code",
   "execution_count": 268,
   "id": "e76dad8e",
   "metadata": {
    "scrolled": true
   },
   "outputs": [
    {
     "data": {
      "text/html": [
       "<div>\n",
       "<style scoped>\n",
       "    .dataframe tbody tr th:only-of-type {\n",
       "        vertical-align: middle;\n",
       "    }\n",
       "\n",
       "    .dataframe tbody tr th {\n",
       "        vertical-align: top;\n",
       "    }\n",
       "\n",
       "    .dataframe thead th {\n",
       "        text-align: right;\n",
       "    }\n",
       "</style>\n",
       "<table border=\"1\" class=\"dataframe\">\n",
       "  <thead>\n",
       "    <tr style=\"text-align: right;\">\n",
       "      <th></th>\n",
       "      <th>Pregnancies_st</th>\n",
       "      <th>Glucose_st</th>\n",
       "      <th>BloodPressure_st</th>\n",
       "      <th>SkinThickness_st</th>\n",
       "      <th>Insulin_st</th>\n",
       "      <th>BMI_st</th>\n",
       "      <th>DiabetesPedigreeFunction_st</th>\n",
       "      <th>Age_st</th>\n",
       "    </tr>\n",
       "  </thead>\n",
       "  <tbody>\n",
       "    <tr>\n",
       "      <th>0</th>\n",
       "      <td>-0.892614</td>\n",
       "      <td>2.215251</td>\n",
       "      <td>0.318781</td>\n",
       "      <td>1.324090</td>\n",
       "      <td>-0.703392</td>\n",
       "      <td>1.353269</td>\n",
       "      <td>2.715018</td>\n",
       "      <td>-1.061804</td>\n",
       "    </tr>\n",
       "    <tr>\n",
       "      <th>1</th>\n",
       "      <td>-0.606949</td>\n",
       "      <td>-0.508176</td>\n",
       "      <td>0.217092</td>\n",
       "      <td>0.536939</td>\n",
       "      <td>0.133295</td>\n",
       "      <td>0.141652</td>\n",
       "      <td>-0.226186</td>\n",
       "      <td>-0.978028</td>\n",
       "    </tr>\n",
       "    <tr>\n",
       "      <th>2</th>\n",
       "      <td>-0.035617</td>\n",
       "      <td>-1.425852</td>\n",
       "      <td>-0.393042</td>\n",
       "      <td>-1.279564</td>\n",
       "      <td>-0.703392</td>\n",
       "      <td>0.193765</td>\n",
       "      <td>-0.264808</td>\n",
       "      <td>-0.810476</td>\n",
       "    </tr>\n",
       "  </tbody>\n",
       "</table>\n",
       "</div>"
      ],
      "text/plain": [
       "   Pregnancies_st  Glucose_st  BloodPressure_st  SkinThickness_st  Insulin_st  \\\n",
       "0       -0.892614    2.215251          0.318781          1.324090   -0.703392   \n",
       "1       -0.606949   -0.508176          0.217092          0.536939    0.133295   \n",
       "2       -0.035617   -1.425852         -0.393042         -1.279564   -0.703392   \n",
       "\n",
       "     BMI_st  DiabetesPedigreeFunction_st    Age_st  \n",
       "0  1.353269                     2.715018 -1.061804  \n",
       "1  0.141652                    -0.226186 -0.978028  \n",
       "2  0.193765                    -0.264808 -0.810476  "
      ]
     },
     "execution_count": 268,
     "metadata": {},
     "output_type": "execute_result"
    }
   ],
   "source": [
    "scaler = StandardScaler()\n",
    "sc = scaler.fit(diab_X_train)\n",
    "\n",
    "train_sc = sc.transform(diab_X_train)\n",
    "diab_X_train_sc = pd.DataFrame(train_sc)\n",
    "diab_X_train_sc.columns = ['Pregnancies_st','Glucose_st','BloodPressure_st','SkinThickness_st','Insulin_st','BMI_st',\n",
    "       'DiabetesPedigreeFunction_st','Age_st']\n",
    "\n",
    "test_sc = sc.transform(diab_X_test)\n",
    "diab_X_test_sc = pd.DataFrame(test_sc)\n",
    "diab_X_test_sc.columns = ['Pregnancies_st','Glucose_st','BloodPressure_st','SkinThickness_st','Insulin_st','BMI_st',\n",
    "       'DiabetesPedigreeFunction_st','Age_st']\n",
    "\n",
    "diab_X_test_sc.head(3)"
   ]
  },
  {
   "cell_type": "markdown",
   "id": "36b1ae0e",
   "metadata": {},
   "source": [
    "### Car Miles per Galon dataset\n",
    "\n",
    "Contains information about 1300 cars. The goal is to predict mpg\n",
    "\n"
   ]
  },
  {
   "cell_type": "code",
   "execution_count": 233,
   "id": "b2975370",
   "metadata": {},
   "outputs": [
    {
     "data": {
      "text/html": [
       "<div>\n",
       "<style scoped>\n",
       "    .dataframe tbody tr th:only-of-type {\n",
       "        vertical-align: middle;\n",
       "    }\n",
       "\n",
       "    .dataframe tbody tr th {\n",
       "        vertical-align: top;\n",
       "    }\n",
       "\n",
       "    .dataframe thead th {\n",
       "        text-align: right;\n",
       "    }\n",
       "</style>\n",
       "<table border=\"1\" class=\"dataframe\">\n",
       "  <thead>\n",
       "    <tr style=\"text-align: right;\">\n",
       "      <th></th>\n",
       "      <th>cylinders</th>\n",
       "      <th>displacement</th>\n",
       "      <th>horsepower</th>\n",
       "      <th>weight</th>\n",
       "      <th>acceleration</th>\n",
       "      <th>model year</th>\n",
       "      <th>origin</th>\n",
       "      <th>mpg</th>\n",
       "    </tr>\n",
       "  </thead>\n",
       "  <tbody>\n",
       "    <tr>\n",
       "      <th>0</th>\n",
       "      <td>6</td>\n",
       "      <td>225.0</td>\n",
       "      <td>95</td>\n",
       "      <td>3264</td>\n",
       "      <td>16.0</td>\n",
       "      <td>75</td>\n",
       "      <td>1</td>\n",
       "      <td>19.0</td>\n",
       "    </tr>\n",
       "    <tr>\n",
       "      <th>1</th>\n",
       "      <td>6</td>\n",
       "      <td>250.0</td>\n",
       "      <td>88</td>\n",
       "      <td>3139</td>\n",
       "      <td>14.5</td>\n",
       "      <td>71</td>\n",
       "      <td>1</td>\n",
       "      <td>18.0</td>\n",
       "    </tr>\n",
       "    <tr>\n",
       "      <th>2</th>\n",
       "      <td>4</td>\n",
       "      <td>98.0</td>\n",
       "      <td>80</td>\n",
       "      <td>2164</td>\n",
       "      <td>15.0</td>\n",
       "      <td>72</td>\n",
       "      <td>1</td>\n",
       "      <td>28.0</td>\n",
       "    </tr>\n",
       "  </tbody>\n",
       "</table>\n",
       "</div>"
      ],
      "text/plain": [
       "   cylinders  displacement  horsepower  weight  acceleration  model year  \\\n",
       "0          6         225.0          95    3264          16.0          75   \n",
       "1          6         250.0          88    3139          14.5          71   \n",
       "2          4          98.0          80    2164          15.0          72   \n",
       "\n",
       "   origin   mpg  \n",
       "0       1  19.0  \n",
       "1       1  18.0  \n",
       "2       1  28.0  "
      ]
     },
     "execution_count": 233,
     "metadata": {},
     "output_type": "execute_result"
    }
   ],
   "source": [
    "cars = pd.read_csv('../data/car_miles_per_galon.csv', sep = ';')\n",
    "cars.head(3)"
   ]
  },
  {
   "cell_type": "markdown",
   "id": "311994ad",
   "metadata": {},
   "source": [
    "#### Car Train test split\n",
    "\n"
   ]
  },
  {
   "cell_type": "code",
   "execution_count": 239,
   "id": "76709ea6",
   "metadata": {},
   "outputs": [
    {
     "data": {
      "text/html": [
       "<div>\n",
       "<style scoped>\n",
       "    .dataframe tbody tr th:only-of-type {\n",
       "        vertical-align: middle;\n",
       "    }\n",
       "\n",
       "    .dataframe tbody tr th {\n",
       "        vertical-align: top;\n",
       "    }\n",
       "\n",
       "    .dataframe thead th {\n",
       "        text-align: right;\n",
       "    }\n",
       "</style>\n",
       "<table border=\"1\" class=\"dataframe\">\n",
       "  <thead>\n",
       "    <tr style=\"text-align: right;\">\n",
       "      <th></th>\n",
       "      <th>cylinders</th>\n",
       "      <th>displacement</th>\n",
       "      <th>horsepower</th>\n",
       "      <th>weight</th>\n",
       "      <th>acceleration</th>\n",
       "      <th>model year</th>\n",
       "      <th>origin</th>\n",
       "    </tr>\n",
       "  </thead>\n",
       "  <tbody>\n",
       "    <tr>\n",
       "      <th>1161</th>\n",
       "      <td>4</td>\n",
       "      <td>86.0</td>\n",
       "      <td>64</td>\n",
       "      <td>1875</td>\n",
       "      <td>16.4</td>\n",
       "      <td>81</td>\n",
       "      <td>1</td>\n",
       "    </tr>\n",
       "    <tr>\n",
       "      <th>567</th>\n",
       "      <td>4</td>\n",
       "      <td>98.0</td>\n",
       "      <td>68</td>\n",
       "      <td>2135</td>\n",
       "      <td>16.6</td>\n",
       "      <td>78</td>\n",
       "      <td>3</td>\n",
       "    </tr>\n",
       "    <tr>\n",
       "      <th>1270</th>\n",
       "      <td>4</td>\n",
       "      <td>141.0</td>\n",
       "      <td>71</td>\n",
       "      <td>3190</td>\n",
       "      <td>24.8</td>\n",
       "      <td>79</td>\n",
       "      <td>2</td>\n",
       "    </tr>\n",
       "  </tbody>\n",
       "</table>\n",
       "</div>"
      ],
      "text/plain": [
       "      cylinders  displacement  horsepower  weight  acceleration  model year  \\\n",
       "1161          4          86.0          64    1875          16.4          81   \n",
       "567           4          98.0          68    2135          16.6          78   \n",
       "1270          4         141.0          71    3190          24.8          79   \n",
       "\n",
       "      origin  \n",
       "1161       1  \n",
       "567        3  \n",
       "1270       2  "
      ]
     },
     "execution_count": 239,
     "metadata": {},
     "output_type": "execute_result"
    }
   ],
   "source": [
    "cars_X_train, cars_X_test, cars_y_train, cars_y_test = train_test_split(cars[['cylinders','displacement','horsepower',\n",
    "                                                                              'weight','acceleration','model year','origin']], \n",
    "                                                    cars['mpg'], train_size = 0.8, random_state = 0)\n",
    "cars_X_train.head(3)"
   ]
  },
  {
   "cell_type": "markdown",
   "id": "29e95f08",
   "metadata": {},
   "source": [
    "We dont scale origin"
   ]
  },
  {
   "cell_type": "code",
   "execution_count": 102,
   "id": "b5d43a8f",
   "metadata": {},
   "outputs": [
    {
     "data": {
      "text/plain": [
       "1    830\n",
       "3    280\n",
       "2    219\n",
       "Name: origin, dtype: int64"
      ]
     },
     "execution_count": 102,
     "metadata": {},
     "output_type": "execute_result"
    }
   ],
   "source": [
    "cars['origin'].value_counts()"
   ]
  },
  {
   "cell_type": "code",
   "execution_count": 240,
   "id": "f13f68d7",
   "metadata": {
    "scrolled": true
   },
   "outputs": [
    {
     "data": {
      "text/html": [
       "<div>\n",
       "<style scoped>\n",
       "    .dataframe tbody tr th:only-of-type {\n",
       "        vertical-align: middle;\n",
       "    }\n",
       "\n",
       "    .dataframe tbody tr th {\n",
       "        vertical-align: top;\n",
       "    }\n",
       "\n",
       "    .dataframe thead th {\n",
       "        text-align: right;\n",
       "    }\n",
       "</style>\n",
       "<table border=\"1\" class=\"dataframe\">\n",
       "  <thead>\n",
       "    <tr style=\"text-align: right;\">\n",
       "      <th></th>\n",
       "      <th>cylinders</th>\n",
       "      <th>displacement</th>\n",
       "      <th>horsepower</th>\n",
       "      <th>weight</th>\n",
       "      <th>acceleration</th>\n",
       "      <th>model year</th>\n",
       "      <th>origin</th>\n",
       "    </tr>\n",
       "  </thead>\n",
       "  <tbody>\n",
       "    <tr>\n",
       "      <th>1161</th>\n",
       "      <td>-0.861621</td>\n",
       "      <td>-1.020848</td>\n",
       "      <td>-1.050466</td>\n",
       "      <td>-1.288559</td>\n",
       "      <td>0.275634</td>\n",
       "      <td>1.345204</td>\n",
       "      <td>1</td>\n",
       "    </tr>\n",
       "    <tr>\n",
       "      <th>567</th>\n",
       "      <td>-0.861621</td>\n",
       "      <td>-0.904822</td>\n",
       "      <td>-0.943163</td>\n",
       "      <td>-0.978212</td>\n",
       "      <td>0.347677</td>\n",
       "      <td>0.529952</td>\n",
       "      <td>3</td>\n",
       "    </tr>\n",
       "    <tr>\n",
       "      <th>1270</th>\n",
       "      <td>-0.861621</td>\n",
       "      <td>-0.489063</td>\n",
       "      <td>-0.862686</td>\n",
       "      <td>0.281082</td>\n",
       "      <td>3.301440</td>\n",
       "      <td>0.801703</td>\n",
       "      <td>2</td>\n",
       "    </tr>\n",
       "  </tbody>\n",
       "</table>\n",
       "</div>"
      ],
      "text/plain": [
       "      cylinders  displacement  horsepower    weight  acceleration  model year  \\\n",
       "1161  -0.861621     -1.020848   -1.050466 -1.288559      0.275634    1.345204   \n",
       "567   -0.861621     -0.904822   -0.943163 -0.978212      0.347677    0.529952   \n",
       "1270  -0.861621     -0.489063   -0.862686  0.281082      3.301440    0.801703   \n",
       "\n",
       "      origin  \n",
       "1161       1  \n",
       "567        3  \n",
       "1270       2  "
      ]
     },
     "execution_count": 240,
     "metadata": {},
     "output_type": "execute_result"
    }
   ],
   "source": [
    "column_to_keep_train = cars_X_train['origin']\n",
    "cars_X_train = cars_X_train.drop(columns=['origin'])\n",
    "original_index_train = cars_X_train.index\n",
    "\n",
    "column_to_keep_test = cars_X_test['origin']\n",
    "cars_X_test = cars_X_test.drop(columns=['origin'])\n",
    "original_index_test = cars_X_test.index\n",
    "\n",
    "scaler = StandardScaler()\n",
    "car_scaler = scaler.fit(cars_X_train)\n",
    "train_car_scaler = car_scaler.transform(cars_X_train)\n",
    "test_car_scaler = car_scaler.transform(cars_X_test)\n",
    "\n",
    "# Crear un nuevo DataFrame con las características estandarizadas\n",
    "cars_X_train_car_scaler = pd.DataFrame(train_car_scaler, columns=cars_X_train.columns, index = original_index_train)\n",
    "cars_X_test_car_scaler = pd.DataFrame(test_car_scaler, columns=cars_X_test.columns, index = original_index_test)\n",
    "\n",
    "# Concatenar la columna no estandarizada de nuevo al DataFrame\n",
    "cars_X_train_car_scaler = pd.concat([cars_X_train_car_scaler, column_to_keep_train], axis=1)\n",
    "cars_X_test_car_scaler = pd.concat([cars_X_test_car_scaler, column_to_keep_test], axis=1)\n",
    "cars_X_train_car_scaler.head(3)"
   ]
  },
  {
   "cell_type": "markdown",
   "id": "d8fc9848",
   "metadata": {},
   "source": [
    "## Random Forest Regressor"
   ]
  },
  {
   "cell_type": "code",
   "execution_count": null,
   "id": "2ce988e5",
   "metadata": {},
   "outputs": [],
   "source": [
    "RF_Reg = RandomForestRegressor()\n",
    "\n",
    "grid = dict()\n",
    "grid['n_estimators'] = [100, 500] # number of trees\n",
    "grid['criterion'] = ['gini','entropy']\n",
    "\n",
    "\n",
    "\n",
    "# define the evaluation procedure\n",
    "cv = RepeatedKFold(n_splits = 5, n_repeats = 3, random_state = 1)\n",
    "\n",
    "# define the grid search procedure\n",
    "grid_search = GridSearchCV(estimator = RF_Reg, param_grid = grid, n_jobs = -1, cv = cv, scoring = 'neg_mean_absolute_error')\n",
    "\n",
    "# execute the grid search\n",
    "grid_result = grid_search.fit(cars_X_train_car_scaler, cars_y_train)\n",
    "\n",
    "print(\"Best: %f using %s\" % (grid_result.best_score_, grid_result.best_params_))\n",
    "\n",
    "# summarize all scores that were evaluated\n",
    "means = grid_result.cv_results_['mean_test_score']\n",
    "stds = grid_result.cv_results_['std_test_score']\n",
    "params = grid_result.cv_results_['params']\n",
    "for mean, stdev, param in zip(means, stds, params):\n",
    "    print(\"%f (%f) with: %r\" % (mean, stdev, param))"
   ]
  },
  {
   "cell_type": "code",
   "execution_count": null,
   "id": "568f5f66",
   "metadata": {},
   "outputs": [],
   "source": [
    "RF_Reg = RandomDorestRegressor(learning_rate = 1, n_estimators = 100)\n",
    "RF_Reg.fit(cars_X_train_car_scaler, cars_y_train)"
   ]
  },
  {
   "cell_type": "code",
   "execution_count": null,
   "id": "f18e9104",
   "metadata": {},
   "outputs": [],
   "source": [
    "cars_X_test_car_scaler['RF_Reg'] = RF_Reg.predict(cars_X_test_car_scaler)\n",
    "cars_X_train_car_scaler['RF_Reg'] = RF_Reg.predict(cars_X_train_car_scaler)"
   ]
  },
  {
   "cell_type": "code",
   "execution_count": null,
   "id": "d81748ae",
   "metadata": {},
   "outputs": [],
   "source": [
    "print(\"MAE: \", metrics.mean_absolute_error(cars_y_train, cars_X_train_car_scaler['RF_Reg']).round(4))\n",
    "print(\"MSE: \", metrics.mean_squared_error(cars_y_train, cars_X_train_car_scaler['RF_Reg']).round(4))\n",
    "print(\"RMSE: \", np.sqrt(metrics.mean_squared_error(cars_y_train, cars_X_train_car_scaler['RF_Reg'])).round(4))\n",
    "print(\"MAPE: \", metrics.mean_absolute_percentage_error(cars_y_train, cars_X_train_car_scaler['RF_Reg']).round(4))\n",
    "print(\"R2: \", metrics.r2_score(cars_y_train, cars_X_train_car_scaler['RF_Reg']).round(4))"
   ]
  },
  {
   "cell_type": "code",
   "execution_count": null,
   "id": "b68783cc",
   "metadata": {},
   "outputs": [],
   "source": [
    "print(\"MAE: \", metrics.mean_absolute_error(cars_y_test, cars_X_test_car_scaler['RF_Reg']).round(4))\n",
    "print(\"MSE: \", metrics.mean_squared_error(cars_y_test, cars_X_test_car_scaler['RF_Reg']).round(4))\n",
    "print(\"RMSE: \", np.sqrt(metrics.mean_squared_error(cars_y_test, cars_X_test_car_scaler['RF_Reg'])).round(4))\n",
    "print(\"MAPE: \", metrics.mean_absolute_percentage_error(cars_y_test, cars_X_test_car_scaler['RF_Reg']).round(4))\n",
    "print(\"R2: \", metrics.r2_score(cars_y_test, cars_X_test_car_scaler['RF_Reg']).round(4))"
   ]
  },
  {
   "cell_type": "markdown",
   "id": "ddd97a21",
   "metadata": {},
   "source": [
    "## Random Forest Classifier"
   ]
  },
  {
   "cell_type": "code",
   "execution_count": null,
   "id": "a591ca96",
   "metadata": {},
   "outputs": [],
   "source": [
    "RF_Cl = RandomForestClassifier()\n",
    "\n",
    "# define the grid of values to search\n",
    "grid = dict()\n",
    "grid['n_estimators'] = [100, 500]\n",
    "grid['criterion'] = ['gini','entropy']\n",
    "\n",
    "# define the evaluation procedure\n",
    "cv = RepeatedStratifiedKFold(n_splits=5, n_repeats=3, random_state=1)\n",
    "\n",
    "# define the grid search procedure\n",
    "grid_search = GridSearchCV(estimator=RF_Cl, param_grid=grid, n_jobs=-1, cv=cv, scoring='accuracy')\n",
    "\n",
    "# execute the grid search\n",
    "grid_result = grid_search.fit(diab_X_train_sc, diab_y_train)\n",
    "\n",
    "# summarize the best score and configuration\n",
    "print(\"Best: %f using %s\" % (grid_result.best_score_, grid_result.best_params_))\n",
    "\n",
    "# summarize all scores that were evaluated\n",
    "means = grid_result.cv_results_['mean_test_score']\n",
    "stds = grid_result.cv_results_['std_test_score']\n",
    "params = grid_result.cv_results_['params']\n",
    "for mean, stdev, param in zip(means, stds, params):\n",
    "    print(\"%f (%f) with: %r\" % (mean, stdev, param))\n",
    "    \n"
   ]
  },
  {
   "cell_type": "code",
   "execution_count": null,
   "id": "03a0f7dd",
   "metadata": {},
   "outputs": [],
   "source": [
    "RF_Cl = RandomForestClassifier(learning_rate = 0.01, n_estimators = 500)\n",
    "RF_Cl.fit(diab_X_train_sc, diab_y_train)"
   ]
  },
  {
   "cell_type": "code",
   "execution_count": null,
   "id": "ba9828e5",
   "metadata": {},
   "outputs": [],
   "source": [
    "print(\"Train set score (Accuracy) =\", RF_Cl.score(diab_X_train_sc, diab_y_train).round(4))\n",
    "print(\"Test set score (Accuracy) =\", RF_Cl.score(diab_X_test_sc, diab_y_test).round(4))\n",
    "\n",
    "conf_mat = confusion_matrix(diab_y_test, RF_Cl.predict(diab_X_test_sc))\n",
    "print(tabulate(conf_mat,headers = ['pred Diab No','pred Diab Yes'], showindex = ['real Diab No','real Diab Yes'], \n",
    "               tablefmt = 'fancy_grid'))\n",
    "\n",
    "print(classification_report(diab_y_test, RF_Cl.predict(diab_X_test_sc)))"
   ]
  },
  {
   "cell_type": "code",
   "execution_count": null,
   "id": "5f29dad5",
   "metadata": {},
   "outputs": [],
   "source": [
    "diab_X_test_sc['RF_Cl'] = RF_Cl.predict(diab_X_test_sc)\n",
    "diab_X_train_sc['RF_Cl'] = RF_Cl.predict(diab_X_train_sc)"
   ]
  },
  {
   "cell_type": "markdown",
   "id": "11b1fda6",
   "metadata": {},
   "source": [
    "## Stacking Regression with Python\n"
   ]
  },
  {
   "cell_type": "code",
   "execution_count": 285,
   "id": "a6cee760",
   "metadata": {
    "scrolled": true
   },
   "outputs": [
    {
     "data": {
      "text/html": [
       "<style>#sk-container-id-29 {color: black;background-color: white;}#sk-container-id-29 pre{padding: 0;}#sk-container-id-29 div.sk-toggleable {background-color: white;}#sk-container-id-29 label.sk-toggleable__label {cursor: pointer;display: block;width: 100%;margin-bottom: 0;padding: 0.3em;box-sizing: border-box;text-align: center;}#sk-container-id-29 label.sk-toggleable__label-arrow:before {content: \"▸\";float: left;margin-right: 0.25em;color: #696969;}#sk-container-id-29 label.sk-toggleable__label-arrow:hover:before {color: black;}#sk-container-id-29 div.sk-estimator:hover label.sk-toggleable__label-arrow:before {color: black;}#sk-container-id-29 div.sk-toggleable__content {max-height: 0;max-width: 0;overflow: hidden;text-align: left;background-color: #f0f8ff;}#sk-container-id-29 div.sk-toggleable__content pre {margin: 0.2em;color: black;border-radius: 0.25em;background-color: #f0f8ff;}#sk-container-id-29 input.sk-toggleable__control:checked~div.sk-toggleable__content {max-height: 200px;max-width: 100%;overflow: auto;}#sk-container-id-29 input.sk-toggleable__control:checked~label.sk-toggleable__label-arrow:before {content: \"▾\";}#sk-container-id-29 div.sk-estimator input.sk-toggleable__control:checked~label.sk-toggleable__label {background-color: #d4ebff;}#sk-container-id-29 div.sk-label input.sk-toggleable__control:checked~label.sk-toggleable__label {background-color: #d4ebff;}#sk-container-id-29 input.sk-hidden--visually {border: 0;clip: rect(1px 1px 1px 1px);clip: rect(1px, 1px, 1px, 1px);height: 1px;margin: -1px;overflow: hidden;padding: 0;position: absolute;width: 1px;}#sk-container-id-29 div.sk-estimator {font-family: monospace;background-color: #f0f8ff;border: 1px dotted black;border-radius: 0.25em;box-sizing: border-box;margin-bottom: 0.5em;}#sk-container-id-29 div.sk-estimator:hover {background-color: #d4ebff;}#sk-container-id-29 div.sk-parallel-item::after {content: \"\";width: 100%;border-bottom: 1px solid gray;flex-grow: 1;}#sk-container-id-29 div.sk-label:hover label.sk-toggleable__label {background-color: #d4ebff;}#sk-container-id-29 div.sk-serial::before {content: \"\";position: absolute;border-left: 1px solid gray;box-sizing: border-box;top: 0;bottom: 0;left: 50%;z-index: 0;}#sk-container-id-29 div.sk-serial {display: flex;flex-direction: column;align-items: center;background-color: white;padding-right: 0.2em;padding-left: 0.2em;position: relative;}#sk-container-id-29 div.sk-item {position: relative;z-index: 1;}#sk-container-id-29 div.sk-parallel {display: flex;align-items: stretch;justify-content: center;background-color: white;position: relative;}#sk-container-id-29 div.sk-item::before, #sk-container-id-29 div.sk-parallel-item::before {content: \"\";position: absolute;border-left: 1px solid gray;box-sizing: border-box;top: 0;bottom: 0;left: 50%;z-index: -1;}#sk-container-id-29 div.sk-parallel-item {display: flex;flex-direction: column;z-index: 1;position: relative;background-color: white;}#sk-container-id-29 div.sk-parallel-item:first-child::after {align-self: flex-end;width: 50%;}#sk-container-id-29 div.sk-parallel-item:last-child::after {align-self: flex-start;width: 50%;}#sk-container-id-29 div.sk-parallel-item:only-child::after {width: 0;}#sk-container-id-29 div.sk-dashed-wrapped {border: 1px dashed gray;margin: 0 0.4em 0.5em 0.4em;box-sizing: border-box;padding-bottom: 0.4em;background-color: white;}#sk-container-id-29 div.sk-label label {font-family: monospace;font-weight: bold;display: inline-block;line-height: 1.2em;}#sk-container-id-29 div.sk-label-container {text-align: center;}#sk-container-id-29 div.sk-container {/* jupyter's `normalize.less` sets `[hidden] { display: none; }` but bootstrap.min.css set `[hidden] { display: none !important; }` so we also need the `!important` here to be able to override the default hidden behavior on the sphinx rendered scikit-learn.org. See: https://github.com/scikit-learn/scikit-learn/issues/21755 */display: inline-block !important;position: relative;}#sk-container-id-29 div.sk-text-repr-fallback {display: none;}</style><div id=\"sk-container-id-29\" class=\"sk-top-container\"><div class=\"sk-text-repr-fallback\"><pre>StackingRegressor(cv=5,\n",
       "                  estimators=[(&#x27;lr&#x27;, LinearRegression()),\n",
       "                              (&#x27;RF&#x27;, RandomForestRegressor()), (&#x27;svr&#x27;, SVR())],\n",
       "                  final_estimator=LinearRegression())</pre><b>In a Jupyter environment, please rerun this cell to show the HTML representation or trust the notebook. <br />On GitHub, the HTML representation is unable to render, please try loading this page with nbviewer.org.</b></div><div class=\"sk-container\" hidden><div class=\"sk-item sk-dashed-wrapped\"><div class=\"sk-label-container\"><div class=\"sk-label sk-toggleable\"><input class=\"sk-toggleable__control sk-hidden--visually\" id=\"sk-estimator-id-39\" type=\"checkbox\" ><label for=\"sk-estimator-id-39\" class=\"sk-toggleable__label sk-toggleable__label-arrow\">StackingRegressor</label><div class=\"sk-toggleable__content\"><pre>StackingRegressor(cv=5,\n",
       "                  estimators=[(&#x27;lr&#x27;, LinearRegression()),\n",
       "                              (&#x27;RF&#x27;, RandomForestRegressor()), (&#x27;svr&#x27;, SVR())],\n",
       "                  final_estimator=LinearRegression())</pre></div></div></div><div class=\"sk-serial\"><div class=\"sk-item\"><div class=\"sk-parallel\"><div class=\"sk-parallel-item\"><div class=\"sk-item\"><div class=\"sk-label-container\"><div class=\"sk-label sk-toggleable\"><label>lr</label></div></div><div class=\"sk-serial\"><div class=\"sk-item\"><div class=\"sk-estimator sk-toggleable\"><input class=\"sk-toggleable__control sk-hidden--visually\" id=\"sk-estimator-id-40\" type=\"checkbox\" ><label for=\"sk-estimator-id-40\" class=\"sk-toggleable__label sk-toggleable__label-arrow\">LinearRegression</label><div class=\"sk-toggleable__content\"><pre>LinearRegression()</pre></div></div></div></div></div></div><div class=\"sk-parallel-item\"><div class=\"sk-item\"><div class=\"sk-label-container\"><div class=\"sk-label sk-toggleable\"><label>RF</label></div></div><div class=\"sk-serial\"><div class=\"sk-item\"><div class=\"sk-estimator sk-toggleable\"><input class=\"sk-toggleable__control sk-hidden--visually\" id=\"sk-estimator-id-41\" type=\"checkbox\" ><label for=\"sk-estimator-id-41\" class=\"sk-toggleable__label sk-toggleable__label-arrow\">RandomForestRegressor</label><div class=\"sk-toggleable__content\"><pre>RandomForestRegressor()</pre></div></div></div></div></div></div><div class=\"sk-parallel-item\"><div class=\"sk-item\"><div class=\"sk-label-container\"><div class=\"sk-label sk-toggleable\"><label>svr</label></div></div><div class=\"sk-serial\"><div class=\"sk-item\"><div class=\"sk-estimator sk-toggleable\"><input class=\"sk-toggleable__control sk-hidden--visually\" id=\"sk-estimator-id-42\" type=\"checkbox\" ><label for=\"sk-estimator-id-42\" class=\"sk-toggleable__label sk-toggleable__label-arrow\">SVR</label><div class=\"sk-toggleable__content\"><pre>SVR()</pre></div></div></div></div></div></div></div></div><div class=\"sk-item\"><div class=\"sk-parallel\"><div class=\"sk-parallel-item\"><div class=\"sk-item\"><div class=\"sk-label-container\"><div class=\"sk-label sk-toggleable\"><label>final_estimator</label></div></div><div class=\"sk-serial\"><div class=\"sk-item\"><div class=\"sk-estimator sk-toggleable\"><input class=\"sk-toggleable__control sk-hidden--visually\" id=\"sk-estimator-id-43\" type=\"checkbox\" ><label for=\"sk-estimator-id-43\" class=\"sk-toggleable__label sk-toggleable__label-arrow\">LinearRegression</label><div class=\"sk-toggleable__content\"><pre>LinearRegression()</pre></div></div></div></div></div></div></div></div></div></div></div></div>"
      ],
      "text/plain": [
       "StackingRegressor(cv=5,\n",
       "                  estimators=[('lr', LinearRegression()),\n",
       "                              ('RF', RandomForestRegressor()), ('svr', SVR())],\n",
       "                  final_estimator=LinearRegression())"
      ]
     },
     "execution_count": 285,
     "metadata": {},
     "output_type": "execute_result"
    }
   ],
   "source": [
    "level0 = list()\n",
    "level0.append(('lr', LinearRegression()))\n",
    "level0.append(('RF', RandomForestRegressor()))\n",
    "level0.append(('svr', SVR()))\n",
    "\n",
    "level1 = LinearRegression()\n",
    "\n",
    "# define the stacking ensemble\n",
    "St_reg = StackingRegressor(estimators = level0, final_estimator = level1)\n",
    "\n",
    "# fit the model on all available data\n",
    "St_reg.fit(cars_X_train_car_scaler, cars_y_train)\n",
    "\n"
   ]
  },
  {
   "cell_type": "code",
   "execution_count": 286,
   "id": "a483bfeb",
   "metadata": {},
   "outputs": [],
   "source": [
    "cars_X_test_car_scaler['St_reg'] = St_reg.predict(cars_X_test_car_scaler)\n",
    "cars_X_train_car_scaler['St_reg'] = St_reg.predict(cars_X_train_car_scaler)"
   ]
  },
  {
   "cell_type": "code",
   "execution_count": 287,
   "id": "bf234ec4",
   "metadata": {},
   "outputs": [
    {
     "name": "stdout",
     "output_type": "stream",
     "text": [
      "MAE:  0.0054\n",
      "MSE:  0.0001\n",
      "RMSE:  0.0089\n",
      "MAPE:  0.0002\n",
      "R2:  1.0\n"
     ]
    }
   ],
   "source": [
    "print(\"MAE: \", metrics.mean_absolute_error(cars_y_train, cars_X_train_car_scaler['St_reg']).round(4))\n",
    "print(\"MSE: \", metrics.mean_squared_error(cars_y_train, cars_X_train_car_scaler['St_reg']).round(4))\n",
    "print(\"RMSE: \", np.sqrt(metrics.mean_squared_error(cars_y_train, cars_X_train_car_scaler['St_reg'])).round(4))\n",
    "print(\"MAPE: \", metrics.mean_absolute_percentage_error(cars_y_train, cars_X_train_car_scaler['St_reg']).round(4))\n",
    "print(\"R2: \", metrics.r2_score(cars_y_train, cars_X_train_car_scaler['St_reg']).round(4))"
   ]
  },
  {
   "cell_type": "code",
   "execution_count": 288,
   "id": "444157b1",
   "metadata": {},
   "outputs": [
    {
     "name": "stdout",
     "output_type": "stream",
     "text": [
      "MAE:  0.2709\n",
      "MSE:  1.3632\n",
      "RMSE:  1.1676\n",
      "MAPE:  0.0131\n",
      "R2:  0.9747\n"
     ]
    }
   ],
   "source": [
    "print(\"MAE: \", metrics.mean_absolute_error(cars_y_test, cars_X_test_car_scaler['St_reg']).round(4))\n",
    "print(\"MSE: \", metrics.mean_squared_error(cars_y_test, cars_X_test_car_scaler['St_reg']).round(4))\n",
    "print(\"RMSE: \", np.sqrt(metrics.mean_squared_error(cars_y_test, cars_X_test_car_scaler['St_reg'])).round(4))\n",
    "print(\"MAPE: \", metrics.mean_absolute_percentage_error(cars_y_test, cars_X_test_car_scaler['St_reg']).round(4))\n",
    "print(\"R2: \", metrics.r2_score(cars_y_test, cars_X_test_car_scaler['St_reg']).round(4))\n"
   ]
  },
  {
   "cell_type": "markdown",
   "id": "908e0ccb",
   "metadata": {},
   "source": [
    "## Stacking Classifier with Python"
   ]
  },
  {
   "cell_type": "code",
   "execution_count": 289,
   "id": "89598801",
   "metadata": {},
   "outputs": [
    {
     "data": {
      "text/html": [
       "<style>#sk-container-id-30 {color: black;background-color: white;}#sk-container-id-30 pre{padding: 0;}#sk-container-id-30 div.sk-toggleable {background-color: white;}#sk-container-id-30 label.sk-toggleable__label {cursor: pointer;display: block;width: 100%;margin-bottom: 0;padding: 0.3em;box-sizing: border-box;text-align: center;}#sk-container-id-30 label.sk-toggleable__label-arrow:before {content: \"▸\";float: left;margin-right: 0.25em;color: #696969;}#sk-container-id-30 label.sk-toggleable__label-arrow:hover:before {color: black;}#sk-container-id-30 div.sk-estimator:hover label.sk-toggleable__label-arrow:before {color: black;}#sk-container-id-30 div.sk-toggleable__content {max-height: 0;max-width: 0;overflow: hidden;text-align: left;background-color: #f0f8ff;}#sk-container-id-30 div.sk-toggleable__content pre {margin: 0.2em;color: black;border-radius: 0.25em;background-color: #f0f8ff;}#sk-container-id-30 input.sk-toggleable__control:checked~div.sk-toggleable__content {max-height: 200px;max-width: 100%;overflow: auto;}#sk-container-id-30 input.sk-toggleable__control:checked~label.sk-toggleable__label-arrow:before {content: \"▾\";}#sk-container-id-30 div.sk-estimator input.sk-toggleable__control:checked~label.sk-toggleable__label {background-color: #d4ebff;}#sk-container-id-30 div.sk-label input.sk-toggleable__control:checked~label.sk-toggleable__label {background-color: #d4ebff;}#sk-container-id-30 input.sk-hidden--visually {border: 0;clip: rect(1px 1px 1px 1px);clip: rect(1px, 1px, 1px, 1px);height: 1px;margin: -1px;overflow: hidden;padding: 0;position: absolute;width: 1px;}#sk-container-id-30 div.sk-estimator {font-family: monospace;background-color: #f0f8ff;border: 1px dotted black;border-radius: 0.25em;box-sizing: border-box;margin-bottom: 0.5em;}#sk-container-id-30 div.sk-estimator:hover {background-color: #d4ebff;}#sk-container-id-30 div.sk-parallel-item::after {content: \"\";width: 100%;border-bottom: 1px solid gray;flex-grow: 1;}#sk-container-id-30 div.sk-label:hover label.sk-toggleable__label {background-color: #d4ebff;}#sk-container-id-30 div.sk-serial::before {content: \"\";position: absolute;border-left: 1px solid gray;box-sizing: border-box;top: 0;bottom: 0;left: 50%;z-index: 0;}#sk-container-id-30 div.sk-serial {display: flex;flex-direction: column;align-items: center;background-color: white;padding-right: 0.2em;padding-left: 0.2em;position: relative;}#sk-container-id-30 div.sk-item {position: relative;z-index: 1;}#sk-container-id-30 div.sk-parallel {display: flex;align-items: stretch;justify-content: center;background-color: white;position: relative;}#sk-container-id-30 div.sk-item::before, #sk-container-id-30 div.sk-parallel-item::before {content: \"\";position: absolute;border-left: 1px solid gray;box-sizing: border-box;top: 0;bottom: 0;left: 50%;z-index: -1;}#sk-container-id-30 div.sk-parallel-item {display: flex;flex-direction: column;z-index: 1;position: relative;background-color: white;}#sk-container-id-30 div.sk-parallel-item:first-child::after {align-self: flex-end;width: 50%;}#sk-container-id-30 div.sk-parallel-item:last-child::after {align-self: flex-start;width: 50%;}#sk-container-id-30 div.sk-parallel-item:only-child::after {width: 0;}#sk-container-id-30 div.sk-dashed-wrapped {border: 1px dashed gray;margin: 0 0.4em 0.5em 0.4em;box-sizing: border-box;padding-bottom: 0.4em;background-color: white;}#sk-container-id-30 div.sk-label label {font-family: monospace;font-weight: bold;display: inline-block;line-height: 1.2em;}#sk-container-id-30 div.sk-label-container {text-align: center;}#sk-container-id-30 div.sk-container {/* jupyter's `normalize.less` sets `[hidden] { display: none; }` but bootstrap.min.css set `[hidden] { display: none !important; }` so we also need the `!important` here to be able to override the default hidden behavior on the sphinx rendered scikit-learn.org. See: https://github.com/scikit-learn/scikit-learn/issues/21755 */display: inline-block !important;position: relative;}#sk-container-id-30 div.sk-text-repr-fallback {display: none;}</style><div id=\"sk-container-id-30\" class=\"sk-top-container\"><div class=\"sk-text-repr-fallback\"><pre>StackingClassifier(estimators=[(&#x27;lr&#x27;, LogisticRegression()),\n",
       "                               (&#x27;RF&#x27;, RandomForestClassifier()),\n",
       "                               (&#x27;svc&#x27;, SVC())],\n",
       "                   final_estimator=LogisticRegression())</pre><b>In a Jupyter environment, please rerun this cell to show the HTML representation or trust the notebook. <br />On GitHub, the HTML representation is unable to render, please try loading this page with nbviewer.org.</b></div><div class=\"sk-container\" hidden><div class=\"sk-item sk-dashed-wrapped\"><div class=\"sk-label-container\"><div class=\"sk-label sk-toggleable\"><input class=\"sk-toggleable__control sk-hidden--visually\" id=\"sk-estimator-id-44\" type=\"checkbox\" ><label for=\"sk-estimator-id-44\" class=\"sk-toggleable__label sk-toggleable__label-arrow\">StackingClassifier</label><div class=\"sk-toggleable__content\"><pre>StackingClassifier(estimators=[(&#x27;lr&#x27;, LogisticRegression()),\n",
       "                               (&#x27;RF&#x27;, RandomForestClassifier()),\n",
       "                               (&#x27;svc&#x27;, SVC())],\n",
       "                   final_estimator=LogisticRegression())</pre></div></div></div><div class=\"sk-serial\"><div class=\"sk-item\"><div class=\"sk-parallel\"><div class=\"sk-parallel-item\"><div class=\"sk-item\"><div class=\"sk-label-container\"><div class=\"sk-label sk-toggleable\"><label>lr</label></div></div><div class=\"sk-serial\"><div class=\"sk-item\"><div class=\"sk-estimator sk-toggleable\"><input class=\"sk-toggleable__control sk-hidden--visually\" id=\"sk-estimator-id-45\" type=\"checkbox\" ><label for=\"sk-estimator-id-45\" class=\"sk-toggleable__label sk-toggleable__label-arrow\">LogisticRegression</label><div class=\"sk-toggleable__content\"><pre>LogisticRegression()</pre></div></div></div></div></div></div><div class=\"sk-parallel-item\"><div class=\"sk-item\"><div class=\"sk-label-container\"><div class=\"sk-label sk-toggleable\"><label>RF</label></div></div><div class=\"sk-serial\"><div class=\"sk-item\"><div class=\"sk-estimator sk-toggleable\"><input class=\"sk-toggleable__control sk-hidden--visually\" id=\"sk-estimator-id-46\" type=\"checkbox\" ><label for=\"sk-estimator-id-46\" class=\"sk-toggleable__label sk-toggleable__label-arrow\">RandomForestClassifier</label><div class=\"sk-toggleable__content\"><pre>RandomForestClassifier()</pre></div></div></div></div></div></div><div class=\"sk-parallel-item\"><div class=\"sk-item\"><div class=\"sk-label-container\"><div class=\"sk-label sk-toggleable\"><label>svc</label></div></div><div class=\"sk-serial\"><div class=\"sk-item\"><div class=\"sk-estimator sk-toggleable\"><input class=\"sk-toggleable__control sk-hidden--visually\" id=\"sk-estimator-id-47\" type=\"checkbox\" ><label for=\"sk-estimator-id-47\" class=\"sk-toggleable__label sk-toggleable__label-arrow\">SVC</label><div class=\"sk-toggleable__content\"><pre>SVC()</pre></div></div></div></div></div></div></div></div><div class=\"sk-item\"><div class=\"sk-parallel\"><div class=\"sk-parallel-item\"><div class=\"sk-item\"><div class=\"sk-label-container\"><div class=\"sk-label sk-toggleable\"><label>final_estimator</label></div></div><div class=\"sk-serial\"><div class=\"sk-item\"><div class=\"sk-estimator sk-toggleable\"><input class=\"sk-toggleable__control sk-hidden--visually\" id=\"sk-estimator-id-48\" type=\"checkbox\" ><label for=\"sk-estimator-id-48\" class=\"sk-toggleable__label sk-toggleable__label-arrow\">LogisticRegression</label><div class=\"sk-toggleable__content\"><pre>LogisticRegression()</pre></div></div></div></div></div></div></div></div></div></div></div></div>"
      ],
      "text/plain": [
       "StackingClassifier(estimators=[('lr', LogisticRegression()),\n",
       "                               ('RF', RandomForestClassifier()),\n",
       "                               ('svc', SVC())],\n",
       "                   final_estimator=LogisticRegression())"
      ]
     },
     "execution_count": 289,
     "metadata": {},
     "output_type": "execute_result"
    }
   ],
   "source": [
    "level0 = list()\n",
    "level0.append(('lr', LogisticRegression()))\n",
    "level0.append(('RF', RandomForestClassifier()))\n",
    "level0.append(('svc', SVC()))\n",
    "\n",
    "level1 = LogisticRegression()\n",
    "\n",
    "# define the stacking ensemble\n",
    "St_Cl = StackingClassifier(estimators = level0, final_estimator = level1)\n",
    "\n",
    "# fit the model on all available data\n",
    "St_Cl.fit(diab_X_train_sc, diab_y_train)\n",
    "\n",
    "\n"
   ]
  },
  {
   "cell_type": "code",
   "execution_count": 290,
   "id": "092b0a39",
   "metadata": {},
   "outputs": [
    {
     "name": "stdout",
     "output_type": "stream",
     "text": [
      "Train set score (Accuracy) = 1.0\n",
      "Test set score (Accuracy) = 0.7987\n",
      "╒═══════════════╤════════════════╤═════════════════╕\n",
      "│               │   pred Diab No │   pred Diab Yes │\n",
      "╞═══════════════╪════════════════╪═════════════════╡\n",
      "│ real Diab No  │             94 │              13 │\n",
      "├───────────────┼────────────────┼─────────────────┤\n",
      "│ real Diab Yes │             18 │              29 │\n",
      "╘═══════════════╧════════════════╧═════════════════╛\n",
      "              precision    recall  f1-score   support\n",
      "\n",
      "           0       0.84      0.88      0.86       107\n",
      "           1       0.69      0.62      0.65        47\n",
      "\n",
      "    accuracy                           0.80       154\n",
      "   macro avg       0.76      0.75      0.76       154\n",
      "weighted avg       0.79      0.80      0.80       154\n",
      "\n"
     ]
    }
   ],
   "source": [
    "print(\"Train set score (Accuracy) =\", St_Cl.score(diab_X_train_sc, diab_y_train).round(4))\n",
    "print(\"Test set score (Accuracy) =\", St_Cl.score(diab_X_test_sc, diab_y_test).round(4))\n",
    "\n",
    "conf_mat = confusion_matrix(diab_y_test, St_Cl.predict(diab_X_test_sc))\n",
    "print(tabulate(conf_mat,headers = ['pred Diab No','pred Diab Yes'], showindex = ['real Diab No','real Diab Yes'], \n",
    "               tablefmt = 'fancy_grid'))\n",
    "\n",
    "print(classification_report(diab_y_test, St_Cl.predict(diab_X_test_sc)))\n"
   ]
  },
  {
   "cell_type": "code",
   "execution_count": null,
   "id": "84cf6acd",
   "metadata": {},
   "outputs": [],
   "source": [
    "diab_X_test_sc['St_Cl'] = St_Cl.predict(diab_X_test_sc)\n",
    "diab_X_train_sc['St_Cl'] = St_Cl.predict(diab_X_train_sc)"
   ]
  },
  {
   "cell_type": "markdown",
   "id": "f83c1114",
   "metadata": {},
   "source": [
    "## AdaBoost Regression with Python"
   ]
  },
  {
   "cell_type": "code",
   "execution_count": 161,
   "id": "e7891525",
   "metadata": {
    "scrolled": false
   },
   "outputs": [
    {
     "name": "stdout",
     "output_type": "stream",
     "text": [
      "Best: -1.767374 using {'learning_rate': 1.0, 'n_estimators': 100}\n",
      "-1.918695 (0.100473) with: {'learning_rate': 0.001, 'n_estimators': 10}\n",
      "-1.899432 (0.093246) with: {'learning_rate': 0.001, 'n_estimators': 100}\n",
      "-1.894002 (0.098157) with: {'learning_rate': 0.001, 'n_estimators': 500}\n",
      "-1.911295 (0.096290) with: {'learning_rate': 0.01, 'n_estimators': 10}\n",
      "-1.885670 (0.095171) with: {'learning_rate': 0.01, 'n_estimators': 100}\n",
      "-1.851997 (0.084398) with: {'learning_rate': 0.01, 'n_estimators': 500}\n",
      "-1.896395 (0.103773) with: {'learning_rate': 0.1, 'n_estimators': 10}\n",
      "-1.831037 (0.079944) with: {'learning_rate': 0.1, 'n_estimators': 100}\n",
      "-1.816237 (0.084577) with: {'learning_rate': 0.1, 'n_estimators': 500}\n",
      "-1.847538 (0.093567) with: {'learning_rate': 1.0, 'n_estimators': 10}\n",
      "-1.767374 (0.086779) with: {'learning_rate': 1.0, 'n_estimators': 100}\n",
      "-1.771633 (0.079390) with: {'learning_rate': 1.0, 'n_estimators': 500}\n"
     ]
    }
   ],
   "source": [
    "AB_Reg = AdaBoostRegressor()\n",
    "\n",
    "grid = dict()\n",
    "grid['n_estimators'] = [10, 100, 500] # number of trees\n",
    "grid['learning_rate'] = [ 0.001, 0.01, 0.1, 1.0]\n",
    "\n",
    "\n",
    "\n",
    "# define the evaluation procedure\n",
    "cv = RepeatedKFold(n_splits = 5, n_repeats = 3, random_state = 1)\n",
    "\n",
    "# define the grid search procedure\n",
    "grid_search = GridSearchCV(estimator = AB_Reg, param_grid = grid, n_jobs = -1, cv = cv, scoring = 'neg_mean_absolute_error')\n",
    "\n",
    "# execute the grid search\n",
    "grid_result = grid_search.fit(cars_X_train_car_scaler, cars_y_train)\n",
    "\n",
    "print(\"Best: %f using %s\" % (grid_result.best_score_, grid_result.best_params_))\n",
    "\n",
    "# summarize all scores that were evaluated\n",
    "means = grid_result.cv_results_['mean_test_score']\n",
    "stds = grid_result.cv_results_['std_test_score']\n",
    "params = grid_result.cv_results_['params']\n",
    "for mean, stdev, param in zip(means, stds, params):\n",
    "    print(\"%f (%f) with: %r\" % (mean, stdev, param))"
   ]
  },
  {
   "cell_type": "markdown",
   "id": "c5fa1846",
   "metadata": {},
   "source": [
    "The best model has 100 Trees and a learning rate of 1. Using Mean Absolute Error has loss function, test using Mean Absolute Percentage Error. It could change the best combination of parameters!!\n",
    "\n",
    "Once we know which is the best combination let's train the definitive model and make the predictions"
   ]
  },
  {
   "cell_type": "code",
   "execution_count": 168,
   "id": "d19c5379",
   "metadata": {
    "scrolled": true
   },
   "outputs": [
    {
     "data": {
      "text/html": [
       "<style>#sk-container-id-9 {color: black;background-color: white;}#sk-container-id-9 pre{padding: 0;}#sk-container-id-9 div.sk-toggleable {background-color: white;}#sk-container-id-9 label.sk-toggleable__label {cursor: pointer;display: block;width: 100%;margin-bottom: 0;padding: 0.3em;box-sizing: border-box;text-align: center;}#sk-container-id-9 label.sk-toggleable__label-arrow:before {content: \"▸\";float: left;margin-right: 0.25em;color: #696969;}#sk-container-id-9 label.sk-toggleable__label-arrow:hover:before {color: black;}#sk-container-id-9 div.sk-estimator:hover label.sk-toggleable__label-arrow:before {color: black;}#sk-container-id-9 div.sk-toggleable__content {max-height: 0;max-width: 0;overflow: hidden;text-align: left;background-color: #f0f8ff;}#sk-container-id-9 div.sk-toggleable__content pre {margin: 0.2em;color: black;border-radius: 0.25em;background-color: #f0f8ff;}#sk-container-id-9 input.sk-toggleable__control:checked~div.sk-toggleable__content {max-height: 200px;max-width: 100%;overflow: auto;}#sk-container-id-9 input.sk-toggleable__control:checked~label.sk-toggleable__label-arrow:before {content: \"▾\";}#sk-container-id-9 div.sk-estimator input.sk-toggleable__control:checked~label.sk-toggleable__label {background-color: #d4ebff;}#sk-container-id-9 div.sk-label input.sk-toggleable__control:checked~label.sk-toggleable__label {background-color: #d4ebff;}#sk-container-id-9 input.sk-hidden--visually {border: 0;clip: rect(1px 1px 1px 1px);clip: rect(1px, 1px, 1px, 1px);height: 1px;margin: -1px;overflow: hidden;padding: 0;position: absolute;width: 1px;}#sk-container-id-9 div.sk-estimator {font-family: monospace;background-color: #f0f8ff;border: 1px dotted black;border-radius: 0.25em;box-sizing: border-box;margin-bottom: 0.5em;}#sk-container-id-9 div.sk-estimator:hover {background-color: #d4ebff;}#sk-container-id-9 div.sk-parallel-item::after {content: \"\";width: 100%;border-bottom: 1px solid gray;flex-grow: 1;}#sk-container-id-9 div.sk-label:hover label.sk-toggleable__label {background-color: #d4ebff;}#sk-container-id-9 div.sk-serial::before {content: \"\";position: absolute;border-left: 1px solid gray;box-sizing: border-box;top: 0;bottom: 0;left: 50%;z-index: 0;}#sk-container-id-9 div.sk-serial {display: flex;flex-direction: column;align-items: center;background-color: white;padding-right: 0.2em;padding-left: 0.2em;position: relative;}#sk-container-id-9 div.sk-item {position: relative;z-index: 1;}#sk-container-id-9 div.sk-parallel {display: flex;align-items: stretch;justify-content: center;background-color: white;position: relative;}#sk-container-id-9 div.sk-item::before, #sk-container-id-9 div.sk-parallel-item::before {content: \"\";position: absolute;border-left: 1px solid gray;box-sizing: border-box;top: 0;bottom: 0;left: 50%;z-index: -1;}#sk-container-id-9 div.sk-parallel-item {display: flex;flex-direction: column;z-index: 1;position: relative;background-color: white;}#sk-container-id-9 div.sk-parallel-item:first-child::after {align-self: flex-end;width: 50%;}#sk-container-id-9 div.sk-parallel-item:last-child::after {align-self: flex-start;width: 50%;}#sk-container-id-9 div.sk-parallel-item:only-child::after {width: 0;}#sk-container-id-9 div.sk-dashed-wrapped {border: 1px dashed gray;margin: 0 0.4em 0.5em 0.4em;box-sizing: border-box;padding-bottom: 0.4em;background-color: white;}#sk-container-id-9 div.sk-label label {font-family: monospace;font-weight: bold;display: inline-block;line-height: 1.2em;}#sk-container-id-9 div.sk-label-container {text-align: center;}#sk-container-id-9 div.sk-container {/* jupyter's `normalize.less` sets `[hidden] { display: none; }` but bootstrap.min.css set `[hidden] { display: none !important; }` so we also need the `!important` here to be able to override the default hidden behavior on the sphinx rendered scikit-learn.org. See: https://github.com/scikit-learn/scikit-learn/issues/21755 */display: inline-block !important;position: relative;}#sk-container-id-9 div.sk-text-repr-fallback {display: none;}</style><div id=\"sk-container-id-9\" class=\"sk-top-container\"><div class=\"sk-text-repr-fallback\"><pre>AdaBoostRegressor(learning_rate=1, n_estimators=100)</pre><b>In a Jupyter environment, please rerun this cell to show the HTML representation or trust the notebook. <br />On GitHub, the HTML representation is unable to render, please try loading this page with nbviewer.org.</b></div><div class=\"sk-container\" hidden><div class=\"sk-item\"><div class=\"sk-estimator sk-toggleable\"><input class=\"sk-toggleable__control sk-hidden--visually\" id=\"sk-estimator-id-15\" type=\"checkbox\" checked><label for=\"sk-estimator-id-15\" class=\"sk-toggleable__label sk-toggleable__label-arrow\">AdaBoostRegressor</label><div class=\"sk-toggleable__content\"><pre>AdaBoostRegressor(learning_rate=1, n_estimators=100)</pre></div></div></div></div></div>"
      ],
      "text/plain": [
       "AdaBoostRegressor(learning_rate=1, n_estimators=100)"
      ]
     },
     "execution_count": 168,
     "metadata": {},
     "output_type": "execute_result"
    }
   ],
   "source": [
    "AB_Reg = AdaBoostRegressor(learning_rate = 1, n_estimators = 100)\n",
    "AB_Reg.fit(cars_X_train_car_scaler, cars_y_train)"
   ]
  },
  {
   "cell_type": "code",
   "execution_count": 169,
   "id": "f818c0a3",
   "metadata": {
    "scrolled": true
   },
   "outputs": [],
   "source": [
    "cars_X_test_car_scaler['AB_Reg'] = AB_Reg.predict(cars_X_test_car_scaler)\n",
    "cars_X_train_car_scaler['AB_Reg'] = AB_Reg.predict(cars_X_train_car_scaler)"
   ]
  },
  {
   "cell_type": "code",
   "execution_count": 170,
   "id": "412bfd94",
   "metadata": {},
   "outputs": [
    {
     "name": "stdout",
     "output_type": "stream",
     "text": [
      "MAE:  1.6165\n",
      "MSE:  3.7673\n",
      "RMSE:  1.9409\n",
      "MAPE:  0.0714\n",
      "R2:  0.9368\n"
     ]
    }
   ],
   "source": [
    "print(\"MAE: \", metrics.mean_absolute_error(cars_y_train, cars_X_train_car_scaler['AB_Reg']).round(4))\n",
    "print(\"MSE: \", metrics.mean_squared_error(cars_y_train, cars_X_train_car_scaler['AB_Reg']).round(4))\n",
    "print(\"RMSE: \", np.sqrt(metrics.mean_squared_error(cars_y_train, cars_X_train_car_scaler['AB_Reg'])).round(4))\n",
    "print(\"MAPE: \", metrics.mean_absolute_percentage_error(cars_y_train, cars_X_train_car_scaler['AB_Reg']).round(4))\n",
    "print(\"R2: \", metrics.r2_score(cars_y_train, cars_X_train_car_scaler['AB_Reg']).round(4))"
   ]
  },
  {
   "cell_type": "code",
   "execution_count": 171,
   "id": "ab0058fd",
   "metadata": {
    "scrolled": true
   },
   "outputs": [
    {
     "name": "stdout",
     "output_type": "stream",
     "text": [
      "MAE:  1.6143\n",
      "MSE:  4.0474\n",
      "RMSE:  2.0118\n",
      "MAPE:  0.0745\n",
      "R2:  0.925\n"
     ]
    }
   ],
   "source": [
    "print(\"MAE: \", metrics.mean_absolute_error(cars_y_test, cars_X_test_car_scaler['AB_Reg']).round(4))\n",
    "print(\"MSE: \", metrics.mean_squared_error(cars_y_test, cars_X_test_car_scaler['AB_Reg']).round(4))\n",
    "print(\"RMSE: \", np.sqrt(metrics.mean_squared_error(cars_y_test, cars_X_test_car_scaler['AB_Reg'])).round(4))\n",
    "print(\"MAPE: \", metrics.mean_absolute_percentage_error(cars_y_test, cars_X_test_car_scaler['AB_Reg']).round(4))\n",
    "print(\"R2: \", metrics.r2_score(cars_y_test, cars_X_test_car_scaler['AB_Reg']).round(4))\n"
   ]
  },
  {
   "cell_type": "markdown",
   "id": "e611ad6b",
   "metadata": {},
   "source": [
    "## AdaBoost Classifier with Python"
   ]
  },
  {
   "cell_type": "code",
   "execution_count": 172,
   "id": "d8369060",
   "metadata": {},
   "outputs": [
    {
     "name": "stdout",
     "output_type": "stream",
     "text": [
      "Best: 0.747554 using {'learning_rate': 0.01, 'n_estimators': 500}\n",
      "0.713324 (0.033152) with: {'learning_rate': 0.001, 'n_estimators': 10}\n",
      "0.713324 (0.033152) with: {'learning_rate': 0.001, 'n_estimators': 100}\n",
      "0.723648 (0.035688) with: {'learning_rate': 0.001, 'n_estimators': 500}\n",
      "0.713324 (0.033152) with: {'learning_rate': 0.01, 'n_estimators': 10}\n",
      "0.731281 (0.031052) with: {'learning_rate': 0.01, 'n_estimators': 100}\n",
      "0.747554 (0.034162) with: {'learning_rate': 0.01, 'n_estimators': 500}\n",
      "0.730201 (0.032379) with: {'learning_rate': 0.1, 'n_estimators': 10}\n",
      "0.745942 (0.037197) with: {'learning_rate': 0.1, 'n_estimators': 100}\n",
      "0.737825 (0.034146) with: {'learning_rate': 0.1, 'n_estimators': 500}\n",
      "0.730170 (0.042411) with: {'learning_rate': 1.0, 'n_estimators': 10}\n",
      "0.718819 (0.038249) with: {'learning_rate': 1.0, 'n_estimators': 100}\n",
      "0.697094 (0.028260) with: {'learning_rate': 1.0, 'n_estimators': 500}\n"
     ]
    }
   ],
   "source": [
    "AB_cl = AdaBoostClassifier()\n",
    "\n",
    "# define the grid of values to search\n",
    "grid = dict()\n",
    "grid['n_estimators'] = [10, 100, 500]\n",
    "grid['learning_rate'] = [0.001, 0.01, 0.1, 1.0]\n",
    "\n",
    "# define the evaluation procedure\n",
    "cv = RepeatedStratifiedKFold(n_splits=5, n_repeats=3, random_state=1)\n",
    "\n",
    "# define the grid search procedure\n",
    "grid_search = GridSearchCV(estimator=AB_cl, param_grid=grid, n_jobs=-1, cv=cv, scoring='accuracy')\n",
    "\n",
    "# execute the grid search\n",
    "grid_result = grid_search.fit(diab_X_train_sc, diab_y_train)\n",
    "\n",
    "# summarize the best score and configuration\n",
    "print(\"Best: %f using %s\" % (grid_result.best_score_, grid_result.best_params_))\n",
    "\n",
    "# summarize all scores that were evaluated\n",
    "means = grid_result.cv_results_['mean_test_score']\n",
    "stds = grid_result.cv_results_['std_test_score']\n",
    "params = grid_result.cv_results_['params']\n",
    "for mean, stdev, param in zip(means, stds, params):\n",
    "    print(\"%f (%f) with: %r\" % (mean, stdev, param))\n",
    "    \n"
   ]
  },
  {
   "cell_type": "code",
   "execution_count": 271,
   "id": "81b12ec6",
   "metadata": {
    "scrolled": true
   },
   "outputs": [
    {
     "data": {
      "text/html": [
       "<style>#sk-container-id-27 {color: black;background-color: white;}#sk-container-id-27 pre{padding: 0;}#sk-container-id-27 div.sk-toggleable {background-color: white;}#sk-container-id-27 label.sk-toggleable__label {cursor: pointer;display: block;width: 100%;margin-bottom: 0;padding: 0.3em;box-sizing: border-box;text-align: center;}#sk-container-id-27 label.sk-toggleable__label-arrow:before {content: \"▸\";float: left;margin-right: 0.25em;color: #696969;}#sk-container-id-27 label.sk-toggleable__label-arrow:hover:before {color: black;}#sk-container-id-27 div.sk-estimator:hover label.sk-toggleable__label-arrow:before {color: black;}#sk-container-id-27 div.sk-toggleable__content {max-height: 0;max-width: 0;overflow: hidden;text-align: left;background-color: #f0f8ff;}#sk-container-id-27 div.sk-toggleable__content pre {margin: 0.2em;color: black;border-radius: 0.25em;background-color: #f0f8ff;}#sk-container-id-27 input.sk-toggleable__control:checked~div.sk-toggleable__content {max-height: 200px;max-width: 100%;overflow: auto;}#sk-container-id-27 input.sk-toggleable__control:checked~label.sk-toggleable__label-arrow:before {content: \"▾\";}#sk-container-id-27 div.sk-estimator input.sk-toggleable__control:checked~label.sk-toggleable__label {background-color: #d4ebff;}#sk-container-id-27 div.sk-label input.sk-toggleable__control:checked~label.sk-toggleable__label {background-color: #d4ebff;}#sk-container-id-27 input.sk-hidden--visually {border: 0;clip: rect(1px 1px 1px 1px);clip: rect(1px, 1px, 1px, 1px);height: 1px;margin: -1px;overflow: hidden;padding: 0;position: absolute;width: 1px;}#sk-container-id-27 div.sk-estimator {font-family: monospace;background-color: #f0f8ff;border: 1px dotted black;border-radius: 0.25em;box-sizing: border-box;margin-bottom: 0.5em;}#sk-container-id-27 div.sk-estimator:hover {background-color: #d4ebff;}#sk-container-id-27 div.sk-parallel-item::after {content: \"\";width: 100%;border-bottom: 1px solid gray;flex-grow: 1;}#sk-container-id-27 div.sk-label:hover label.sk-toggleable__label {background-color: #d4ebff;}#sk-container-id-27 div.sk-serial::before {content: \"\";position: absolute;border-left: 1px solid gray;box-sizing: border-box;top: 0;bottom: 0;left: 50%;z-index: 0;}#sk-container-id-27 div.sk-serial {display: flex;flex-direction: column;align-items: center;background-color: white;padding-right: 0.2em;padding-left: 0.2em;position: relative;}#sk-container-id-27 div.sk-item {position: relative;z-index: 1;}#sk-container-id-27 div.sk-parallel {display: flex;align-items: stretch;justify-content: center;background-color: white;position: relative;}#sk-container-id-27 div.sk-item::before, #sk-container-id-27 div.sk-parallel-item::before {content: \"\";position: absolute;border-left: 1px solid gray;box-sizing: border-box;top: 0;bottom: 0;left: 50%;z-index: -1;}#sk-container-id-27 div.sk-parallel-item {display: flex;flex-direction: column;z-index: 1;position: relative;background-color: white;}#sk-container-id-27 div.sk-parallel-item:first-child::after {align-self: flex-end;width: 50%;}#sk-container-id-27 div.sk-parallel-item:last-child::after {align-self: flex-start;width: 50%;}#sk-container-id-27 div.sk-parallel-item:only-child::after {width: 0;}#sk-container-id-27 div.sk-dashed-wrapped {border: 1px dashed gray;margin: 0 0.4em 0.5em 0.4em;box-sizing: border-box;padding-bottom: 0.4em;background-color: white;}#sk-container-id-27 div.sk-label label {font-family: monospace;font-weight: bold;display: inline-block;line-height: 1.2em;}#sk-container-id-27 div.sk-label-container {text-align: center;}#sk-container-id-27 div.sk-container {/* jupyter's `normalize.less` sets `[hidden] { display: none; }` but bootstrap.min.css set `[hidden] { display: none !important; }` so we also need the `!important` here to be able to override the default hidden behavior on the sphinx rendered scikit-learn.org. See: https://github.com/scikit-learn/scikit-learn/issues/21755 */display: inline-block !important;position: relative;}#sk-container-id-27 div.sk-text-repr-fallback {display: none;}</style><div id=\"sk-container-id-27\" class=\"sk-top-container\"><div class=\"sk-text-repr-fallback\"><pre>AdaBoostClassifier(learning_rate=0.01, n_estimators=500)</pre><b>In a Jupyter environment, please rerun this cell to show the HTML representation or trust the notebook. <br />On GitHub, the HTML representation is unable to render, please try loading this page with nbviewer.org.</b></div><div class=\"sk-container\" hidden><div class=\"sk-item\"><div class=\"sk-estimator sk-toggleable\"><input class=\"sk-toggleable__control sk-hidden--visually\" id=\"sk-estimator-id-33\" type=\"checkbox\" checked><label for=\"sk-estimator-id-33\" class=\"sk-toggleable__label sk-toggleable__label-arrow\">AdaBoostClassifier</label><div class=\"sk-toggleable__content\"><pre>AdaBoostClassifier(learning_rate=0.01, n_estimators=500)</pre></div></div></div></div></div>"
      ],
      "text/plain": [
       "AdaBoostClassifier(learning_rate=0.01, n_estimators=500)"
      ]
     },
     "execution_count": 271,
     "metadata": {},
     "output_type": "execute_result"
    }
   ],
   "source": [
    "AB_cl = AdaBoostClassifier(learning_rate = 0.01, n_estimators = 500)\n",
    "AB_cl.fit(diab_X_train_sc, diab_y_train)\n",
    "\n",
    "# diab_X_train, diab_X_test, diab_y_train, diab_y_test"
   ]
  },
  {
   "cell_type": "code",
   "execution_count": 272,
   "id": "21f9ea0a",
   "metadata": {},
   "outputs": [
    {
     "name": "stdout",
     "output_type": "stream",
     "text": [
      "Train set score (Accuracy) = 0.7863\n",
      "Test set score (Accuracy) = 0.7987\n",
      "╒═══════════════╤════════════════╤═════════════════╕\n",
      "│               │   pred Diab No │   pred Diab Yes │\n",
      "╞═══════════════╪════════════════╪═════════════════╡\n",
      "│ real Diab No  │             86 │              21 │\n",
      "├───────────────┼────────────────┼─────────────────┤\n",
      "│ real Diab Yes │             10 │              37 │\n",
      "╘═══════════════╧════════════════╧═════════════════╛\n",
      "              precision    recall  f1-score   support\n",
      "\n",
      "           0       0.90      0.80      0.85       107\n",
      "           1       0.64      0.79      0.70        47\n",
      "\n",
      "    accuracy                           0.80       154\n",
      "   macro avg       0.77      0.80      0.78       154\n",
      "weighted avg       0.82      0.80      0.80       154\n",
      "\n"
     ]
    }
   ],
   "source": [
    "print(\"Train set score (Accuracy) =\", AB_cl.score(diab_X_train_sc, diab_y_train).round(4))\n",
    "print(\"Test set score (Accuracy) =\", AB_cl.score(diab_X_test_sc, diab_y_test).round(4))\n",
    "\n",
    "conf_mat = confusion_matrix(diab_y_test, AB_cl.predict(diab_X_test_sc))\n",
    "print(tabulate(conf_mat,headers = ['pred Diab No','pred Diab Yes'], showindex = ['real Diab No','real Diab Yes'], \n",
    "               tablefmt = 'fancy_grid'))\n",
    "\n",
    "print(classification_report(diab_y_test, AB_cl.predict(diab_X_test_sc)))"
   ]
  },
  {
   "cell_type": "code",
   "execution_count": null,
   "id": "a02764fe",
   "metadata": {},
   "outputs": [],
   "source": [
    "diab_X_test_sc['AB_Cl'] = AB_cl.predict(diab_X_test_sc)\n",
    "diab_X_train_sc['AB_Cl'] = AB_cl.predict(diab_X_train_sc)"
   ]
  },
  {
   "cell_type": "markdown",
   "id": "0f42d8ad",
   "metadata": {},
   "source": [
    "## Boosting Gradient Regressor with Python"
   ]
  },
  {
   "cell_type": "code",
   "execution_count": 211,
   "id": "9b885454",
   "metadata": {
    "scrolled": true
   },
   "outputs": [
    {
     "name": "stdout",
     "output_type": "stream",
     "text": [
      "Best: -0.170705 using {'learning_rate': 0.1, 'max_depth': 8, 'n_estimators': 500, 'subsample': 0.5}\n",
      "-2.756249 (0.171753) with: {'learning_rate': 0.01, 'max_depth': 3, 'n_estimators': 100, 'subsample': 0.5}\n",
      "-2.757431 (0.169782) with: {'learning_rate': 0.01, 'max_depth': 3, 'n_estimators': 100, 'subsample': 0.7}\n",
      "-2.759255 (0.171752) with: {'learning_rate': 0.01, 'max_depth': 3, 'n_estimators': 100, 'subsample': 1.0}\n",
      "-1.215482 (0.082850) with: {'learning_rate': 0.01, 'max_depth': 3, 'n_estimators': 500, 'subsample': 0.5}\n",
      "-1.218314 (0.083073) with: {'learning_rate': 0.01, 'max_depth': 3, 'n_estimators': 500, 'subsample': 0.7}\n",
      "-1.232304 (0.083389) with: {'learning_rate': 0.01, 'max_depth': 3, 'n_estimators': 500, 'subsample': 1.0}\n",
      "-2.645642 (0.143866) with: {'learning_rate': 0.01, 'max_depth': 5, 'n_estimators': 100, 'subsample': 0.5}\n",
      "-2.636124 (0.142124) with: {'learning_rate': 0.01, 'max_depth': 5, 'n_estimators': 100, 'subsample': 0.7}\n",
      "-2.628138 (0.140084) with: {'learning_rate': 0.01, 'max_depth': 5, 'n_estimators': 100, 'subsample': 1.0}\n",
      "-0.758470 (0.056741) with: {'learning_rate': 0.01, 'max_depth': 5, 'n_estimators': 500, 'subsample': 0.5}\n",
      "-0.727368 (0.051700) with: {'learning_rate': 0.01, 'max_depth': 5, 'n_estimators': 500, 'subsample': 0.7}\n",
      "-0.719930 (0.048841) with: {'learning_rate': 0.01, 'max_depth': 5, 'n_estimators': 500, 'subsample': 1.0}\n",
      "-2.533967 (0.135337) with: {'learning_rate': 0.01, 'max_depth': 8, 'n_estimators': 100, 'subsample': 0.5}\n",
      "-2.512184 (0.132074) with: {'learning_rate': 0.01, 'max_depth': 8, 'n_estimators': 100, 'subsample': 0.7}\n",
      "-2.500915 (0.126617) with: {'learning_rate': 0.01, 'max_depth': 8, 'n_estimators': 100, 'subsample': 1.0}\n",
      "-0.336638 (0.045386) with: {'learning_rate': 0.01, 'max_depth': 8, 'n_estimators': 500, 'subsample': 0.5}\n",
      "-0.277225 (0.048625) with: {'learning_rate': 0.01, 'max_depth': 8, 'n_estimators': 500, 'subsample': 0.7}\n",
      "-0.251523 (0.050344) with: {'learning_rate': 0.01, 'max_depth': 8, 'n_estimators': 500, 'subsample': 1.0}\n",
      "-1.005201 (0.062488) with: {'learning_rate': 0.1, 'max_depth': 3, 'n_estimators': 100, 'subsample': 0.5}\n",
      "-1.012164 (0.062534) with: {'learning_rate': 0.1, 'max_depth': 3, 'n_estimators': 100, 'subsample': 0.7}\n",
      "-1.057387 (0.078713) with: {'learning_rate': 0.1, 'max_depth': 3, 'n_estimators': 100, 'subsample': 1.0}\n",
      "-0.424740 (0.051643) with: {'learning_rate': 0.1, 'max_depth': 3, 'n_estimators': 500, 'subsample': 0.5}\n",
      "-0.407352 (0.047868) with: {'learning_rate': 0.1, 'max_depth': 3, 'n_estimators': 500, 'subsample': 0.7}\n",
      "-0.444428 (0.049145) with: {'learning_rate': 0.1, 'max_depth': 3, 'n_estimators': 500, 'subsample': 1.0}\n",
      "-0.509678 (0.048129) with: {'learning_rate': 0.1, 'max_depth': 5, 'n_estimators': 100, 'subsample': 0.5}\n",
      "-0.494352 (0.049072) with: {'learning_rate': 0.1, 'max_depth': 5, 'n_estimators': 100, 'subsample': 0.7}\n",
      "-0.503678 (0.041623) with: {'learning_rate': 0.1, 'max_depth': 5, 'n_estimators': 100, 'subsample': 1.0}\n",
      "-0.181904 (0.048636) with: {'learning_rate': 0.1, 'max_depth': 5, 'n_estimators': 500, 'subsample': 0.5}\n",
      "-0.180676 (0.053628) with: {'learning_rate': 0.1, 'max_depth': 5, 'n_estimators': 500, 'subsample': 0.7}\n",
      "-0.184257 (0.054315) with: {'learning_rate': 0.1, 'max_depth': 5, 'n_estimators': 500, 'subsample': 1.0}\n",
      "-0.221443 (0.045159) with: {'learning_rate': 0.1, 'max_depth': 8, 'n_estimators': 100, 'subsample': 0.5}\n",
      "-0.194208 (0.050522) with: {'learning_rate': 0.1, 'max_depth': 8, 'n_estimators': 100, 'subsample': 0.7}\n",
      "-0.188390 (0.056107) with: {'learning_rate': 0.1, 'max_depth': 8, 'n_estimators': 100, 'subsample': 1.0}\n",
      "-0.170705 (0.055718) with: {'learning_rate': 0.1, 'max_depth': 8, 'n_estimators': 500, 'subsample': 0.5}\n",
      "-0.171357 (0.057015) with: {'learning_rate': 0.1, 'max_depth': 8, 'n_estimators': 500, 'subsample': 0.7}\n",
      "-0.172035 (0.055234) with: {'learning_rate': 0.1, 'max_depth': 8, 'n_estimators': 500, 'subsample': 1.0}\n",
      "-0.430668 (0.086286) with: {'learning_rate': 1.0, 'max_depth': 3, 'n_estimators': 100, 'subsample': 0.5}\n",
      "-0.313131 (0.067498) with: {'learning_rate': 1.0, 'max_depth': 3, 'n_estimators': 100, 'subsample': 0.7}\n",
      "-0.281327 (0.067596) with: {'learning_rate': 1.0, 'max_depth': 3, 'n_estimators': 100, 'subsample': 1.0}\n",
      "-0.223008 (0.056283) with: {'learning_rate': 1.0, 'max_depth': 3, 'n_estimators': 500, 'subsample': 0.5}\n",
      "-0.234123 (0.079910) with: {'learning_rate': 1.0, 'max_depth': 3, 'n_estimators': 500, 'subsample': 0.7}\n",
      "-0.207342 (0.071369) with: {'learning_rate': 1.0, 'max_depth': 3, 'n_estimators': 500, 'subsample': 1.0}\n",
      "-0.251848 (0.078384) with: {'learning_rate': 1.0, 'max_depth': 5, 'n_estimators': 100, 'subsample': 0.5}\n",
      "-0.218835 (0.070742) with: {'learning_rate': 1.0, 'max_depth': 5, 'n_estimators': 100, 'subsample': 0.7}\n",
      "-0.216180 (0.058791) with: {'learning_rate': 1.0, 'max_depth': 5, 'n_estimators': 100, 'subsample': 1.0}\n",
      "-0.254237 (0.085449) with: {'learning_rate': 1.0, 'max_depth': 5, 'n_estimators': 500, 'subsample': 0.5}\n",
      "-0.225973 (0.059375) with: {'learning_rate': 1.0, 'max_depth': 5, 'n_estimators': 500, 'subsample': 0.7}\n",
      "-0.214047 (0.059263) with: {'learning_rate': 1.0, 'max_depth': 5, 'n_estimators': 500, 'subsample': 1.0}\n",
      "-0.245648 (0.079704) with: {'learning_rate': 1.0, 'max_depth': 8, 'n_estimators': 100, 'subsample': 0.5}\n",
      "-0.218950 (0.082136) with: {'learning_rate': 1.0, 'max_depth': 8, 'n_estimators': 100, 'subsample': 0.7}\n",
      "-0.211436 (0.063505) with: {'learning_rate': 1.0, 'max_depth': 8, 'n_estimators': 100, 'subsample': 1.0}\n",
      "-0.230606 (0.059017) with: {'learning_rate': 1.0, 'max_depth': 8, 'n_estimators': 500, 'subsample': 0.5}\n",
      "-0.211967 (0.050238) with: {'learning_rate': 1.0, 'max_depth': 8, 'n_estimators': 500, 'subsample': 0.7}\n",
      "-0.208886 (0.066541) with: {'learning_rate': 1.0, 'max_depth': 8, 'n_estimators': 500, 'subsample': 1.0}\n"
     ]
    }
   ],
   "source": [
    "BG_Reg = GradientBoostingRegressor()\n",
    "\n",
    "# define the grid of values to search\n",
    "grid = dict()\n",
    "grid['n_estimators'] = [100, 500]\n",
    "grid['learning_rate'] = [0.01, 0.1, 1.0]\n",
    "grid['max_depth'] = [3, 5, 8]\n",
    "\n",
    "# define the evaluation procedure\n",
    "cv = RepeatedKFold(n_splits=5, n_repeats=3, random_state=1)\n",
    "\n",
    "# define the grid search procedure\n",
    "grid_search = GridSearchCV(estimator=BG_Reg, param_grid=grid, n_jobs=-1, cv=cv, scoring='neg_mean_absolute_error')\n",
    "# execute the grid search\n",
    "grid_result = grid_search.fit(cars_X_train_car_scaler, cars_y_train)\n",
    "\n",
    "# summarize the best score and configuration\n",
    "print(\"Best: %f using %s\" % (grid_result.best_score_, grid_result.best_params_))\n",
    "\n",
    "# summarize all scores that were evaluated\n",
    "means = grid_result.cv_results_['mean_test_score']\n",
    "stds = grid_result.cv_results_['std_test_score']\n",
    "params = grid_result.cv_results_['params']\n",
    "for mean, stdev, param in zip(means, stds, params):\n",
    "    print(\"%f (%f) with: %r\" % (mean, stdev, param))\n"
   ]
  },
  {
   "cell_type": "code",
   "execution_count": 251,
   "id": "1e922e80",
   "metadata": {},
   "outputs": [
    {
     "data": {
      "text/html": [
       "<style>#sk-container-id-22 {color: black;background-color: white;}#sk-container-id-22 pre{padding: 0;}#sk-container-id-22 div.sk-toggleable {background-color: white;}#sk-container-id-22 label.sk-toggleable__label {cursor: pointer;display: block;width: 100%;margin-bottom: 0;padding: 0.3em;box-sizing: border-box;text-align: center;}#sk-container-id-22 label.sk-toggleable__label-arrow:before {content: \"▸\";float: left;margin-right: 0.25em;color: #696969;}#sk-container-id-22 label.sk-toggleable__label-arrow:hover:before {color: black;}#sk-container-id-22 div.sk-estimator:hover label.sk-toggleable__label-arrow:before {color: black;}#sk-container-id-22 div.sk-toggleable__content {max-height: 0;max-width: 0;overflow: hidden;text-align: left;background-color: #f0f8ff;}#sk-container-id-22 div.sk-toggleable__content pre {margin: 0.2em;color: black;border-radius: 0.25em;background-color: #f0f8ff;}#sk-container-id-22 input.sk-toggleable__control:checked~div.sk-toggleable__content {max-height: 200px;max-width: 100%;overflow: auto;}#sk-container-id-22 input.sk-toggleable__control:checked~label.sk-toggleable__label-arrow:before {content: \"▾\";}#sk-container-id-22 div.sk-estimator input.sk-toggleable__control:checked~label.sk-toggleable__label {background-color: #d4ebff;}#sk-container-id-22 div.sk-label input.sk-toggleable__control:checked~label.sk-toggleable__label {background-color: #d4ebff;}#sk-container-id-22 input.sk-hidden--visually {border: 0;clip: rect(1px 1px 1px 1px);clip: rect(1px, 1px, 1px, 1px);height: 1px;margin: -1px;overflow: hidden;padding: 0;position: absolute;width: 1px;}#sk-container-id-22 div.sk-estimator {font-family: monospace;background-color: #f0f8ff;border: 1px dotted black;border-radius: 0.25em;box-sizing: border-box;margin-bottom: 0.5em;}#sk-container-id-22 div.sk-estimator:hover {background-color: #d4ebff;}#sk-container-id-22 div.sk-parallel-item::after {content: \"\";width: 100%;border-bottom: 1px solid gray;flex-grow: 1;}#sk-container-id-22 div.sk-label:hover label.sk-toggleable__label {background-color: #d4ebff;}#sk-container-id-22 div.sk-serial::before {content: \"\";position: absolute;border-left: 1px solid gray;box-sizing: border-box;top: 0;bottom: 0;left: 50%;z-index: 0;}#sk-container-id-22 div.sk-serial {display: flex;flex-direction: column;align-items: center;background-color: white;padding-right: 0.2em;padding-left: 0.2em;position: relative;}#sk-container-id-22 div.sk-item {position: relative;z-index: 1;}#sk-container-id-22 div.sk-parallel {display: flex;align-items: stretch;justify-content: center;background-color: white;position: relative;}#sk-container-id-22 div.sk-item::before, #sk-container-id-22 div.sk-parallel-item::before {content: \"\";position: absolute;border-left: 1px solid gray;box-sizing: border-box;top: 0;bottom: 0;left: 50%;z-index: -1;}#sk-container-id-22 div.sk-parallel-item {display: flex;flex-direction: column;z-index: 1;position: relative;background-color: white;}#sk-container-id-22 div.sk-parallel-item:first-child::after {align-self: flex-end;width: 50%;}#sk-container-id-22 div.sk-parallel-item:last-child::after {align-self: flex-start;width: 50%;}#sk-container-id-22 div.sk-parallel-item:only-child::after {width: 0;}#sk-container-id-22 div.sk-dashed-wrapped {border: 1px dashed gray;margin: 0 0.4em 0.5em 0.4em;box-sizing: border-box;padding-bottom: 0.4em;background-color: white;}#sk-container-id-22 div.sk-label label {font-family: monospace;font-weight: bold;display: inline-block;line-height: 1.2em;}#sk-container-id-22 div.sk-label-container {text-align: center;}#sk-container-id-22 div.sk-container {/* jupyter's `normalize.less` sets `[hidden] { display: none; }` but bootstrap.min.css set `[hidden] { display: none !important; }` so we also need the `!important` here to be able to override the default hidden behavior on the sphinx rendered scikit-learn.org. See: https://github.com/scikit-learn/scikit-learn/issues/21755 */display: inline-block !important;position: relative;}#sk-container-id-22 div.sk-text-repr-fallback {display: none;}</style><div id=\"sk-container-id-22\" class=\"sk-top-container\"><div class=\"sk-text-repr-fallback\"><pre>GradientBoostingRegressor(learning_rate=1, max_depth=2, subsample=0.5)</pre><b>In a Jupyter environment, please rerun this cell to show the HTML representation or trust the notebook. <br />On GitHub, the HTML representation is unable to render, please try loading this page with nbviewer.org.</b></div><div class=\"sk-container\" hidden><div class=\"sk-item\"><div class=\"sk-estimator sk-toggleable\"><input class=\"sk-toggleable__control sk-hidden--visually\" id=\"sk-estimator-id-28\" type=\"checkbox\" checked><label for=\"sk-estimator-id-28\" class=\"sk-toggleable__label sk-toggleable__label-arrow\">GradientBoostingRegressor</label><div class=\"sk-toggleable__content\"><pre>GradientBoostingRegressor(learning_rate=1, max_depth=2, subsample=0.5)</pre></div></div></div></div></div>"
      ],
      "text/plain": [
       "GradientBoostingRegressor(learning_rate=1, max_depth=2, subsample=0.5)"
      ]
     },
     "execution_count": 251,
     "metadata": {},
     "output_type": "execute_result"
    }
   ],
   "source": [
    "BG_Reg = GradientBoostingRegressor(learning_rate = 1, n_estimators = 100, max_depth = 2)\n",
    "BG_Reg.fit(cars_X_train_car_scaler, cars_y_train)"
   ]
  },
  {
   "cell_type": "code",
   "execution_count": 252,
   "id": "ffd8d2b9",
   "metadata": {
    "scrolled": true
   },
   "outputs": [],
   "source": [
    "cars_X_test_car_scaler['BG_Reg'] = BG_Reg.predict(cars_X_test_car_scaler)\n",
    "cars_X_train_car_scaler['BG_Reg'] = BG_Reg.predict(cars_X_train_car_scaler)"
   ]
  },
  {
   "cell_type": "code",
   "execution_count": 253,
   "id": "0570ac00",
   "metadata": {
    "scrolled": true
   },
   "outputs": [
    {
     "name": "stdout",
     "output_type": "stream",
     "text": [
      "MAE:  0.0799\n",
      "MSE:  0.012\n",
      "RMSE:  0.1094\n",
      "MAPE:  0.0037\n",
      "R2:  0.9998\n"
     ]
    }
   ],
   "source": [
    "print(\"MAE: \", metrics.mean_absolute_error(cars_y_train, cars_X_train_car_scaler['BG_Reg']).round(4))\n",
    "print(\"MSE: \", metrics.mean_squared_error(cars_y_train, cars_X_train_car_scaler['BG_Reg']).round(4))\n",
    "print(\"RMSE: \", np.sqrt(metrics.mean_squared_error(cars_y_train, cars_X_train_car_scaler['BG_Reg'])).round(4))\n",
    "print(\"MAPE: \", metrics.mean_absolute_percentage_error(cars_y_train, cars_X_train_car_scaler['BG_Reg']).round(4))\n",
    "print(\"R2: \", metrics.r2_score(cars_y_train, cars_X_train_car_scaler['BG_Reg']).round(4))"
   ]
  },
  {
   "cell_type": "code",
   "execution_count": 254,
   "id": "40ee8137",
   "metadata": {},
   "outputs": [
    {
     "name": "stdout",
     "output_type": "stream",
     "text": [
      "MAE:  0.3473\n",
      "MSE:  1.4328\n",
      "RMSE:  1.197\n",
      "MAPE:  0.0167\n",
      "R2:  0.9734\n"
     ]
    }
   ],
   "source": [
    "print(\"MAE: \", metrics.mean_absolute_error(cars_y_test, cars_X_test_car_scaler['BG_Reg']).round(4))\n",
    "print(\"MSE: \", metrics.mean_squared_error(cars_y_test, cars_X_test_car_scaler['BG_Reg']).round(4))\n",
    "print(\"RMSE: \", np.sqrt(metrics.mean_squared_error(cars_y_test, cars_X_test_car_scaler['BG_Reg'])).round(4))\n",
    "print(\"MAPE: \", metrics.mean_absolute_percentage_error(cars_y_test, cars_X_test_car_scaler['BG_Reg']).round(4))\n",
    "print(\"R2: \", metrics.r2_score(cars_y_test, cars_X_test_car_scaler['BG_Reg']).round(4))"
   ]
  },
  {
   "cell_type": "markdown",
   "id": "49e62426",
   "metadata": {},
   "source": [
    "## Boosting Gradient Classifier with Python\n"
   ]
  },
  {
   "cell_type": "code",
   "execution_count": 180,
   "id": "fd2e8f3b",
   "metadata": {},
   "outputs": [
    {
     "name": "stdout",
     "output_type": "stream",
     "text": [
      "Best: 0.750842 using {'learning_rate': 0.01, 'max_depth': 5, 'n_estimators': 500, 'subsample': 0.7}\n",
      "0.640064 (0.003169) with: {'learning_rate': 0.001, 'max_depth': 3, 'n_estimators': 10, 'subsample': 0.5}\n",
      "0.640064 (0.003169) with: {'learning_rate': 0.001, 'max_depth': 3, 'n_estimators': 10, 'subsample': 0.7}\n",
      "0.640064 (0.003169) with: {'learning_rate': 0.001, 'max_depth': 3, 'n_estimators': 10, 'subsample': 1.0}\n",
      "0.640064 (0.003169) with: {'learning_rate': 0.001, 'max_depth': 3, 'n_estimators': 100, 'subsample': 0.5}\n",
      "0.640064 (0.003169) with: {'learning_rate': 0.001, 'max_depth': 3, 'n_estimators': 100, 'subsample': 0.7}\n",
      "0.640064 (0.003169) with: {'learning_rate': 0.001, 'max_depth': 3, 'n_estimators': 100, 'subsample': 1.0}\n",
      "0.718806 (0.033561) with: {'learning_rate': 0.001, 'max_depth': 3, 'n_estimators': 500, 'subsample': 0.5}\n",
      "0.714461 (0.031336) with: {'learning_rate': 0.001, 'max_depth': 3, 'n_estimators': 500, 'subsample': 0.7}\n",
      "0.703616 (0.025514) with: {'learning_rate': 0.001, 'max_depth': 3, 'n_estimators': 500, 'subsample': 1.0}\n",
      "0.640064 (0.003169) with: {'learning_rate': 0.001, 'max_depth': 5, 'n_estimators': 10, 'subsample': 0.5}\n",
      "0.640064 (0.003169) with: {'learning_rate': 0.001, 'max_depth': 5, 'n_estimators': 10, 'subsample': 0.7}\n",
      "0.640064 (0.003169) with: {'learning_rate': 0.001, 'max_depth': 5, 'n_estimators': 10, 'subsample': 1.0}\n",
      "0.640064 (0.003169) with: {'learning_rate': 0.001, 'max_depth': 5, 'n_estimators': 100, 'subsample': 0.5}\n",
      "0.640064 (0.003169) with: {'learning_rate': 0.001, 'max_depth': 5, 'n_estimators': 100, 'subsample': 0.7}\n",
      "0.640064 (0.003169) with: {'learning_rate': 0.001, 'max_depth': 5, 'n_estimators': 100, 'subsample': 1.0}\n",
      "0.719348 (0.026676) with: {'learning_rate': 0.001, 'max_depth': 5, 'n_estimators': 500, 'subsample': 0.5}\n",
      "0.716096 (0.023424) with: {'learning_rate': 0.001, 'max_depth': 5, 'n_estimators': 500, 'subsample': 0.7}\n",
      "0.723155 (0.027902) with: {'learning_rate': 0.001, 'max_depth': 5, 'n_estimators': 500, 'subsample': 1.0}\n",
      "0.640064 (0.003169) with: {'learning_rate': 0.001, 'max_depth': 8, 'n_estimators': 10, 'subsample': 0.5}\n",
      "0.640064 (0.003169) with: {'learning_rate': 0.001, 'max_depth': 8, 'n_estimators': 10, 'subsample': 0.7}\n",
      "0.640064 (0.003169) with: {'learning_rate': 0.001, 'max_depth': 8, 'n_estimators': 10, 'subsample': 1.0}\n",
      "0.640064 (0.003169) with: {'learning_rate': 0.001, 'max_depth': 8, 'n_estimators': 100, 'subsample': 0.5}\n",
      "0.640064 (0.003169) with: {'learning_rate': 0.001, 'max_depth': 8, 'n_estimators': 100, 'subsample': 0.7}\n",
      "0.640064 (0.003169) with: {'learning_rate': 0.001, 'max_depth': 8, 'n_estimators': 100, 'subsample': 1.0}\n",
      "0.717713 (0.025307) with: {'learning_rate': 0.001, 'max_depth': 8, 'n_estimators': 500, 'subsample': 0.5}\n",
      "0.712284 (0.022158) with: {'learning_rate': 0.001, 'max_depth': 8, 'n_estimators': 500, 'subsample': 0.7}\n",
      "0.709614 (0.033744) with: {'learning_rate': 0.001, 'max_depth': 8, 'n_estimators': 500, 'subsample': 1.0}\n",
      "0.640064 (0.003169) with: {'learning_rate': 0.01, 'max_depth': 3, 'n_estimators': 10, 'subsample': 0.5}\n",
      "0.640064 (0.003169) with: {'learning_rate': 0.01, 'max_depth': 3, 'n_estimators': 10, 'subsample': 0.7}\n",
      "0.640064 (0.003169) with: {'learning_rate': 0.01, 'max_depth': 3, 'n_estimators': 10, 'subsample': 1.0}\n",
      "0.748159 (0.032504) with: {'learning_rate': 0.01, 'max_depth': 3, 'n_estimators': 100, 'subsample': 0.5}\n",
      "0.742712 (0.027175) with: {'learning_rate': 0.01, 'max_depth': 3, 'n_estimators': 100, 'subsample': 0.7}\n",
      "0.740535 (0.036564) with: {'learning_rate': 0.01, 'max_depth': 3, 'n_estimators': 100, 'subsample': 1.0}\n",
      "0.749776 (0.032682) with: {'learning_rate': 0.01, 'max_depth': 3, 'n_estimators': 500, 'subsample': 0.5}\n",
      "0.746501 (0.027105) with: {'learning_rate': 0.01, 'max_depth': 3, 'n_estimators': 500, 'subsample': 0.7}\n",
      "0.743791 (0.033899) with: {'learning_rate': 0.01, 'max_depth': 3, 'n_estimators': 500, 'subsample': 1.0}\n",
      "0.640064 (0.003169) with: {'learning_rate': 0.01, 'max_depth': 5, 'n_estimators': 10, 'subsample': 0.5}\n",
      "0.640064 (0.003169) with: {'learning_rate': 0.01, 'max_depth': 5, 'n_estimators': 10, 'subsample': 0.7}\n",
      "0.640064 (0.003169) with: {'learning_rate': 0.01, 'max_depth': 5, 'n_estimators': 10, 'subsample': 1.0}\n",
      "0.740548 (0.030475) with: {'learning_rate': 0.01, 'max_depth': 5, 'n_estimators': 100, 'subsample': 0.5}\n",
      "0.745982 (0.030374) with: {'learning_rate': 0.01, 'max_depth': 5, 'n_estimators': 100, 'subsample': 0.7}\n",
      "0.748145 (0.024864) with: {'learning_rate': 0.01, 'max_depth': 5, 'n_estimators': 100, 'subsample': 1.0}\n",
      "0.750833 (0.029715) with: {'learning_rate': 0.01, 'max_depth': 5, 'n_estimators': 500, 'subsample': 0.5}\n",
      "0.750842 (0.022104) with: {'learning_rate': 0.01, 'max_depth': 5, 'n_estimators': 500, 'subsample': 0.7}\n",
      "0.739438 (0.025857) with: {'learning_rate': 0.01, 'max_depth': 5, 'n_estimators': 500, 'subsample': 1.0}\n",
      "0.640064 (0.003169) with: {'learning_rate': 0.01, 'max_depth': 8, 'n_estimators': 10, 'subsample': 0.5}\n",
      "0.640064 (0.003169) with: {'learning_rate': 0.01, 'max_depth': 8, 'n_estimators': 10, 'subsample': 0.7}\n",
      "0.640064 (0.003169) with: {'learning_rate': 0.01, 'max_depth': 8, 'n_estimators': 10, 'subsample': 1.0}\n",
      "0.748127 (0.019010) with: {'learning_rate': 0.01, 'max_depth': 8, 'n_estimators': 100, 'subsample': 0.5}\n",
      "0.742676 (0.023275) with: {'learning_rate': 0.01, 'max_depth': 8, 'n_estimators': 100, 'subsample': 0.7}\n",
      "0.719890 (0.033525) with: {'learning_rate': 0.01, 'max_depth': 8, 'n_estimators': 100, 'subsample': 1.0}\n",
      "0.747039 (0.026097) with: {'learning_rate': 0.01, 'max_depth': 8, 'n_estimators': 500, 'subsample': 0.5}\n",
      "0.749211 (0.024329) with: {'learning_rate': 0.01, 'max_depth': 8, 'n_estimators': 500, 'subsample': 0.7}\n",
      "0.737256 (0.029446) with: {'learning_rate': 0.01, 'max_depth': 8, 'n_estimators': 500, 'subsample': 1.0}\n",
      "0.749762 (0.023312) with: {'learning_rate': 0.1, 'max_depth': 3, 'n_estimators': 10, 'subsample': 0.5}\n",
      "0.749762 (0.029674) with: {'learning_rate': 0.1, 'max_depth': 3, 'n_estimators': 10, 'subsample': 0.7}\n",
      "0.743254 (0.036302) with: {'learning_rate': 0.1, 'max_depth': 3, 'n_estimators': 10, 'subsample': 1.0}\n",
      "0.744840 (0.031457) with: {'learning_rate': 0.1, 'max_depth': 3, 'n_estimators': 100, 'subsample': 0.5}\n",
      "0.736723 (0.027266) with: {'learning_rate': 0.1, 'max_depth': 3, 'n_estimators': 100, 'subsample': 0.7}\n",
      "0.731836 (0.028496) with: {'learning_rate': 0.1, 'max_depth': 3, 'n_estimators': 100, 'subsample': 1.0}\n",
      "0.722578 (0.035371) with: {'learning_rate': 0.1, 'max_depth': 3, 'n_estimators': 500, 'subsample': 0.5}\n",
      "0.727496 (0.034689) with: {'learning_rate': 0.1, 'max_depth': 3, 'n_estimators': 500, 'subsample': 0.7}\n",
      "0.715007 (0.024405) with: {'learning_rate': 0.1, 'max_depth': 3, 'n_estimators': 500, 'subsample': 1.0}\n",
      "0.731232 (0.036302) with: {'learning_rate': 0.1, 'max_depth': 5, 'n_estimators': 10, 'subsample': 0.5}\n",
      "0.740553 (0.024715) with: {'learning_rate': 0.1, 'max_depth': 5, 'n_estimators': 10, 'subsample': 0.7}\n",
      "0.742716 (0.025949) with: {'learning_rate': 0.1, 'max_depth': 5, 'n_estimators': 10, 'subsample': 1.0}\n",
      "0.742690 (0.020569) with: {'learning_rate': 0.1, 'max_depth': 5, 'n_estimators': 100, 'subsample': 0.5}\n",
      "0.737283 (0.026959) with: {'learning_rate': 0.1, 'max_depth': 5, 'n_estimators': 100, 'subsample': 0.7}\n",
      "0.729117 (0.029771) with: {'learning_rate': 0.1, 'max_depth': 5, 'n_estimators': 100, 'subsample': 1.0}\n",
      "0.729122 (0.038431) with: {'learning_rate': 0.1, 'max_depth': 5, 'n_estimators': 500, 'subsample': 0.5}\n",
      "0.725874 (0.031728) with: {'learning_rate': 0.1, 'max_depth': 5, 'n_estimators': 500, 'subsample': 0.7}\n",
      "0.728038 (0.031560) with: {'learning_rate': 0.1, 'max_depth': 5, 'n_estimators': 500, 'subsample': 1.0}\n",
      "0.729099 (0.024018) with: {'learning_rate': 0.1, 'max_depth': 8, 'n_estimators': 10, 'subsample': 0.5}\n",
      "0.735075 (0.030801) with: {'learning_rate': 0.1, 'max_depth': 8, 'n_estimators': 10, 'subsample': 0.7}\n",
      "0.721516 (0.033994) with: {'learning_rate': 0.1, 'max_depth': 8, 'n_estimators': 10, 'subsample': 1.0}\n",
      "0.732894 (0.022129) with: {'learning_rate': 0.1, 'max_depth': 8, 'n_estimators': 100, 'subsample': 0.5}\n",
      "0.738860 (0.027563) with: {'learning_rate': 0.1, 'max_depth': 8, 'n_estimators': 100, 'subsample': 0.7}\n",
      "0.730752 (0.029286) with: {'learning_rate': 0.1, 'max_depth': 8, 'n_estimators': 100, 'subsample': 1.0}\n",
      "0.737785 (0.031033) with: {'learning_rate': 0.1, 'max_depth': 8, 'n_estimators': 500, 'subsample': 0.5}\n",
      "0.734537 (0.033546) with: {'learning_rate': 0.1, 'max_depth': 8, 'n_estimators': 500, 'subsample': 0.7}\n",
      "0.732365 (0.029407) with: {'learning_rate': 0.1, 'max_depth': 8, 'n_estimators': 500, 'subsample': 1.0}\n",
      "0.691110 (0.037020) with: {'learning_rate': 1.0, 'max_depth': 3, 'n_estimators': 10, 'subsample': 0.5}\n",
      "0.706300 (0.036879) with: {'learning_rate': 1.0, 'max_depth': 3, 'n_estimators': 10, 'subsample': 0.7}\n",
      "0.714448 (0.028797) with: {'learning_rate': 1.0, 'max_depth': 3, 'n_estimators': 10, 'subsample': 1.0}\n",
      "0.634053 (0.059753) with: {'learning_rate': 1.0, 'max_depth': 3, 'n_estimators': 100, 'subsample': 0.5}\n",
      "0.686779 (0.050506) with: {'learning_rate': 1.0, 'max_depth': 3, 'n_estimators': 100, 'subsample': 0.7}\n",
      "0.698152 (0.032415) with: {'learning_rate': 1.0, 'max_depth': 3, 'n_estimators': 100, 'subsample': 1.0}\n",
      "0.575401 (0.096991) with: {'learning_rate': 1.0, 'max_depth': 3, 'n_estimators': 500, 'subsample': 0.5}\n",
      "0.692683 (0.036191) with: {'learning_rate': 1.0, 'max_depth': 3, 'n_estimators': 500, 'subsample': 0.7}\n",
      "0.695975 (0.030870) with: {'learning_rate': 1.0, 'max_depth': 3, 'n_estimators': 500, 'subsample': 1.0}\n",
      "0.679128 (0.027938) with: {'learning_rate': 1.0, 'max_depth': 5, 'n_estimators': 10, 'subsample': 0.5}\n",
      "0.679715 (0.032920) with: {'learning_rate': 1.0, 'max_depth': 5, 'n_estimators': 10, 'subsample': 0.7}\n",
      "0.707441 (0.029130) with: {'learning_rate': 1.0, 'max_depth': 5, 'n_estimators': 10, 'subsample': 1.0}\n",
      "0.555902 (0.067749) with: {'learning_rate': 1.0, 'max_depth': 5, 'n_estimators': 100, 'subsample': 0.5}\n",
      "0.706309 (0.050344) with: {'learning_rate': 1.0, 'max_depth': 5, 'n_estimators': 100, 'subsample': 0.7}\n",
      "0.719352 (0.033406) with: {'learning_rate': 1.0, 'max_depth': 5, 'n_estimators': 100, 'subsample': 1.0}\n",
      "0.573802 (0.052857) with: {'learning_rate': 1.0, 'max_depth': 5, 'n_estimators': 500, 'subsample': 0.5}\n",
      "0.704669 (0.046129) with: {'learning_rate': 1.0, 'max_depth': 5, 'n_estimators': 500, 'subsample': 0.7}\n",
      "0.713919 (0.033033) with: {'learning_rate': 1.0, 'max_depth': 5, 'n_estimators': 500, 'subsample': 1.0}\n",
      "0.654778 (0.039429) with: {'learning_rate': 1.0, 'max_depth': 8, 'n_estimators': 10, 'subsample': 0.5}\n",
      "0.694349 (0.032201) with: {'learning_rate': 1.0, 'max_depth': 8, 'n_estimators': 10, 'subsample': 0.7}\n",
      "0.706295 (0.036356) with: {'learning_rate': 1.0, 'max_depth': 8, 'n_estimators': 10, 'subsample': 1.0}\n",
      "0.581332 (0.109585) with: {'learning_rate': 1.0, 'max_depth': 8, 'n_estimators': 100, 'subsample': 0.5}\n",
      "0.707890 (0.039427) with: {'learning_rate': 1.0, 'max_depth': 8, 'n_estimators': 100, 'subsample': 0.7}\n",
      "0.722045 (0.035936) with: {'learning_rate': 1.0, 'max_depth': 8, 'n_estimators': 100, 'subsample': 1.0}\n",
      "0.556471 (0.092432) with: {'learning_rate': 1.0, 'max_depth': 8, 'n_estimators': 500, 'subsample': 0.5}\n",
      "0.715567 (0.036483) with: {'learning_rate': 1.0, 'max_depth': 8, 'n_estimators': 500, 'subsample': 0.7}\n",
      "0.712826 (0.034366) with: {'learning_rate': 1.0, 'max_depth': 8, 'n_estimators': 500, 'subsample': 1.0}\n"
     ]
    }
   ],
   "source": [
    "BG_cl = GradientBoostingClassifier()\n",
    "\n",
    "# define the grid of values to search\n",
    "grid = dict()\n",
    "grid['n_estimators'] = [100, 500]\n",
    "grid['learning_rate'] = [0.01, 0.1, 1.0]\n",
    "grid['max_depth'] = [3, 5, 8]\n",
    "\n",
    "# define the evaluation procedure\n",
    "cv = RepeatedStratifiedKFold(n_splits=5, n_repeats=3, random_state=1)\n",
    "\n",
    "# define the grid search procedure\n",
    "grid_search = GridSearchCV(estimator=BG_cl, param_grid=grid, n_jobs=-1, cv=cv, scoring='accuracy')\n",
    "# execute the grid search\n",
    "\n",
    "grid_result = grid_search.fit(diab_X_train_sc, diab_y_train)\n",
    "\n",
    "# summarize the best score and configuration\n",
    "print(\"Best: %f using %s\" % (grid_result.best_score_, grid_result.best_params_))\n",
    "\n",
    "# summarize all scores that were evaluated\n",
    "means = grid_result.cv_results_['mean_test_score']\n",
    "stds = grid_result.cv_results_['std_test_score']\n",
    "params = grid_result.cv_results_['params']\n",
    "for mean, stdev, param in zip(means, stds, params):\n",
    "    print(\"%f (%f) with: %r\" % (mean, stdev, param))"
   ]
  },
  {
   "cell_type": "code",
   "execution_count": 255,
   "id": "ea4a06e7",
   "metadata": {},
   "outputs": [
    {
     "data": {
      "text/html": [
       "<style>#sk-container-id-23 {color: black;background-color: white;}#sk-container-id-23 pre{padding: 0;}#sk-container-id-23 div.sk-toggleable {background-color: white;}#sk-container-id-23 label.sk-toggleable__label {cursor: pointer;display: block;width: 100%;margin-bottom: 0;padding: 0.3em;box-sizing: border-box;text-align: center;}#sk-container-id-23 label.sk-toggleable__label-arrow:before {content: \"▸\";float: left;margin-right: 0.25em;color: #696969;}#sk-container-id-23 label.sk-toggleable__label-arrow:hover:before {color: black;}#sk-container-id-23 div.sk-estimator:hover label.sk-toggleable__label-arrow:before {color: black;}#sk-container-id-23 div.sk-toggleable__content {max-height: 0;max-width: 0;overflow: hidden;text-align: left;background-color: #f0f8ff;}#sk-container-id-23 div.sk-toggleable__content pre {margin: 0.2em;color: black;border-radius: 0.25em;background-color: #f0f8ff;}#sk-container-id-23 input.sk-toggleable__control:checked~div.sk-toggleable__content {max-height: 200px;max-width: 100%;overflow: auto;}#sk-container-id-23 input.sk-toggleable__control:checked~label.sk-toggleable__label-arrow:before {content: \"▾\";}#sk-container-id-23 div.sk-estimator input.sk-toggleable__control:checked~label.sk-toggleable__label {background-color: #d4ebff;}#sk-container-id-23 div.sk-label input.sk-toggleable__control:checked~label.sk-toggleable__label {background-color: #d4ebff;}#sk-container-id-23 input.sk-hidden--visually {border: 0;clip: rect(1px 1px 1px 1px);clip: rect(1px, 1px, 1px, 1px);height: 1px;margin: -1px;overflow: hidden;padding: 0;position: absolute;width: 1px;}#sk-container-id-23 div.sk-estimator {font-family: monospace;background-color: #f0f8ff;border: 1px dotted black;border-radius: 0.25em;box-sizing: border-box;margin-bottom: 0.5em;}#sk-container-id-23 div.sk-estimator:hover {background-color: #d4ebff;}#sk-container-id-23 div.sk-parallel-item::after {content: \"\";width: 100%;border-bottom: 1px solid gray;flex-grow: 1;}#sk-container-id-23 div.sk-label:hover label.sk-toggleable__label {background-color: #d4ebff;}#sk-container-id-23 div.sk-serial::before {content: \"\";position: absolute;border-left: 1px solid gray;box-sizing: border-box;top: 0;bottom: 0;left: 50%;z-index: 0;}#sk-container-id-23 div.sk-serial {display: flex;flex-direction: column;align-items: center;background-color: white;padding-right: 0.2em;padding-left: 0.2em;position: relative;}#sk-container-id-23 div.sk-item {position: relative;z-index: 1;}#sk-container-id-23 div.sk-parallel {display: flex;align-items: stretch;justify-content: center;background-color: white;position: relative;}#sk-container-id-23 div.sk-item::before, #sk-container-id-23 div.sk-parallel-item::before {content: \"\";position: absolute;border-left: 1px solid gray;box-sizing: border-box;top: 0;bottom: 0;left: 50%;z-index: -1;}#sk-container-id-23 div.sk-parallel-item {display: flex;flex-direction: column;z-index: 1;position: relative;background-color: white;}#sk-container-id-23 div.sk-parallel-item:first-child::after {align-self: flex-end;width: 50%;}#sk-container-id-23 div.sk-parallel-item:last-child::after {align-self: flex-start;width: 50%;}#sk-container-id-23 div.sk-parallel-item:only-child::after {width: 0;}#sk-container-id-23 div.sk-dashed-wrapped {border: 1px dashed gray;margin: 0 0.4em 0.5em 0.4em;box-sizing: border-box;padding-bottom: 0.4em;background-color: white;}#sk-container-id-23 div.sk-label label {font-family: monospace;font-weight: bold;display: inline-block;line-height: 1.2em;}#sk-container-id-23 div.sk-label-container {text-align: center;}#sk-container-id-23 div.sk-container {/* jupyter's `normalize.less` sets `[hidden] { display: none; }` but bootstrap.min.css set `[hidden] { display: none !important; }` so we also need the `!important` here to be able to override the default hidden behavior on the sphinx rendered scikit-learn.org. See: https://github.com/scikit-learn/scikit-learn/issues/21755 */display: inline-block !important;position: relative;}#sk-container-id-23 div.sk-text-repr-fallback {display: none;}</style><div id=\"sk-container-id-23\" class=\"sk-top-container\"><div class=\"sk-text-repr-fallback\"><pre>GradientBoostingClassifier(learning_rate=0.01, max_depth=5, n_estimators=500)</pre><b>In a Jupyter environment, please rerun this cell to show the HTML representation or trust the notebook. <br />On GitHub, the HTML representation is unable to render, please try loading this page with nbviewer.org.</b></div><div class=\"sk-container\" hidden><div class=\"sk-item\"><div class=\"sk-estimator sk-toggleable\"><input class=\"sk-toggleable__control sk-hidden--visually\" id=\"sk-estimator-id-29\" type=\"checkbox\" checked><label for=\"sk-estimator-id-29\" class=\"sk-toggleable__label sk-toggleable__label-arrow\">GradientBoostingClassifier</label><div class=\"sk-toggleable__content\"><pre>GradientBoostingClassifier(learning_rate=0.01, max_depth=5, n_estimators=500)</pre></div></div></div></div></div>"
      ],
      "text/plain": [
       "GradientBoostingClassifier(learning_rate=0.01, max_depth=5, n_estimators=500)"
      ]
     },
     "execution_count": 255,
     "metadata": {},
     "output_type": "execute_result"
    }
   ],
   "source": [
    "BG_cl = GradientBoostingClassifier(learning_rate = 0.01, max_depth = 5, n_estimators = 500)\n",
    "BG_cl.fit(diab_X_train_sc, diab_y_train)"
   ]
  },
  {
   "cell_type": "code",
   "execution_count": 209,
   "id": "af9be7d3",
   "metadata": {
    "scrolled": true
   },
   "outputs": [
    {
     "name": "stdout",
     "output_type": "stream",
     "text": [
      "Train set score (Accuracy) = 0.9847\n",
      "Test set score (Accuracy) = 0.7987\n",
      "╒═══════════════╤════════════════╤═════════════════╕\n",
      "│               │   pred Diab No │   pred Diab Yes │\n",
      "╞═══════════════╪════════════════╪═════════════════╡\n",
      "│ real Diab No  │             88 │              19 │\n",
      "├───────────────┼────────────────┼─────────────────┤\n",
      "│ real Diab Yes │             12 │              35 │\n",
      "╘═══════════════╧════════════════╧═════════════════╛\n",
      "              precision    recall  f1-score   support\n",
      "\n",
      "           0       0.88      0.82      0.85       107\n",
      "           1       0.65      0.74      0.69        47\n",
      "\n",
      "    accuracy                           0.80       154\n",
      "   macro avg       0.76      0.78      0.77       154\n",
      "weighted avg       0.81      0.80      0.80       154\n",
      "\n"
     ]
    }
   ],
   "source": [
    "print(\"Train set score (Accuracy) =\", BG_cl.score(diab_X_train_sc, diab_y_train).round(4))\n",
    "print(\"Test set score (Accuracy) =\", BG_cl.score(diab_X_test_sc, diab_y_test).round(4))\n",
    "\n",
    "conf_mat = confusion_matrix(diab_y_test, BG_cl.predict(diab_X_test_sc))\n",
    "print(tabulate(conf_mat,headers = ['pred Diab No','pred Diab Yes'], showindex = ['real Diab No','real Diab Yes'], \n",
    "               tablefmt = 'fancy_grid'))\n",
    "\n",
    "print(classification_report(diab_y_test, BG_cl.predict(diab_X_test_sc)))\n",
    "\n",
    "diab_X_test_sc['AB_Cl'] = AB_cl.predict(diab_X_test_sc)\n",
    "diab_X_train_sc['AB_Cl'] = AB_cl.predict(diab_X_train_sc)"
   ]
  },
  {
   "cell_type": "markdown",
   "id": "7e014e11",
   "metadata": {},
   "source": [
    "## XGBoost Regressor with Python\n"
   ]
  },
  {
   "cell_type": "code",
   "execution_count": 256,
   "id": "2e9ad638",
   "metadata": {},
   "outputs": [
    {
     "name": "stdout",
     "output_type": "stream",
     "text": [
      "Best: -0.013461 using {'learning_rate': 0.1, 'max_depth': 5, 'n_estimators': 500}\n",
      "-2.409940 (0.134989) with: {'learning_rate': 0.01, 'max_depth': 3, 'n_estimators': 100}\n",
      "-0.065114 (0.006873) with: {'learning_rate': 0.01, 'max_depth': 3, 'n_estimators': 500}\n",
      "-2.378757 (0.125581) with: {'learning_rate': 0.01, 'max_depth': 5, 'n_estimators': 100}\n",
      "-0.058029 (0.007673) with: {'learning_rate': 0.01, 'max_depth': 5, 'n_estimators': 500}\n",
      "-2.378105 (0.123946) with: {'learning_rate': 0.01, 'max_depth': 8, 'n_estimators': 100}\n",
      "-0.055142 (0.008199) with: {'learning_rate': 0.01, 'max_depth': 8, 'n_estimators': 500}\n",
      "-0.031272 (0.004521) with: {'learning_rate': 0.1, 'max_depth': 3, 'n_estimators': 100}\n",
      "-0.017524 (0.004248) with: {'learning_rate': 0.1, 'max_depth': 3, 'n_estimators': 500}\n",
      "-0.018695 (0.005417) with: {'learning_rate': 0.1, 'max_depth': 5, 'n_estimators': 100}\n",
      "-0.013461 (0.005263) with: {'learning_rate': 0.1, 'max_depth': 5, 'n_estimators': 500}\n",
      "-0.014311 (0.007493) with: {'learning_rate': 0.1, 'max_depth': 8, 'n_estimators': 100}\n",
      "-0.014071 (0.006926) with: {'learning_rate': 0.1, 'max_depth': 8, 'n_estimators': 500}\n",
      "-0.046861 (0.016988) with: {'learning_rate': 1.0, 'max_depth': 3, 'n_estimators': 100}\n",
      "-0.040438 (0.017276) with: {'learning_rate': 1.0, 'max_depth': 3, 'n_estimators': 500}\n",
      "-0.025369 (0.011886) with: {'learning_rate': 1.0, 'max_depth': 5, 'n_estimators': 100}\n",
      "-0.023801 (0.006657) with: {'learning_rate': 1.0, 'max_depth': 5, 'n_estimators': 500}\n",
      "-0.016384 (0.013288) with: {'learning_rate': 1.0, 'max_depth': 8, 'n_estimators': 100}\n",
      "-0.016449 (0.013613) with: {'learning_rate': 1.0, 'max_depth': 8, 'n_estimators': 500}\n"
     ]
    }
   ],
   "source": [
    "XG_Reg = GradientBoostingRegressor()\n",
    "\n",
    "# define the grid of values to search\n",
    "grid = dict()\n",
    "grid['n_estimators'] = [50, 100]\n",
    "grid['learning_rate'] = [0.01, 0.1, 1.0]\n",
    "grid['max_depth'] = [3, 5, 8]\n",
    "\n",
    "# define the evaluation procedure\n",
    "cv = RepeatedKFold(n_splits=5, n_repeats=3, random_state=1)\n",
    "\n",
    "# define the grid search procedure\n",
    "grid_search = GridSearchCV(estimator=XG_Reg, param_grid=grid, n_jobs=-1, cv=cv, scoring='neg_mean_absolute_error')\n",
    "# execute the grid search\n",
    "grid_result = grid_search.fit(cars_X_train_car_scaler, cars_y_train)\n",
    "\n",
    "# summarize the best score and configuration\n",
    "print(\"Best: %f using %s\" % (grid_result.best_score_, grid_result.best_params_))\n",
    "\n",
    "# summarize all scores that were evaluated\n",
    "means = grid_result.cv_results_['mean_test_score']\n",
    "stds = grid_result.cv_results_['std_test_score']\n",
    "params = grid_result.cv_results_['params']\n",
    "for mean, stdev, param in zip(means, stds, params):\n",
    "    print(\"%f (%f) with: %r\" % (mean, stdev, param))\n"
   ]
  },
  {
   "cell_type": "code",
   "execution_count": 257,
   "id": "f144bc11",
   "metadata": {},
   "outputs": [
    {
     "data": {
      "text/html": [
       "<style>#sk-container-id-24 {color: black;background-color: white;}#sk-container-id-24 pre{padding: 0;}#sk-container-id-24 div.sk-toggleable {background-color: white;}#sk-container-id-24 label.sk-toggleable__label {cursor: pointer;display: block;width: 100%;margin-bottom: 0;padding: 0.3em;box-sizing: border-box;text-align: center;}#sk-container-id-24 label.sk-toggleable__label-arrow:before {content: \"▸\";float: left;margin-right: 0.25em;color: #696969;}#sk-container-id-24 label.sk-toggleable__label-arrow:hover:before {color: black;}#sk-container-id-24 div.sk-estimator:hover label.sk-toggleable__label-arrow:before {color: black;}#sk-container-id-24 div.sk-toggleable__content {max-height: 0;max-width: 0;overflow: hidden;text-align: left;background-color: #f0f8ff;}#sk-container-id-24 div.sk-toggleable__content pre {margin: 0.2em;color: black;border-radius: 0.25em;background-color: #f0f8ff;}#sk-container-id-24 input.sk-toggleable__control:checked~div.sk-toggleable__content {max-height: 200px;max-width: 100%;overflow: auto;}#sk-container-id-24 input.sk-toggleable__control:checked~label.sk-toggleable__label-arrow:before {content: \"▾\";}#sk-container-id-24 div.sk-estimator input.sk-toggleable__control:checked~label.sk-toggleable__label {background-color: #d4ebff;}#sk-container-id-24 div.sk-label input.sk-toggleable__control:checked~label.sk-toggleable__label {background-color: #d4ebff;}#sk-container-id-24 input.sk-hidden--visually {border: 0;clip: rect(1px 1px 1px 1px);clip: rect(1px, 1px, 1px, 1px);height: 1px;margin: -1px;overflow: hidden;padding: 0;position: absolute;width: 1px;}#sk-container-id-24 div.sk-estimator {font-family: monospace;background-color: #f0f8ff;border: 1px dotted black;border-radius: 0.25em;box-sizing: border-box;margin-bottom: 0.5em;}#sk-container-id-24 div.sk-estimator:hover {background-color: #d4ebff;}#sk-container-id-24 div.sk-parallel-item::after {content: \"\";width: 100%;border-bottom: 1px solid gray;flex-grow: 1;}#sk-container-id-24 div.sk-label:hover label.sk-toggleable__label {background-color: #d4ebff;}#sk-container-id-24 div.sk-serial::before {content: \"\";position: absolute;border-left: 1px solid gray;box-sizing: border-box;top: 0;bottom: 0;left: 50%;z-index: 0;}#sk-container-id-24 div.sk-serial {display: flex;flex-direction: column;align-items: center;background-color: white;padding-right: 0.2em;padding-left: 0.2em;position: relative;}#sk-container-id-24 div.sk-item {position: relative;z-index: 1;}#sk-container-id-24 div.sk-parallel {display: flex;align-items: stretch;justify-content: center;background-color: white;position: relative;}#sk-container-id-24 div.sk-item::before, #sk-container-id-24 div.sk-parallel-item::before {content: \"\";position: absolute;border-left: 1px solid gray;box-sizing: border-box;top: 0;bottom: 0;left: 50%;z-index: -1;}#sk-container-id-24 div.sk-parallel-item {display: flex;flex-direction: column;z-index: 1;position: relative;background-color: white;}#sk-container-id-24 div.sk-parallel-item:first-child::after {align-self: flex-end;width: 50%;}#sk-container-id-24 div.sk-parallel-item:last-child::after {align-self: flex-start;width: 50%;}#sk-container-id-24 div.sk-parallel-item:only-child::after {width: 0;}#sk-container-id-24 div.sk-dashed-wrapped {border: 1px dashed gray;margin: 0 0.4em 0.5em 0.4em;box-sizing: border-box;padding-bottom: 0.4em;background-color: white;}#sk-container-id-24 div.sk-label label {font-family: monospace;font-weight: bold;display: inline-block;line-height: 1.2em;}#sk-container-id-24 div.sk-label-container {text-align: center;}#sk-container-id-24 div.sk-container {/* jupyter's `normalize.less` sets `[hidden] { display: none; }` but bootstrap.min.css set `[hidden] { display: none !important; }` so we also need the `!important` here to be able to override the default hidden behavior on the sphinx rendered scikit-learn.org. See: https://github.com/scikit-learn/scikit-learn/issues/21755 */display: inline-block !important;position: relative;}#sk-container-id-24 div.sk-text-repr-fallback {display: none;}</style><div id=\"sk-container-id-24\" class=\"sk-top-container\"><div class=\"sk-text-repr-fallback\"><pre>GradientBoostingRegressor(max_depth=5)</pre><b>In a Jupyter environment, please rerun this cell to show the HTML representation or trust the notebook. <br />On GitHub, the HTML representation is unable to render, please try loading this page with nbviewer.org.</b></div><div class=\"sk-container\" hidden><div class=\"sk-item\"><div class=\"sk-estimator sk-toggleable\"><input class=\"sk-toggleable__control sk-hidden--visually\" id=\"sk-estimator-id-30\" type=\"checkbox\" checked><label for=\"sk-estimator-id-30\" class=\"sk-toggleable__label sk-toggleable__label-arrow\">GradientBoostingRegressor</label><div class=\"sk-toggleable__content\"><pre>GradientBoostingRegressor(max_depth=5)</pre></div></div></div></div></div>"
      ],
      "text/plain": [
       "GradientBoostingRegressor(max_depth=5)"
      ]
     },
     "execution_count": 257,
     "metadata": {},
     "output_type": "execute_result"
    }
   ],
   "source": [
    "XG_Reg = GradientBoostingRegressor(learning_rate = 0.1, n_estimators = 100, max_depth = 5)\n",
    "XG_Reg.fit(cars_X_train_car_scaler, cars_y_train)"
   ]
  },
  {
   "cell_type": "code",
   "execution_count": 258,
   "id": "7ac219f4",
   "metadata": {},
   "outputs": [],
   "source": [
    "cars_X_test_car_scaler['XG_Reg'] = XG_Reg.predict(cars_X_test_car_scaler)\n",
    "cars_X_train_car_scaler['XG_Reg'] = XG_Reg.predict(cars_X_train_car_scaler)"
   ]
  },
  {
   "cell_type": "code",
   "execution_count": 259,
   "id": "881b9149",
   "metadata": {},
   "outputs": [
    {
     "name": "stdout",
     "output_type": "stream",
     "text": [
      "MAE:  0.0054\n",
      "MSE:  0.0001\n",
      "RMSE:  0.0097\n",
      "MAPE:  0.0002\n",
      "R2:  1.0\n"
     ]
    }
   ],
   "source": [
    "print(\"MAE: \", metrics.mean_absolute_error(cars_y_train, cars_X_train_car_scaler['XG_Reg']).round(4))\n",
    "print(\"MSE: \", metrics.mean_squared_error(cars_y_train, cars_X_train_car_scaler['XG_Reg']).round(4))\n",
    "print(\"RMSE: \", np.sqrt(metrics.mean_squared_error(cars_y_train, cars_X_train_car_scaler['XG_Reg'])).round(4))\n",
    "print(\"MAPE: \", metrics.mean_absolute_percentage_error(cars_y_train, cars_X_train_car_scaler['XG_Reg']).round(4))\n",
    "print(\"R2: \", metrics.r2_score(cars_y_train, cars_X_train_car_scaler['XG_Reg']).round(4))"
   ]
  },
  {
   "cell_type": "code",
   "execution_count": 260,
   "id": "62593b84",
   "metadata": {},
   "outputs": [
    {
     "name": "stdout",
     "output_type": "stream",
     "text": [
      "MAE:  0.271\n",
      "MSE:  1.3648\n",
      "RMSE:  1.1683\n",
      "MAPE:  0.0131\n",
      "R2:  0.9747\n"
     ]
    }
   ],
   "source": [
    "print(\"MAE: \", metrics.mean_absolute_error(cars_y_test, cars_X_test_car_scaler['XG_Reg']).round(4))\n",
    "print(\"MSE: \", metrics.mean_squared_error(cars_y_test, cars_X_test_car_scaler['XG_Reg']).round(4))\n",
    "print(\"RMSE: \", np.sqrt(metrics.mean_squared_error(cars_y_test, cars_X_test_car_scaler['XG_Reg'])).round(4))\n",
    "print(\"MAPE: \", metrics.mean_absolute_percentage_error(cars_y_test, cars_X_test_car_scaler['XG_Reg']).round(4))\n",
    "print(\"R2: \", metrics.r2_score(cars_y_test, cars_X_test_car_scaler['XG_Reg']).round(4))"
   ]
  },
  {
   "cell_type": "markdown",
   "id": "48e269aa",
   "metadata": {},
   "source": [
    "## XGBoost Classifier with Python"
   ]
  },
  {
   "cell_type": "code",
   "execution_count": 261,
   "id": "2057a0f3",
   "metadata": {},
   "outputs": [
    {
     "name": "stdout",
     "output_type": "stream",
     "text": [
      "Best: 0.838848 using {'learning_rate': 1.0, 'max_depth': 8, 'n_estimators': 50}\n",
      "0.758263 (0.030810) with: {'learning_rate': 0.01, 'max_depth': 3, 'n_estimators': 50}\n",
      "0.766317 (0.029425) with: {'learning_rate': 0.01, 'max_depth': 3, 'n_estimators': 100}\n",
      "0.775240 (0.041400) with: {'learning_rate': 0.01, 'max_depth': 5, 'n_estimators': 50}\n",
      "0.785842 (0.030856) with: {'learning_rate': 0.01, 'max_depth': 5, 'n_estimators': 100}\n",
      "0.802795 (0.039673) with: {'learning_rate': 0.01, 'max_depth': 8, 'n_estimators': 50}\n",
      "0.808743 (0.040271) with: {'learning_rate': 0.01, 'max_depth': 8, 'n_estimators': 100}\n",
      "0.787957 (0.027168) with: {'learning_rate': 0.1, 'max_depth': 3, 'n_estimators': 50}\n",
      "0.801521 (0.025535) with: {'learning_rate': 0.1, 'max_depth': 3, 'n_estimators': 100}\n",
      "0.814679 (0.023642) with: {'learning_rate': 0.1, 'max_depth': 5, 'n_estimators': 50}\n",
      "0.823153 (0.026228) with: {'learning_rate': 0.1, 'max_depth': 5, 'n_estimators': 100}\n",
      "0.825703 (0.036398) with: {'learning_rate': 0.1, 'max_depth': 8, 'n_estimators': 50}\n",
      "0.826977 (0.031938) with: {'learning_rate': 0.1, 'max_depth': 8, 'n_estimators': 100}\n",
      "0.804082 (0.028791) with: {'learning_rate': 1.0, 'max_depth': 3, 'n_estimators': 50}\n",
      "0.810030 (0.026218) with: {'learning_rate': 1.0, 'max_depth': 3, 'n_estimators': 100}\n",
      "0.816370 (0.027487) with: {'learning_rate': 1.0, 'max_depth': 5, 'n_estimators': 50}\n",
      "0.824016 (0.034995) with: {'learning_rate': 1.0, 'max_depth': 5, 'n_estimators': 100}\n",
      "0.838848 (0.025209) with: {'learning_rate': 1.0, 'max_depth': 8, 'n_estimators': 50}\n",
      "0.837152 (0.031586) with: {'learning_rate': 1.0, 'max_depth': 8, 'n_estimators': 100}\n"
     ]
    }
   ],
   "source": [
    "XG_cl = GradientBoostingClassifier()\n",
    "\n",
    "# define the grid of values to search\n",
    "grid = dict()\n",
    "grid['n_estimators'] = [50, 100]\n",
    "grid['learning_rate'] = [0.01, 0.1, 1.0]\n",
    "grid['max_depth'] = [3, 5, 8]\n",
    "\n",
    "# define the evaluation procedure\n",
    "cv = RepeatedStratifiedKFold(n_splits=5, n_repeats=3, random_state=1)\n",
    "\n",
    "# define the grid search procedure\n",
    "grid_search = GridSearchCV(estimator=XG_cl, param_grid=grid, n_jobs=-1, cv=cv, scoring='accuracy')\n",
    "# execute the grid search\n",
    "\n",
    "grid_result = grid_search.fit(diab_X_train_sc, diab_y_train)\n",
    "\n",
    "# summarize the best score and configuration\n",
    "print(\"Best: %f using %s\" % (grid_result.best_score_, grid_result.best_params_))\n",
    "\n",
    "# summarize all scores that were evaluated\n",
    "means = grid_result.cv_results_['mean_test_score']\n",
    "stds = grid_result.cv_results_['std_test_score']\n",
    "params = grid_result.cv_results_['params']\n",
    "for mean, stdev, param in zip(means, stds, params):\n",
    "    print(\"%f (%f) with: %r\" % (mean, stdev, param))"
   ]
  },
  {
   "cell_type": "code",
   "execution_count": 262,
   "id": "0e66f882",
   "metadata": {},
   "outputs": [
    {
     "data": {
      "text/html": [
       "<style>#sk-container-id-25 {color: black;background-color: white;}#sk-container-id-25 pre{padding: 0;}#sk-container-id-25 div.sk-toggleable {background-color: white;}#sk-container-id-25 label.sk-toggleable__label {cursor: pointer;display: block;width: 100%;margin-bottom: 0;padding: 0.3em;box-sizing: border-box;text-align: center;}#sk-container-id-25 label.sk-toggleable__label-arrow:before {content: \"▸\";float: left;margin-right: 0.25em;color: #696969;}#sk-container-id-25 label.sk-toggleable__label-arrow:hover:before {color: black;}#sk-container-id-25 div.sk-estimator:hover label.sk-toggleable__label-arrow:before {color: black;}#sk-container-id-25 div.sk-toggleable__content {max-height: 0;max-width: 0;overflow: hidden;text-align: left;background-color: #f0f8ff;}#sk-container-id-25 div.sk-toggleable__content pre {margin: 0.2em;color: black;border-radius: 0.25em;background-color: #f0f8ff;}#sk-container-id-25 input.sk-toggleable__control:checked~div.sk-toggleable__content {max-height: 200px;max-width: 100%;overflow: auto;}#sk-container-id-25 input.sk-toggleable__control:checked~label.sk-toggleable__label-arrow:before {content: \"▾\";}#sk-container-id-25 div.sk-estimator input.sk-toggleable__control:checked~label.sk-toggleable__label {background-color: #d4ebff;}#sk-container-id-25 div.sk-label input.sk-toggleable__control:checked~label.sk-toggleable__label {background-color: #d4ebff;}#sk-container-id-25 input.sk-hidden--visually {border: 0;clip: rect(1px 1px 1px 1px);clip: rect(1px, 1px, 1px, 1px);height: 1px;margin: -1px;overflow: hidden;padding: 0;position: absolute;width: 1px;}#sk-container-id-25 div.sk-estimator {font-family: monospace;background-color: #f0f8ff;border: 1px dotted black;border-radius: 0.25em;box-sizing: border-box;margin-bottom: 0.5em;}#sk-container-id-25 div.sk-estimator:hover {background-color: #d4ebff;}#sk-container-id-25 div.sk-parallel-item::after {content: \"\";width: 100%;border-bottom: 1px solid gray;flex-grow: 1;}#sk-container-id-25 div.sk-label:hover label.sk-toggleable__label {background-color: #d4ebff;}#sk-container-id-25 div.sk-serial::before {content: \"\";position: absolute;border-left: 1px solid gray;box-sizing: border-box;top: 0;bottom: 0;left: 50%;z-index: 0;}#sk-container-id-25 div.sk-serial {display: flex;flex-direction: column;align-items: center;background-color: white;padding-right: 0.2em;padding-left: 0.2em;position: relative;}#sk-container-id-25 div.sk-item {position: relative;z-index: 1;}#sk-container-id-25 div.sk-parallel {display: flex;align-items: stretch;justify-content: center;background-color: white;position: relative;}#sk-container-id-25 div.sk-item::before, #sk-container-id-25 div.sk-parallel-item::before {content: \"\";position: absolute;border-left: 1px solid gray;box-sizing: border-box;top: 0;bottom: 0;left: 50%;z-index: -1;}#sk-container-id-25 div.sk-parallel-item {display: flex;flex-direction: column;z-index: 1;position: relative;background-color: white;}#sk-container-id-25 div.sk-parallel-item:first-child::after {align-self: flex-end;width: 50%;}#sk-container-id-25 div.sk-parallel-item:last-child::after {align-self: flex-start;width: 50%;}#sk-container-id-25 div.sk-parallel-item:only-child::after {width: 0;}#sk-container-id-25 div.sk-dashed-wrapped {border: 1px dashed gray;margin: 0 0.4em 0.5em 0.4em;box-sizing: border-box;padding-bottom: 0.4em;background-color: white;}#sk-container-id-25 div.sk-label label {font-family: monospace;font-weight: bold;display: inline-block;line-height: 1.2em;}#sk-container-id-25 div.sk-label-container {text-align: center;}#sk-container-id-25 div.sk-container {/* jupyter's `normalize.less` sets `[hidden] { display: none; }` but bootstrap.min.css set `[hidden] { display: none !important; }` so we also need the `!important` here to be able to override the default hidden behavior on the sphinx rendered scikit-learn.org. See: https://github.com/scikit-learn/scikit-learn/issues/21755 */display: inline-block !important;position: relative;}#sk-container-id-25 div.sk-text-repr-fallback {display: none;}</style><div id=\"sk-container-id-25\" class=\"sk-top-container\"><div class=\"sk-text-repr-fallback\"><pre>GradientBoostingClassifier(learning_rate=0.01, max_depth=5, n_estimators=500,\n",
       "                           subsample=0.7)</pre><b>In a Jupyter environment, please rerun this cell to show the HTML representation or trust the notebook. <br />On GitHub, the HTML representation is unable to render, please try loading this page with nbviewer.org.</b></div><div class=\"sk-container\" hidden><div class=\"sk-item\"><div class=\"sk-estimator sk-toggleable\"><input class=\"sk-toggleable__control sk-hidden--visually\" id=\"sk-estimator-id-31\" type=\"checkbox\" checked><label for=\"sk-estimator-id-31\" class=\"sk-toggleable__label sk-toggleable__label-arrow\">GradientBoostingClassifier</label><div class=\"sk-toggleable__content\"><pre>GradientBoostingClassifier(learning_rate=0.01, max_depth=5, n_estimators=500,\n",
       "                           subsample=0.7)</pre></div></div></div></div></div>"
      ],
      "text/plain": [
       "GradientBoostingClassifier(learning_rate=0.01, max_depth=5, n_estimators=500,\n",
       "                           subsample=0.7)"
      ]
     },
     "execution_count": 262,
     "metadata": {},
     "output_type": "execute_result"
    }
   ],
   "source": [
    "XG_cl = GradientBoostingClassifier(learning_rate = 0.01, max_depth = 5, n_estimators = 500, subsample = 0.7)\n",
    "XG_cl.fit(diab_X_train_sc, diab_y_train)"
   ]
  },
  {
   "cell_type": "code",
   "execution_count": 263,
   "id": "87da2d07",
   "metadata": {},
   "outputs": [
    {
     "name": "stdout",
     "output_type": "stream",
     "text": [
      "Train set score (Accuracy) = 0.9847\n",
      "Test set score (Accuracy) = 0.7987\n",
      "╒═══════════════╤════════════════╤═════════════════╕\n",
      "│               │   pred Diab No │   pred Diab Yes │\n",
      "╞═══════════════╪════════════════╪═════════════════╡\n",
      "│ real Diab No  │             87 │              20 │\n",
      "├───────────────┼────────────────┼─────────────────┤\n",
      "│ real Diab Yes │             11 │              36 │\n",
      "╘═══════════════╧════════════════╧═════════════════╛\n",
      "              precision    recall  f1-score   support\n",
      "\n",
      "           0       0.89      0.81      0.85       107\n",
      "           1       0.64      0.77      0.70        47\n",
      "\n",
      "    accuracy                           0.80       154\n",
      "   macro avg       0.77      0.79      0.77       154\n",
      "weighted avg       0.81      0.80      0.80       154\n",
      "\n"
     ]
    }
   ],
   "source": [
    "print(\"Train set score (Accuracy) =\", XG_cl.score(diab_X_train_sc, diab_y_train).round(4))\n",
    "print(\"Test set score (Accuracy) =\", XG_cl.score(diab_X_test_sc, diab_y_test).round(4))\n",
    "\n",
    "conf_mat = confusion_matrix(diab_y_test, XG_cl.predict(diab_X_test_sc))\n",
    "print(tabulate(conf_mat,headers = ['pred Diab No','pred Diab Yes'], showindex = ['real Diab No','real Diab Yes'], \n",
    "               tablefmt = 'fancy_grid'))\n",
    "\n",
    "print(classification_report(diab_y_test, XG_cl.predict(diab_X_test_sc)))\n",
    "\n",
    "diab_X_test_sc['XG_cl'] = XG_cl.predict(diab_X_test_sc)\n",
    "diab_X_train_sc['XG_cl'] = XG_cl.predict(diab_X_train_sc)"
   ]
  },
  {
   "cell_type": "code",
   "execution_count": null,
   "id": "21e4832e",
   "metadata": {},
   "outputs": [],
   "source": []
  },
  {
   "cell_type": "code",
   "execution_count": null,
   "id": "e13b8b40",
   "metadata": {},
   "outputs": [],
   "source": []
  }
 ],
 "metadata": {
  "kernelspec": {
   "display_name": "Python 3 (ipykernel)",
   "language": "python",
   "name": "python3"
  },
  "language_info": {
   "codemirror_mode": {
    "name": "ipython",
    "version": 3
   },
   "file_extension": ".py",
   "mimetype": "text/x-python",
   "name": "python",
   "nbconvert_exporter": "python",
   "pygments_lexer": "ipython3",
   "version": "3.9.13"
  }
 },
 "nbformat": 4,
 "nbformat_minor": 5
}
