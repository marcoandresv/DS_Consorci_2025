{
 "cells": [
  {
   "cell_type": "code",
   "execution_count": null,
   "metadata": {
    "id": "iE5i-Ey6vWcW"
   },
   "outputs": [],
   "source": []
  },
  {
   "cell_type": "markdown",
   "metadata": {
    "id": "o_hZ-v4NvgOm"
   },
   "source": [
    "## Exercise Classification\n",
    "\n",
    " - Import aps_failure_training_set.csv file and aps_failure_test_set.csv\n",
    "\n",
    " - Using training dataset, train a NN to predict the class. It indicates if there is failure in the trucks.\n",
    "\n",
    " - When using common accuracy metrics we know if our model is good, but is it good enough? We will define a new specific metric for this problem: **Total cost**. For each truck we say it fails, the company sends a mechanic to review the truck, which supposes a cost of 10. On the other hand, if we say there is not failure when they actually are, the truck breakdowns, which supposes a cost of 500. In summary, False positives cost 10, and False negatives cost 500.\n",
    "\n",
    " - Train several NN and keep the one with less total costs. Your goal is to achieve a Total cost lower than 1\n",
    "\n",
    " - The evaluation phase (Total cost calculation) must be done using the test dataset (aps_failure_test_set.csv)\n",
    "\n",
    " - Below some pieces of code that can help you complete the exercise, specially the last one, where the definition of the Total cost is"
   ]
  },
  {
   "cell_type": "code",
   "execution_count": null,
   "metadata": {
    "id": "zUizuYmf8DhM"
   },
   "outputs": [],
   "source": [
    "import plotly\n",
    "import plotly.graph_objs as go"
   ]
  },
  {
   "cell_type": "code",
   "execution_count": null,
   "metadata": {
    "id": "A957g88zx66S"
   },
   "outputs": [],
   "source": [
    "# Código para pintar gráfico con el porcentaje de valores perdidos por variable\n",
    "NULL_RATIO_TRHESHOLD = 0 # Set the null ratio threshold required\n",
    "\n",
    "\n",
    "null_ratios = (data.isnull().sum() / data.shape[0])\n",
    "null_ratios_over_threshold = null_ratios[null_ratios > NULL_RATIO_TRHESHOLD].sort_values(ascending=False)\n",
    "\n",
    "data_go = [\n",
    "    go.Bar(\n",
    "        x=null_ratios_over_threshold.index,\n",
    "        y=null_ratios_over_threshold\n",
    "    )\n",
    "]\n",
    "\n",
    "fig = go.Figure(data=data_go, layout={\n",
    "    \"title\": \"Null Ratio for Features with Null Ratio Exceeding {}\".format(NULL_RATIO_TRHESHOLD)\n",
    "})\n",
    "\n",
    "plotly.offline.iplot(fig)"
   ]
  },
  {
   "cell_type": "code",
   "execution_count": null,
   "metadata": {
    "id": "eUN1NQjB7kFV"
   },
   "outputs": [],
   "source": [
    "null_ratios_over_threshold = null_ratios[null_ratios > NULL_RATIO_TRHESHOLD].sort_values(ascending=False)\n",
    "nan_columns = list(null_ratios_over_threshold[null_ratios_over_threshold>0.1].index)"
   ]
  },
  {
   "cell_type": "code",
   "execution_count": null,
   "metadata": {
    "id": "N3gst81_P6AS"
   },
   "outputs": [],
   "source": [
    "# eliminamos las variables con demaisados missing, y corregimos por la media los que solo tienen hasta un 10% de valores perdidos\n",
    "data_val.drop(nan_columns, axis = 1, inplace = True)\n",
    "for d in data_val.columns:\n",
    "  data_val[d] = data_val[d].fillna(data_val[d].mean())"
   ]
  },
  {
   "cell_type": "code",
   "execution_count": null,
   "metadata": {
    "id": "JWoWTVtUBk6f"
   },
   "outputs": [],
   "source": [
    "X_train, X_test, y_train, y_test = train_test_split(data.iloc[:,0:-1],\n",
    "                                                    data.iloc[:,-1].astype(int), train_size = 0.8, random_state = 0)\n",
    "X_train.head(3)"
   ]
  },
  {
   "cell_type": "code",
   "execution_count": null,
   "metadata": {
    "id": "R9rKRfJ7Bk9Y"
   },
   "outputs": [],
   "source": [
    "# Para equilibrar la variable respuesta\n",
    "ros = RandomOverSampler(random_state=42)\n",
    "X_train, y_train= ros.fit_resample(X_train, y_train)"
   ]
  },
  {
   "cell_type": "code",
   "execution_count": null,
   "metadata": {
    "id": "ZqiS5ggfBn-V"
   },
   "outputs": [],
   "source": [
    "scaler = StandardScaler()\n",
    "sc = scaler.fit(X_train)\n",
    "\n",
    "train_sc = sc.transform(X_train)\n",
    "X_train_sc = pd.DataFrame(train_sc)\n",
    "X_train_sc.columns = X_train.columns\n",
    "\n",
    "test_sc = sc.transform(X_test)\n",
    "X_test_sc = pd.DataFrame(test_sc)\n",
    "X_test_sc.columns = X_test.columns\n",
    "\n",
    "print(X_train_sc.shape)\n",
    "print(X_test_sc.shape)"
   ]
  },
  {
   "cell_type": "code",
   "execution_count": null,
   "metadata": {
    "id": "a1EBpfA0P_vI"
   },
   "outputs": [],
   "source": [
    "# Escalamos los datos de validación con los parámetros de los del conjunto de entrenamiento\n",
    "val_sc = sc.transform(X_val)\n",
    "X_val_sc = pd.DataFrame(val_sc)\n",
    "X_val_sc.columns = X_val.columns"
   ]
  },
  {
   "cell_type": "code",
   "execution_count": null,
   "metadata": {
    "id": "cR5DgVtaP91L"
   },
   "outputs": [],
   "source": [
    "X_val = data_val.iloc[:,0:-1]\n",
    "y_val = data_val.iloc[:,-1]"
   ]
  },
  {
   "cell_type": "code",
   "execution_count": null,
   "metadata": {
    "id": "HgYn_2n_BoAk"
   },
   "outputs": [],
   "source": [
    "# código para representar la matriz de confusión a partir de la predicción de la red entrenada\n",
    "# En la última línea tenemos cómo calcular el Total Cost\n",
    "predictions = MLP_Clas.predict(X_test_sc, verbose = 0).round(0)\n",
    "conf_mat = confusion_matrix(y_test, predictions)\n",
    "print(tabulate(conf_mat,headers = ['pred breackdown No','pred breackdown Yes'], showindex = ['real breackdown No','real breackdown Yes'],\n",
    "               tablefmt = 'fancy_grid'))\n",
    "\n",
    "print(classification_report(y_test, predictions))\n",
    "\n",
    "print(\"Total cost: {}\".format((conf_mat[1][0] * 500 + conf_mat[0][1] * 10) / X_test_sc.shape[0]))"
   ]
  },
  {
   "cell_type": "markdown",
   "metadata": {
    "id": "kj8iIxzhx8sY"
   },
   "source": [
    "## Exercise Regression\n",
    "\n",
    " - Import medical_score_train.csv and medical_score_test.csv\n",
    "\n",
    " - Using training dataset, train a NN for medical score prediction\n",
    "\n",
    " - Your goal is to achieve a MAE lower than 8"
   ]
  },
  {
   "cell_type": "code",
   "execution_count": null,
   "metadata": {
    "id": "ujkm9obpyr7d"
   },
   "outputs": [],
   "source": []
  }
 ],
 "metadata": {
  "colab": {
   "authorship_tag": "ABX9TyOrBAeeQITEt5UzKuxWSNFi",
   "provenance": []
  },
  "kernelspec": {
   "display_name": "Python 3 (ipykernel)",
   "language": "python",
   "name": "python3"
  },
  "language_info": {
   "codemirror_mode": {
    "name": "ipython",
    "version": 3
   },
   "file_extension": ".py",
   "mimetype": "text/x-python",
   "name": "python",
   "nbconvert_exporter": "python",
   "pygments_lexer": "ipython3",
   "version": "3.9.13"
  }
 },
 "nbformat": 4,
 "nbformat_minor": 1
}
