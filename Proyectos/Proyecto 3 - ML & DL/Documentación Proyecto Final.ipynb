{
 "cells": [
  {
   "cell_type": "markdown",
   "id": "5b4f1383",
   "metadata": {},
   "source": [
    "# Proyecto Final\n",
    "\n",
    "El proyecto consistira en:\n",
    "\n",
    " - Encontrar una fuente de datos abierta y extraer los datos de la manera más automatizada posible. Se recomienda elegir entre las opciones ofrecidas, aunque si el alumno encuentra unos datos de calidad podrán ser usados, siempre tras una previa validación del profesor.\n",
    " \n",
    "   - La selección de los datos deberá ir de la mano del **problema que se quiere resolver**, es decir, si al alumno le ha gustado más una temática concreta deberá tener claro qué necesita, cómo deben ser sus datos y su variable objetivo, qué dimensiones.\n",
    "   \n",
    "   - También se deberá tener en cuenta si el alumno va a poder **dedicarle todo el tiempo necesario**. Más vale hacer un proyecto más sencillo pero de manera completa, bien estructurada y habiendo tenido todos los factores en cuenta que querer hacer algo más complejo y complicado y dejarlo a medias, y sin resultados claros ni optimizados.\n",
    "   \n",
    " - Entrenar un modelo que resuelva ese problema planteado\n",
    " \n",
    "   - Introducción del problema: \n",
    "     - Si es un modelo supervisado o no. \n",
    "     - Tipo de variable objetivo\n",
    "     - Tipo de datos: tabla, serie temporal, imágenes\n",
    "     - Planteamiento de propuestas\n",
    "     \n",
    "   - Desarrollo de la solución\n",
    "     - Basarse en la guía de pasos básicos para entrenar un modelo: análisis descriptivo, ingeniería de variables, evaluación del modelo...\n",
    "     - Comenzar por modelos más sencillos y con los que el alumno se sienta más familiarizado\n",
    "     - Añadir paso a paso modificaciones, optimización de hiperparámetros y modelos un poco más complejos y (quizás) certeros\n",
    "     - Entrenar el modelo que se haya considerado definitivo (o los modelos). Explicando porqué es mejor y en qué aspectos destaca sobre los demás\n",
    "     - Evalúa el modelo\n",
    "     \n",
    "   - Conslusiones\n",
    "     - Analiza los resultados y las predicciones obtenidas. \n",
    "     - Considera si son útiles para una puesta en producción de tu modelo\n",
    "     - Realiza un cálculo de impactos, qué error esperas obtener, genera varios escenarios, calibra los puntos de corte..."
   ]
  },
  {
   "cell_type": "markdown",
   "id": "4468228a",
   "metadata": {},
   "source": [
    "## Propuestas\n",
    "\n",
    "### Santander Transaction classification Prediction \n",
    "\n",
    "En este conjunto de datos tenemos ~200 variables que nos van a dar información para predecir una variable categórica. Se trata de enternar un modelo de clasificación que mejor nos prediga las clases de la variable objetivo.\n",
    "\n",
    "Contiene muchas variables, hay modelos que no van a admitir tantas. También es posible que haya algo de colinealidad. Cómo gestionarlo?\n",
    "\n",
    " - Análisis de Componentes Principales + Regresión Logística\n",
    " - Diferentes modelos basados en árboles de decisión\n",
    " - MLP de clasificación\n",
    " \n",
    "Aborda la solución de este problema usando al menos dos de las tres indicaciones arriba mencionadas\n",
    "\n",
    "\n",
    "\n",
    "\n",
    "\n"
   ]
  },
  {
   "cell_type": "markdown",
   "id": "81f99388",
   "metadata": {},
   "source": [
    "### Clasificación imágenes de polen \n",
    "\n",
    "Para los apicultores a veces es un problema saber de qué flores es su miel, si de eucalipto, lavanda, tomillo... Esta propuesta plantea la correcta clasificación de imágenes de moléculas de polen obtenidas de un microscopio.\n",
    "\n",
    "Entrena una CNN que clasifique correctamente estas imágenes y las asocie a su flor o planta"
   ]
  },
  {
   "cell_type": "markdown",
   "id": "37317195",
   "metadata": {},
   "source": [
    "### Detección de Anomalías con datos industriales\n",
    "\n",
    "Usa los datos de presión obtenidos de los sensores de hornos industriales para tratar de detectar cuando la construcción de una pieza va a ser defectuosa. Normalemente, la pieza es construida y posteriormente tiene que pasar unas validaciones muy costosas antes de poder ser puestas en práctica. El objetivo es adelantarse a ese costoso procedimiento de validación habiendo descartado previamente piezas que el algoritmo haya detectado como anómalas.\n",
    "\n",
    "Los datos de que dispones son de 30 piezas construidas en 30 sesiones diferentes, 2 de ellas resultaron ser fallidas en pruebas posteriores. Entrena un algoritmo que detecte esas anomalías.\n",
    "\n",
    "Transforma los datos\n",
    " - Logarítmicamente, pasándolos a positivo, calculando la velocidad (diferencia entre el $t_{-1}$ y el $t$ actual), usando solo los primeros 200 puntos de cada sesión (Verás, en el análisis descriptivo, que el comportamiento entre los 200 primeros y los siguientes varía en todas las series)\n",
    "\n",
    "\n"
   ]
  },
  {
   "cell_type": "markdown",
   "id": "5d7c6760",
   "metadata": {},
   "source": [
    "### Clustering paises EUROSTAT\n",
    "\n",
    "Crea grupos de países europeos que compartan carácterísticas comunes relativas a un tema en concreto. Por ejemplo, con respecto a sus emisiones de gases de efecto invernadero y/o producción y consumo energético; o usando variables sociodemográficas y económicas; o innovación tecnológica...\n",
    "\n",
    "Plantea varias agrupaciones entre países usando los diferentes algoritmos, variables y sus transformaciones...\n",
    "\n",
    " - Primero elige un tema: energía, economía...\n",
    " - Después recopila toda la información que consideres relevante\n",
    " - Transfórmala. Crea variables que indiquen cómo o cuánto han variado los paises con respecto a hace 10 años y 20 años\n",
    " - Realiza el análisis Cluster\n",
    " - Analiza los resultados, ponle etiquetas a esos grupos: Paises más ecológicos, países con mayor desarrollo económico, países que más han evolucionado en X tema...\n",
    "\n",
    "\n"
   ]
  },
  {
   "cell_type": "markdown",
   "id": "3d4327e9",
   "metadata": {},
   "source": [
    "### Predicción PIB per cápita con Series Temporales\n",
    "\n",
    "Usa datos similares a los expuestos anteriormente del EUROSTAT para hacer una predicción como las que realiza el Bando Central Europeo. \n",
    "\n",
    "Sírvete de los algoritmos de series temporales vistos en clase para hacer predicciones futuras sobre un indicador como el PIB. \n",
    "\n",
    " - Busca información acerca de cómo institutciones como el Banco de España realiza estas estimaciones y úsalas de guía\n",
    " - Recopila la información necesaria: tasa de paro, índice de precios, importaciones y exportaciones..."
   ]
  },
  {
   "cell_type": "markdown",
   "id": "b73e985c",
   "metadata": {},
   "source": []
  },
  {
   "cell_type": "code",
   "execution_count": null,
   "id": "bcf9b087",
   "metadata": {},
   "outputs": [],
   "source": []
  }
 ],
 "metadata": {
  "kernelspec": {
   "display_name": "Python 3 (ipykernel)",
   "language": "python",
   "name": "python3"
  },
  "language_info": {
   "codemirror_mode": {
    "name": "ipython",
    "version": 3
   },
   "file_extension": ".py",
   "mimetype": "text/x-python",
   "name": "python",
   "nbconvert_exporter": "python",
   "pygments_lexer": "ipython3",
   "version": "3.9.13"
  }
 },
 "nbformat": 4,
 "nbformat_minor": 5
}
