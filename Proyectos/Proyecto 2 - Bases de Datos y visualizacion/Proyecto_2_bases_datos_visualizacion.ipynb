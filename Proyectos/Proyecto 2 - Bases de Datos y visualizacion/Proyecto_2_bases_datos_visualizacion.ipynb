{
 "cells": [
  {
   "cell_type": "markdown",
   "id": "83ecbaf2",
   "metadata": {},
   "source": [
    "# Proyecto 2 - Diseño de bases de datos y visualización\n",
    "\n",
    "El proyecto consisitirá en:\n",
    "\n",
    " - **Encontrar una fuente de datos abierta** y extraer los datos de la manera más automatizada posible. Se recomienda elegir entre las opciones ofrecidas, aunque si el alumno encuentra unos datos de calidad podrán ser usados, siempre tras una previa validación del profesor.\n",
    " \n",
    " \n",
    " - A continuación, se deberá **diseñar la base de datos**, las tablas que contiene, sus relaciones, columnas y formatos. Este diseño deberá hacerse en python, así como la inserción de los datos. Esta deberá verse y poderse utilizar en MySQL.\n",
    " \n",
    "   - Bonus: Si se utiliza una base de datos con automatización diaria, preparar el proceso ETL completo desde el principio, de esta manera a cada actualización de PowerBI obtendremos los datos del día.\n",
    "   \n",
    "   - Bonus: Crear índices, vistas y procedimientos que profesionalicen el proceso. Así como diseñar indicadores que ayuden al análisis de datos y la obtención de conclusiones.\n",
    "   \n",
    "   \n",
    " - Para los alumnos que sí hayan conseguido instalar **PowerBI** en sus ordenadores:\n",
    "   - Conectar la base de datos de MySQL con PowerBI. Si se considera necesario, hacer limpieza y transformación de datos en PowerQuery. Diseñar el informe dinámico y analizar los datos de la manera más informativa y significativa posible.\n",
    "   \n",
    "   \n",
    " - Para los alumnos que usen PowerBI Online o **Tableau**:\n",
    "   - Exportar las tablas diseñadas en MySQL a csv y posteriormente importarlas desde la herramienta BI. Diseñar el informe dinámico y analizar los datos de la manera más informativa y significativa posible\n",
    "   \n",
    "\n",
    "   \n",
    " \n",
    " \n",
    " \n",
    "La **presentación**:\n",
    "   - Descripción de la base de datos, de dónde se ha cogido, qué información contiene, qué tablas, vistas e índices se han definido... Esta parte se puede hacer mostrando una o varias imágenes que guíen al alumno en la presentación, en cualquier herramienta de presentación.\n",
    "   \n",
    "   \n",
    "   - Realizar un **análisis de los resultados** a partir de los indicadores y visualizaciones anteriores.\n",
    "     - Éstas deberán ser conclusiones puramente objetivas.\n",
    "     - Qué items tienen los indicadores más altos o bajos, o con más o menos volatilidad, están más saturados, tendencia en los últimos meses....\n",
    "   \n",
    "   \n",
    "   - **Obtención de conclusiones**\n",
    "     - Explicación de porqué esos indicadores se comportan de esa manera, en esas zonas, o momentos del día, de la tendencia alcista o bajista...\n",
    "     \n",
    "     \n",
    "   - **Discusión** y conclusiones generales del proyecto\n",
    "     - Idear una serie de propuestas a implementar en la empresa/entidad/institución para mejorar el funcionamiento del sistema y con ello, los indicadores.\n",
    "     - Bonus: En una primera vuelta o fase es posible que, llegados a este punto, necesitemos más información para apoyar y sostener nuestras conclusiones y propuestas. Si es así, se valorará positivamente tener que volver algunos pasos atrás para implementar esta nueva información.\n",
    "     \n",
    "     \n",
    "   - Obtener conclusiones sobre el estado de la/s fuentes de datos y cómo mejorarla/s\n",
    "   \n",
    "   \n",
    "   - Entregable: Código/s python y sql, y acceso a visualizaciones del dashboard. En caso de PowerBI local entregar el fichero."
   ]
  },
  {
   "cell_type": "markdown",
   "id": "dc4ac308",
   "metadata": {},
   "source": [
    "# Proposiciones de fuentes de datos"
   ]
  },
  {
   "cell_type": "markdown",
   "id": "c574e122",
   "metadata": {},
   "source": [
    "## EUROSTAT\n",
    "\n",
    " - [EUROSTAT](https://ec.europa.eu/eurostat/web/main/data/database) bases de datos con información socioeconómica por paises de la UE \n",
    " \n",
    " - Toma algunas ideas de sus [Twitter](https://x.com/EU_Eurostat)"
   ]
  },
  {
   "cell_type": "markdown",
   "id": "b0bac472",
   "metadata": {},
   "source": [
    "## FACEIT\n",
    "\n",
    " - [FACEIT](https://docs.faceit.com/api/data/) es una plataforma de gaming, en la que los jugadores se conectan, organizan partidas dependiendo del nivel... Proporciona un histórico de cada una de las partidas de cada jugador. Contiene múltiples juegos y miles de jugadores. **La actualización es diaria.**\n",
    " \n",
    " - Toma algunas ideas de este [tracker](https://tracker.gg/cs2/app)\n",
    "\n",
    " "
   ]
  },
  {
   "cell_type": "markdown",
   "id": "f676b949",
   "metadata": {},
   "source": [
    "## Formula1\n",
    "\n",
    " - Base de datos con resultados de las carreras de F1, los datos están en el repositorio GitHub\n",
    " - También puedes obtener datos reales en esta [API](https://openf1.org/#api-methods)\n",
    " - Toma ideas [aquí](https://tracinginsights.com/analysis)\n",
    "\n",
    " "
   ]
  },
  {
   "cell_type": "markdown",
   "id": "b71b4643",
   "metadata": {},
   "source": [
    "## GBIF\n",
    "\n",
    " - Base de datos de registros y visualizaciones de animales. [API](https://techdocs.gbif.org/en/openapi/)\n",
    " "
   ]
  },
  {
   "cell_type": "markdown",
   "id": "e5c444f3",
   "metadata": {},
   "source": [
    "## Bicimad\n",
    "\n",
    " - Base de datos con los viajes y las estaciones de [Bicimad y BusEMT](https://apidocs.emtmadrid.es/)\n",
    " - Coge ideas de este [blog](https://huellaciclistademadrid.es/maps-and-visualizations) y de la página oficial de [bicimad](https://www.bicimad.com/index.php/mapa)\n",
    " "
   ]
  },
  {
   "cell_type": "markdown",
   "id": "04975aff",
   "metadata": {},
   "source": [
    "## CoinGecko\n",
    "\n",
    " - Base de datos dinámica con información actualizada diariamente [API](https://docs.coingecko.com/v3.0.1/reference/introduction)\n",
    " \n",
    " -Coge ideas de [investing](https://es.investing.com/)"
   ]
  },
  {
   "cell_type": "markdown",
   "id": "5f021fa6",
   "metadata": {},
   "source": [
    "## NASA\n",
    "\n",
    "- La NASA provee muchos datos\n",
    "\n",
    " - Documentación NASA:\n",
    "    https://apidog.com/blog/how-to-use-nasa-api/\n",
    "    \n",
    "    https://api.nasa.gov/ \n",
    "    \n",
    "\thttps://sscweb.gsfc.nasa.gov/WebServices/REST/\n",
    "    \n",
    "\thttps://sscweb.gsfc.nasa.gov/WebServices/REST/py/sscws/\n",
    "\n",
    "- OSDR (Open Science Data Repository)\n",
    "    https://visualization.osdr.nasa.gov/biodata/api/\n",
    "    \n",
    "    https://www.nasa.gov/reference/osdr-developer-api/\n",
    "    \n",
    "    \n",
    " - Ideas:\n",
    "    https://maps.disasters.nasa.gov/arcgis/apps/sites/#/home/"
   ]
  },
  {
   "cell_type": "code",
   "execution_count": null,
   "id": "8493d123",
   "metadata": {},
   "outputs": [],
   "source": []
  }
 ],
 "metadata": {
  "kernelspec": {
   "display_name": "Python 3 (ipykernel)",
   "language": "python",
   "name": "python3"
  },
  "language_info": {
   "codemirror_mode": {
    "name": "ipython",
    "version": 3
   },
   "file_extension": ".py",
   "mimetype": "text/x-python",
   "name": "python",
   "nbconvert_exporter": "python",
   "pygments_lexer": "ipython3",
   "version": "3.9.13"
  }
 },
 "nbformat": 4,
 "nbformat_minor": 5
}
