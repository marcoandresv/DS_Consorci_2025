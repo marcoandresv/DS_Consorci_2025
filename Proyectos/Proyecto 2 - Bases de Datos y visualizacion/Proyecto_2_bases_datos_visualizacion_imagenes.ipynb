{
 "cells": [
  {
   "cell_type": "markdown",
   "id": "ffdbdd0d",
   "metadata": {},
   "source": [
    "# Proyecto 2 - Diseño de bases de datos y visualización\n",
    "\n",
    "El proyecto consisitirá en:\n",
    "\n",
    " - Encontrar una fuente de datos abierta y extraer los datos de la manera más automatizada posible. Se recomienda elegir entre las opciones ofrecidas, aunque si el alumno encuentra unos datos de calidad podrán ser usados, siempre tras una previa validación del profesor.\n",
    " \n",
    " - A continuación, se deberá diseñar la base de datos, las tablas que contiene, sus relaciones, columnas y formatos. Este diseño deberá hacerse en python, así como la inserción de los datos. Esta deberá verse y poderse utilizar en MySQL.\n",
    " \n",
    "   - Bonus: Si se utiliza una base de datos con automatización diaria, preparar el proceso ETL completo desde el principio, de esta manera a cada actualización de PowerBI obtendremos los datos del día.\n",
    "   \n",
    "   - Bonus: Crear índices, vistas y procedimientos que profesionalicen el proceso.\n",
    "   \n",
    " - Para los alumnos que sí hayan conseguido instalar PowerBI en sus ordenadores:\n",
    "   - Conectar la base de datos de MySQL con PowerBI y a partir de ahí diseñar un dashboard. Si se considera necesario, hacer limpieza y transformación de datos en PowerQuery\n",
    "   \n",
    " - Para los alumnos que usen PowerBI Online o Tableau:\n",
    "   - Exportar las tablas diseñadas en MySQL a csv, posteriormente importarlas desde la herramienta BI y diseñar el dashboard\n",
    "   \n",
    " - La presentación:\n",
    "   - Descripción de la base de datos, de dónde se ha cogido, qué información contiene, qué tablas, vistas e índices se han definido... Esta parte se puede hacer mostrando una o varias imágenes que guíen al alumno en la presentación, en cualquier herramienta de presentación.\n",
    "   \n",
    "   - Entregable: Código/s python y sql, y acceso a visualizaciones del dashboard. En caso de PowerBI local entregar el fichero."
   ]
  },
  {
   "cell_type": "markdown",
   "id": "dc4ac308",
   "metadata": {},
   "source": [
    "# Proposiciones de fuentes de datos"
   ]
  },
  {
   "cell_type": "markdown",
   "id": "c574e122",
   "metadata": {},
   "source": [
    "## EUROSTAT\n",
    "\n",
    " - [EUROSTAT](https://ec.europa.eu/eurostat/web/main/data/database) bases de datos con información socioeconómica por paises de la UE \n",
    " ![image](./EUROSTAT_ERD.png)\n"
   ]
  },
  {
   "cell_type": "markdown",
   "id": "b0bac472",
   "metadata": {},
   "source": [
    "## FACEIT\n",
    "\n",
    " - [FACEIT](https://docs.faceit.com/api/data/) es una plataforma de gaming, en la que los jugadores se conectan, organizan partidas dependiendo del nivel... Proporciona un histórico de cada una de las partidas de cada jugador. Contiene múltiples juegos y miles de jugadores. La actualización es diaria.\n",
    " ![image](./FACEIT_ERD.png)\n",
    " "
   ]
  },
  {
   "cell_type": "markdown",
   "id": "f676b949",
   "metadata": {},
   "source": [
    "## Formula1\n",
    "\n",
    " - Base de datos con resultados de las carreras de F1, los datos están en el repositorio GitHub\n",
    " ![image](./F1_ERD.png)\n",
    " "
   ]
  },
  {
   "cell_type": "markdown",
   "id": "b71b4643",
   "metadata": {},
   "source": [
    "## GBIF\n",
    "\n",
    " - Base de datos de registros y visualizaciones de animales\n",
    " \n",
    " ![image](./GBIF_ERD.png)"
   ]
  },
  {
   "cell_type": "markdown",
   "id": "e5c444f3",
   "metadata": {},
   "source": [
    "## Bicimad\n",
    "\n",
    " - Base de datos con los viajes y las estaciones de Bicimad\n",
    " ![image](./Bicimad_ERD.png) \n",
    " "
   ]
  },
  {
   "cell_type": "code",
   "execution_count": null,
   "id": "7d5cd35d",
   "metadata": {},
   "outputs": [],
   "source": []
  }
 ],
 "metadata": {
  "kernelspec": {
   "display_name": "Python 3 (ipykernel)",
   "language": "python",
   "name": "python3"
  },
  "language_info": {
   "codemirror_mode": {
    "name": "ipython",
    "version": 3
   },
   "file_extension": ".py",
   "mimetype": "text/x-python",
   "name": "python",
   "nbconvert_exporter": "python",
   "pygments_lexer": "ipython3",
   "version": "3.9.13"
  }
 },
 "nbformat": 4,
 "nbformat_minor": 5
}
