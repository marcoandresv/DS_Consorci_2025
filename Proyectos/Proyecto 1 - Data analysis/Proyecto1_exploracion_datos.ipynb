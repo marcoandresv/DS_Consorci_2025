{
 "cells": [
  {
   "cell_type": "markdown",
   "id": "ed2f7018",
   "metadata": {},
   "source": [
    "# Proyecto 1.- Extracción, limpieza, caracterización y análisis de datos\n",
    "\n",
    "El proyecto consistirá en: \n",
    "\n",
    " - Encontrar una fuente de datos libre y extraer los datos de la manera más automatizada posible.\n",
    "\n",
    " - Realizar una limpieza de datos nulos y gestión de valores extremos.\n",
    "\n",
    " - Crear o diseñar una serie de nuevas variables, categorizaciones, índices o kpis que nos aporten información de cara a un futuro análisis de datos.\n",
    "\n",
    " - Realizar el análisis de datos, obtener conclusiones relevantes de nuestro análisis, diferencias significativas entre las distintas dimensiones.\n",
    " \n",
    " - Presentación de 5 minutos para toda la clase. En powerpoint u otro formato similar, sin código, solo representaciones visuales y tablas, y conclusiones.\n",
    " \n",
    " - Entrgar notebook"
   ]
  },
  {
   "cell_type": "markdown",
   "id": "10ea53ef",
   "metadata": {},
   "source": [
    "## Recomendación pasos a seguir:\n",
    "\n",
    " - Localiza la temática de datos que te gustaría extraer, trabajar y analizar, y encuentra una fuente de datos al respecto. Puede basarte en las propuestas a continuación o buscar una propia.\n",
    " - Inspecciona de manera general el alcance de esa fuente de datos, qué informaciones contiene, cuántas tablas, ficheros, líneas. Cuál es su granularidad (qué representa cada línea de las diferentes tablas de que dispones), el número de variables y su tipo.\n",
    " - Imagina y plantea qué análisis podrías realizar y a que conclusiones podrías llegar, qué querrías explicar o demostrar, y si con esos datos que tienes es posible, si son lo suficientemente ricos.\n",
    " - Extrae los datos. Nunca perdiendo de vista si aquello que planteaste sigue siendo posible de realizar, a medida que vas conociendo mejor los datos.\n",
    " - A continuación, sigue los pasos habituales del análisis exploratorio: limpieza de nulos, gestión de valores extremos, ingeniería de variables, representación y análisis de los datos."
   ]
  },
  {
   "cell_type": "markdown",
   "id": "b2a13d07",
   "metadata": {},
   "source": [
    "## Extracción de datos\n",
    "\n",
    "Preferiblemente la extracción de datos deberá realizarse a partir de una página web usando las técnicas de _web scraping_, por ejemplo recolectando los productos de una tienda o supermercado y sus características, para luego realizar un análisis de mercado. O bien a través de una API pública. Puedes usar alguno de las siguientes propuestas:\n",
    "\n",
    " 1. [FACEIT](https://docs.faceit.com/api/data/) es una plataforma de gaming, en la que los jugadores se conectan, organizan partidas dependiendo del nivel... Proporciona un histórico de cada una de las partidas de cada jugador.\n",
    " \n",
    " 2. [TRY plant database](https://www.try-db.org/TryWeb/Data.php#3) ofrece una serie de datasets con la información con la que se han desarrollado investigaciones científicas \n",
    " \n",
    " 3. [GBIF](https://techdocs.gbif.org/en/openapi/) API sobre información global de biodiversidad\n",
    " \n",
    " 4. [Binance](https://developers.binance.com/docs/binance-spot-api-docs/web-socket-api/general-api-information) Es una plataforma de financial trading\n",
    " \n",
    " 6. [yahoo finance](https://pypi.org/project/yfinance/) librería de python que ofrece los precios de las bolsas a nivel mundial día a día\n",
    " \n",
    " 7. [EUROSTAT](https://ec.europa.eu/eurostat/web/main/data/database) bases de datos con información socioeconómica por paises de la UE\n",
    " \n",
    " - [50 apis publicas](https://mixedanalytics.com/blog/list-actually-free-open-no-auth-needed-apis/) \n",
    " \n",
    " - [USA data](https://datausa.io/)\n",
    " \n",
    " - [Space X](https://github.com/r-spacex/SpaceX-API/tree/master)\n",
    " \n",
    " - [EMT Madrid: Bicimad](https://apidocs.emtmadrid.es/)\n",
    " \n",
    " - [OpenData Barcelona](https://opendata-ajuntament.barcelona.cat/data/es/dataset)\n",
    " \n",
    " - [Web scraping de idealista](https://scrapfly.io/blog/how-to-scrape-idealista/#idealista-scraping-summary)\n",
    " "
   ]
  },
  {
   "cell_type": "code",
   "execution_count": null,
   "id": "d3a31723",
   "metadata": {},
   "outputs": [],
   "source": []
  }
 ],
 "metadata": {
  "kernelspec": {
   "display_name": "Python 3 (ipykernel)",
   "language": "python",
   "name": "python3"
  },
  "language_info": {
   "codemirror_mode": {
    "name": "ipython",
    "version": 3
   },
   "file_extension": ".py",
   "mimetype": "text/x-python",
   "name": "python",
   "nbconvert_exporter": "python",
   "pygments_lexer": "ipython3",
   "version": "3.9.13"
  }
 },
 "nbformat": 4,
 "nbformat_minor": 5
}
