{
 "cells": [
  {
   "cell_type": "markdown",
   "id": "3e9a0f9e",
   "metadata": {},
   "source": [
    "Con los datos de binance se pueden hacer una serie de análisis sobre la evolución del precio de las criptomonedas y del número de transacciones.\n",
    "\n",
    "crear indicadores como el número medio de transacciones por intervalo de tiempo, el importe medio por transacción, si éstos han cambiado a lo largo del tiempo\n",
    "\n",
    "Analiza las criptomonedas históricas como btc y eth, y compara sus comportamientos con otras que han \"muerto\"\n",
    "\n",
    "Puedes enriquecer este análisis con los datos de la bolsa con yahoofinance yfinance"
   ]
  },
  {
   "cell_type": "code",
   "execution_count": 3,
   "id": "21ac13fa",
   "metadata": {},
   "outputs": [
    {
     "name": "stderr",
     "output_type": "stream",
     "text": [
      "C:\\Users\\bvazq\\anaconda3\\lib\\site-packages\\numpy\\_distributor_init.py:30: UserWarning: loaded more than 1 DLL from .libs:\n",
      "C:\\Users\\bvazq\\anaconda3\\lib\\site-packages\\numpy\\.libs\\libopenblas.XWYDX2IKJW2NMTWSFYNGFUWKQU3LYTCZ.gfortran-win_amd64.dll\n",
      "C:\\Users\\bvazq\\anaconda3\\lib\\site-packages\\numpy\\.libs\\libopenblas64__v0.3.21-gcc_10_3_0.dll\n",
      "  warnings.warn(\"loaded more than 1 DLL from .libs:\"\n"
     ]
    }
   ],
   "source": [
    "import requests\n",
    "import pandas as pd\n",
    "from datetime import datetime\n"
   ]
  },
  {
   "cell_type": "code",
   "execution_count": 2,
   "id": "0ad58589",
   "metadata": {},
   "outputs": [
    {
     "name": "stdout",
     "output_type": "stream",
     "text": [
      "El precio de BTC/USDT es: 83332.39000000\n"
     ]
    }
   ],
   "source": [
    "# Endpoint de la API de Binance para obtener el precio de un par\n",
    "url = \"https://api.binance.com/api/v3/ticker/price\"\n",
    "params = {\n",
    "    \"symbol\": \"BTCUSDT\"  # Par de criptomonedas (Bitcoin / Tether)\n",
    "}\n",
    "\n",
    "response = requests.get(url, params=params)\n",
    "data = response.json()\n",
    "\n",
    "# Mostrar el precio actual\n",
    "print(f\"El precio de BTC/USDT es: {data['price']}\")"
   ]
  },
  {
   "cell_type": "markdown",
   "id": "1974224b",
   "metadata": {},
   "source": [
    "Kandle lines: atacamos los datos de manera más histórica, por intervalos...\n",
    "\n",
    "https://developers.binance.com/docs/binance-spot-api-docs/web-socket-api/market-data-requests#klines"
   ]
  },
  {
   "cell_type": "code",
   "execution_count": 7,
   "id": "9e3eb7db",
   "metadata": {},
   "outputs": [
    {
     "data": {
      "text/plain": [
       "Index(['timestamp', 'open', 'high', 'low', 'close', 'volume', 'close_time',\n",
       "       'quote_asset_volume', 'number_of_trades', 'taker_buy_base_asset_volume',\n",
       "       'taker_buy_quote_asset_volume', 'ignore'],\n",
       "      dtype='object')"
      ]
     },
     "execution_count": 7,
     "metadata": {},
     "output_type": "execute_result"
    }
   ],
   "source": [
    "url = 'https://api.binance.com/api/v3/klines'\n",
    "symbols = ['BTCUSDT', 'ETHUSDT', 'DOGEUSDT', 'NHTUSDT']  # Lista de pares de criptomonedas\n",
    "interval = '1d'  # Intervalo de tiempo (1 día)\n",
    "start_date = '2025-01-01'\n",
    "\n",
    "# Convertir la fecha de inicio en timestamp\n",
    "start_timestamp = int(datetime.strptime(start_date, \"%Y-%m-%d\").timestamp()) * 1000  # milisegundos\n",
    "\n",
    "# Parámetros para la API de Binance\n",
    "params = {\n",
    "    'symbol': symbols[0],  # Par de criptomonedas, por ejemplo: BTCUSDT\n",
    "    'interval': interval,  # Intervalo de tiempo, como \"1d\" (diario), \"1h\" (hora), etc.\n",
    "    'startTime': start_timestamp,  # Fecha de inicio en timestamp\n",
    "    'limit': 1000  # Límite de resultados por solicitud (máximo 1000)\n",
    "}\n",
    "\n",
    "# Realizar la solicitud a la API\n",
    "response = requests.get(url, params=params)\n",
    "\n",
    "data = response.json()\n",
    "df = pd.DataFrame(data, columns=['timestamp', 'open', 'high', 'low', 'close', 'volume', 'close_time', 'quote_asset_volume', 'number_of_trades', 'taker_buy_base_asset_volume', 'taker_buy_quote_asset_volume', 'ignore'])\n",
    "df['symbol'] = symbol\n",
    "df.columns"
   ]
  },
  {
   "cell_type": "code",
   "execution_count": 8,
   "id": "168bca3b",
   "metadata": {},
   "outputs": [
    {
     "data": {
      "text/html": [
       "<div>\n",
       "<style scoped>\n",
       "    .dataframe tbody tr th:only-of-type {\n",
       "        vertical-align: middle;\n",
       "    }\n",
       "\n",
       "    .dataframe tbody tr th {\n",
       "        vertical-align: top;\n",
       "    }\n",
       "\n",
       "    .dataframe thead th {\n",
       "        text-align: right;\n",
       "    }\n",
       "</style>\n",
       "<table border=\"1\" class=\"dataframe\">\n",
       "  <thead>\n",
       "    <tr style=\"text-align: right;\">\n",
       "      <th></th>\n",
       "      <th>timestamp</th>\n",
       "      <th>open</th>\n",
       "      <th>high</th>\n",
       "      <th>low</th>\n",
       "      <th>close</th>\n",
       "      <th>volume</th>\n",
       "      <th>close_time</th>\n",
       "      <th>quote_asset_volume</th>\n",
       "      <th>number_of_trades</th>\n",
       "      <th>taker_buy_base_asset_volume</th>\n",
       "      <th>taker_buy_quote_asset_volume</th>\n",
       "      <th>ignore</th>\n",
       "    </tr>\n",
       "  </thead>\n",
       "  <tbody>\n",
       "    <tr>\n",
       "      <th>0</th>\n",
       "      <td>1735689600000</td>\n",
       "      <td>93576.00000000</td>\n",
       "      <td>95151.15000000</td>\n",
       "      <td>92888.00000000</td>\n",
       "      <td>94591.79000000</td>\n",
       "      <td>10373.32613000</td>\n",
       "      <td>1735775999999</td>\n",
       "      <td>975444194.13799830</td>\n",
       "      <td>1516556</td>\n",
       "      <td>5347.73648000</td>\n",
       "      <td>502914035.64059070</td>\n",
       "      <td>0</td>\n",
       "    </tr>\n",
       "    <tr>\n",
       "      <th>1</th>\n",
       "      <td>1735776000000</td>\n",
       "      <td>94591.78000000</td>\n",
       "      <td>97839.50000000</td>\n",
       "      <td>94392.00000000</td>\n",
       "      <td>96984.79000000</td>\n",
       "      <td>21970.48948000</td>\n",
       "      <td>1735862399999</td>\n",
       "      <td>2118411852.68127950</td>\n",
       "      <td>3569079</td>\n",
       "      <td>10915.96986000</td>\n",
       "      <td>1052226710.33367170</td>\n",
       "      <td>0</td>\n",
       "    </tr>\n",
       "    <tr>\n",
       "      <th>2</th>\n",
       "      <td>1735862400000</td>\n",
       "      <td>96984.79000000</td>\n",
       "      <td>98976.91000000</td>\n",
       "      <td>96100.01000000</td>\n",
       "      <td>98174.18000000</td>\n",
       "      <td>15253.82936000</td>\n",
       "      <td>1735948799999</td>\n",
       "      <td>1486610768.59079170</td>\n",
       "      <td>2851164</td>\n",
       "      <td>7468.60797000</td>\n",
       "      <td>727787246.89655880</td>\n",
       "      <td>0</td>\n",
       "    </tr>\n",
       "    <tr>\n",
       "      <th>3</th>\n",
       "      <td>1735948800000</td>\n",
       "      <td>98174.17000000</td>\n",
       "      <td>98778.43000000</td>\n",
       "      <td>97514.79000000</td>\n",
       "      <td>98220.50000000</td>\n",
       "      <td>8990.05651000</td>\n",
       "      <td>1736035199999</td>\n",
       "      <td>881223751.63536030</td>\n",
       "      <td>1559982</td>\n",
       "      <td>4350.80221000</td>\n",
       "      <td>426524714.13055390</td>\n",
       "      <td>0</td>\n",
       "    </tr>\n",
       "    <tr>\n",
       "      <th>4</th>\n",
       "      <td>1736035200000</td>\n",
       "      <td>98220.51000000</td>\n",
       "      <td>98836.85000000</td>\n",
       "      <td>97276.79000000</td>\n",
       "      <td>98363.61000000</td>\n",
       "      <td>8095.63723000</td>\n",
       "      <td>1736121599999</td>\n",
       "      <td>793931715.95463240</td>\n",
       "      <td>1685799</td>\n",
       "      <td>3877.90985000</td>\n",
       "      <td>380355340.46860360</td>\n",
       "      <td>0</td>\n",
       "    </tr>\n",
       "  </tbody>\n",
       "</table>\n",
       "</div>"
      ],
      "text/plain": [
       "       timestamp            open            high             low  \\\n",
       "0  1735689600000  93576.00000000  95151.15000000  92888.00000000   \n",
       "1  1735776000000  94591.78000000  97839.50000000  94392.00000000   \n",
       "2  1735862400000  96984.79000000  98976.91000000  96100.01000000   \n",
       "3  1735948800000  98174.17000000  98778.43000000  97514.79000000   \n",
       "4  1736035200000  98220.51000000  98836.85000000  97276.79000000   \n",
       "\n",
       "            close          volume     close_time   quote_asset_volume  \\\n",
       "0  94591.79000000  10373.32613000  1735775999999   975444194.13799830   \n",
       "1  96984.79000000  21970.48948000  1735862399999  2118411852.68127950   \n",
       "2  98174.18000000  15253.82936000  1735948799999  1486610768.59079170   \n",
       "3  98220.50000000   8990.05651000  1736035199999   881223751.63536030   \n",
       "4  98363.61000000   8095.63723000  1736121599999   793931715.95463240   \n",
       "\n",
       "   number_of_trades taker_buy_base_asset_volume taker_buy_quote_asset_volume  \\\n",
       "0           1516556               5347.73648000           502914035.64059070   \n",
       "1           3569079              10915.96986000          1052226710.33367170   \n",
       "2           2851164               7468.60797000           727787246.89655880   \n",
       "3           1559982               4350.80221000           426524714.13055390   \n",
       "4           1685799               3877.90985000           380355340.46860360   \n",
       "\n",
       "  ignore  \n",
       "0      0  \n",
       "1      0  \n",
       "2      0  \n",
       "3      0  \n",
       "4      0  "
      ]
     },
     "execution_count": 8,
     "metadata": {},
     "output_type": "execute_result"
    }
   ],
   "source": [
    "df.head()"
   ]
  }
 ],
 "metadata": {
  "kernelspec": {
   "display_name": "Python 3 (ipykernel)",
   "language": "python",
   "name": "python3"
  },
  "language_info": {
   "codemirror_mode": {
    "name": "ipython",
    "version": 3
   },
   "file_extension": ".py",
   "mimetype": "text/x-python",
   "name": "python",
   "nbconvert_exporter": "python",
   "pygments_lexer": "ipython3",
   "version": "3.9.13"
  }
 },
 "nbformat": 4,
 "nbformat_minor": 5
}
