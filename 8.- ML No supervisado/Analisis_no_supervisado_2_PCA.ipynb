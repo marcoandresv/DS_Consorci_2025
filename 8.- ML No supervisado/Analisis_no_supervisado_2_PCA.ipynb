{
 "cells": [
  {
   "cell_type": "markdown",
   "id": "8205b8cd",
   "metadata": {},
   "source": [
    "# Análisis de Componentes Principales\n",
    "\n",
    "El objetivo es sustituir todas las columnas originales por unas nuevas variables que son combinaciones lineales de las originales. De manera que pasemos de una tabla con múltiples columnas (dimensiones) a una con un número pequeño de ellas, más manejables y que además no están linealmente relacionadas entre sí, lo cual es deseable para realizar una regresión lineal.\n",
    "\n",
    "Una buena reducción de la dimensionalidad realizada a través de PCA garantiza, además, que se mantenga la mayor cantidad posible de información.\n",
    "\n",
    "Normalmente, cada una de las componentes representa la información de un grupo de variables que originalmente estaban correlacionadas.\n",
    "\n",
    "Matemáticamente, se calcula una matriz de varianzas-covarianzas, en la que en la diagonal principal tenemos las varianzas de cada columna original y en el resto de posiciones las covarianzas de las variables analizadas dos a dos.\n",
    "\n",
    "$\n",
    "\\text{cov}(X, Y) = \\frac{1}{n - 1} \\sum_{i=1}^{n} (x_i - \\bar{x})(y_i - \\bar{y})\n",
    "$\n",
    "\n",
    "<img src=\"https://www.probabilidadyestadistica.net/wp-content/uploads/2022/01/matriz-de-covarianza-768x280.png?ezimgfmt=ng:webp/ngcb1\" width=\"50%\"/>\n",
    "\n",
    "\n",
    "A partir de ella se calculan sus autovectores y autovalores. Los **autovectores** son direcciones en el espacio de características (nuejos ejes) hacia donde se proyectan los datos. Cada **autovector define un componente principal**, que es una combinación lineal de las variables originales. Los **autovalores** son escalas asociadas a cada autovector. Indican **cuánta varianza del conjunto de datos es capturada** por su correspondiente componente principal.\n",
    "\n"
   ]
  },
  {
   "cell_type": "markdown",
   "id": "d1ccf0e5",
   "metadata": {},
   "source": [
    "## Requisitos previos\n",
    "\n",
    "Antes de comenzar el PCA es necesario analizar nuestro dataset para comprobar que es adecuado para el correcto desarrollo del proceso.\n",
    "\n",
    "### Estandarización de las variables\n",
    "\n",
    "Como en tantos otros procesos estadísticos es altamente recomendable normalizar nuestras variables de manera que tengan Media=1 y Desviación típica=0. Ya que el PCA es sensible a variables con escalas diferentes. Principalmente poque las covarianzas no están limitadas y pueden tomar valores muy altos, contrariamente a la correlación lineal de pearson, que está acotada a [-1, 1]\n",
    "\n",
    "### Test de Barlett\n",
    "\n",
    "Evalúa si la matriz de correlación es significativamente distinta de una matriz identidad. Una matriz identidad implica que las variables no están correlacionadas, por lo que PCA no sería útil.\n",
    "\n",
    "Realizamos un test Chi cuadrado en el que las hipótesis son:\n",
    "$H_0 : $ La matriz de correlación es la identidad (no hay correlación).\n",
    "\n",
    "$H_1 : $ La matriz de correlación no es la identidad, por lo tanto hay correlación significativa entre variables. \n",
    "\n",
    "Si el pvalor es inferior a 0.05 rechazamos la hipótesis nula y consideramos que podemos continuar con el PCA\n",
    "\n",
    "### Test de Kaiser-Meyer-Olkin (KMO)\n",
    "\n",
    "Evalúa la proporción de varianza compartida entre variables comparada con la varianza total. Cuanto más alta, más adecuadas son las variables para una reducción por PCA o análisis factorial.\n",
    "\n",
    "Cuando el resultado del Test KMO es superior a 0.6 consideramos el dataset adecuado para continuar\n"
   ]
  },
  {
   "cell_type": "markdown",
   "id": "782eb0ff",
   "metadata": {},
   "source": [
    "## Las 3 Reglas para la elección adecuada del número de Componentes\n",
    "\n",
    "Cuántas componentes vamos a seleccionar en nuestra matriz final es importante, ya que por un lado queremos tener un dataset manejable y con el menor número de columnas posible. Sin embargo, queremos mantener la mayor varianza explicada posible. Por ello hay 3 reglas que nos van a ayudar en esta elección\n",
    "\n",
    "### Autovalores > 1\n",
    "\n",
    "Solo las componentes con autovalor superior a 1 serán significativas\n",
    "\n",
    "### Regla del 90%\n",
    "\n",
    "Se eligen tantos componentes como su varianza acumulada explique el 90% de la varianza original\n",
    "\n",
    "### Método del codo\n",
    "\n",
    "Se representarán en un gráfico de lineas las componentes, eje X, y la varianza explicada acumulada, eje Y. Visualmente cuando se vea un codo concluiremos que añadir más componentes no aporta un valor significativo. Por lo tanto podemos parar de adicionar componentes.\n"
   ]
  },
  {
   "cell_type": "markdown",
   "id": "2e343d3f",
   "metadata": {},
   "source": [
    "## Ejemplo Análisis componentes principales con Python"
   ]
  },
  {
   "cell_type": "code",
   "execution_count": null,
   "id": "725b0647",
   "metadata": {},
   "outputs": [],
   "source": [
    "# !pip install factor_analyzer"
   ]
  },
  {
   "cell_type": "code",
   "execution_count": 3,
   "id": "be5386cb",
   "metadata": {},
   "outputs": [
    {
     "name": "stdout",
     "output_type": "stream",
     "text": [
      "Test de Bartlett:\n",
      "Chi-cuadrado: 39362.12, p-value: 0.0000e+00\n",
      "\n",
      "Test de KMO:\n",
      "KMO global: 0.8322\n"
     ]
    },
    {
     "name": "stderr",
     "output_type": "stream",
     "text": [
      "C:\\Users\\bvazq\\anaconda3\\lib\\site-packages\\factor_analyzer\\utils.py:244: UserWarning: The inverse of the variance-covariance matrix was calculated using the Moore-Penrose generalized matrix inversion, due to its determinant being at or very close to zero.\n",
      "  warnings.warn(\n"
     ]
    }
   ],
   "source": [
    "from sklearn.datasets import load_breast_cancer\n",
    "from sklearn.preprocessing import StandardScaler\n",
    "from sklearn.decomposition import PCA\n",
    "import pandas as pd\n",
    "import matplotlib.pyplot as plt\n",
    "import numpy as np\n",
    "\n",
    "# !pip install factor_analyzer\n",
    "from factor_analyzer.factor_analyzer import calculate_bartlett_sphericity, calculate_kmo\n",
    "\n",
    "from statsmodels.stats.outliers_influence import variance_inflation_factor\n",
    "\n",
    "# Cargar el dataset\n",
    "data = load_breast_cancer()\n",
    "X = data.data\n",
    "y = data.target\n",
    "features = data.feature_names\n",
    "\n",
    "# Estandarizar los datos\n",
    "scaler = StandardScaler()\n",
    "X_scaled = scaler.fit_transform(X)\n",
    "\n",
    "\n",
    "# Test de Bartlett\n",
    "chi_square_value, p_value = calculate_bartlett_sphericity(X_scaled)\n",
    "print(\"Test de Bartlett:\")\n",
    "print(f\"Chi-cuadrado: {chi_square_value:.2f}, p-value: {p_value:.4e}\")\n",
    "\n",
    "# Test de KMO\n",
    "kmo_all, kmo_model = calculate_kmo(X_scaled)\n",
    "print(\"\\nTest de KMO:\")\n",
    "print(f\"KMO global: {kmo_model:.4f}\")"
   ]
  },
  {
   "cell_type": "markdown",
   "id": "8047c38a",
   "metadata": {},
   "source": [
    "### Multicolinealidad\n",
    "\n",
    "Comprobamos que nuestras variables tienen una alta colinealidad"
   ]
  },
  {
   "cell_type": "code",
   "execution_count": 12,
   "id": "7e8e080b",
   "metadata": {
    "scrolled": true
   },
   "outputs": [
    {
     "data": {
      "text/html": [
       "<div>\n",
       "<style scoped>\n",
       "    .dataframe tbody tr th:only-of-type {\n",
       "        vertical-align: middle;\n",
       "    }\n",
       "\n",
       "    .dataframe tbody tr th {\n",
       "        vertical-align: top;\n",
       "    }\n",
       "\n",
       "    .dataframe thead th {\n",
       "        text-align: right;\n",
       "    }\n",
       "</style>\n",
       "<table border=\"1\" class=\"dataframe\">\n",
       "  <thead>\n",
       "    <tr style=\"text-align: right;\">\n",
       "      <th></th>\n",
       "      <th>variable</th>\n",
       "      <th>VIF</th>\n",
       "    </tr>\n",
       "  </thead>\n",
       "  <tbody>\n",
       "    <tr>\n",
       "      <th>0</th>\n",
       "      <td>mean radius</td>\n",
       "      <td>3806.115296</td>\n",
       "    </tr>\n",
       "    <tr>\n",
       "      <th>1</th>\n",
       "      <td>mean texture</td>\n",
       "      <td>11.884048</td>\n",
       "    </tr>\n",
       "    <tr>\n",
       "      <th>2</th>\n",
       "      <td>mean perimeter</td>\n",
       "      <td>3786.400419</td>\n",
       "    </tr>\n",
       "    <tr>\n",
       "      <th>3</th>\n",
       "      <td>mean area</td>\n",
       "      <td>347.878657</td>\n",
       "    </tr>\n",
       "    <tr>\n",
       "      <th>4</th>\n",
       "      <td>mean smoothness</td>\n",
       "      <td>8.194282</td>\n",
       "    </tr>\n",
       "    <tr>\n",
       "      <th>5</th>\n",
       "      <td>mean compactness</td>\n",
       "      <td>50.505168</td>\n",
       "    </tr>\n",
       "    <tr>\n",
       "      <th>6</th>\n",
       "      <td>mean concavity</td>\n",
       "      <td>70.767720</td>\n",
       "    </tr>\n",
       "    <tr>\n",
       "      <th>7</th>\n",
       "      <td>mean concave points</td>\n",
       "      <td>60.041733</td>\n",
       "    </tr>\n",
       "    <tr>\n",
       "      <th>8</th>\n",
       "      <td>mean symmetry</td>\n",
       "      <td>4.220656</td>\n",
       "    </tr>\n",
       "    <tr>\n",
       "      <th>9</th>\n",
       "      <td>mean fractal dimension</td>\n",
       "      <td>15.756977</td>\n",
       "    </tr>\n",
       "    <tr>\n",
       "      <th>10</th>\n",
       "      <td>radius error</td>\n",
       "      <td>75.462027</td>\n",
       "    </tr>\n",
       "    <tr>\n",
       "      <th>11</th>\n",
       "      <td>texture error</td>\n",
       "      <td>4.205423</td>\n",
       "    </tr>\n",
       "    <tr>\n",
       "      <th>12</th>\n",
       "      <td>perimeter error</td>\n",
       "      <td>70.359695</td>\n",
       "    </tr>\n",
       "    <tr>\n",
       "      <th>13</th>\n",
       "      <td>area error</td>\n",
       "      <td>41.163091</td>\n",
       "    </tr>\n",
       "    <tr>\n",
       "      <th>14</th>\n",
       "      <td>smoothness error</td>\n",
       "      <td>4.027923</td>\n",
       "    </tr>\n",
       "    <tr>\n",
       "      <th>15</th>\n",
       "      <td>compactness error</td>\n",
       "      <td>15.366324</td>\n",
       "    </tr>\n",
       "    <tr>\n",
       "      <th>16</th>\n",
       "      <td>concavity error</td>\n",
       "      <td>15.694833</td>\n",
       "    </tr>\n",
       "    <tr>\n",
       "      <th>17</th>\n",
       "      <td>concave points error</td>\n",
       "      <td>11.520796</td>\n",
       "    </tr>\n",
       "    <tr>\n",
       "      <th>18</th>\n",
       "      <td>symmetry error</td>\n",
       "      <td>5.175426</td>\n",
       "    </tr>\n",
       "    <tr>\n",
       "      <th>19</th>\n",
       "      <td>fractal dimension error</td>\n",
       "      <td>9.717987</td>\n",
       "    </tr>\n",
       "    <tr>\n",
       "      <th>20</th>\n",
       "      <td>worst radius</td>\n",
       "      <td>799.105946</td>\n",
       "    </tr>\n",
       "    <tr>\n",
       "      <th>21</th>\n",
       "      <td>worst texture</td>\n",
       "      <td>18.569966</td>\n",
       "    </tr>\n",
       "    <tr>\n",
       "      <th>22</th>\n",
       "      <td>worst perimeter</td>\n",
       "      <td>405.023336</td>\n",
       "    </tr>\n",
       "    <tr>\n",
       "      <th>23</th>\n",
       "      <td>worst area</td>\n",
       "      <td>337.221924</td>\n",
       "    </tr>\n",
       "    <tr>\n",
       "      <th>24</th>\n",
       "      <td>worst smoothness</td>\n",
       "      <td>10.923061</td>\n",
       "    </tr>\n",
       "    <tr>\n",
       "      <th>25</th>\n",
       "      <td>worst compactness</td>\n",
       "      <td>36.982755</td>\n",
       "    </tr>\n",
       "    <tr>\n",
       "      <th>26</th>\n",
       "      <td>worst concavity</td>\n",
       "      <td>31.970723</td>\n",
       "    </tr>\n",
       "    <tr>\n",
       "      <th>27</th>\n",
       "      <td>worst concave points</td>\n",
       "      <td>36.763714</td>\n",
       "    </tr>\n",
       "    <tr>\n",
       "      <th>28</th>\n",
       "      <td>worst symmetry</td>\n",
       "      <td>9.520570</td>\n",
       "    </tr>\n",
       "    <tr>\n",
       "      <th>29</th>\n",
       "      <td>worst fractal dimension</td>\n",
       "      <td>18.861533</td>\n",
       "    </tr>\n",
       "  </tbody>\n",
       "</table>\n",
       "</div>"
      ],
      "text/plain": [
       "                   variable          VIF\n",
       "0               mean radius  3806.115296\n",
       "1              mean texture    11.884048\n",
       "2            mean perimeter  3786.400419\n",
       "3                 mean area   347.878657\n",
       "4           mean smoothness     8.194282\n",
       "5          mean compactness    50.505168\n",
       "6            mean concavity    70.767720\n",
       "7       mean concave points    60.041733\n",
       "8             mean symmetry     4.220656\n",
       "9    mean fractal dimension    15.756977\n",
       "10             radius error    75.462027\n",
       "11            texture error     4.205423\n",
       "12          perimeter error    70.359695\n",
       "13               area error    41.163091\n",
       "14         smoothness error     4.027923\n",
       "15        compactness error    15.366324\n",
       "16          concavity error    15.694833\n",
       "17     concave points error    11.520796\n",
       "18           symmetry error     5.175426\n",
       "19  fractal dimension error     9.717987\n",
       "20             worst radius   799.105946\n",
       "21            worst texture    18.569966\n",
       "22          worst perimeter   405.023336\n",
       "23               worst area   337.221924\n",
       "24         worst smoothness    10.923061\n",
       "25        worst compactness    36.982755\n",
       "26          worst concavity    31.970723\n",
       "27     worst concave points    36.763714\n",
       "28           worst symmetry     9.520570\n",
       "29  worst fractal dimension    18.861533"
      ]
     },
     "execution_count": 12,
     "metadata": {},
     "output_type": "execute_result"
    }
   ],
   "source": [
    "X_VIF = pd.DataFrame(X_scaled, columns = features)\n",
    "\n",
    "vif_data = pd.DataFrame()\n",
    "vif_data[\"variable\"] = X_VIF.columns\n",
    "vif_data[\"VIF\"] = [variance_inflation_factor(X_VIF.values, i) for i in range(X_VIF.shape[1])]\n",
    "\n",
    "vif_data"
   ]
  },
  {
   "cell_type": "markdown",
   "id": "e6fb5854",
   "metadata": {},
   "source": [
    "Tanto el Test de Barlett como el Test KMO nos indican que podemos continuar con el PCA"
   ]
  },
  {
   "cell_type": "code",
   "execution_count": 23,
   "id": "51ac9683",
   "metadata": {},
   "outputs": [
    {
     "name": "stdout",
     "output_type": "stream",
     "text": [
      "Según la regla de autovalores > 1 deberemos retener:  6  componentes\n"
     ]
    }
   ],
   "source": [
    "# Aplicar PCA\n",
    "pca = PCA()\n",
    "X_pca = pca.fit_transform(X_scaled)\n",
    "\n",
    "# Varianza explicada (autovalores normalizados)\n",
    "explained_variance_ratio = pca.explained_variance_ratio_\n",
    "\n",
    "# Componentes principales (autovectores)\n",
    "components = pca.components_\n",
    "\n",
    "explained_variance = pca.explained_variance_\n",
    "print(\"Según la regla de autovalores > 1 deberemos retener: \", len(explained_variance[explained_variance > 1]), \" componentes\")"
   ]
  },
  {
   "cell_type": "markdown",
   "id": "083fda7e",
   "metadata": {},
   "source": [
    "Según el criterio de la varianza acumulada explicada deberíamos retener 7, ya que es el primero que supera el 90%, sin embargo con 6 explicamos el 88%, bastante cercano."
   ]
  },
  {
   "cell_type": "code",
   "execution_count": 25,
   "id": "b57f44b6",
   "metadata": {
    "scrolled": true
   },
   "outputs": [
    {
     "name": "stdout",
     "output_type": "stream",
     "text": [
      "Autovalores (varianza explicada por cada componente):\n",
      "PC1: 44.2720; 'acumulado': 44.2720\n",
      "PC2: 18.9712; 'acumulado': 63.2432\n",
      "PC3: 9.3932; 'acumulado': 72.6364\n",
      "PC4: 6.6021; 'acumulado': 79.2385\n",
      "PC5: 5.4958; 'acumulado': 84.7343\n",
      "PC6: 4.0245; 'acumulado': 88.7588\n",
      "PC7: 2.2507; 'acumulado': 91.0095\n",
      "PC8: 1.5887; 'acumulado': 92.5983\n",
      "PC9: 1.3896; 'acumulado': 93.9879\n",
      "PC10: 1.1690; 'acumulado': 95.1569\n",
      "PC11: 0.9797; 'acumulado': 96.1366\n",
      "PC12: 0.8705; 'acumulado': 97.0071\n",
      "PC13: 0.8045; 'acumulado': 97.8117\n",
      "PC14: 0.5234; 'acumulado': 98.3350\n",
      "PC15: 0.3138; 'acumulado': 98.6488\n",
      "PC16: 0.2662; 'acumulado': 98.9150\n",
      "PC17: 0.1980; 'acumulado': 99.1130\n",
      "PC18: 0.1754; 'acumulado': 99.2884\n",
      "PC19: 0.1649; 'acumulado': 99.4533\n",
      "PC20: 0.1039; 'acumulado': 99.5572\n",
      "PC21: 0.0999; 'acumulado': 99.6571\n",
      "PC22: 0.0915; 'acumulado': 99.7486\n",
      "PC23: 0.0811; 'acumulado': 99.8297\n",
      "PC24: 0.0602; 'acumulado': 99.8899\n",
      "PC25: 0.0516; 'acumulado': 99.9415\n",
      "PC26: 0.0273; 'acumulado': 99.9688\n",
      "PC27: 0.0230; 'acumulado': 99.9918\n",
      "PC28: 0.0053; 'acumulado': 99.9971\n",
      "PC29: 0.0025; 'acumulado': 99.9996\n",
      "PC30: 0.0004; 'acumulado': 100.0000\n"
     ]
    }
   ],
   "source": [
    "# Mostrar autovalores\n",
    "sum_autoval_list = []\n",
    "print(\"Autovalores (varianza explicada por cada componente):\")\n",
    "for i, var in enumerate(explained_variance_ratio):\n",
    "    sum_autoval_list.append(var)\n",
    "    sum_autoval = sum(sum_autoval_list)\n",
    "    print(f\"PC{i+1}: {var*100:.4f}; 'acumulado': {sum_autoval*100:.4f}\")"
   ]
  },
  {
   "cell_type": "markdown",
   "id": "f45d0972",
   "metadata": {},
   "source": [
    "Analizando el gráfico de a continuación vemos que a partir de la sexta componente el incremento no es significativo"
   ]
  },
  {
   "cell_type": "code",
   "execution_count": 27,
   "id": "4da02ed6",
   "metadata": {},
   "outputs": [
    {
     "data": {
      "image/png": "[encoded data removed]",
      "text/plain": [
       "<Figure size 576x288 with 1 Axes>"
      ]
     },
     "metadata": {
      "needs_background": "light"
     },
     "output_type": "display_data"
    }
   ],
   "source": [
    "# Gráfico de varianza explicada (autovalores)\n",
    "plt.figure(figsize=(8,4))\n",
    "plt.plot(np.cumsum(explained_variance)*100, marker='o')\n",
    "plt.title('Varianza acumulada explicada por los componentes')\n",
    "plt.xlabel('Número de componentes')\n",
    "plt.ylabel('Varianza acumulada (%)')\n",
    "plt.grid(True)\n",
    "plt.show()"
   ]
  },
  {
   "cell_type": "markdown",
   "id": "651af984",
   "metadata": {},
   "source": [
    "A continuación vemos cómo solo con las dos primeras componentes se podría resolver casi lienealmente el problema de la clasificación de breast-cancer. Probablemente un SVC sería una buena elección."
   ]
  },
  {
   "cell_type": "code",
   "execution_count": 32,
   "id": "4c1bca24",
   "metadata": {
    "scrolled": false
   },
   "outputs": [
    {
     "data": {
      "image/png": "[encoded data removed]",
      "text/plain": [
       "<Figure size 576x432 with 1 Axes>"
      ]
     },
     "metadata": {
      "needs_background": "light"
     },
     "output_type": "display_data"
    }
   ],
   "source": [
    "# Visualización en 2D\n",
    "plt.figure(figsize=(8,6))\n",
    "scatter = plt.scatter(X_pca[:, 0], X_pca[:, 1], c=y, cmap='Set1', alpha=0.7)\n",
    "plt.xlabel('PC1')\n",
    "plt.ylabel('PC2')\n",
    "plt.title('PCA - Breast Cancer Dataset')\n",
    "plt.legend(*scatter.legend_elements(), title=\"target\")\n",
    "plt.show()\n"
   ]
  },
  {
   "cell_type": "markdown",
   "id": "1a0ee43e",
   "metadata": {},
   "source": []
  },
  {
   "cell_type": "markdown",
   "id": "b4f481db",
   "metadata": {},
   "source": [
    "## Definción final del nuevo conjunto de datos\n",
    "\n",
    "Una vez determinado que el número de componentes deseado es 6, lanzamos de nuevo el análisis habiendo elegido ya solo nuestras 6 componentes"
   ]
  },
  {
   "cell_type": "code",
   "execution_count": 31,
   "id": "ade80bf3",
   "metadata": {},
   "outputs": [
    {
     "data": {
      "text/html": [
       "<div>\n",
       "<style scoped>\n",
       "    .dataframe tbody tr th:only-of-type {\n",
       "        vertical-align: middle;\n",
       "    }\n",
       "\n",
       "    .dataframe tbody tr th {\n",
       "        vertical-align: top;\n",
       "    }\n",
       "\n",
       "    .dataframe thead th {\n",
       "        text-align: right;\n",
       "    }\n",
       "</style>\n",
       "<table border=\"1\" class=\"dataframe\">\n",
       "  <thead>\n",
       "    <tr style=\"text-align: right;\">\n",
       "      <th></th>\n",
       "      <th>PC1</th>\n",
       "      <th>PC2</th>\n",
       "      <th>PC3</th>\n",
       "      <th>PC4</th>\n",
       "      <th>PC5</th>\n",
       "      <th>PC6</th>\n",
       "      <th>target</th>\n",
       "    </tr>\n",
       "  </thead>\n",
       "  <tbody>\n",
       "    <tr>\n",
       "      <th>0</th>\n",
       "      <td>9.192837</td>\n",
       "      <td>1.948583</td>\n",
       "      <td>-1.123166</td>\n",
       "      <td>-3.633731</td>\n",
       "      <td>1.195110</td>\n",
       "      <td>1.411424</td>\n",
       "      <td>0</td>\n",
       "    </tr>\n",
       "    <tr>\n",
       "      <th>1</th>\n",
       "      <td>2.387802</td>\n",
       "      <td>-3.768172</td>\n",
       "      <td>-0.529293</td>\n",
       "      <td>-1.118264</td>\n",
       "      <td>-0.621775</td>\n",
       "      <td>0.028656</td>\n",
       "      <td>0</td>\n",
       "    </tr>\n",
       "    <tr>\n",
       "      <th>2</th>\n",
       "      <td>5.733896</td>\n",
       "      <td>-1.075174</td>\n",
       "      <td>-0.551748</td>\n",
       "      <td>-0.912083</td>\n",
       "      <td>0.177086</td>\n",
       "      <td>0.541452</td>\n",
       "      <td>0</td>\n",
       "    </tr>\n",
       "    <tr>\n",
       "      <th>3</th>\n",
       "      <td>7.122953</td>\n",
       "      <td>10.275589</td>\n",
       "      <td>-3.232790</td>\n",
       "      <td>-0.152547</td>\n",
       "      <td>2.960878</td>\n",
       "      <td>3.053422</td>\n",
       "      <td>0</td>\n",
       "    </tr>\n",
       "    <tr>\n",
       "      <th>4</th>\n",
       "      <td>3.935302</td>\n",
       "      <td>-1.948072</td>\n",
       "      <td>1.389767</td>\n",
       "      <td>-2.940639</td>\n",
       "      <td>-0.546747</td>\n",
       "      <td>-1.226495</td>\n",
       "      <td>0</td>\n",
       "    </tr>\n",
       "  </tbody>\n",
       "</table>\n",
       "</div>"
      ],
      "text/plain": [
       "        PC1        PC2       PC3       PC4       PC5       PC6  target\n",
       "0  9.192837   1.948583 -1.123166 -3.633731  1.195110  1.411424       0\n",
       "1  2.387802  -3.768172 -0.529293 -1.118264 -0.621775  0.028656       0\n",
       "2  5.733896  -1.075174 -0.551748 -0.912083  0.177086  0.541452       0\n",
       "3  7.122953  10.275589 -3.232790 -0.152547  2.960878  3.053422       0\n",
       "4  3.935302  -1.948072  1.389767 -2.940639 -0.546747 -1.226495       0"
      ]
     },
     "execution_count": 31,
     "metadata": {},
     "output_type": "execute_result"
    }
   ],
   "source": [
    "# PCA con 6 componentes\n",
    "pca = PCA(n_components=6)\n",
    "X_pca = pca.fit_transform(X_scaled)\n",
    "\n",
    "# Crear DataFrame con las 6 componentes\n",
    "df_pca = pd.DataFrame(X_pca, columns=[f'PC{i+1}' for i in range(6)])\n",
    "df_pca['target'] = y  # Añadir la variable objetivo si se desea\n",
    "\n",
    "df_pca.head()\n"
   ]
  },
  {
   "cell_type": "code",
   "execution_count": null,
   "id": "a1cddda9",
   "metadata": {},
   "outputs": [],
   "source": []
  }
 ],
 "metadata": {
  "kernelspec": {
   "display_name": "Python 3 (ipykernel)",
   "language": "python",
   "name": "python3"
  },
  "language_info": {
   "codemirror_mode": {
    "name": "ipython",
    "version": 3
   },
   "file_extension": ".py",
   "mimetype": "text/x-python",
   "name": "python",
   "nbconvert_exporter": "python",
   "pygments_lexer": "ipython3",
   "version": "3.9.13"
  }
 },
 "nbformat": 4,
 "nbformat_minor": 5
}
